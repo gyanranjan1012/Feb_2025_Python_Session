{
 "cells": [
  {
   "cell_type": "markdown",
   "id": "a9d0a955-c063-4fbf-b2d0-4dd80225842a",
   "metadata": {},
   "source": [
    "## Data Type"
   ]
  },
  {
   "cell_type": "code",
   "execution_count": null,
   "id": "8d4d3f9c-67f7-4ead-971d-3c785d5c4cba",
   "metadata": {},
   "outputs": [],
   "source": []
  },
  {
   "cell_type": "markdown",
   "id": "ae8a9357-44db-4db0-9c99-cafc07163f6c",
   "metadata": {},
   "source": [
    "- Python can say data type of the value without initilizing \n",
    "- which means the data type automatically consider \n",
    "- Python has some inbuilt datatype structure\n",
    "\n",
    "- int : interger\n",
    "- float\n",
    "- str : string\n",
    "- bool : Boolen\n",
    "- complex \n",
    "- List\n",
    "- tuple\n",
    "- dict : dictonary\n",
    "- set\n",
    "- frozenset\n",
    "- bytes\n",
    "- bytearray\n",
    "- memoryview"
   ]
  },
  {
   "cell_type": "markdown",
   "id": "fa29950c-f883-4cef-b915-63b322fd2119",
   "metadata": {},
   "source": [
    "## integer"
   ]
  },
  {
   "cell_type": "code",
   "execution_count": 8,
   "id": "00796793-34a7-4e6c-9d7f-2b1d92e95ef0",
   "metadata": {},
   "outputs": [
    {
     "data": {
      "text/plain": [
       "int"
      ]
     },
     "execution_count": 8,
     "metadata": {},
     "output_type": "execute_result"
    }
   ],
   "source": [
    "num=100\n",
    "type(num)"
   ]
  },
  {
   "cell_type": "code",
   "execution_count": 10,
   "id": "ddf97008-39c8-4ad7-8260-9020b683300f",
   "metadata": {},
   "outputs": [
    {
     "name": "stdout",
     "output_type": "stream",
     "text": [
      "100\n"
     ]
    }
   ],
   "source": [
    "print(num)"
   ]
  },
  {
   "cell_type": "markdown",
   "id": "00849656-f0d2-4dad-8798-7c736f2e7755",
   "metadata": {},
   "source": [
    "**Binary Number Syatem**\n",
    "\n",
    "- digit: 0,1,2,3,4,5,6,7,8,9\n",
    "- binary: bi means two : 0 and 1\n",
    "- representaion is : 0b001,0b111,0b101,0B111\n",
    "- wrong representaion is : o, 0b102"
   ]
  },
  {
   "cell_type": "markdown",
   "id": "f4fff418-6e7f-4bd5-901f-6cd8653f4b19",
   "metadata": {},
   "source": [
    "0b111"
   ]
  },
  {
   "cell_type": "code",
   "execution_count": null,
   "id": "b633835c-6a2b-4a3c-bf03-80db16ef1bbd",
   "metadata": {},
   "outputs": [],
   "source": []
  },
  {
   "cell_type": "code",
   "execution_count": 16,
   "id": "62a960aa-caf4-4fd3-9cdc-091355f9255e",
   "metadata": {},
   "outputs": [
    {
     "data": {
      "text/plain": [
       "7"
      ]
     },
     "execution_count": 16,
     "metadata": {},
     "output_type": "execute_result"
    }
   ],
   "source": [
    "0b111"
   ]
  },
  {
   "cell_type": "code",
   "execution_count": 18,
   "id": "bac99536-de5e-4421-b01c-93dcf527ecff",
   "metadata": {},
   "outputs": [
    {
     "data": {
      "text/plain": [
       "10"
      ]
     },
     "execution_count": 18,
     "metadata": {},
     "output_type": "execute_result"
    }
   ],
   "source": [
    "0B1010"
   ]
  },
  {
   "cell_type": "code",
   "execution_count": 20,
   "id": "4339cf71-c7d8-47b6-8759-55a76e2d638d",
   "metadata": {},
   "outputs": [
    {
     "data": {
      "text/plain": [
       "15"
      ]
     },
     "execution_count": 20,
     "metadata": {},
     "output_type": "execute_result"
    }
   ],
   "source": [
    "0B1111"
   ]
  },
  {
   "cell_type": "code",
   "execution_count": 22,
   "id": "5b3c0985-d00f-454e-9d7a-fd82e385019d",
   "metadata": {},
   "outputs": [
    {
     "ename": "SyntaxError",
     "evalue": "invalid binary literal (2377547366.py, line 1)",
     "output_type": "error",
     "traceback": [
      "\u001b[1;36m  Cell \u001b[1;32mIn[22], line 1\u001b[1;36m\u001b[0m\n\u001b[1;33m    0b110b1\u001b[0m\n\u001b[1;37m        ^\u001b[0m\n\u001b[1;31mSyntaxError\u001b[0m\u001b[1;31m:\u001b[0m invalid binary literal\n"
     ]
    }
   ],
   "source": [
    "0b110b1"
   ]
  },
  {
   "cell_type": "code",
   "execution_count": 24,
   "id": "f45d7e5d-5366-4cf8-8d90-88f37c6dd7e0",
   "metadata": {},
   "outputs": [
    {
     "ename": "SyntaxError",
     "evalue": "invalid decimal literal (1151419026.py, line 1)",
     "output_type": "error",
     "traceback": [
      "\u001b[1;36m  Cell \u001b[1;32mIn[24], line 1\u001b[1;36m\u001b[0m\n\u001b[1;33m    0h10ab\u001b[0m\n\u001b[1;37m    ^\u001b[0m\n\u001b[1;31mSyntaxError\u001b[0m\u001b[1;31m:\u001b[0m invalid decimal literal\n"
     ]
    }
   ],
   "source": [
    "0h10ab"
   ]
  },
  {
   "cell_type": "code",
   "execution_count": null,
   "id": "7987e481-1365-49fe-badc-eeac615751c0",
   "metadata": {},
   "outputs": [],
   "source": [
    "2^2=4             2^1=2         2^0=1\n",
    "0                  0             0            0\n",
    "0                  0             1            1\n",
    "0                  1             0            2\n",
    "0                  1             1            3\n",
    "1                  0             0            4\n",
    "1                  0             1            5\n",
    "1                  1             0            6\n",
    "1                  1             1            7\n"
   ]
  },
  {
   "cell_type": "code",
   "execution_count": null,
   "id": "7e4c0dab-4db0-4587-97bc-1df94eabf17c",
   "metadata": {},
   "outputs": [],
   "source": [
    "2^2=4             2^1=2         2^0=1\n",
    "0         0         0\n",
    "0         0        0\n",
    "0         0        \n",
    "0         0\n",
    "0         1        0             0            0\n",
    "0         1         0             1            1\n",
    "0         1         1             0            2\n",
    "0         1         1             1            3\n",
    "1         0         0             0            4\n",
    "1         0         0             1            5\n",
    "1         0          1             0            6\n",
    "1         0         1             1            7\n",
    "1         \n",
    "1\n",
    "1\n",
    "1"
   ]
  },
  {
   "cell_type": "markdown",
   "id": "5c20d18a-055c-48c9-8400-f7e1979108d0",
   "metadata": {},
   "source": [
    "**Octal Number Syatem**\n",
    "\n",
    "- digit: 0,1,2,3,4,5,6,7,8,9\n",
    "- Octa: octa means 8 : 0,1,2,3,4,5,6,7\n",
    "- representaion is : 0O001,0O111,0O101,0O111\n",
    "- wrong representaion is : o, 0O108"
   ]
  },
  {
   "cell_type": "code",
   "execution_count": 27,
   "id": "e65584e6-bf59-4af7-b521-873b8047031a",
   "metadata": {},
   "outputs": [
    {
     "data": {
      "text/plain": [
       "2196"
      ]
     },
     "execution_count": 27,
     "metadata": {},
     "output_type": "execute_result"
    }
   ],
   "source": [
    "0O4224"
   ]
  },
  {
   "cell_type": "code",
   "execution_count": 29,
   "id": "99e0371c-d9fe-485b-87c3-40f62b69dbb8",
   "metadata": {},
   "outputs": [
    {
     "data": {
      "text/plain": [
       "66"
      ]
     },
     "execution_count": 29,
     "metadata": {},
     "output_type": "execute_result"
    }
   ],
   "source": [
    "0O102"
   ]
  },
  {
   "cell_type": "markdown",
   "id": "6edaf0be-e8e6-4c7f-ba44-29c82aee29f6",
   "metadata": {},
   "source": [
    "**Hexadecimal Number Syatem**\n",
    "\n",
    "- digit: 0,1,2,3,4,5,6,7,8,9\n",
    "- Octa: hexa means 16 : 0,1,2,3,4,5,6,7,8,9,A=10,B-11,C=13,D=14,E=15, F=16\n",
    "- representaion is : 0X001,0X111,0X101,0X111\n",
    "- wrong representaion is : o, 0X10G"
   ]
  },
  {
   "cell_type": "markdown",
   "id": "8831fe63-f446-498d-8409-74822085f07e",
   "metadata": {},
   "source": [
    "## Float"
   ]
  },
  {
   "cell_type": "code",
   "execution_count": 4,
   "id": "38c5aa96-4096-4019-8c02-9ed58f647bb2",
   "metadata": {},
   "outputs": [
    {
     "data": {
      "text/plain": [
       "float"
      ]
     },
     "execution_count": 4,
     "metadata": {},
     "output_type": "execute_result"
    }
   ],
   "source": [
    "number=10.2\n",
    "type(number)"
   ]
  },
  {
   "cell_type": "markdown",
   "id": "1c17f8cc-07fc-43e6-8933-c8775eaf6841",
   "metadata": {},
   "source": [
    "- float points can represnt as exponenital form "
   ]
  },
  {
   "cell_type": "code",
   "execution_count": 11,
   "id": "ff49017e-c54e-496a-a34c-9ef8fa9a7a14",
   "metadata": {},
   "outputs": [
    {
     "data": {
      "text/plain": [
       "1000.0"
      ]
     },
     "execution_count": 11,
     "metadata": {},
     "output_type": "execute_result"
    }
   ],
   "source": [
    "1e1, #1*10\n",
    "1e2, #1*100\n",
    "1e3  #1*1000"
   ]
  },
  {
   "cell_type": "code",
   "execution_count": 13,
   "id": "1e2c8194-25a3-4c70-bcd8-5d2716e6aa8d",
   "metadata": {},
   "outputs": [
    {
     "data": {
      "text/plain": [
       "200.0"
      ]
     },
     "execution_count": 13,
     "metadata": {},
     "output_type": "execute_result"
    }
   ],
   "source": [
    "2e2 #2*100"
   ]
  },
  {
   "cell_type": "code",
   "execution_count": 21,
   "id": "74cce9e4-9d41-4b0f-ac91-a9b6d1d71ddc",
   "metadata": {},
   "outputs": [
    {
     "name": "stdout",
     "output_type": "stream",
     "text": [
      "10.0\n",
      "100.0\n",
      "1000.0\n"
     ]
    }
   ],
   "source": [
    "print(1e+1) #1*10\n",
    "print(1e+2) #1*100\n",
    "print(1e+3) #1*1000"
   ]
  },
  {
   "cell_type": "code",
   "execution_count": 23,
   "id": "5ac54b3b-c04a-4573-91f0-0e7d9ce2b604",
   "metadata": {},
   "outputs": [
    {
     "data": {
      "text/plain": [
       "(10.0, 100.0, 1000.0)"
      ]
     },
     "execution_count": 23,
     "metadata": {},
     "output_type": "execute_result"
    }
   ],
   "source": [
    "1e+1,1e+2,1e+3"
   ]
  },
  {
   "cell_type": "code",
   "execution_count": 25,
   "id": "bf524fe8-d306-40b6-bbf6-84ca550ecd20",
   "metadata": {},
   "outputs": [
    {
     "data": {
      "text/plain": [
       "(0.1, 0.01, 0.001)"
      ]
     },
     "execution_count": 25,
     "metadata": {},
     "output_type": "execute_result"
    }
   ],
   "source": [
    "1e-1,1e-2,1e-3"
   ]
  },
  {
   "cell_type": "code",
   "execution_count": 27,
   "id": "18049fd7-fb23-4c3d-9ce2-4f61c6eacbef",
   "metadata": {},
   "outputs": [
    {
     "name": "stdout",
     "output_type": "stream",
     "text": [
      "0.1\n",
      "0.01\n",
      "0.001\n"
     ]
    }
   ],
   "source": [
    "print(1e-1) #1/10\n",
    "print(1e-2) #1/100\n",
    "print(1e-3) #1/1000"
   ]
  },
  {
   "cell_type": "code",
   "execution_count": 29,
   "id": "dc8a4678-6771-429f-a25f-453bc0d2556e",
   "metadata": {},
   "outputs": [
    {
     "data": {
      "text/plain": [
       "1e-05"
      ]
     },
     "execution_count": 29,
     "metadata": {},
     "output_type": "execute_result"
    }
   ],
   "source": [
    "#rsqo =0 to 1\n",
    "#\n",
    "\n",
    "1e-5"
   ]
  },
  {
   "cell_type": "markdown",
   "id": "c77274c6-cdee-4886-aa7d-5dabafdb3a51",
   "metadata": {},
   "source": [
    "**Strings**"
   ]
  },
  {
   "cell_type": "markdown",
   "id": "176385fe-346c-4c53-a68e-9a33966697fe",
   "metadata": {},
   "source": [
    "- string means characters"
   ]
  },
  {
   "cell_type": "code",
   "execution_count": 34,
   "id": "74ded147-a542-4914-9045-7a5b6b95cb14",
   "metadata": {},
   "outputs": [
    {
     "data": {
      "text/plain": [
       "str"
      ]
     },
     "execution_count": 34,
     "metadata": {},
     "output_type": "execute_result"
    }
   ],
   "source": [
    "name=\"Python\"\n",
    "type(name)"
   ]
  },
  {
   "cell_type": "code",
   "execution_count": 36,
   "id": "d59b3cf8-78ba-437b-98f2-b4243ee50fda",
   "metadata": {},
   "outputs": [
    {
     "data": {
      "text/plain": [
       "str"
      ]
     },
     "execution_count": 36,
     "metadata": {},
     "output_type": "execute_result"
    }
   ],
   "source": [
    "number='10'\n",
    "type(number)"
   ]
  },
  {
   "cell_type": "code",
   "execution_count": 44,
   "id": "3fb3f59e-bfa0-48af-86d9-653862fc880f",
   "metadata": {},
   "outputs": [
    {
     "name": "stdout",
     "output_type": "stream",
     "text": [
      "Hello I like \"Python\"\n"
     ]
    }
   ],
   "source": [
    "sen2='Hello I like \"Python\"'\n",
    "print(sen2)"
   ]
  },
  {
   "cell_type": "code",
   "execution_count": 46,
   "id": "65159ac8-0532-452e-a087-9c99b272a2de",
   "metadata": {},
   "outputs": [
    {
     "name": "stdout",
     "output_type": "stream",
     "text": [
      "Hello I like 'Python'\n"
     ]
    }
   ],
   "source": [
    "sen2=\"Hello I like 'Python'\"\n",
    "print(sen1)"
   ]
  },
  {
   "cell_type": "markdown",
   "id": "bc9e24f2-7b94-4759-85a4-0861f5befa59",
   "metadata": {},
   "source": [
    "- Entire Sentance in single quotes, then use double quotes to highlight the word\n",
    "- Entire Sentance in double quotes, then use single quotes to highlight the word"
   ]
  },
  {
   "cell_type": "code",
   "execution_count": 49,
   "id": "c5d0181e-e40d-4652-8cde-8ecfe1980218",
   "metadata": {},
   "outputs": [
    {
     "data": {
      "text/plain": [
       "'python'"
      ]
     },
     "execution_count": 49,
     "metadata": {},
     "output_type": "execute_result"
    }
   ],
   "source": [
    "name= 'python'\n",
    "name"
   ]
  },
  {
   "cell_type": "code",
   "execution_count": 51,
   "id": "f9b6c358-92c6-4679-92e3-376a484eff90",
   "metadata": {},
   "outputs": [
    {
     "name": "stdout",
     "output_type": "stream",
     "text": [
      "python\n"
     ]
    }
   ],
   "source": [
    "print(name)"
   ]
  },
  {
   "cell_type": "code",
   "execution_count": 53,
   "id": "0beb1632-9aa4-464d-a0ee-0ca7f2ed9b9f",
   "metadata": {},
   "outputs": [
    {
     "data": {
      "text/plain": [
       "'naresh'"
      ]
     },
     "execution_count": 53,
     "metadata": {},
     "output_type": "execute_result"
    }
   ],
   "source": [
    "name1='python'\n",
    "name2='naresh'\n",
    "name1\n",
    "name2"
   ]
  },
  {
   "cell_type": "code",
   "execution_count": 57,
   "id": "20b47197-c2dd-4e13-bfcb-e453cb3f44f2",
   "metadata": {},
   "outputs": [
    {
     "name": "stdout",
     "output_type": "stream",
     "text": [
      "python\n",
      "naresh\n"
     ]
    }
   ],
   "source": [
    "print(name1)\n",
    "print(name2)"
   ]
  },
  {
   "cell_type": "code",
   "execution_count": null,
   "id": "2a80c8f7-fb44-41bf-9765-d803a65464b0",
   "metadata": {},
   "outputs": [],
   "source": [
    "hello good morning\n",
    "how are you without \\n"
   ]
  },
  {
   "cell_type": "code",
   "execution_count": 62,
   "id": "f5865ce6-c115-4bd7-b231-504b8a1742fc",
   "metadata": {},
   "outputs": [],
   "source": [
    "statement=\"\"\"Hellow i like 'python'\n",
    "hi good morning\n",
    "class data type\"\"\""
   ]
  },
  {
   "cell_type": "markdown",
   "id": "0254e6ec-5054-4d47-a675-d62a61f7bbbb",
   "metadata": {},
   "source": [
    "**DOC String**"
   ]
  },
  {
   "cell_type": "markdown",
   "id": "fdc82fc6-fc13-4b11-b130-8d5227d85a41",
   "metadata": {},
   "source": [
    "- if we want to convey information to the user\n",
    "- we will write a statements before coding part\n",
    "- is called as Doc String\n",
    "- in Jupitor notebook to convey information we have **markdown**\n",
    "- But in Vscode we dont have a markdown option\n",
    "- we convey the information by using **tripple quotes**\n",
    "- if we see anywhere tripple quotes means the user trying to convey the information"
   ]
  },
  {
   "cell_type": "code",
   "execution_count": 70,
   "id": "d8e0aa70-63bc-41ae-99dc-f6d89feec98a",
   "metadata": {},
   "outputs": [
    {
     "data": {
      "text/plain": [
       "'\\n    write something\\n    '"
      ]
     },
     "execution_count": 70,
     "metadata": {},
     "output_type": "execute_result"
    }
   ],
   "source": [
    "\"\"\"\n",
    "\n",
    "    write something\n",
    "    \"\"\"\n",
    "\n",
    "'''\n",
    "    write something\n",
    "    '''"
   ]
  },
  {
   "cell_type": "markdown",
   "id": "055b0646-3c28-4d0a-b3eb-a4731a28c6e5",
   "metadata": {},
   "source": [
    "**Boolean**"
   ]
  },
  {
   "cell_type": "code",
   "execution_count": 75,
   "id": "828e35e7-d0bc-4450-b656-c4c99784ef81",
   "metadata": {},
   "outputs": [
    {
     "data": {
      "text/plain": [
       "bool"
      ]
     },
     "execution_count": 75,
     "metadata": {},
     "output_type": "execute_result"
    }
   ],
   "source": [
    "value=True\n",
    "type(value)"
   ]
  },
  {
   "cell_type": "code",
   "execution_count": 77,
   "id": "8a6cab3f-c10e-4cc0-804f-71dc26acdcbb",
   "metadata": {},
   "outputs": [
    {
     "data": {
      "text/plain": [
       "bool"
      ]
     },
     "execution_count": 77,
     "metadata": {},
     "output_type": "execute_result"
    }
   ],
   "source": [
    "value=False\n",
    "type(value)"
   ]
  },
  {
   "cell_type": "code",
   "execution_count": null,
   "id": "88152a1d-3908-4b01-8572-a6fa71f2a706",
   "metadata": {},
   "outputs": [],
   "source": [
    "true='True' #string\n",
    "true=True #\n",
    "true=10"
   ]
  }
 ],
 "metadata": {
  "kernelspec": {
   "display_name": "Python 3 (ipykernel)",
   "language": "python",
   "name": "python3"
  },
  "language_info": {
   "codemirror_mode": {
    "name": "ipython",
    "version": 3
   },
   "file_extension": ".py",
   "mimetype": "text/x-python",
   "name": "python",
   "nbconvert_exporter": "python",
   "pygments_lexer": "ipython3",
   "version": "3.12.4"
  }
 },
 "nbformat": 4,
 "nbformat_minor": 5
}
