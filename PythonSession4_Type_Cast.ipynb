{
 "cells": [
  {
   "cell_type": "markdown",
   "id": "bc0ce0f2-4fd3-45f1-977a-baed00a920e2",
   "metadata": {},
   "source": [
    "**Type Cast**"
   ]
  },
  {
   "cell_type": "markdown",
   "id": "f85e574c-5cf4-4c28-a2f4-7fae246b08a5",
   "metadata": {},
   "source": [
    "- Changing one data type to another datatype"
   ]
  },
  {
   "cell_type": "markdown",
   "id": "41d57814-25ae-4067-a84b-e655fd71b605",
   "metadata": {},
   "source": [
    "- int to float\n",
    "- int to str\n",
    "- int to boolean"
   ]
  },
  {
   "cell_type": "code",
   "execution_count": 6,
   "id": "f65cb10c-9c16-47ac-8eb2-4bccef76a5a4",
   "metadata": {},
   "outputs": [
    {
     "data": {
      "text/plain": [
       "int"
      ]
     },
     "execution_count": 6,
     "metadata": {},
     "output_type": "execute_result"
    }
   ],
   "source": [
    "number=100\n",
    "type(number)"
   ]
  },
  {
   "cell_type": "code",
   "execution_count": 8,
   "id": "eb7f064f-2e9e-4979-a38e-f9c9adae3a11",
   "metadata": {},
   "outputs": [
    {
     "data": {
      "text/plain": [
       "100.0"
      ]
     },
     "execution_count": 8,
     "metadata": {},
     "output_type": "execute_result"
    }
   ],
   "source": [
    "#int to float\n",
    "float(number)"
   ]
  },
  {
   "cell_type": "code",
   "execution_count": 10,
   "id": "142472dd-55c6-4fba-ade5-54045c5d03c5",
   "metadata": {},
   "outputs": [
    {
     "data": {
      "text/plain": [
       "(100.0, float)"
      ]
     },
     "execution_count": 10,
     "metadata": {},
     "output_type": "execute_result"
    }
   ],
   "source": [
    "#int to float\n",
    "float_number=float(number)\n",
    "float_number,type(float_number)"
   ]
  },
  {
   "cell_type": "code",
   "execution_count": 16,
   "id": "9053d3a9-2666-4ae4-9c35-b3abe6a9f33e",
   "metadata": {},
   "outputs": [
    {
     "data": {
      "text/plain": [
       "'100'"
      ]
     },
     "execution_count": 16,
     "metadata": {},
     "output_type": "execute_result"
    }
   ],
   "source": [
    "#int to string\n",
    "string_num=str(number)\n",
    "string_num"
   ]
  },
  {
   "cell_type": "code",
   "execution_count": 18,
   "id": "669f720c-78f7-4069-8995-df716e69c2c4",
   "metadata": {},
   "outputs": [
    {
     "data": {
      "text/plain": [
       "True"
      ]
     },
     "execution_count": 18,
     "metadata": {},
     "output_type": "execute_result"
    }
   ],
   "source": [
    "bool(number)"
   ]
  },
  {
   "cell_type": "code",
   "execution_count": 20,
   "id": "222d8d4a-eaa2-4a5a-ba15-5bbc811fdd15",
   "metadata": {},
   "outputs": [
    {
     "name": "stdout",
     "output_type": "stream",
     "text": [
      "100.0\n",
      "100\n",
      "True\n"
     ]
    }
   ],
   "source": [
    "print(float(100))\n",
    "print(str(100))\n",
    "print(bool(100))"
   ]
  },
  {
   "cell_type": "code",
   "execution_count": 24,
   "id": "358e7157-5e9e-4666-b875-698546f1d0c8",
   "metadata": {},
   "outputs": [
    {
     "name": "stdout",
     "output_type": "stream",
     "text": [
      "-100.0\n",
      "-100\n",
      "True\n"
     ]
    }
   ],
   "source": [
    "print(float(-100))\n",
    "print(str(-100))\n",
    "print(bool(-100))"
   ]
  },
  {
   "cell_type": "code",
   "execution_count": 26,
   "id": "a39acd0d-e86a-4095-9538-7b93d0115d77",
   "metadata": {},
   "outputs": [
    {
     "name": "stdout",
     "output_type": "stream",
     "text": [
      "0.0\n",
      "0\n",
      "False\n"
     ]
    }
   ],
   "source": [
    "print(float(0))\n",
    "print(str(0))\n",
    "print(bool(0))"
   ]
  },
  {
   "cell_type": "markdown",
   "id": "99bbf602-da94-48df-8230-ca6253326d16",
   "metadata": {},
   "source": [
    "**Note**\n",
    "\n",
    "- bolean conversion of any integer value other then zero becomes True\n",
    "- bolean conversion of zero is false"
   ]
  },
  {
   "cell_type": "code",
   "execution_count": 29,
   "id": "3cd82036-9f44-4939-9b76-17f42df3383f",
   "metadata": {},
   "outputs": [
    {
     "name": "stdout",
     "output_type": "stream",
     "text": [
      "10.1\n",
      "10.2\n",
      "True\n"
     ]
    }
   ],
   "source": [
    "print(float(10.1))\n",
    "print(str(10.2))\n",
    "print(bool(1.30))"
   ]
  },
  {
   "cell_type": "markdown",
   "id": "a17364ed-7ed3-4dfa-be2e-5dae43e2003d",
   "metadata": {},
   "source": [
    "**Float to other data types**"
   ]
  },
  {
   "cell_type": "code",
   "execution_count": 38,
   "id": "5dc683bb-cd80-4cd8-bf7d-11f399799114",
   "metadata": {},
   "outputs": [
    {
     "name": "stdout",
     "output_type": "stream",
     "text": [
      "10\n",
      "10.2\n",
      "True\n"
     ]
    }
   ],
   "source": [
    "print(int(10.1))\n",
    "print(str(10.2))\n",
    "print(bool(1.30))"
   ]
  },
  {
   "cell_type": "code",
   "execution_count": 40,
   "id": "2b3b9d36-ff2a-4503-810d-0e3aa4d7ce92",
   "metadata": {},
   "outputs": [
    {
     "name": "stdout",
     "output_type": "stream",
     "text": [
      "-10\n",
      "-10.2\n",
      "True\n"
     ]
    }
   ],
   "source": [
    "print(int(-10.1))\n",
    "print(str(-10.2))\n",
    "print(bool(-1.30))"
   ]
  },
  {
   "cell_type": "code",
   "execution_count": 42,
   "id": "70db2322-425c-49da-8f36-e6ac5c560d1b",
   "metadata": {},
   "outputs": [
    {
     "name": "stdout",
     "output_type": "stream",
     "text": [
      "0\n",
      "0.0\n",
      "False\n"
     ]
    }
   ],
   "source": [
    "print(int(0.0))\n",
    "print(str(0.0))\n",
    "print(bool(0.0))"
   ]
  },
  {
   "cell_type": "markdown",
   "id": "5d46471b-faae-4986-955e-8636ab26c7fc",
   "metadata": {},
   "source": [
    "**String to other data type**"
   ]
  },
  {
   "cell_type": "code",
   "execution_count": 47,
   "id": "2bcc98a6-bef5-46a7-92f7-195bd1cc0572",
   "metadata": {},
   "outputs": [
    {
     "data": {
      "text/plain": [
       "True"
      ]
     },
     "execution_count": 47,
     "metadata": {},
     "output_type": "execute_result"
    }
   ],
   "source": [
    "#int('apple') #error\n",
    "#float('apple') #error\n",
    "bool('apple') #true"
   ]
  },
  {
   "cell_type": "code",
   "execution_count": 49,
   "id": "8593f8ca-c0c6-4ea7-8964-702236a78ee1",
   "metadata": {},
   "outputs": [
    {
     "data": {
      "text/plain": [
       "True"
      ]
     },
     "execution_count": 49,
     "metadata": {},
     "output_type": "execute_result"
    }
   ],
   "source": [
    "bool('0')"
   ]
  },
  {
   "cell_type": "code",
   "execution_count": 51,
   "id": "ef72ffd2-cc9f-4ff7-99b3-76e71365d364",
   "metadata": {},
   "outputs": [
    {
     "data": {
      "text/plain": [
       "False"
      ]
     },
     "execution_count": 51,
     "metadata": {},
     "output_type": "execute_result"
    }
   ],
   "source": [
    "bool('')"
   ]
  },
  {
   "cell_type": "code",
   "execution_count": 53,
   "id": "50332317-3ef5-4959-9814-cc664ddb3357",
   "metadata": {},
   "outputs": [
    {
     "data": {
      "text/plain": [
       "10"
      ]
     },
     "execution_count": 53,
     "metadata": {},
     "output_type": "execute_result"
    }
   ],
   "source": [
    "int('10')"
   ]
  },
  {
   "cell_type": "code",
   "execution_count": 55,
   "id": "8e52bec2-8b79-4aed-ae3d-59ebe9b1d511",
   "metadata": {},
   "outputs": [
    {
     "data": {
      "text/plain": [
       "10.0"
      ]
     },
     "execution_count": 55,
     "metadata": {},
     "output_type": "execute_result"
    }
   ],
   "source": [
    "float('10')"
   ]
  },
  {
   "cell_type": "code",
   "execution_count": 57,
   "id": "48672908-6abd-47dd-8519-8a0228510ebe",
   "metadata": {},
   "outputs": [
    {
     "data": {
      "text/plain": [
       "True"
      ]
     },
     "execution_count": 57,
     "metadata": {},
     "output_type": "execute_result"
    }
   ],
   "source": [
    "bool('10')"
   ]
  },
  {
   "cell_type": "code",
   "execution_count": null,
   "id": "474b133f-98bf-45fc-b640-3b2f8502192c",
   "metadata": {},
   "outputs": [],
   "source": [
    "int('10') #10\n",
    "int('10.5') #fail\n",
    "float('10') #10\n",
    "float('10.5') #10.5\n"
   ]
  },
  {
   "cell_type": "code",
   "execution_count": 59,
   "id": "35af42db-48cf-4f6e-9f23-d40afb9b894e",
   "metadata": {},
   "outputs": [
    {
     "data": {
      "text/plain": [
       "10"
      ]
     },
     "execution_count": 59,
     "metadata": {},
     "output_type": "execute_result"
    }
   ],
   "source": [
    "int(float('10.5'))"
   ]
  },
  {
   "cell_type": "code",
   "execution_count": null,
   "id": "fdbcb3b4-8c58-4b9f-aac8-604d72623b43",
   "metadata": {},
   "outputs": [],
   "source": [
    "bool(10) #T\n",
    "bool('10.5') #T\n",
    "bool('10') #T\n",
    "bool(10.5) #T\n",
    "bool(0) #F\n",
    "bool(0.0) #F\n",
    "bool('0') #T\n",
    "bool('0.0') #T\n",
    "bool('apple') #T\n",
    "bool('') #F"
   ]
  }
 ],
 "metadata": {
  "kernelspec": {
   "display_name": "Python 3 (ipykernel)",
   "language": "python",
   "name": "python3"
  },
  "language_info": {
   "codemirror_mode": {
    "name": "ipython",
    "version": 3
   },
   "file_extension": ".py",
   "mimetype": "text/x-python",
   "name": "python",
   "nbconvert_exporter": "python",
   "pygments_lexer": "ipython3",
   "version": "3.12.4"
  }
 },
 "nbformat": 4,
 "nbformat_minor": 5
}
