{
 "cells": [
  {
   "cell_type": "code",
   "execution_count": 26,
   "id": "19afb7f8-8e7a-4163-b1b8-a844974056f9",
   "metadata": {},
   "outputs": [
    {
     "name": "stdin",
     "output_type": "stream",
     "text": [
      "enter the value for n1: 5\n",
      "enter the value for n2: 3\n",
      "enter the value for n3: 2\n"
     ]
    },
    {
     "name": "stdout",
     "output_type": "stream",
     "text": [
      "the average of 5,3 and 2 is 3.33\n"
     ]
    }
   ],
   "source": [
    "# average of three values by using input()\n",
    "n1=eval(input(\"enter the value for n1:\"))\n",
    "n2=eval(input(\"enter the value for n2:\"))\n",
    "n3=eval(input(\"enter the value for n3:\"))\n",
    "n4=(n1+n2+n3)/3\n",
    "avg1=round(n4,2)\n",
    "print(f'the average of {n1},{n2} and {n3} is {avg1}')"
   ]
  },
  {
   "cell_type": "code",
   "execution_count": 15,
   "id": "4aa758fe-8a10-49d0-95ef-c2220a4beea0",
   "metadata": {},
   "outputs": [
    {
     "name": "stdin",
     "output_type": "stream",
     "text": [
      "enter the breadth: 4\n",
      "enter the hight: 5\n"
     ]
    },
    {
     "name": "stdout",
     "output_type": "stream",
     "text": [
      "10.0\n"
     ]
    }
   ],
   "source": [
    "#area of right angle tringle\n",
    "n1=eval(input(\"enter the breadth:\"))\n",
    "n2=eval(input(\"enter the hight:\"))\n",
    "area=0.5*n1*n2\n",
    "print(area)"
   ]
  },
  {
   "cell_type": "code",
   "execution_count": 5,
   "id": "ef5fc0e7-c314-4463-abbb-030b9197fc86",
   "metadata": {},
   "outputs": [
    {
     "name": "stdin",
     "output_type": "stream",
     "text": [
      "enter radius of circle  5\n"
     ]
    },
    {
     "data": {
      "text/plain": [
       "78.5"
      ]
     },
     "execution_count": 5,
     "metadata": {},
     "output_type": "execute_result"
    }
   ],
   "source": [
    "#area of circle\n",
    "n1=eval(input(\"enter radius of circle \"))\n",
    "radius=3.14*n1*n1\n",
    "radius"
   ]
  },
  {
   "cell_type": "code",
   "execution_count": 9,
   "id": "b6f81ce3-02d4-4659-b8b8-5a5a60869a94",
   "metadata": {},
   "outputs": [
    {
     "name": "stdin",
     "output_type": "stream",
     "text": [
      "Bill amount is: 500\n",
      "tip amount is: 50\n"
     ]
    },
    {
     "name": "stdout",
     "output_type": "stream",
     "text": [
      "Total amount: 550\n"
     ]
    }
   ],
   "source": [
    "b= eval(input('Bill amount is:'))\n",
    "t= eval(input('tip amount is:'))\n",
    "print('Total amount:',(b+t))"
   ]
  },
  {
   "cell_type": "code",
   "execution_count": 28,
   "id": "bb361c55-39b0-4515-975b-918540a1cd88",
   "metadata": {},
   "outputs": [
    {
     "name": "stdin",
     "output_type": "stream",
     "text": [
      "Bill amount is: 100\n",
      "tip amount in %: 10\n"
     ]
    },
    {
     "name": "stdout",
     "output_type": "stream",
     "text": [
      "Total amount: 110.0\n"
     ]
    }
   ],
   "source": [
    "b= eval(input('Bill amount is:'))\n",
    "t= eval(input('tip amount in %:'))\n",
    "t_amount=b*t/100\n",
    "t_bill=b+t_amount\n",
    "print('Total amount:',t_bill)"
   ]
  },
  {
   "cell_type": "markdown",
   "id": "58ff8156-b66b-498a-82f3-0d03e28cc36c",
   "metadata": {},
   "source": [
    "**round**"
   ]
  },
  {
   "cell_type": "code",
   "execution_count": 18,
   "id": "2192c47c-9c95-4665-85ca-5b6d7cec8775",
   "metadata": {},
   "outputs": [
    {
     "data": {
      "text/plain": [
       "20"
      ]
     },
     "execution_count": 18,
     "metadata": {},
     "output_type": "execute_result"
    }
   ],
   "source": [
    "round(19.6666)"
   ]
  },
  {
   "cell_type": "code",
   "execution_count": 22,
   "id": "e22aaf9a-061d-4a24-b107-fdb4f2bb7ee7",
   "metadata": {},
   "outputs": [
    {
     "data": {
      "text/plain": [
       "19.67"
      ]
     },
     "execution_count": 22,
     "metadata": {},
     "output_type": "execute_result"
    }
   ],
   "source": [
    "round(19.66666,2)"
   ]
  },
  {
   "cell_type": "code",
   "execution_count": 3,
   "id": "377d15a6-afa7-4bcc-b6b7-8346b056cb1a",
   "metadata": {},
   "outputs": [
    {
     "name": "stdin",
     "output_type": "stream",
     "text": [
      "father: hey beta\n",
      "son: hai papa\n",
      "father: I heard your result came out\n",
      "son: yes dad\n",
      "father: Great! how much percentage we got\n",
      "son: I will tell the sub marks, you tell me the percentage\n",
      "father: wow! that's super game. Let's start\n",
      " 90\n",
      " 95\n",
      " 90\n",
      " 95\n",
      " 90\n",
      " 95\n"
     ]
    },
    {
     "name": "stdout",
     "output_type": "stream",
     "text": [
      "The average of all subjects are 92.5\n"
     ]
    }
   ],
   "source": [
    "input('father:')\n",
    "input('son:')\n",
    "input('father:')\n",
    "input('son:')\n",
    "input('father:')\n",
    "input('son:')\n",
    "input('father:')\n",
    "telugu=eval(input('Enter Telugu marks'))\n",
    "hindi=eval(input())\n",
    "english=eval(input())\n",
    "maths=eval(input())\n",
    "science=eval(input())\n",
    "social=eval(input())\n",
    "avg=(telugu+hindi+english+maths+science+social)/6\n",
    "avg1=round(avg,2)\n",
    "print(f'The average of all subjects are {avg1}')"
   ]
  },
  {
   "cell_type": "code",
   "execution_count": null,
   "id": "d83439f2-35f8-458e-a43b-2df3c6231d42",
   "metadata": {},
   "outputs": [],
   "source": []
  }
 ],
 "metadata": {
  "kernelspec": {
   "display_name": "Python 3 (ipykernel)",
   "language": "python",
   "name": "python3"
  },
  "language_info": {
   "codemirror_mode": {
    "name": "ipython",
    "version": 3
   },
   "file_extension": ".py",
   "mimetype": "text/x-python",
   "name": "python",
   "nbconvert_exporter": "python",
   "pygments_lexer": "ipython3",
   "version": "3.12.4"
  }
 },
 "nbformat": 4,
 "nbformat_minor": 5
}
