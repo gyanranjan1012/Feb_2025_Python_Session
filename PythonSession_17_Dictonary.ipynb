{
 "cells": [
  {
   "cell_type": "code",
   "execution_count": 3,
   "id": "6ca939f7-1434-46f2-b0b2-4bc78cf98845",
   "metadata": {},
   "outputs": [
    {
     "name": "stdout",
     "output_type": "stream",
     "text": [
      "Ramesh age is 20\n",
      "Suresh age is 30\n",
      "Sathish age is 40\n"
     ]
    }
   ],
   "source": [
    "l1=['Ramesh','Suresh','Sathish']\n",
    "l2=[20,30,40]\n",
    "#'ramesh age is 20'\n",
    "#'suresh age is 30'\n",
    "#'Sathish age is 40'\n",
    "\n",
    "for i in range(len(l1)):\n",
    "    print(f'{l1[i]} age is {l2[i]}')"
   ]
  },
  {
   "cell_type": "code",
   "execution_count": null,
   "id": "79712d6d-3a2f-4164-a78b-956dc556d739",
   "metadata": {},
   "outputs": [],
   "source": []
  },
  {
   "cell_type": "markdown",
   "id": "a8f459a8-d31d-47c3-aacb-2dbe62823312",
   "metadata": {},
   "source": [
    "**Zip**"
   ]
  },
  {
   "cell_type": "code",
   "execution_count": 10,
   "id": "eeab556a-590d-43fd-86ad-4454ad53fa6d",
   "metadata": {},
   "outputs": [
    {
     "name": "stdout",
     "output_type": "stream",
     "text": [
      "Ramesh 20\n",
      "Ramesh age is 20\n",
      "Suresh 30\n",
      "Suresh age is 30\n",
      "Sathish 40\n",
      "Sathish age is 40\n"
     ]
    }
   ],
   "source": [
    "l1=['Ramesh','Suresh','Sathish']\n",
    "l2=[20,30,40]\n",
    "\n",
    "\n",
    "for i,j in zip(l1,l2):\n",
    "    print(i,j)\n",
    "    print(f'{i} age is {j}')\n"
   ]
  },
  {
   "cell_type": "code",
   "execution_count": 14,
   "id": "56370707-af4f-4d2a-84ac-6b97035fc932",
   "metadata": {},
   "outputs": [
    {
     "name": "stdout",
     "output_type": "stream",
     "text": [
      "Ramesh has age is 20 and he is from Hyd\n",
      "Suresh has age is 30 and he is from Mumbai\n",
      "Sathish has age is 40 and he is from Chennai\n"
     ]
    }
   ],
   "source": [
    "l1=['Ramesh','Suresh','Sathish']\n",
    "l2=[20,30,40]\n",
    "l3=['Hyd','Mumbai','Chennai']\n",
    "\n",
    "for i,j,k in zip(l1,l2,l3):\n",
    "    \n",
    "    print(f'{i} has age is {j} and he is from {k}')"
   ]
  },
  {
   "cell_type": "markdown",
   "id": "adb959eb-bcf3-40b5-a45b-09740c4cda72",
   "metadata": {},
   "source": [
    "** Dictonary**\n",
    "\n",
    "- string represent in Quotes\n",
    "\n",
    "- list represent in sqare brackets\n",
    "\n",
    "- tuple represent in pranthases\n",
    "\n",
    "- sets represents in curly bras-ces with one value''- Dictonary also represnet in curly braces with two values\n",
    "\n",
    "- Diconary has Key:value pair\n",
    "\n",
    "- Dictonary elements are in pair\n",
    "\n",
    "    - one element called as key\n",
    "    - another element called values"
   ]
  },
  {
   "cell_type": "code",
   "execution_count": null,
   "id": "86672ef6-ab96-4710-8da7-d2809cd6b408",
   "metadata": {},
   "outputs": [],
   "source": [
    "l1=['Ramesh','Suresh','Sathish']\n",
    "l2=[20,30,40]\n",
    "\n",
    "{key:value}\n",
    "{key2:value1,key2:values2,key3:value3}"
   ]
  },
  {
   "cell_type": "code",
   "execution_count": 17,
   "id": "d7a86c88-1453-4c28-8dd4-5bb0a4b87be9",
   "metadata": {},
   "outputs": [
    {
     "data": {
      "text/plain": [
       "{'Ramesh': 20, 'suresh': 30, 'Sathish': 40}"
      ]
     },
     "execution_count": 17,
     "metadata": {},
     "output_type": "execute_result"
    }
   ],
   "source": [
    "dict1={'Ramesh':20,'suresh':30,'Sathish':40}\n",
    "dict1"
   ]
  },
  {
   "cell_type": "code",
   "execution_count": 19,
   "id": "da159395-dadb-49c6-bb29-554ddbfbfd85",
   "metadata": {},
   "outputs": [
    {
     "data": {
      "text/plain": [
       "dict"
      ]
     },
     "execution_count": 19,
     "metadata": {},
     "output_type": "execute_result"
    }
   ],
   "source": [
    "type(dict1)"
   ]
  },
  {
   "cell_type": "code",
   "execution_count": null,
   "id": "8cd0627a-298d-4d6c-97d7-50704bd64857",
   "metadata": {},
   "outputs": [],
   "source": [
    "- initilization\n",
    "\n",
    "- inbuilt functiom\n",
    "\n",
    " - max\n",
    " - min\n",
    "-len\n",
    "-sum\n",
    "-sorted\n",
    "-reversed\n",
    "\n",
    "-"
   ]
  },
  {
   "cell_type": "markdown",
   "id": "8b4f0af3-72e4-4545-a500-0d2167ba0a9f",
   "metadata": {},
   "source": [
    "**initilization**"
   ]
  },
  {
   "cell_type": "code",
   "execution_count": 24,
   "id": "c755b20a-a1a5-494c-b5b4-8d6e7285c3ad",
   "metadata": {},
   "outputs": [],
   "source": [
    "dict1={'Ramesh':20,'suresh':30,'Sathish':40}\n",
    "dict2={20:'Ramesh'}\n",
    "dict3={30:'Suresh'}\n",
    "dict4={40:'Sathish'}\n",
    "#key int value string\n",
    "#key string value list vice versa\n",
    "#key list value"
   ]
  },
  {
   "cell_type": "code",
   "execution_count": 26,
   "id": "dc418ead-ff53-4e67-b81d-1f50a11d1794",
   "metadata": {},
   "outputs": [
    {
     "data": {
      "text/plain": [
       "{'Ramesh': 20, 'suresh': 30, 'Sathish': 40}"
      ]
     },
     "execution_count": 26,
     "metadata": {},
     "output_type": "execute_result"
    }
   ],
   "source": [
    "d1={'Ramesh':20,'suresh':30,'Sathish':40}\n",
    "d1"
   ]
  },
  {
   "cell_type": "code",
   "execution_count": 28,
   "id": "c87b83ed-fec0-4088-9217-93b5bc687ceb",
   "metadata": {},
   "outputs": [
    {
     "data": {
      "text/plain": [
       "{'Ramesh': '20', 'Suresh': '30', 'Sathish': '40'}"
      ]
     },
     "execution_count": 28,
     "metadata": {},
     "output_type": "execute_result"
    }
   ],
   "source": [
    "d2={'Ramesh':'20','Suresh':'30','Sathish':'40'}\n",
    "d2"
   ]
  },
  {
   "cell_type": "code",
   "execution_count": 30,
   "id": "71321e15-6af9-4ff0-83b1-f8cd0094f042",
   "metadata": {},
   "outputs": [
    {
     "data": {
      "text/plain": [
       "{20: 'Ramesh', 30: 'Suresh', 40: 'Sathish'}"
      ]
     },
     "execution_count": 30,
     "metadata": {},
     "output_type": "execute_result"
    }
   ],
   "source": [
    "d3={20:'Ramesh',30:'Suresh',40:'Sathish'}\n",
    "d3"
   ]
  },
  {
   "cell_type": "code",
   "execution_count": 32,
   "id": "e9d24259-fca7-42ca-9b89-c67642b586ea",
   "metadata": {},
   "outputs": [
    {
     "data": {
      "text/plain": [
       "{'Ramesh': 30}"
      ]
     },
     "execution_count": 32,
     "metadata": {},
     "output_type": "execute_result"
    }
   ],
   "source": [
    "d4={'Ramesh':20,'Ramesh':30}\n",
    "d4\n",
    "\n",
    "# Keys are important\n",
    "# when same keys but different value\n",
    "# it will take differenet value"
   ]
  },
  {
   "cell_type": "code",
   "execution_count": 38,
   "id": "b9e6df93-ee6d-4636-a8f3-d586466119f9",
   "metadata": {},
   "outputs": [
    {
     "data": {
      "text/plain": [
       "{'Ramesh': 20, 'Suresh': 20}"
      ]
     },
     "execution_count": 38,
     "metadata": {},
     "output_type": "execute_result"
    }
   ],
   "source": [
    "d5={'Ramesh':20,'Suresh':20}\n",
    "d5"
   ]
  },
  {
   "cell_type": "code",
   "execution_count": 40,
   "id": "d1f51a99-e727-4985-80ba-fb72192c9cdb",
   "metadata": {},
   "outputs": [
    {
     "data": {
      "text/plain": [
       "{'Ramesh': 20}"
      ]
     },
     "execution_count": 40,
     "metadata": {},
     "output_type": "execute_result"
    }
   ],
   "source": [
    "d6={'Ramesh':20,'Ramesh':20}\n",
    "d6\n",
    "\n",
    "# Duplicates are not allowed"
   ]
  },
  {
   "cell_type": "code",
   "execution_count": 72,
   "id": "a94ffd86-ae38-4124-a9e1-24e7b1d91a88",
   "metadata": {},
   "outputs": [
    {
     "data": {
      "text/plain": [
       "{'Fruit': 'Apple', 'Cost': 10.5, 'count': 100, 'ava': True}"
      ]
     },
     "execution_count": 72,
     "metadata": {},
     "output_type": "execute_result"
    }
   ],
   "source": [
    "d7={'Fruit':'Apple','Cost':10.5,'count':100,'ava':True}\n",
    "d7"
   ]
  },
  {
   "cell_type": "code",
   "execution_count": 44,
   "id": "a70596c6-82b8-4460-a502-f767634e66ac",
   "metadata": {},
   "outputs": [
    {
     "data": {
      "text/plain": [
       "{True: 'Yes'}"
      ]
     },
     "execution_count": 44,
     "metadata": {},
     "output_type": "execute_result"
    }
   ],
   "source": [
    "d8={True:'Yes'}\n",
    "d8"
   ]
  },
  {
   "cell_type": "code",
   "execution_count": 48,
   "id": "6fa0185f-0a8d-4f2f-8002-c98d64ed15a4",
   "metadata": {},
   "outputs": [
    {
     "data": {
      "text/plain": [
       "{'age': [10, 20, 30]}"
      ]
     },
     "execution_count": 48,
     "metadata": {},
     "output_type": "execute_result"
    }
   ],
   "source": [
    "d9={'age':[10,20,30]}\n",
    "d9\n",
    "\n",
    "# list can be value"
   ]
  },
  {
   "cell_type": "code",
   "execution_count": 54,
   "id": "43deb535-71a7-49af-a294-612c2b65f855",
   "metadata": {},
   "outputs": [
    {
     "ename": "TypeError",
     "evalue": "unhashable type: 'list'",
     "output_type": "error",
     "traceback": [
      "\u001b[1;31m---------------------------------------------------------------------------\u001b[0m",
      "\u001b[1;31mTypeError\u001b[0m                                 Traceback (most recent call last)",
      "Cell \u001b[1;32mIn[54], line 1\u001b[0m\n\u001b[1;32m----> 1\u001b[0m d10\u001b[38;5;241m=\u001b[39m{[\u001b[38;5;241m10\u001b[39m,\u001b[38;5;241m20\u001b[39m,\u001b[38;5;241m30\u001b[39m]:\u001b[38;5;124m'\u001b[39m\u001b[38;5;124mage\u001b[39m\u001b[38;5;124m'\u001b[39m}\n\u001b[0;32m      2\u001b[0m d10\n",
      "\u001b[1;31mTypeError\u001b[0m: unhashable type: 'list'"
     ]
    }
   ],
   "source": [
    "d10={[10,20,30]:'age'}\n",
    "d10"
   ]
  },
  {
   "cell_type": "code",
   "execution_count": 52,
   "id": "ded33e5a-a6d8-4dae-86fe-d399f0f662f3",
   "metadata": {},
   "outputs": [
    {
     "data": {
      "text/plain": [
       "{'age': (10, 20, 30)}"
      ]
     },
     "execution_count": 52,
     "metadata": {},
     "output_type": "execute_result"
    }
   ],
   "source": [
    "d11={'age':(10,20,30)}\n",
    "d11"
   ]
  },
  {
   "cell_type": "code",
   "execution_count": 56,
   "id": "bb4dc0cd-fd33-451b-8693-6575896cdd29",
   "metadata": {},
   "outputs": [
    {
     "data": {
      "text/plain": [
       "{(10, 20, 30): 'age'}"
      ]
     },
     "execution_count": 56,
     "metadata": {},
     "output_type": "execute_result"
    }
   ],
   "source": [
    "d12={(10,20,30):'age'}\n",
    "d12"
   ]
  },
  {
   "cell_type": "markdown",
   "id": "f2e30f55-5148-42a7-af55-9556066f0b23",
   "metadata": {},
   "source": [
    "- list is mutable\n",
    "\n",
    "- tuple is immutable\n",
    "\n",
    "- so list cannot be a key\n",
    "\n",
    "- **keys are important**"
   ]
  },
  {
   "cell_type": "code",
   "execution_count": 62,
   "id": "f63e33dc-37c1-40fe-8c37-a7edc3b7e20a",
   "metadata": {},
   "outputs": [
    {
     "data": {
      "text/plain": [
       "{(10, 20, 30): ('A', 'B', 'C')}"
      ]
     },
     "execution_count": 62,
     "metadata": {},
     "output_type": "execute_result"
    }
   ],
   "source": [
    "d13={(10,20,30):('A','B','C')}\n",
    "d13"
   ]
  },
  {
   "cell_type": "code",
   "execution_count": 64,
   "id": "316febd6-b45b-49d6-ade0-b614237b4438",
   "metadata": {},
   "outputs": [
    {
     "data": {
      "text/plain": [
       "{(10, 20, 30): ['A', 'B', 'C']}"
      ]
     },
     "execution_count": 64,
     "metadata": {},
     "output_type": "execute_result"
    }
   ],
   "source": [
    "d14={(10,20,30):['A','B','C']}\n",
    "d14"
   ]
  },
  {
   "cell_type": "code",
   "execution_count": 66,
   "id": "aa4d2b49-0ace-4cc3-ad0d-1b03b29f8699",
   "metadata": {},
   "outputs": [
    {
     "ename": "TypeError",
     "evalue": "unhashable type: 'list'",
     "output_type": "error",
     "traceback": [
      "\u001b[1;31m---------------------------------------------------------------------------\u001b[0m",
      "\u001b[1;31mTypeError\u001b[0m                                 Traceback (most recent call last)",
      "Cell \u001b[1;32mIn[66], line 1\u001b[0m\n\u001b[1;32m----> 1\u001b[0m d15\u001b[38;5;241m=\u001b[39m{[\u001b[38;5;241m10\u001b[39m,\u001b[38;5;241m20\u001b[39m,\u001b[38;5;241m30\u001b[39m]:(\u001b[38;5;124m'\u001b[39m\u001b[38;5;124mA\u001b[39m\u001b[38;5;124m'\u001b[39m,\u001b[38;5;124m'\u001b[39m\u001b[38;5;124mB\u001b[39m\u001b[38;5;124m'\u001b[39m,\u001b[38;5;124m'\u001b[39m\u001b[38;5;124mC\u001b[39m\u001b[38;5;124m'\u001b[39m)}\n\u001b[0;32m      2\u001b[0m d15\n",
      "\u001b[1;31mTypeError\u001b[0m: unhashable type: 'list'"
     ]
    }
   ],
   "source": [
    "d15={[10,20,30]:('A','B','C')}\n",
    "d15"
   ]
  },
  {
   "cell_type": "code",
   "execution_count": 68,
   "id": "72a25df4-dcfc-47f7-814c-7d4ee69970e9",
   "metadata": {},
   "outputs": [
    {
     "data": {
      "text/plain": [
       "{'Fruites': {'Apple': 50}}"
      ]
     },
     "execution_count": 68,
     "metadata": {},
     "output_type": "execute_result"
    }
   ],
   "source": [
    "d16={'Fruites':{'Apple':50}}\n",
    "d16"
   ]
  },
  {
   "cell_type": "code",
   "execution_count": 70,
   "id": "8a10bc53-5aa5-4a26-9169-f36ac59f8740",
   "metadata": {},
   "outputs": [
    {
     "ename": "TypeError",
     "evalue": "unhashable type: 'dict'",
     "output_type": "error",
     "traceback": [
      "\u001b[1;31m---------------------------------------------------------------------------\u001b[0m",
      "\u001b[1;31mTypeError\u001b[0m                                 Traceback (most recent call last)",
      "Cell \u001b[1;32mIn[70], line 1\u001b[0m\n\u001b[1;32m----> 1\u001b[0m d17\u001b[38;5;241m=\u001b[39m{{\u001b[38;5;124m'\u001b[39m\u001b[38;5;124mApple\u001b[39m\u001b[38;5;124m'\u001b[39m:\u001b[38;5;241m50\u001b[39m}:\u001b[38;5;124m'\u001b[39m\u001b[38;5;124mFruites\u001b[39m\u001b[38;5;124m'\u001b[39m}\n\u001b[0;32m      2\u001b[0m d17\n",
      "\u001b[1;31mTypeError\u001b[0m: unhashable type: 'dict'"
     ]
    }
   ],
   "source": [
    "d17={{'Apple':50}:'Fruites'}\n",
    "d17"
   ]
  },
  {
   "cell_type": "code",
   "execution_count": null,
   "id": "d4dfb5b4-07d3-446b-92e4-525a95138e81",
   "metadata": {},
   "outputs": [],
   "source": [
    "d1={'Ramesh':20,'suresh':30,'Sathish':40}\n",
    "d2={'Ramesh':'20','Suresh':'30','Sathish':'40'}\n",
    "d3={20:'Ramesh',30:'Suresh',40:'Sathish'}\n",
    "d4={'Ramesh':20,'Ramesh':30,40:'Sathish'}\n",
    "d5={'Ramesh':20,'Suresh':20}\n"
   ]
  },
  {
   "cell_type": "code",
   "execution_count": 94,
   "id": "306ff72e-1329-4b8a-9467-0ea78e1bf4a9",
   "metadata": {},
   "outputs": [],
   "source": [
    "d1={'Ramesh':20,'Suresh':30,'Sathish':40}\n",
    "d2={'Ramesh':'20','Suresh':'30','Sathish':'40'}\n",
    "d3={20:'Ramesh',30:'Suresh',40:'Sathish'}\n",
    "d4={'Ramesh':'20','Ramesh':30,40:'Sathish'}\n",
    "\n",
    "# max\n",
    "# min\n",
    "# len\n",
    "# sorted\n",
    "# reversed\n",
    "# sum\n",
    "\n"
   ]
  },
  {
   "cell_type": "code",
   "execution_count": 98,
   "id": "5418d6bc-d29f-413f-9734-402d3b0b80df",
   "metadata": {},
   "outputs": [
    {
     "data": {
      "text/plain": [
       "('Suresh', 'Suresh', 40)"
      ]
     },
     "execution_count": 98,
     "metadata": {},
     "output_type": "execute_result"
    }
   ],
   "source": [
    "d1={'Ramesh':20,'Suresh':30,'Sathish':40}\n",
    "max(d1),max(d2),max(d3)"
   ]
  },
  {
   "cell_type": "code",
   "execution_count": 100,
   "id": "afa4738c-4140-49ec-94dd-14b337541882",
   "metadata": {},
   "outputs": [
    {
     "ename": "TypeError",
     "evalue": "'>' not supported between instances of 'int' and 'str'",
     "output_type": "error",
     "traceback": [
      "\u001b[1;31m---------------------------------------------------------------------------\u001b[0m",
      "\u001b[1;31mTypeError\u001b[0m                                 Traceback (most recent call last)",
      "Cell \u001b[1;32mIn[100], line 1\u001b[0m\n\u001b[1;32m----> 1\u001b[0m \u001b[38;5;28mmax\u001b[39m(d4)\n",
      "\u001b[1;31mTypeError\u001b[0m: '>' not supported between instances of 'int' and 'str'"
     ]
    }
   ],
   "source": [
    "max(d4)"
   ]
  },
  {
   "cell_type": "code",
   "execution_count": 102,
   "id": "e0fcdb47-214b-4c98-8b3b-6741c55c55ac",
   "metadata": {},
   "outputs": [
    {
     "data": {
      "text/plain": [
       "('Ramesh', 'Ramesh', 20)"
      ]
     },
     "execution_count": 102,
     "metadata": {},
     "output_type": "execute_result"
    }
   ],
   "source": [
    "min(d1),min(d2),min(d3)"
   ]
  },
  {
   "cell_type": "code",
   "execution_count": 104,
   "id": "468e0615-2b51-449a-8f97-a3c457857daf",
   "metadata": {},
   "outputs": [
    {
     "ename": "TypeError",
     "evalue": "'<' not supported between instances of 'int' and 'str'",
     "output_type": "error",
     "traceback": [
      "\u001b[1;31m---------------------------------------------------------------------------\u001b[0m",
      "\u001b[1;31mTypeError\u001b[0m                                 Traceback (most recent call last)",
      "Cell \u001b[1;32mIn[104], line 1\u001b[0m\n\u001b[1;32m----> 1\u001b[0m \u001b[38;5;28mmin\u001b[39m(d4)\n",
      "\u001b[1;31mTypeError\u001b[0m: '<' not supported between instances of 'int' and 'str'"
     ]
    }
   ],
   "source": [
    "min(d4)"
   ]
  },
  {
   "cell_type": "code",
   "execution_count": 106,
   "id": "20e1b829-8035-4c64-ba34-ef5ebba840fb",
   "metadata": {},
   "outputs": [
    {
     "data": {
      "text/plain": [
       "(3, 3, 3)"
      ]
     },
     "execution_count": 106,
     "metadata": {},
     "output_type": "execute_result"
    }
   ],
   "source": [
    "len(d1),len(d2),len(d3)"
   ]
  },
  {
   "cell_type": "code",
   "execution_count": 108,
   "id": "6294ae17-9fef-4cd8-a35b-c0820c54b0e3",
   "metadata": {},
   "outputs": [
    {
     "data": {
      "text/plain": [
       "2"
      ]
     },
     "execution_count": 108,
     "metadata": {},
     "output_type": "execute_result"
    }
   ],
   "source": [
    "len(d4)"
   ]
  },
  {
   "cell_type": "code",
   "execution_count": 112,
   "id": "46b9c576-a3c7-449d-aef7-3063c03850b9",
   "metadata": {},
   "outputs": [
    {
     "ename": "TypeError",
     "evalue": "unsupported operand type(s) for +: 'int' and 'str'",
     "output_type": "error",
     "traceback": [
      "\u001b[1;31m---------------------------------------------------------------------------\u001b[0m",
      "\u001b[1;31mTypeError\u001b[0m                                 Traceback (most recent call last)",
      "Cell \u001b[1;32mIn[112], line 1\u001b[0m\n\u001b[1;32m----> 1\u001b[0m \u001b[38;5;28msum\u001b[39m(d1)\n",
      "\u001b[1;31mTypeError\u001b[0m: unsupported operand type(s) for +: 'int' and 'str'"
     ]
    }
   ],
   "source": [
    "sum(d1)"
   ]
  },
  {
   "cell_type": "code",
   "execution_count": 114,
   "id": "e8a857aa-a01e-468e-a65b-f270807a0435",
   "metadata": {},
   "outputs": [
    {
     "data": {
      "text/plain": [
       "90"
      ]
     },
     "execution_count": 114,
     "metadata": {},
     "output_type": "execute_result"
    }
   ],
   "source": [
    "sum(d3)"
   ]
  },
  {
   "cell_type": "code",
   "execution_count": 116,
   "id": "e8939a91-e4ff-46c1-9fc4-e687a7e952b6",
   "metadata": {},
   "outputs": [
    {
     "ename": "TypeError",
     "evalue": "unsupported operand type(s) for +: 'int' and 'str'",
     "output_type": "error",
     "traceback": [
      "\u001b[1;31m---------------------------------------------------------------------------\u001b[0m",
      "\u001b[1;31mTypeError\u001b[0m                                 Traceback (most recent call last)",
      "Cell \u001b[1;32mIn[116], line 1\u001b[0m\n\u001b[1;32m----> 1\u001b[0m \u001b[38;5;28msum\u001b[39m(d2)\n",
      "\u001b[1;31mTypeError\u001b[0m: unsupported operand type(s) for +: 'int' and 'str'"
     ]
    }
   ],
   "source": [
    "sum(d2)"
   ]
  },
  {
   "cell_type": "code",
   "execution_count": 118,
   "id": "24340b35-4c3e-4b45-86cf-df5350f2d284",
   "metadata": {},
   "outputs": [
    {
     "ename": "TypeError",
     "evalue": "unsupported operand type(s) for +: 'int' and 'str'",
     "output_type": "error",
     "traceback": [
      "\u001b[1;31m---------------------------------------------------------------------------\u001b[0m",
      "\u001b[1;31mTypeError\u001b[0m                                 Traceback (most recent call last)",
      "Cell \u001b[1;32mIn[118], line 1\u001b[0m\n\u001b[1;32m----> 1\u001b[0m \u001b[38;5;28msum\u001b[39m(d4)\n",
      "\u001b[1;31mTypeError\u001b[0m: unsupported operand type(s) for +: 'int' and 'str'"
     ]
    }
   ],
   "source": [
    "sum(d4)"
   ]
  },
  {
   "cell_type": "code",
   "execution_count": 120,
   "id": "2e978cd5-660e-4893-80ff-23bd55c4c2a7",
   "metadata": {},
   "outputs": [
    {
     "data": {
      "text/plain": [
       "['Ramesh', 'Sathish', 'Suresh']"
      ]
     },
     "execution_count": 120,
     "metadata": {},
     "output_type": "execute_result"
    }
   ],
   "source": [
    "sorted(d1)"
   ]
  },
  {
   "cell_type": "code",
   "execution_count": 122,
   "id": "6f37c07b-fe12-4c62-9b78-8856f0550267",
   "metadata": {},
   "outputs": [
    {
     "data": {
      "text/plain": [
       "['Ramesh', 'Sathish', 'Suresh']"
      ]
     },
     "execution_count": 122,
     "metadata": {},
     "output_type": "execute_result"
    }
   ],
   "source": [
    "sorted(d2)"
   ]
  },
  {
   "cell_type": "code",
   "execution_count": 124,
   "id": "8bba086f-5ebf-4fd9-8bbc-33dfb0c86dde",
   "metadata": {},
   "outputs": [
    {
     "data": {
      "text/plain": [
       "[20, 30, 40]"
      ]
     },
     "execution_count": 124,
     "metadata": {},
     "output_type": "execute_result"
    }
   ],
   "source": [
    "sorted(d3)"
   ]
  },
  {
   "cell_type": "code",
   "execution_count": 126,
   "id": "1e97cf41-a58b-4437-a6d7-d470caad9107",
   "metadata": {},
   "outputs": [
    {
     "ename": "TypeError",
     "evalue": "'<' not supported between instances of 'int' and 'str'",
     "output_type": "error",
     "traceback": [
      "\u001b[1;31m---------------------------------------------------------------------------\u001b[0m",
      "\u001b[1;31mTypeError\u001b[0m                                 Traceback (most recent call last)",
      "Cell \u001b[1;32mIn[126], line 1\u001b[0m\n\u001b[1;32m----> 1\u001b[0m \u001b[38;5;28msorted\u001b[39m(d4)\n",
      "\u001b[1;31mTypeError\u001b[0m: '<' not supported between instances of 'int' and 'str'"
     ]
    }
   ],
   "source": [
    "sorted(d4)"
   ]
  },
  {
   "cell_type": "code",
   "execution_count": 142,
   "id": "11b5bb78-c088-48e4-8d82-c75d34fd4c13",
   "metadata": {},
   "outputs": [
    {
     "data": {
      "text/plain": [
       "['Sathish', 'Suresh', 'Ramesh']"
      ]
     },
     "execution_count": 142,
     "metadata": {},
     "output_type": "execute_result"
    }
   ],
   "source": [
    "list(reversed(d1))"
   ]
  },
  {
   "cell_type": "code",
   "execution_count": 144,
   "id": "d57f02e2-c604-4912-bdd7-f1ef931a3dbb",
   "metadata": {},
   "outputs": [
    {
     "data": {
      "text/plain": [
       "['Sathish', 'Suresh', 'Ramesh']"
      ]
     },
     "execution_count": 144,
     "metadata": {},
     "output_type": "execute_result"
    }
   ],
   "source": [
    "list(reversed(d2))"
   ]
  },
  {
   "cell_type": "code",
   "execution_count": 146,
   "id": "1d8d825b-88e1-414b-b432-69405153d56f",
   "metadata": {},
   "outputs": [
    {
     "data": {
      "text/plain": [
       "[40, 30, 20]"
      ]
     },
     "execution_count": 146,
     "metadata": {},
     "output_type": "execute_result"
    }
   ],
   "source": [
    "list(reversed(d3))"
   ]
  },
  {
   "cell_type": "code",
   "execution_count": 148,
   "id": "81491ce2-932f-4b4f-a817-132fb0b2c2cb",
   "metadata": {},
   "outputs": [
    {
     "data": {
      "text/plain": [
       "[40, 'Ramesh']"
      ]
     },
     "execution_count": 148,
     "metadata": {},
     "output_type": "execute_result"
    }
   ],
   "source": [
    "list(reversed(d4))"
   ]
  },
  {
   "cell_type": "code",
   "execution_count": 138,
   "id": "96209342-c7c0-4a02-a0f5-b39ddff4f568",
   "metadata": {},
   "outputs": [
    {
     "data": {
      "text/plain": [
       "[1, 30, 100]"
      ]
     },
     "execution_count": 138,
     "metadata": {},
     "output_type": "execute_result"
    }
   ],
   "source": [
    "sorted([1,100,30])"
   ]
  },
  {
   "cell_type": "code",
   "execution_count": 152,
   "id": "333306ad-becf-4ea1-8520-27cbae5aaad6",
   "metadata": {},
   "outputs": [
    {
     "ename": "TypeError",
     "evalue": "'<' not supported between instances of 'int' and 'str'",
     "output_type": "error",
     "traceback": [
      "\u001b[1;31m---------------------------------------------------------------------------\u001b[0m",
      "\u001b[1;31mTypeError\u001b[0m                                 Traceback (most recent call last)",
      "Cell \u001b[1;32mIn[152], line 2\u001b[0m\n\u001b[0;32m      1\u001b[0m dic1\u001b[38;5;241m=\u001b[39m{\u001b[38;5;124m'\u001b[39m\u001b[38;5;124mRamesh\u001b[39m\u001b[38;5;124m'\u001b[39m:\u001b[38;5;241m20\u001b[39m,\u001b[38;5;124m'\u001b[39m\u001b[38;5;124mSuresh\u001b[39m\u001b[38;5;124m'\u001b[39m:\u001b[38;5;241m30\u001b[39m,\u001b[38;5;241m100\u001b[39m:\u001b[38;5;241m40\u001b[39m}\n\u001b[1;32m----> 2\u001b[0m \u001b[38;5;28msorted\u001b[39m(dic1)\n",
      "\u001b[1;31mTypeError\u001b[0m: '<' not supported between instances of 'int' and 'str'"
     ]
    }
   ],
   "source": [
    "dic1={'Ramesh':20,'Suresh':30,100:40}\n",
    "sorted(dic1)"
   ]
  },
  {
   "cell_type": "markdown",
   "id": "ce1e0084-43c0-43c5-96a6-44f2f6f03c21",
   "metadata": {},
   "source": [
    "- max/min/sorted can work for homogeneous\n",
    "\n",
    "- sum is only work for numbers only\n",
    "\n",
    "- reversed can work for anyone"
   ]
  },
  {
   "cell_type": "markdown",
   "id": "6c072a1e-0895-43ea-a07e-9f831ef71de0",
   "metadata": {},
   "source": [
    "**index**"
   ]
  },
  {
   "cell_type": "code",
   "execution_count": 160,
   "id": "b2cb916c-9791-4410-ba8b-1d1368b3159a",
   "metadata": {},
   "outputs": [
    {
     "data": {
      "text/plain": [
       "10"
      ]
     },
     "execution_count": 160,
     "metadata": {},
     "output_type": "execute_result"
    }
   ],
   "source": [
    "l=[10,20,30]\n",
    "l[0]"
   ]
  },
  {
   "cell_type": "code",
   "execution_count": 162,
   "id": "f46343ab-82d5-4a71-a2ea-7d3dba72e3f2",
   "metadata": {},
   "outputs": [
    {
     "data": {
      "text/plain": [
       "'p'"
      ]
     },
     "execution_count": 162,
     "metadata": {},
     "output_type": "execute_result"
    }
   ],
   "source": [
    "s='python'\n",
    "s[0]"
   ]
  },
  {
   "cell_type": "code",
   "execution_count": 164,
   "id": "66e719e8-4417-4098-bb5f-4c20012ebf0e",
   "metadata": {},
   "outputs": [
    {
     "ename": "KeyError",
     "evalue": "0",
     "output_type": "error",
     "traceback": [
      "\u001b[1;31m---------------------------------------------------------------------------\u001b[0m",
      "\u001b[1;31mKeyError\u001b[0m                                  Traceback (most recent call last)",
      "Cell \u001b[1;32mIn[164], line 2\u001b[0m\n\u001b[0;32m      1\u001b[0m dic2\u001b[38;5;241m=\u001b[39m{\u001b[38;5;124m'\u001b[39m\u001b[38;5;124mRamesh\u001b[39m\u001b[38;5;124m'\u001b[39m:\u001b[38;5;241m20\u001b[39m,\u001b[38;5;124m'\u001b[39m\u001b[38;5;124mSuresh\u001b[39m\u001b[38;5;124m'\u001b[39m:\u001b[38;5;241m30\u001b[39m}\n\u001b[1;32m----> 2\u001b[0m dic2[\u001b[38;5;241m0\u001b[39m]\n",
      "\u001b[1;31mKeyError\u001b[0m: 0"
     ]
    }
   ],
   "source": [
    "dic2={'Ramesh':20,'Suresh':30}\n",
    "dic2[0]"
   ]
  },
  {
   "cell_type": "code",
   "execution_count": 166,
   "id": "7c261fed-0bed-4655-b88d-cdf1892f4283",
   "metadata": {},
   "outputs": [
    {
     "data": {
      "text/plain": [
       "20"
      ]
     },
     "execution_count": 166,
     "metadata": {},
     "output_type": "execute_result"
    }
   ],
   "source": [
    "dic2['Ramesh']"
   ]
  },
  {
   "cell_type": "code",
   "execution_count": 170,
   "id": "8871a396-c6ce-4d85-b863-4b38637e3abb",
   "metadata": {},
   "outputs": [
    {
     "data": {
      "text/plain": [
       "40"
      ]
     },
     "execution_count": 170,
     "metadata": {},
     "output_type": "execute_result"
    }
   ],
   "source": [
    "dic3={'Ramesh':20,'Suresh':30,'Sathish':40}\n",
    "dic3['Ramesh']   # 20\n",
    "dic3['Suresh']   # 30\n",
    "dic3['Sathish']  # 40\n",
    "\n",
    "dic3[i]\n"
   ]
  },
  {
   "cell_type": "code",
   "execution_count": 172,
   "id": "2640549b-ed09-438c-b67e-f93acdc0ebef",
   "metadata": {},
   "outputs": [
    {
     "name": "stdout",
     "output_type": "stream",
     "text": [
      "Ramesh 20\n",
      "Ramesh has age : 20\n",
      "Suresh 30\n",
      "Suresh has age : 30\n",
      "Sathish 40\n",
      "Sathish has age : 40\n"
     ]
    }
   ],
   "source": [
    "dic3={'Ramesh':20,'Suresh':30,'Sathish':40}\n",
    "for i in dic3:\n",
    "    print(i,dic3[i])\n",
    "    print(f'{i} has age : {dic3[i]}')"
   ]
  },
  {
   "cell_type": "markdown",
   "id": "f6e9940e-7472-4c41-8a97-64dd44a4c038",
   "metadata": {},
   "source": [
    "- whenever we iterate dictionary using for loop in operator it will give keys \n",
    "\n",
    "- if want to get value we will access through keys onlu\n",
    "\n",
    "- key will work as index"
   ]
  },
  {
   "cell_type": "code",
   "execution_count": 175,
   "id": "3d20d84f-025a-46c0-8dca-37f564e02645",
   "metadata": {},
   "outputs": [
    {
     "data": {
      "text/plain": [
       "['Apple', 'Banana', 'Cherry']"
      ]
     },
     "execution_count": 175,
     "metadata": {},
     "output_type": "execute_result"
    }
   ],
   "source": [
    "dic4={'Fruites':['Apple','Banana','Cherry']}\n",
    "dic4['Fruites']"
   ]
  },
  {
   "cell_type": "code",
   "execution_count": 177,
   "id": "c2237154-d25c-4aed-96a4-aa047a60b40e",
   "metadata": {},
   "outputs": [
    {
     "data": {
      "text/plain": [
       "'Cherry'"
      ]
     },
     "execution_count": 177,
     "metadata": {},
     "output_type": "execute_result"
    }
   ],
   "source": [
    "dic4={'Fruites':['Apple','Banana','Cherry']}\n",
    "dic4['Fruites'][2]"
   ]
  },
  {
   "cell_type": "code",
   "execution_count": 183,
   "id": "9b4ba2bc-a1f1-4f65-9e5a-1c94a94388d6",
   "metadata": {},
   "outputs": [
    {
     "data": {
      "text/plain": [
       "'Green'"
      ]
     },
     "execution_count": 183,
     "metadata": {},
     "output_type": "execute_result"
    }
   ],
   "source": [
    "dic5={'Fruites':{'Apple':['Sweet','Green','Custured']}}\n",
    "dic5['Fruites']['Apple'][1]"
   ]
  },
  {
   "cell_type": "code",
   "execution_count": 191,
   "id": "54534522-d4bd-468c-8e21-4bef0d75417a",
   "metadata": {},
   "outputs": [
    {
     "data": {
      "text/plain": [
       "300"
      ]
     },
     "execution_count": 191,
     "metadata": {},
     "output_type": "execute_result"
    }
   ],
   "source": [
    "dic6={'Fruites':[{'Cost':[100,200,300]}]}\n",
    "dic6['Fruites'][0]['Cost'][2]"
   ]
  },
  {
   "cell_type": "code",
   "execution_count": 193,
   "id": "456ce651-e720-413f-93a3-b69178a32d76",
   "metadata": {},
   "outputs": [
    {
     "data": {
      "text/plain": [
       "'None'"
      ]
     },
     "execution_count": 193,
     "metadata": {},
     "output_type": "execute_result"
    }
   ],
   "source": [
    "dic7={'Fruites':['Apple'],'Cost':[{'1kg':[300,500],'2kg':['None']}]}\n",
    "dic7['Cost'][0]['2kg'][0]                              "
   ]
  },
  {
   "cell_type": "code",
   "execution_count": 207,
   "id": "6773616f-8eff-46ce-bc64-5555e647d475",
   "metadata": {},
   "outputs": [
    {
     "data": {
      "text/plain": [
       "{'Shambaji'}"
      ]
     },
     "execution_count": 207,
     "metadata": {},
     "output_type": "execute_result"
    }
   ],
   "source": [
    "dic8={'Fruites':{'Mango':{'Nagpur':{'MH':{'King':{'Shivaji':{'Shambaji'}}}}}}}\n",
    "dic8['Fruites']['Mango']['Nagpur']['MH']['King']['Shivaji']"
   ]
  },
  {
   "cell_type": "code",
   "execution_count": 209,
   "id": "8257086e-f9b4-4274-b8ab-ce9990a59a2a",
   "metadata": {},
   "outputs": [
    {
     "data": {
      "text/plain": [
       "['__class__',\n",
       " '__class_getitem__',\n",
       " '__contains__',\n",
       " '__delattr__',\n",
       " '__delitem__',\n",
       " '__dir__',\n",
       " '__doc__',\n",
       " '__eq__',\n",
       " '__format__',\n",
       " '__ge__',\n",
       " '__getattribute__',\n",
       " '__getitem__',\n",
       " '__getstate__',\n",
       " '__gt__',\n",
       " '__hash__',\n",
       " '__init__',\n",
       " '__init_subclass__',\n",
       " '__ior__',\n",
       " '__iter__',\n",
       " '__le__',\n",
       " '__len__',\n",
       " '__lt__',\n",
       " '__ne__',\n",
       " '__new__',\n",
       " '__or__',\n",
       " '__reduce__',\n",
       " '__reduce_ex__',\n",
       " '__repr__',\n",
       " '__reversed__',\n",
       " '__ror__',\n",
       " '__setattr__',\n",
       " '__setitem__',\n",
       " '__sizeof__',\n",
       " '__str__',\n",
       " '__subclasshook__',\n",
       " 'clear',\n",
       " 'copy',\n",
       " 'fromkeys',\n",
       " 'get',\n",
       " 'items',\n",
       " 'keys',\n",
       " 'pop',\n",
       " 'popitem',\n",
       " 'setdefault',\n",
       " 'update',\n",
       " 'values']"
      ]
     },
     "execution_count": 209,
     "metadata": {},
     "output_type": "execute_result"
    }
   ],
   "source": [
    "dir({})"
   ]
  },
  {
   "cell_type": "code",
   "execution_count": null,
   "id": "0c14ccee-cbc7-4f1e-a89c-d454ee900488",
   "metadata": {},
   "outputs": [],
   "source": [
    "'clear',\n",
    " 'copy',\n",
    " 'fromkeys',\n",
    " 'get',\n",
    " 'items',\n",
    " 'keys',\n",
    " 'pop',\n",
    " 'popitem',\n",
    " 'setdefault',\n",
    " 'update',\n",
    " 'values'\n",
    "\n",
    "clear\n",
    "copy\n",
    "items\n",
    "values\n",
    "keys\n",
    "get\n",
    "pop\n"
   ]
  },
  {
   "cell_type": "markdown",
   "id": "88ce4183-5a18-40df-a07f-b78c8bb20c0f",
   "metadata": {},
   "source": [
    "**How to convert list to dictionary**"
   ]
  },
  {
   "cell_type": "code",
   "execution_count": 170,
   "id": "99f7c733-9563-4764-8975-6e68893ac1e7",
   "metadata": {},
   "outputs": [
    {
     "name": "stdout",
     "output_type": "stream",
     "text": [
      "Ramesh 20\n",
      "Suresh 30\n",
      "Sathish 40\n"
     ]
    }
   ],
   "source": [
    "names=['Ramesh','Suresh','Sathish']\n",
    "age=[20,30,40]\n",
    "\n",
    "# {'Ramesh': 20,'Suresh': 30,'Sathish': 40}\n",
    "dict1={}\n",
    "for i,j in zip(names,age):\n",
    "    print(i,j)"
   ]
  },
  {
   "cell_type": "code",
   "execution_count": 172,
   "id": "7cef5be7-e269-4d13-b078-296097cfaab7",
   "metadata": {},
   "outputs": [
    {
     "data": {
      "text/plain": [
       "{'Ramesh': 20, 'Suresh': 30, 'Sathish': 40}"
      ]
     },
     "execution_count": 172,
     "metadata": {},
     "output_type": "execute_result"
    }
   ],
   "source": [
    "names=['Ramesh','Suresh','Sathish']\n",
    "age=[20,30,40]\n",
    "dict1={}\n",
    "dict1['Ramesh']=20\n",
    "dict1['Suresh']=30\n",
    "dict1['Sathish']=40\n",
    "dict1[i]=j\n",
    "dict1"
   ]
  },
  {
   "cell_type": "code",
   "execution_count": 174,
   "id": "c98122d6-42b4-450b-91bb-ace5a569c1d8",
   "metadata": {},
   "outputs": [
    {
     "data": {
      "text/plain": [
       "{'Ramesh': 20, 'Suresh': 30, 'Sathish': 40}"
      ]
     },
     "execution_count": 174,
     "metadata": {},
     "output_type": "execute_result"
    }
   ],
   "source": [
    "names=['Ramesh','Suresh','Sathish']\n",
    "age=[20,30,40]\n",
    "dict1={}\n",
    "for i,j in zip(names,age):\n",
    "    dict1[i]=j\n",
    "\n",
    "dict1"
   ]
  },
  {
   "cell_type": "code",
   "execution_count": 176,
   "id": "9c06c17d-456f-41d8-8c8b-30ca84685b65",
   "metadata": {},
   "outputs": [],
   "source": [
    "# strings to list  (Split)\n",
    "# list to strings  (Join)\n",
    "# list to dictionary\n",
    "# dictionary to list"
   ]
  },
  {
   "cell_type": "markdown",
   "id": "cebef069-f078-415c-bfe7-aa65931a24d9",
   "metadata": {},
   "source": [
    "**How to convert dictionary to list**"
   ]
  },
  {
   "cell_type": "code",
   "execution_count": 163,
   "id": "726bfb5e-0785-4be6-b52f-da6a0b5e68af",
   "metadata": {},
   "outputs": [
    {
     "name": "stdout",
     "output_type": "stream",
     "text": [
      "Ramesh\n",
      "Suresh\n",
      "Sathish\n"
     ]
    }
   ],
   "source": [
    "d={'Ramesh': 20, 'Suresh': 30, 'Sathish': 40}\n",
    "\n",
    "#iterate it print i====key\n",
    "#using key how to get value\n",
    "#take two empty list and append it\n",
    "\n",
    "for i in d:\n",
    "    print(i)\n"
   ]
  },
  {
   "cell_type": "code",
   "execution_count": 4,
   "id": "1316bb4a-4da7-46eb-9782-e32346d75e73",
   "metadata": {},
   "outputs": [
    {
     "name": "stdout",
     "output_type": "stream",
     "text": [
      "ramesh\n",
      "20\n",
      "suresh\n",
      "30\n",
      "sathish\n",
      "40\n"
     ]
    }
   ],
   "source": [
    "for key in d:\n",
    "    print(key)\n",
    "    print(d[key])"
   ]
  },
  {
   "cell_type": "code",
   "execution_count": 68,
   "id": "1885b055-14a9-4c44-b780-7751d63bfd73",
   "metadata": {},
   "outputs": [
    {
     "data": {
      "text/plain": [
       "(['Ramesh', 'Suresh', 'Satish'], [20, 30, 40])"
      ]
     },
     "execution_count": 68,
     "metadata": {},
     "output_type": "execute_result"
    }
   ],
   "source": [
    "d={'Ramesh':20,'Suresh':30,'Satish':40}\n",
    "keys,values=[],[]\n",
    "for key in d:\n",
    "    keys.append(key)\n",
    "    values.append(d[key])\n",
    "\n",
    "keys,values"
   ]
  },
  {
   "cell_type": "code",
   "execution_count": 22,
   "id": "51f5d814-9f8c-4d41-90ec-3ee1d786b827",
   "metadata": {},
   "outputs": [],
   "source": [
    "d={'Ramesh':20,'Suresh':30,'Satish':40}\n",
    "keys=[key for key in d]\n",
    "values=[d[key] for key in d]"
   ]
  },
  {
   "cell_type": "markdown",
   "id": "71848412-4fd2-4c61-a04a-2bfae7100ab9",
   "metadata": {},
   "source": [
    "**dictionary comprehension**"
   ]
  },
  {
   "cell_type": "code",
   "execution_count": 27,
   "id": "184e3b2a-b6e3-43aa-8754-3bbc8d7c373e",
   "metadata": {},
   "outputs": [
    {
     "data": {
      "text/plain": [
       "{'Ramesh': 20, 'Suresh': 30, 'Satish': 40}"
      ]
     },
     "execution_count": 27,
     "metadata": {},
     "output_type": "execute_result"
    }
   ],
   "source": [
    "names=['Ramesh','Suresh','Satish']\n",
    "age=[20,30,40]\n",
    "d={key:value for key,value in zip(names,age)}\n",
    "d"
   ]
  },
  {
   "cell_type": "markdown",
   "id": "39a28ebf-86fd-412d-9609-f5a582342025",
   "metadata": {},
   "source": [
    "**mutable-immutable**\n",
    "\n",
    "- list are mutable\n",
    "\n",
    "- strings are immutable\n",
    "\n",
    "- tuple are immutable\n",
    "\n",
    "- dictionary also mutable we can modify the value of a dictionary"
   ]
  },
  {
   "cell_type": "code",
   "execution_count": 31,
   "id": "c2c4fc0b-d448-4c6d-85ba-39d61cfc985b",
   "metadata": {},
   "outputs": [
    {
     "data": {
      "text/plain": [
       "{'Ramesh': 20, 'Suresh': 30, 'Satish': 40}"
      ]
     },
     "execution_count": 31,
     "metadata": {},
     "output_type": "execute_result"
    }
   ],
   "source": [
    "d\n"
   ]
  },
  {
   "cell_type": "code",
   "execution_count": 33,
   "id": "6d2b8a91-b67c-4907-87fd-cfaec665264a",
   "metadata": {},
   "outputs": [
    {
     "data": {
      "text/plain": [
       "{'Ramesh': 40, 'Suresh': 30, 'Satish': 40}"
      ]
     },
     "execution_count": 33,
     "metadata": {},
     "output_type": "execute_result"
    }
   ],
   "source": [
    "d={'Ramesh': 20, 'Suresh': 30, 'Satish': 40}\n",
    "d['Ramesh']=40\n",
    "d"
   ]
  },
  {
   "cell_type": "markdown",
   "id": "6e988f78-93bd-41d8-a35d-680b7e10bb0f",
   "metadata": {},
   "source": [
    "- dictionary is similiar to database operations\n",
    "\n",
    "- keys always unique but values can be change\n",
    "\n"
   ]
  },
  {
   "cell_type": "markdown",
   "id": "a979ce79-622a-40b4-ad2e-af81eff69840",
   "metadata": {},
   "source": [
    "**concatenation**"
   ]
  },
  {
   "cell_type": "code",
   "execution_count": 38,
   "id": "6aff62f8-03d7-49c1-aa60-5a856f1394ed",
   "metadata": {},
   "outputs": [
    {
     "ename": "TypeError",
     "evalue": "unsupported operand type(s) for +: 'dict' and 'dict'",
     "output_type": "error",
     "traceback": [
      "\u001b[1;31m---------------------------------------------------------------------------\u001b[0m",
      "\u001b[1;31mTypeError\u001b[0m                                 Traceback (most recent call last)",
      "Cell \u001b[1;32mIn[38], line 3\u001b[0m\n\u001b[0;32m      1\u001b[0m d1\u001b[38;5;241m=\u001b[39m{\u001b[38;5;124m'\u001b[39m\u001b[38;5;124mRamesh\u001b[39m\u001b[38;5;124m'\u001b[39m:\u001b[38;5;241m20\u001b[39m}\n\u001b[0;32m      2\u001b[0m d2\u001b[38;5;241m=\u001b[39m{\u001b[38;5;124m'\u001b[39m\u001b[38;5;124mFruites\u001b[39m\u001b[38;5;124m'\u001b[39m:\u001b[38;5;124m'\u001b[39m\u001b[38;5;124mApple\u001b[39m\u001b[38;5;124m'\u001b[39m}\n\u001b[1;32m----> 3\u001b[0m d1\u001b[38;5;241m+\u001b[39md2\n",
      "\u001b[1;31mTypeError\u001b[0m: unsupported operand type(s) for +: 'dict' and 'dict'"
     ]
    }
   ],
   "source": [
    "d1={'Ramesh':20}\n",
    "d2={'Fruites':'Apple'}\n",
    "d1+d2"
   ]
  },
  {
   "cell_type": "markdown",
   "id": "58744ca4-7f43-43e2-9529-3f7929f5508b",
   "metadata": {},
   "source": [
    "**items-values-keys**"
   ]
  },
  {
   "cell_type": "code",
   "execution_count": 43,
   "id": "0c66d5e3-1331-4a45-8123-9b439e3fde80",
   "metadata": {},
   "outputs": [
    {
     "data": {
      "text/plain": [
       "dict_items([('Ramesh', 20), ('Suresh', 30), ('Satish', 40)])"
      ]
     },
     "execution_count": 43,
     "metadata": {},
     "output_type": "execute_result"
    }
   ],
   "source": [
    "d={'Ramesh': 20, 'Suresh': 30, 'Satish': 40}\n",
    "d.items()"
   ]
  },
  {
   "cell_type": "code",
   "execution_count": 45,
   "id": "db17c90b-e79d-48ad-a70f-f93d84fc61cd",
   "metadata": {},
   "outputs": [
    {
     "data": {
      "text/plain": [
       "dict_values([20, 30, 40])"
      ]
     },
     "execution_count": 45,
     "metadata": {},
     "output_type": "execute_result"
    }
   ],
   "source": [
    "d={'Ramesh': 20, 'Suresh': 30, 'Satish': 40}\n",
    "d.values()"
   ]
  },
  {
   "cell_type": "code",
   "execution_count": 47,
   "id": "46670688-2a91-48aa-82a8-8208803ad49e",
   "metadata": {},
   "outputs": [
    {
     "data": {
      "text/plain": [
       "dict_keys(['Ramesh', 'Suresh', 'Satish'])"
      ]
     },
     "execution_count": 47,
     "metadata": {},
     "output_type": "execute_result"
    }
   ],
   "source": [
    "d={'Ramesh': 20, 'Suresh': 30, 'Satish': 40}\n",
    "d.keys()"
   ]
  },
  {
   "cell_type": "code",
   "execution_count": 49,
   "id": "86d5ef4f-c4b3-4318-8c11-23e526e49825",
   "metadata": {},
   "outputs": [
    {
     "data": {
      "text/plain": [
       "dict_keys"
      ]
     },
     "execution_count": 49,
     "metadata": {},
     "output_type": "execute_result"
    }
   ],
   "source": [
    "d={'Ramesh': 20, 'Suresh': 30, 'Satish': 40}\n",
    "keys=d.keys()\n",
    "type(keys)"
   ]
  },
  {
   "cell_type": "code",
   "execution_count": 51,
   "id": "3b133ec8-d083-4bd8-a253-f0f0458b3d8d",
   "metadata": {},
   "outputs": [
    {
     "data": {
      "text/plain": [
       "3"
      ]
     },
     "execution_count": 51,
     "metadata": {},
     "output_type": "execute_result"
    }
   ],
   "source": [
    "len(keys)"
   ]
  },
  {
   "cell_type": "code",
   "execution_count": 53,
   "id": "78f897d8-2b0f-4845-998d-4242cca84aca",
   "metadata": {},
   "outputs": [
    {
     "ename": "TypeError",
     "evalue": "'dict_keys' object is not subscriptable",
     "output_type": "error",
     "traceback": [
      "\u001b[1;31m---------------------------------------------------------------------------\u001b[0m",
      "\u001b[1;31mTypeError\u001b[0m                                 Traceback (most recent call last)",
      "Cell \u001b[1;32mIn[53], line 1\u001b[0m\n\u001b[1;32m----> 1\u001b[0m keys[\u001b[38;5;241m0\u001b[39m]\n",
      "\u001b[1;31mTypeError\u001b[0m: 'dict_keys' object is not subscriptable"
     ]
    }
   ],
   "source": [
    "keys[0]"
   ]
  },
  {
   "cell_type": "markdown",
   "id": "86e07205-4b4a-40ad-8c39-82820211056b",
   "metadata": {},
   "source": [
    "- dict_keys is a type of keys represented in a list\n",
    "\n",
    "- it is looks like list but not list\n",
    "\n",
    "- we can not use list methods here\n",
    "\n",
    "- for that we need to convert dict_keys to list"
   ]
  },
  {
   "cell_type": "code",
   "execution_count": 56,
   "id": "34f054dc-e39b-4ee1-a2b5-ab294fabdd41",
   "metadata": {},
   "outputs": [
    {
     "ename": "AttributeError",
     "evalue": "'dict_keys' object has no attribute 'to_list'",
     "output_type": "error",
     "traceback": [
      "\u001b[1;31m---------------------------------------------------------------------------\u001b[0m",
      "\u001b[1;31mAttributeError\u001b[0m                            Traceback (most recent call last)",
      "Cell \u001b[1;32mIn[56], line 3\u001b[0m\n\u001b[0;32m      1\u001b[0m d\u001b[38;5;241m=\u001b[39m{\u001b[38;5;124m'\u001b[39m\u001b[38;5;124mRamesh\u001b[39m\u001b[38;5;124m'\u001b[39m: \u001b[38;5;241m20\u001b[39m, \u001b[38;5;124m'\u001b[39m\u001b[38;5;124mSuresh\u001b[39m\u001b[38;5;124m'\u001b[39m: \u001b[38;5;241m30\u001b[39m, \u001b[38;5;124m'\u001b[39m\u001b[38;5;124mSatish\u001b[39m\u001b[38;5;124m'\u001b[39m: \u001b[38;5;241m40\u001b[39m}\n\u001b[0;32m      2\u001b[0m keys\u001b[38;5;241m=\u001b[39md\u001b[38;5;241m.\u001b[39mkeys()\n\u001b[1;32m----> 3\u001b[0m keys\u001b[38;5;241m.\u001b[39mto_list\n",
      "\u001b[1;31mAttributeError\u001b[0m: 'dict_keys' object has no attribute 'to_list'"
     ]
    }
   ],
   "source": [
    "d={'Ramesh': 20, 'Suresh': 30, 'Satish': 40}\n",
    "keys=d.keys()\n",
    "keys.to_list"
   ]
  },
  {
   "cell_type": "code",
   "execution_count": 60,
   "id": "d08501e9-4df3-4eec-aadf-8635ab867494",
   "metadata": {},
   "outputs": [
    {
     "data": {
      "text/plain": [
       "['Ramesh', 'Suresh', 'Satish']"
      ]
     },
     "execution_count": 60,
     "metadata": {},
     "output_type": "execute_result"
    }
   ],
   "source": [
    "d={'Ramesh': 20, 'Suresh': 30, 'Satish': 40}\n",
    "keys=d.keys()   # dict_keys type\n",
    "list(keys)      # lsit type"
   ]
  },
  {
   "cell_type": "code",
   "execution_count": 66,
   "id": "68b77ab9-8bbc-435e-a1bc-851e5ac4952d",
   "metadata": {},
   "outputs": [
    {
     "data": {
      "text/plain": [
       "[20, 30, 40]"
      ]
     },
     "execution_count": 66,
     "metadata": {},
     "output_type": "execute_result"
    }
   ],
   "source": [
    "d={'Ramesh': 20, 'Suresh': 30, 'Satish': 40}\n",
    "values=d.values()   # dict_values type\n",
    "list(values)      # lsit type"
   ]
  },
  {
   "cell_type": "code",
   "execution_count": 64,
   "id": "25c16591-e714-4839-8ece-4b0df1bb7f56",
   "metadata": {},
   "outputs": [
    {
     "data": {
      "text/plain": [
       "[('Ramesh', 20), ('Suresh', 30), ('Satish', 40)]"
      ]
     },
     "execution_count": 64,
     "metadata": {},
     "output_type": "execute_result"
    }
   ],
   "source": [
    "d={'Ramesh': 20, 'Suresh': 30, 'Satish': 40}\n",
    "items=d.items()   # dict_items type\n",
    "list(items)      # lsit type"
   ]
  },
  {
   "cell_type": "code",
   "execution_count": 70,
   "id": "fbd5b2a5-59a0-4348-b5f1-57812bc0bb38",
   "metadata": {},
   "outputs": [],
   "source": [
    "d={'Ramesh':20,'Suresh':30,'Satish':40}\n",
    "keys,values=[],[]\n",
    "for key in d:\n",
    "    keys.append(key)\n",
    "    values.append(d[key])\n",
    "\n",
    "keys,values\n",
    "\n",
    "##########################################################################\n",
    "\n",
    "d={'Ramesh':20,'Suresh':30,'Satish':40}\n",
    "keys=[key for key in d]\n",
    "values=[d[key] for key in d]\n",
    "\n",
    "##############################################################################\n",
    "\n",
    "d={'Ramesh':20,'Suresh':30,'Satish':40}\n",
    "keys=list(d.keys())\n",
    "values=list(d.values())"
   ]
  },
  {
   "cell_type": "markdown",
   "id": "0e4fa83d-533b-486c-abc2-7836964e8859",
   "metadata": {},
   "source": [
    "- When we ar using keys list, values list, then what is the use of items as list\n",
    "- items: both are coming\n",
    "- values: values\n",
    "- keys: only keys"
   ]
  },
  {
   "cell_type": "code",
   "execution_count": null,
   "id": "68109988-82a0-49c2-8cd6-6396fb11c1c1",
   "metadata": {},
   "outputs": [],
   "source": [
    "d={'Ramesh':20,'Suresh':30,'Satish':40}"
   ]
  },
  {
   "cell_type": "code",
   "execution_count": 178,
   "id": "713b8bfc-6ce8-4529-8c89-903545b1d779",
   "metadata": {},
   "outputs": [
    {
     "data": {
      "text/plain": [
       "['__add__',\n",
       " '__class__',\n",
       " '__class_getitem__',\n",
       " '__contains__',\n",
       " '__delattr__',\n",
       " '__delitem__',\n",
       " '__dir__',\n",
       " '__doc__',\n",
       " '__eq__',\n",
       " '__format__',\n",
       " '__ge__',\n",
       " '__getattribute__',\n",
       " '__getitem__',\n",
       " '__getstate__',\n",
       " '__gt__',\n",
       " '__hash__',\n",
       " '__iadd__',\n",
       " '__imul__',\n",
       " '__init__',\n",
       " '__init_subclass__',\n",
       " '__iter__',\n",
       " '__le__',\n",
       " '__len__',\n",
       " '__lt__',\n",
       " '__mul__',\n",
       " '__ne__',\n",
       " '__new__',\n",
       " '__reduce__',\n",
       " '__reduce_ex__',\n",
       " '__repr__',\n",
       " '__reversed__',\n",
       " '__rmul__',\n",
       " '__setattr__',\n",
       " '__setitem__',\n",
       " '__sizeof__',\n",
       " '__str__',\n",
       " '__subclasshook__',\n",
       " 'append',\n",
       " 'clear',\n",
       " 'copy',\n",
       " 'count',\n",
       " 'extend',\n",
       " 'index',\n",
       " 'insert',\n",
       " 'pop',\n",
       " 'remove',\n",
       " 'reverse',\n",
       " 'sort']"
      ]
     },
     "execution_count": 178,
     "metadata": {},
     "output_type": "execute_result"
    }
   ],
   "source": [
    "dir([])     # dir of list []"
   ]
  },
  {
   "cell_type": "code",
   "execution_count": 79,
   "id": "394bf6ee-f21c-452c-b878-f884f0e99174",
   "metadata": {},
   "outputs": [],
   "source": [
    "d={'Ramesh':20,'Suresh':30,'Satish':40}\n",
    "#d={'ramesh':'20','suresh':'30','satish':'40'}"
   ]
  },
  {
   "cell_type": "code",
   "execution_count": 81,
   "id": "46f44ed0-695d-4377-854f-efb387a8ea9a",
   "metadata": {},
   "outputs": [
    {
     "data": {
      "text/plain": [
       "{'ramesh': '20', 'suresh': '30', 'satish': '40'}"
      ]
     },
     "execution_count": 81,
     "metadata": {},
     "output_type": "execute_result"
    }
   ],
   "source": [
    "d={'Ramesh':20,'Suresh':30,'Satish':40}\n",
    "keys=[i.lower() for i in list(d.keys())]\n",
    "values=[str(i) for i in list(d.values())]\n",
    "{key:value for key,value in zip(keys,values)}"
   ]
  },
  {
   "cell_type": "markdown",
   "id": "315928cb-e093-4953-bd68-0f6d8854602a",
   "metadata": {},
   "source": [
    "**get**"
   ]
  },
  {
   "cell_type": "code",
   "execution_count": 88,
   "id": "b8b997f8-5094-4155-aae6-2b6a6edaf482",
   "metadata": {},
   "outputs": [
    {
     "data": {
      "text/plain": [
       "<function dict.get(key, default=None, /)>"
      ]
     },
     "execution_count": 88,
     "metadata": {},
     "output_type": "execute_result"
    }
   ],
   "source": [
    "d={'Ramesh':20,'Suresh':30,'Satish':40}\n",
    "d.get"
   ]
  },
  {
   "cell_type": "code",
   "execution_count": 90,
   "id": "a64d1140-2184-4f6d-aa06-a37be5ca4f01",
   "metadata": {},
   "outputs": [
    {
     "data": {
      "text/plain": [
       "20"
      ]
     },
     "execution_count": 90,
     "metadata": {},
     "output_type": "execute_result"
    }
   ],
   "source": [
    "d={'Ramesh':20,'Suresh':30,'Satish':40}\n",
    "d.get('Ramesh')   # ans"
   ]
  },
  {
   "cell_type": "code",
   "execution_count": 92,
   "id": "b6973ede-87d6-4c74-bf9e-b803225ab355",
   "metadata": {},
   "outputs": [],
   "source": [
    "d.get('Ram')   # result will ne none, no answer, no error"
   ]
  },
  {
   "cell_type": "code",
   "execution_count": 96,
   "id": "b361c238-23de-4d80-aa25-a8930546340f",
   "metadata": {},
   "outputs": [
    {
     "data": {
      "text/plain": [
       "20"
      ]
     },
     "execution_count": 96,
     "metadata": {},
     "output_type": "execute_result"
    }
   ],
   "source": [
    "d['Ramesh']   # norway way-ans"
   ]
  },
  {
   "cell_type": "code",
   "execution_count": 98,
   "id": "39b7583a-528b-4780-be3e-632fc04e8691",
   "metadata": {},
   "outputs": [
    {
     "ename": "KeyError",
     "evalue": "'Ram'",
     "output_type": "error",
     "traceback": [
      "\u001b[1;31m---------------------------------------------------------------------------\u001b[0m",
      "\u001b[1;31mKeyError\u001b[0m                                  Traceback (most recent call last)",
      "Cell \u001b[1;32mIn[98], line 1\u001b[0m\n\u001b[1;32m----> 1\u001b[0m d[\u001b[38;5;124m'\u001b[39m\u001b[38;5;124mRam\u001b[39m\u001b[38;5;124m'\u001b[39m]\n",
      "\u001b[1;31mKeyError\u001b[0m: 'Ram'"
     ]
    }
   ],
   "source": [
    "d['Ram']    # error"
   ]
  },
  {
   "cell_type": "markdown",
   "id": "a7682297-8d97-41e0-8fa0-ba47db255a79",
   "metadata": {},
   "source": [
    "**update**"
   ]
  },
  {
   "cell_type": "code",
   "execution_count": 101,
   "id": "5f0771e2-b02d-44f9-add3-dcfaa0655a82",
   "metadata": {},
   "outputs": [],
   "source": [
    "d={'Ramesh':20,'Suresh':30,'Satish':40}\n",
    "d1={'Fruites':'Apple'}\n",
    "d.update(d1)"
   ]
  },
  {
   "cell_type": "code",
   "execution_count": 105,
   "id": "9a77042d-f6e4-48af-af79-796990c93bcd",
   "metadata": {},
   "outputs": [
    {
     "data": {
      "text/plain": [
       "{'Ramesh': 20, 'Suresh': 30, 'Satish': 40, 'Fruites': 'Apple'}"
      ]
     },
     "execution_count": 105,
     "metadata": {},
     "output_type": "execute_result"
    }
   ],
   "source": [
    "d   # d1 got append/addon in d"
   ]
  },
  {
   "cell_type": "code",
   "execution_count": 107,
   "id": "6e1d26dd-34c4-48dc-a05a-fd0490de1657",
   "metadata": {},
   "outputs": [
    {
     "data": {
      "text/plain": [
       "{'Ramesh': 20, 'Suresh': 30, 'Satish': 40, 'Fruites': 'Apple', 'Apple': 200}"
      ]
     },
     "execution_count": 107,
     "metadata": {},
     "output_type": "execute_result"
    }
   ],
   "source": [
    "d.update(Apple=200)\n",
    "d"
   ]
  },
  {
   "cell_type": "code",
   "execution_count": 109,
   "id": "f2ae9c6b-0bd6-4cf3-9f2d-36bbd3c75d8f",
   "metadata": {},
   "outputs": [
    {
     "ename": "TypeError",
     "evalue": "cannot convert dictionary update sequence element #0 to a sequence",
     "output_type": "error",
     "traceback": [
      "\u001b[1;31m---------------------------------------------------------------------------\u001b[0m",
      "\u001b[1;31mTypeError\u001b[0m                                 Traceback (most recent call last)",
      "Cell \u001b[1;32mIn[109], line 1\u001b[0m\n\u001b[1;32m----> 1\u001b[0m d\u001b[38;5;241m.\u001b[39mupdate([\u001b[38;5;241m200\u001b[39m,\u001b[38;5;124m'\u001b[39m\u001b[38;5;124mMarks\u001b[39m\u001b[38;5;124m'\u001b[39m])\n",
      "\u001b[1;31mTypeError\u001b[0m: cannot convert dictionary update sequence element #0 to a sequence"
     ]
    }
   ],
   "source": [
    "d.update([200,'Marks'])"
   ]
  },
  {
   "cell_type": "code",
   "execution_count": 119,
   "id": "77544553-e019-4301-af14-c2f0ff0c5e6d",
   "metadata": {},
   "outputs": [
    {
     "data": {
      "text/plain": [
       "{'Ramesh': 20,\n",
       " 'Suresh': 30,\n",
       " 'Satish': 40,\n",
       " 'Fruites': 'Apple',\n",
       " 'Apple': 200,\n",
       " 200: 'marks'}"
      ]
     },
     "execution_count": 119,
     "metadata": {},
     "output_type": "execute_result"
    }
   ],
   "source": [
    "t=(200,'marks')\n",
    "l=[t]\n",
    "d.update(l)\n",
    "d"
   ]
  },
  {
   "cell_type": "markdown",
   "id": "2818fda4-9483-4c50-a73a-2ae3d5ae8288",
   "metadata": {},
   "source": [
    "- concatenation of two dictionary fails\n",
    "\n",
    "- but we can combine two dictionaries using update method\n",
    "\n"
   ]
  },
  {
   "cell_type": "code",
   "execution_count": 122,
   "id": "71d33a27-dba6-469d-a94b-b2fb613c4c7a",
   "metadata": {},
   "outputs": [],
   "source": [
    "d={'Ramesh':20,'Suresh':30,'Satish':40}\n",
    "d1={'Fruites':'Apple'}\n",
    "d.update(d1)     # dict in dict  ----->    {'Ramesh': 20, 'Suresh': 30, 'Satish': 40, 'Fruites': 'Apple'}\n",
    "d.update(Apple=200)    # Ans ------>  {'Ramesh': 20, 'Suresh': 30, 'Satish': 40, 'Fruites': 'Apple', 'Apple': 200}\n",
    "d.update([(200,'marks')])    # ans ----->    {'Ramesh': 20,'Suresh': 30,'Satish': 40,'Fruites': 'Apple','Apple': 200, 200: 'marks'}"
   ]
  },
  {
   "cell_type": "code",
   "execution_count": 180,
   "id": "ff60396a-e2ed-467c-8bac-c667c7a14549",
   "metadata": {},
   "outputs": [
    {
     "data": {
      "text/plain": [
       "['__class__',\n",
       " '__class_getitem__',\n",
       " '__contains__',\n",
       " '__delattr__',\n",
       " '__delitem__',\n",
       " '__dir__',\n",
       " '__doc__',\n",
       " '__eq__',\n",
       " '__format__',\n",
       " '__ge__',\n",
       " '__getattribute__',\n",
       " '__getitem__',\n",
       " '__getstate__',\n",
       " '__gt__',\n",
       " '__hash__',\n",
       " '__init__',\n",
       " '__init_subclass__',\n",
       " '__ior__',\n",
       " '__iter__',\n",
       " '__le__',\n",
       " '__len__',\n",
       " '__lt__',\n",
       " '__ne__',\n",
       " '__new__',\n",
       " '__or__',\n",
       " '__reduce__',\n",
       " '__reduce_ex__',\n",
       " '__repr__',\n",
       " '__reversed__',\n",
       " '__ror__',\n",
       " '__setattr__',\n",
       " '__setitem__',\n",
       " '__sizeof__',\n",
       " '__str__',\n",
       " '__subclasshook__',\n",
       " 'clear',\n",
       " 'copy',\n",
       " 'fromkeys',\n",
       " 'get',\n",
       " 'items',\n",
       " 'keys',\n",
       " 'pop',\n",
       " 'popitem',\n",
       " 'setdefault',\n",
       " 'update',\n",
       " 'values']"
      ]
     },
     "execution_count": 180,
     "metadata": {},
     "output_type": "execute_result"
    }
   ],
   "source": [
    "dir({})     # dir of dictionary {}"
   ]
  },
  {
   "cell_type": "markdown",
   "id": "62f116c3-498d-4ac8-bc24-1ffebfd619b9",
   "metadata": {},
   "source": [
    "**pop-popitem**"
   ]
  },
  {
   "cell_type": "code",
   "execution_count": 125,
   "id": "78728bfb-228d-43a9-8526-8a76eb4807e0",
   "metadata": {},
   "outputs": [
    {
     "data": {
      "text/plain": [
       "20"
      ]
     },
     "execution_count": 125,
     "metadata": {},
     "output_type": "execute_result"
    }
   ],
   "source": [
    "d={'Ramesh':20,'Suresh':30,'Satish':40}\n",
    "d.pop('Ramesh')     # key"
   ]
  },
  {
   "cell_type": "code",
   "execution_count": 127,
   "id": "560ab0a4-6580-4cb5-82dd-e25527e7c996",
   "metadata": {},
   "outputs": [
    {
     "data": {
      "text/plain": [
       "{'Suresh': 30, 'Satish': 40}"
      ]
     },
     "execution_count": 127,
     "metadata": {},
     "output_type": "execute_result"
    }
   ],
   "source": [
    "d"
   ]
  },
  {
   "cell_type": "code",
   "execution_count": 129,
   "id": "a2910e9f-55ba-4667-8ffd-d3eb3761b7ba",
   "metadata": {},
   "outputs": [
    {
     "ename": "KeyError",
     "evalue": "'r'",
     "output_type": "error",
     "traceback": [
      "\u001b[1;31m---------------------------------------------------------------------------\u001b[0m",
      "\u001b[1;31mKeyError\u001b[0m                                  Traceback (most recent call last)",
      "Cell \u001b[1;32mIn[129], line 2\u001b[0m\n\u001b[0;32m      1\u001b[0m d\u001b[38;5;241m=\u001b[39m{\u001b[38;5;124m'\u001b[39m\u001b[38;5;124mRamesh\u001b[39m\u001b[38;5;124m'\u001b[39m:\u001b[38;5;241m20\u001b[39m,\u001b[38;5;124m'\u001b[39m\u001b[38;5;124mSuresh\u001b[39m\u001b[38;5;124m'\u001b[39m:\u001b[38;5;241m30\u001b[39m,\u001b[38;5;124m'\u001b[39m\u001b[38;5;124mSatish\u001b[39m\u001b[38;5;124m'\u001b[39m:\u001b[38;5;241m40\u001b[39m}\n\u001b[1;32m----> 2\u001b[0m d\u001b[38;5;241m.\u001b[39mpop(\u001b[38;5;124m'\u001b[39m\u001b[38;5;124mr\u001b[39m\u001b[38;5;124m'\u001b[39m)\n",
      "\u001b[1;31mKeyError\u001b[0m: 'r'"
     ]
    }
   ],
   "source": [
    "d={'Ramesh':20,'Suresh':30,'Satish':40}\n",
    "d.pop('r')"
   ]
  },
  {
   "cell_type": "code",
   "execution_count": 133,
   "id": "0d3e23db-4f9a-4f8d-b374-554972ccf740",
   "metadata": {},
   "outputs": [
    {
     "data": {
      "text/plain": [
       "333"
      ]
     },
     "execution_count": 133,
     "metadata": {},
     "output_type": "execute_result"
    }
   ],
   "source": [
    "l=[100,200,333,444]\n",
    "l.pop(2)   # index\n",
    "\n"
   ]
  },
  {
   "cell_type": "code",
   "execution_count": 135,
   "id": "f82aec28-0095-4392-ad80-f9255f0fced7",
   "metadata": {},
   "outputs": [],
   "source": [
    "l=[100,200,333,444]\n",
    "l.remove(333)"
   ]
  },
  {
   "cell_type": "code",
   "execution_count": 137,
   "id": "7c5d5ca0-38dc-4d28-b95f-3d26b8402a5e",
   "metadata": {},
   "outputs": [
    {
     "data": {
      "text/plain": [
       "('Satish', 40)"
      ]
     },
     "execution_count": 137,
     "metadata": {},
     "output_type": "execute_result"
    }
   ],
   "source": [
    "d={'Ramesh':20,'Suresh':30,'Satish':40}\n",
    "d.popitem()"
   ]
  },
  {
   "cell_type": "code",
   "execution_count": 139,
   "id": "8949fdee-c0fe-4d47-8dd7-655122a6ebea",
   "metadata": {},
   "outputs": [
    {
     "data": {
      "text/plain": [
       "{'Ramesh': 20, 'Suresh': 30}"
      ]
     },
     "execution_count": 139,
     "metadata": {},
     "output_type": "execute_result"
    }
   ],
   "source": [
    "d"
   ]
  },
  {
   "cell_type": "markdown",
   "id": "1ce7e0c7-cff4-4562-84aa-1a539e1a6ac7",
   "metadata": {},
   "source": [
    "- pop will expect a key, corresponding value will be removed\n",
    "\n",
    "    - pop will return the **value which is removing**\n",
    "\n",
    "- pop item  has no areguments, last key-value pair will be removed\n",
    "\n",
    "    - pop item return last **key-value pair**"
   ]
  },
  {
   "cell_type": "markdown",
   "id": "4261f204-1b6e-46e7-9dd2-1f06d5e2a7f1",
   "metadata": {},
   "source": [
    "**del**"
   ]
  },
  {
   "cell_type": "code",
   "execution_count": 147,
   "id": "0e22d69e-15c0-486b-8e9f-d6f9b47f16a6",
   "metadata": {},
   "outputs": [
    {
     "data": {
      "text/plain": [
       "[200, 333, 444]"
      ]
     },
     "execution_count": 147,
     "metadata": {},
     "output_type": "execute_result"
    }
   ],
   "source": [
    "l=[100,200,333,444]\n",
    "del l[0]\n",
    "l"
   ]
  },
  {
   "cell_type": "code",
   "execution_count": 149,
   "id": "9c3febda-5a7d-4135-af6a-313f275332d7",
   "metadata": {},
   "outputs": [
    {
     "ename": "NameError",
     "evalue": "name 'l' is not defined",
     "output_type": "error",
     "traceback": [
      "\u001b[1;31m---------------------------------------------------------------------------\u001b[0m",
      "\u001b[1;31mNameError\u001b[0m                                 Traceback (most recent call last)",
      "Cell \u001b[1;32mIn[149], line 3\u001b[0m\n\u001b[0;32m      1\u001b[0m l\u001b[38;5;241m=\u001b[39m[\u001b[38;5;241m100\u001b[39m,\u001b[38;5;241m200\u001b[39m,\u001b[38;5;241m333\u001b[39m,\u001b[38;5;241m444\u001b[39m]\n\u001b[0;32m      2\u001b[0m \u001b[38;5;28;01mdel\u001b[39;00m l\n\u001b[1;32m----> 3\u001b[0m l\n",
      "\u001b[1;31mNameError\u001b[0m: name 'l' is not defined"
     ]
    }
   ],
   "source": [
    "l=[100,200,333,444]\n",
    "del l   # l is gone here\n",
    "l"
   ]
  },
  {
   "cell_type": "code",
   "execution_count": 153,
   "id": "6e12f1c1-652f-4c05-afff-190ff32c360f",
   "metadata": {},
   "outputs": [
    {
     "data": {
      "text/plain": [
       "{'Suresh': 30, 'Satish': 40}"
      ]
     },
     "execution_count": 153,
     "metadata": {},
     "output_type": "execute_result"
    }
   ],
   "source": [
    "d={'Ramesh':20,'Suresh':30,'Satish':40}\n",
    "del d['Ramesh']\n",
    "d"
   ]
  },
  {
   "cell_type": "code",
   "execution_count": 155,
   "id": "9a6f600e-e913-4037-ba19-674468afca05",
   "metadata": {},
   "outputs": [
    {
     "ename": "NameError",
     "evalue": "name 'd' is not defined",
     "output_type": "error",
     "traceback": [
      "\u001b[1;31m---------------------------------------------------------------------------\u001b[0m",
      "\u001b[1;31mNameError\u001b[0m                                 Traceback (most recent call last)",
      "Cell \u001b[1;32mIn[155], line 3\u001b[0m\n\u001b[0;32m      1\u001b[0m d\u001b[38;5;241m=\u001b[39m{\u001b[38;5;124m'\u001b[39m\u001b[38;5;124mRamesh\u001b[39m\u001b[38;5;124m'\u001b[39m:\u001b[38;5;241m20\u001b[39m,\u001b[38;5;124m'\u001b[39m\u001b[38;5;124mSuresh\u001b[39m\u001b[38;5;124m'\u001b[39m:\u001b[38;5;241m30\u001b[39m,\u001b[38;5;124m'\u001b[39m\u001b[38;5;124mSatish\u001b[39m\u001b[38;5;124m'\u001b[39m:\u001b[38;5;241m40\u001b[39m}\n\u001b[0;32m      2\u001b[0m \u001b[38;5;28;01mdel\u001b[39;00m(d)\n\u001b[1;32m----> 3\u001b[0m d\n",
      "\u001b[1;31mNameError\u001b[0m: name 'd' is not defined"
     ]
    }
   ],
   "source": [
    "d={'Ramesh':20,'Suresh':30,'Satish':40}\n",
    "del(d)\n",
    "d"
   ]
  },
  {
   "cell_type": "markdown",
   "id": "f062d530-c9ae-4c21-91a9-308086f23fea",
   "metadata": {},
   "source": [
    "**ASSIGNMENT**\n",
    "\n",
    "- count in strings also in list\n",
    "\n",
    "- index in strings also in list\n",
    "\n",
    "- find in strings but not in list\n",
    "\n",
    "- pop in list also in dictionary\n",
    "\n",
    "- remove in list but in dictionary pop item\n",
    "\n",
    "- concatenation in list ====== extend in list\n",
    "\n",
    "- access value using key in dict ===== get method\n",
    "\n",
    "- del for list and dictionary \n",
    "\n",
    "- sorted and reversed for all data types\n",
    "\n",
    "- strings to list\n",
    "\n",
    "- list to strings\n",
    "\n",
    "- list to dictionary\n",
    "\n",
    "- dictionary to list"
   ]
  },
  {
   "cell_type": "code",
   "execution_count": null,
   "id": "ef1970b6-731b-422d-8a71-a8dba456f2e8",
   "metadata": {},
   "outputs": [],
   "source": []
  }
 ],
 "metadata": {
  "kernelspec": {
   "display_name": "Python 3 (ipykernel)",
   "language": "python",
   "name": "python3"
  },
  "language_info": {
   "codemirror_mode": {
    "name": "ipython",
    "version": 3
   },
   "file_extension": ".py",
   "mimetype": "text/x-python",
   "name": "python",
   "nbconvert_exporter": "python",
   "pygments_lexer": "ipython3",
   "version": "3.12.4"
  }
 },
 "nbformat": 4,
 "nbformat_minor": 5
}
