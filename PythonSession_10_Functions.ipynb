{
 "cells": [
  {
   "cell_type": "code",
   "execution_count": null,
   "id": "70f3d7b8-480e-4eb5-a754-f187df6cc171",
   "metadata": {},
   "outputs": [],
   "source": [
    "**What we are done with**\n",
    "\n",
    "- variable\n",
    "-eval(For math thing) and input\n",
    "- condition statements\n",
    "- try except"
   ]
  },
  {
   "cell_type": "markdown",
   "id": "dc2eb2a9-a5f6-4231-aad9-f09ba9955190",
   "metadata": {},
   "source": [
    "**Functions or Methods**\n",
    "\n",
    "- reuse of the code"
   ]
  },
  {
   "cell_type": "markdown",
   "id": "05d11df2-e00a-4584-aabd-decb279d651c",
   "metadata": {},
   "source": [
    "**Types of Functions**\n",
    "\n",
    "- Functions without Arguments\n",
    "- Functions with Arguments\n",
    "- Functions with default Arguments\n",
    "- Global variable vs Local Variable\n",
    "- Functions with return statement\n",
    "- Functions with kwargs\n",
    "- Functions with Functions\n",
    "\n",
    "**SYNTAX**\n",
    "- def <Function-name>():\n",
    "-   <write the code here>"
   ]
  },
  {
   "cell_type": "markdown",
   "id": "5e734eae-a98d-4e28-94c8-ebffba42e242",
   "metadata": {},
   "source": [
    "**Functions without Arguments**\n",
    "\n",
    "- The function we defined doesnot have any values or variables\n",
    "- These also called as arguments or parameters\n",
    "- simply it is a empty bracket"
   ]
  },
  {
   "cell_type": "code",
   "execution_count": 1,
   "id": "4504e66e-c980-4cb4-be35-fe8351453f8a",
   "metadata": {},
   "outputs": [
    {
     "name": "stdin",
     "output_type": "stream",
     "text": [
      "Enter the number 4\n",
      "Enter the number2 5\n"
     ]
    },
    {
     "name": "stdout",
     "output_type": "stream",
     "text": [
      "the add if 4 and 5 is 9\n"
     ]
    }
   ],
   "source": [
    "n1=eval(input('Enter the number'))\n",
    "n2=eval(input('Enter the number2'))\n",
    "add=n1+n2\n",
    "print(f'the add if {n1} and {n2} is {add}')"
   ]
  },
  {
   "cell_type": "code",
   "execution_count": 107,
   "id": "a33b5fb5-6b7f-44fa-a7cc-f4df7ae3b487",
   "metadata": {},
   "outputs": [],
   "source": [
    "\n",
    "def add():\n",
    "    n1=eval(input('Enter the number1'))\n",
    "    n2=eval(input('Enter the number2'))\n",
    "    add=n1+n2\n",
    "    print(f'the add of {n1} and {n2} is {add}') "
   ]
  },
  {
   "cell_type": "code",
   "execution_count": 47,
   "id": "2ed38aa8-b96c-49f4-a35d-54f090c16f1e",
   "metadata": {},
   "outputs": [
    {
     "name": "stdin",
     "output_type": "stream",
     "text": [
      "Enter the number 8\n",
      "Enter the number2 9\n"
     ]
    },
    {
     "name": "stdout",
     "output_type": "stream",
     "text": [
      "the add if 8 and 9 is 17\n"
     ]
    }
   ],
   "source": [
    "# Function is ready\n",
    "# creating function means it will not give the answer\n",
    "# you need to call the function\n",
    "\n",
    "add()\n"
   ]
  },
  {
   "cell_type": "markdown",
   "id": "3faeb7af-ca64-48f3-8bdc-ea65617974bb",
   "metadata": {},
   "source": [
    "**Notes**\n",
    "\n",
    "- While calling the function, we need to call the function name\n",
    "- also we need to provide the brackets\n",
    "- in python, brackets indicates that it is function or method\n",
    "- if we miss the bracket, then it will give the error message\n",
    "    - function\n",
    "    - bound method\n",
    "- Once we create the function, we can use anywhere in the same notebook only\n",
    "- if you want to use in different notebook then\n",
    "- we need to create as Package(OOPs)"
   ]
  },
  {
   "cell_type": "code",
   "execution_count": 15,
   "id": "583c7c5d-e780-4e3a-8624-1f92c7c71335",
   "metadata": {},
   "outputs": [],
   "source": [
    "a=10"
   ]
  },
  {
   "cell_type": "code",
   "execution_count": 17,
   "id": "0dd8df71-a8cf-4b01-8163-ba6c2c952969",
   "metadata": {},
   "outputs": [],
   "source": [
    "name='python'"
   ]
  },
  {
   "cell_type": "code",
   "execution_count": 19,
   "id": "ddfb4238-6af5-408d-b873-b9341fd48914",
   "metadata": {},
   "outputs": [
    {
     "name": "stdin",
     "output_type": "stream",
     "text": [
      "Enter the number 8\n",
      "Enter the number2 6\n"
     ]
    },
    {
     "name": "stdout",
     "output_type": "stream",
     "text": [
      "the add if 8 and 6 is 14\n"
     ]
    }
   ],
   "source": [
    "add()"
   ]
  },
  {
   "cell_type": "code",
   "execution_count": 103,
   "id": "c6e4dfb3-7e48-410b-b3e2-f75887219e19",
   "metadata": {},
   "outputs": [
    {
     "ename": "NameError",
     "evalue": "name 'add1' is not defined",
     "output_type": "error",
     "traceback": [
      "\u001b[1;31m---------------------------------------------------------------------------\u001b[0m",
      "\u001b[1;31mNameError\u001b[0m                                 Traceback (most recent call last)",
      "Cell \u001b[1;32mIn[103], line 1\u001b[0m\n\u001b[1;32m----> 1\u001b[0m add1()\n\u001b[0;32m      2\u001b[0m \u001b[38;5;28;01mdef\u001b[39;00m \u001b[38;5;21madd\u001b[39m():\n\u001b[0;32m      3\u001b[0m     n1\u001b[38;5;241m=\u001b[39m\u001b[38;5;28meval\u001b[39m(\u001b[38;5;28minput\u001b[39m(\u001b[38;5;124m'\u001b[39m\u001b[38;5;124mEnter the number\u001b[39m\u001b[38;5;124m'\u001b[39m))\n",
      "\u001b[1;31mNameError\u001b[0m: name 'add1' is not defined"
     ]
    }
   ],
   "source": [
    "add1()\n",
    "def add():\n",
    "    n1=eval(input('Enter the number'))\n",
    "    n2=eval(input('Enter the number2'))\n",
    "    add=n1+n2\n",
    "    print(f'the add of {n1} and {n2} is {add}') "
   ]
  },
  {
   "cell_type": "code",
   "execution_count": 33,
   "id": "cd3eb709-ff81-4276-a2ef-39804b6021ca",
   "metadata": {},
   "outputs": [],
   "source": [
    "def tip():\n",
    "    m_price=eval(input(\"Customer: Price of the meal please:\"))\n",
    "    t_percent=eval(input(\"Owner: Please let me know the percent tip which you want to give:\"))\n",
    "    t_amount=m_price*t_percent/100\n",
    "    t_amount1=round(t_amount,2)\n",
    "    t_bill=m_price+t_amount1\n",
    "    print(f'tip amount is:{t_amount1}')\n",
    "    print(f'total bill amount is: {t_bill}')"
   ]
  },
  {
   "cell_type": "code",
   "execution_count": 35,
   "id": "5dfdd828-48ba-4f91-b418-ab0664afa475",
   "metadata": {},
   "outputs": [
    {
     "name": "stdin",
     "output_type": "stream",
     "text": [
      "Customer: Price of the meal please: 890\n",
      "Owner: Please let me know the percent tip which you want to give: 20\n"
     ]
    },
    {
     "name": "stdout",
     "output_type": "stream",
     "text": [
      "tip amount is:178.0\n",
      "total bill amount is: 1068.0\n"
     ]
    }
   ],
   "source": [
    "tip()"
   ]
  },
  {
   "cell_type": "code",
   "execution_count": 37,
   "id": "0079eba8-19d4-4997-9aaf-769391453818",
   "metadata": {},
   "outputs": [],
   "source": [
    "def average():\n",
    "    n1=eval(input(\"Enter First Number:\"))\n",
    "    n2=eval(input(\"Enter Second Number:\"))\n",
    "    n3=eval(input(\"Enter third Number:\"))\n",
    "    total= n1+n2+n3\n",
    "    avg=(n1+n2+n3)/3\n",
    "    avg1=round(avg,2)\n",
    "    print(f'Sum of {n1} {n2} {n3} is {total}')\n",
    "    print(f'Average of {n1} {n2} {n3} is {avg1}')\n"
   ]
  },
  {
   "cell_type": "code",
   "execution_count": 39,
   "id": "3af26193-bb0e-4922-a31d-8b0e816cf14d",
   "metadata": {},
   "outputs": [
    {
     "name": "stdin",
     "output_type": "stream",
     "text": [
      "Enter First Number: 67\n",
      "Enter Second Number: 78\n",
      "Enter third Number: 89\n"
     ]
    },
    {
     "name": "stdout",
     "output_type": "stream",
     "text": [
      "Sum of 67 78 89 is 234\n",
      "Average of 67 78 89 is 78.0\n"
     ]
    }
   ],
   "source": [
    "average()\n"
   ]
  },
  {
   "cell_type": "code",
   "execution_count": 43,
   "id": "4e41230b-1a8a-41c5-af5d-1f701b8087b6",
   "metadata": {},
   "outputs": [],
   "source": [
    "import math\n",
    "def area_of_circle():\n",
    "    r= eval(input(\"Enter the radius of circle:\"))\n",
    "    area=round((math.pi*r*r),2)\n",
    "    print(f'area of circle is {area}')"
   ]
  },
  {
   "cell_type": "code",
   "execution_count": 45,
   "id": "3a2cec4c-1577-4ee8-b81a-ce6ec0f96073",
   "metadata": {},
   "outputs": [
    {
     "name": "stdin",
     "output_type": "stream",
     "text": [
      "Enter the radius of circle: 7\n"
     ]
    },
    {
     "name": "stdout",
     "output_type": "stream",
     "text": [
      "area of circle is 153.94\n"
     ]
    }
   ],
   "source": [
    "area_of_circle()"
   ]
  },
  {
   "cell_type": "code",
   "execution_count": 109,
   "id": "ecb3974c-9686-4f46-bacf-f428123d2acb",
   "metadata": {},
   "outputs": [],
   "source": [
    "\n",
    "def sub():\n",
    "    n1=eval(input('Enter the number'))\n",
    "    n2=eval(input('Enter the number2'))\n",
    "    sub=n1-n2\n",
    "    print(f'the sub of {n1} and {n2} is {sub}') "
   ]
  },
  {
   "cell_type": "code",
   "execution_count": 75,
   "id": "bb3a60d4-df2c-4751-9fd9-7fe5efd8c0ab",
   "metadata": {},
   "outputs": [
    {
     "name": "stdin",
     "output_type": "stream",
     "text": [
      "Enter First Number: 9\n",
      "Enter Second Number: 8\n",
      "Enter third Number: 5\n"
     ]
    },
    {
     "name": "stdout",
     "output_type": "stream",
     "text": [
      "Sum of 9 8 5 is 22\n",
      "Average of 9 8 5 is 7.33\n"
     ]
    }
   ],
   "source": [
    "try:\n",
    "    n1=eval(input(\"Enter First Number:\"))\n",
    "    n2=eval(input(\"Enter Second Number:\"))\n",
    "    n3=eval(input(\"Enter third Number:\"))\n",
    "    total= n1+n2+n3\n",
    "    avg=(n1+n2+n3)/3\n",
    "    avg1=round(avg,2)\n",
    "    print(f'Sum of {n1} {n2} {n3} is {total}')\n",
    "    print(f'Average of {n1} {n2} {n3} is {avg1}')\n",
    "except Exception as e:\n",
    "    print(e)"
   ]
  },
  {
   "cell_type": "code",
   "execution_count": 81,
   "id": "fd75afb3-4d39-4116-9320-e4ae664a89e3",
   "metadata": {},
   "outputs": [],
   "source": [
    "def AVERAGE():\n",
    "    try:\n",
    "        n1=eval(input(\"Enter First Number:\"))\n",
    "        n2=eval(input(\"Enter Second Number:\"))\n",
    "        n3=eval(input(\"Enter third Number:\"))\n",
    "        total= n1+n2+n3\n",
    "        avg=(n1+n2+n38888)/3\n",
    "        avg1=round(avg,2)\n",
    "        print(f'Sum of {n1} {n2} {n3} is {total}')\n",
    "        print(f'Average of {n1} {n2} {n3} is {avg1}')\n",
    "    except Exception as e:\n",
    "        print(e)"
   ]
  },
  {
   "cell_type": "code",
   "execution_count": 83,
   "id": "2b1ded2d-b711-42af-b872-297d0c4a732b",
   "metadata": {},
   "outputs": [
    {
     "name": "stdin",
     "output_type": "stream",
     "text": [
      "Enter First Number: 8\n",
      "Enter Second Number: 9\n",
      "Enter third Number: 4\n"
     ]
    },
    {
     "name": "stdout",
     "output_type": "stream",
     "text": [
      "name 'n38888' is not defined\n"
     ]
    }
   ],
   "source": [
    "AVERAGE()"
   ]
  },
  {
   "cell_type": "code",
   "execution_count": 85,
   "id": "668f7047-a51e-4287-9450-e2733c1ac4bd",
   "metadata": {},
   "outputs": [
    {
     "name": "stdin",
     "output_type": "stream",
     "text": [
      "Enter First Number: 7\n",
      "Enter Second Number: 8\n",
      "Enter third Number: 8\n"
     ]
    },
    {
     "ename": "NameError",
     "evalue": "name 'n38888' is not defined",
     "output_type": "error",
     "traceback": [
      "\u001b[1;31m---------------------------------------------------------------------------\u001b[0m",
      "\u001b[1;31mNameError\u001b[0m                                 Traceback (most recent call last)",
      "Cell \u001b[1;32mIn[85], line 14\u001b[0m\n\u001b[0;32m     11\u001b[0m \u001b[38;5;28;01mexcept\u001b[39;00m \u001b[38;5;167;01mException\u001b[39;00m \u001b[38;5;28;01mas\u001b[39;00m e:\n\u001b[0;32m     12\u001b[0m     \u001b[38;5;28mprint\u001b[39m(e)\n\u001b[1;32m---> 14\u001b[0m AVERAGE1()\n",
      "Cell \u001b[1;32mIn[85], line 7\u001b[0m, in \u001b[0;36mAVERAGE1\u001b[1;34m()\u001b[0m\n\u001b[0;32m      5\u001b[0m n3\u001b[38;5;241m=\u001b[39m\u001b[38;5;28meval\u001b[39m(\u001b[38;5;28minput\u001b[39m(\u001b[38;5;124m\"\u001b[39m\u001b[38;5;124mEnter third Number:\u001b[39m\u001b[38;5;124m\"\u001b[39m))\n\u001b[0;32m      6\u001b[0m total\u001b[38;5;241m=\u001b[39m n1\u001b[38;5;241m+\u001b[39mn2\u001b[38;5;241m+\u001b[39mn3\n\u001b[1;32m----> 7\u001b[0m avg\u001b[38;5;241m=\u001b[39m(n1\u001b[38;5;241m+\u001b[39mn2\u001b[38;5;241m+\u001b[39mn38888)\u001b[38;5;241m/\u001b[39m\u001b[38;5;241m3\u001b[39m\n\u001b[0;32m      8\u001b[0m avg1\u001b[38;5;241m=\u001b[39m\u001b[38;5;28mround\u001b[39m(avg,\u001b[38;5;241m2\u001b[39m)\n\u001b[0;32m      9\u001b[0m \u001b[38;5;28mprint\u001b[39m(\u001b[38;5;124mf\u001b[39m\u001b[38;5;124m'\u001b[39m\u001b[38;5;124mSum of \u001b[39m\u001b[38;5;132;01m{\u001b[39;00mn1\u001b[38;5;132;01m}\u001b[39;00m\u001b[38;5;124m \u001b[39m\u001b[38;5;132;01m{\u001b[39;00mn2\u001b[38;5;132;01m}\u001b[39;00m\u001b[38;5;124m \u001b[39m\u001b[38;5;132;01m{\u001b[39;00mn3\u001b[38;5;132;01m}\u001b[39;00m\u001b[38;5;124m is \u001b[39m\u001b[38;5;132;01m{\u001b[39;00mtotal\u001b[38;5;132;01m}\u001b[39;00m\u001b[38;5;124m'\u001b[39m)\n",
      "\u001b[1;31mNameError\u001b[0m: name 'n38888' is not defined"
     ]
    }
   ],
   "source": [
    "try:\n",
    "    def AVERAGE1():\n",
    "        n1=eval(input(\"Enter First Number:\"))\n",
    "        n2=eval(input(\"Enter Second Number:\"))\n",
    "        n3=eval(input(\"Enter third Number:\"))\n",
    "        total= n1+n2+n3\n",
    "        avg=(n1+n2+n38888)/3\n",
    "        avg1=round(avg,2)\n",
    "        print(f'Sum of {n1} {n2} {n3} is {total}')\n",
    "        print(f'Average of {n1} {n2} {n3} is {avg1}')\n",
    "except Exception as e:\n",
    "    print(e)\n",
    "\n",
    "AVERAGE1()"
   ]
  },
  {
   "cell_type": "code",
   "execution_count": 87,
   "id": "daf2a11b-8ed6-41cb-b31a-fa54471a331c",
   "metadata": {},
   "outputs": [
    {
     "name": "stdin",
     "output_type": "stream",
     "text": [
      "Enter First Number: 8\n",
      "Enter Second Number: 9\n",
      "Enter third Number: 7\n"
     ]
    },
    {
     "name": "stdout",
     "output_type": "stream",
     "text": [
      "Sum of 8 9 7 is 24\n",
      "Average of 8 9 7 is 8.0\n"
     ]
    }
   ],
   "source": [
    "try:\n",
    "    def AVERAGE2():\n",
    "        n1=eval(input(\"Enter First Number:\"))\n",
    "        n2=eval(input(\"Enter Second Number:\"))\n",
    "        n3=eval(input(\"Enter third Number:\"))\n",
    "        total= n1+n2+n3\n",
    "        avg=(n1+n2+n3)/3\n",
    "        avg1=round(avg,2)\n",
    "        print(f'Sum of {n1} {n2} {n3} is {total}')\n",
    "        print(f'Average of {n1} {n2} {n3} is {avg1}')\n",
    "except Exception as e:\n",
    "    print(e)\n",
    "\n",
    "AVERAGE2()"
   ]
  },
  {
   "cell_type": "markdown",
   "id": "08fcce75-8b32-4619-8238-3c81c30c6ec5",
   "metadata": {},
   "source": [
    "**NOTE**\n",
    "\n",
    "- always try and except apply for only on code\n",
    "- Not for Function\n",
    "- Inside the function write **try-except**"
   ]
  },
  {
   "cell_type": "code",
   "execution_count": 97,
   "id": "8cbd2925-c3fb-4fd7-bb21-5dfeb6e8b421",
   "metadata": {},
   "outputs": [
    {
     "name": "stdin",
     "output_type": "stream",
     "text": [
      "Enter the base: 8\n",
      "Enter the hight: 5\n"
     ]
    },
    {
     "name": "stdout",
     "output_type": "stream",
     "text": [
      "Area of triangle is 20.0\n"
     ]
    }
   ],
   "source": [
    "def area_of_triangle():\n",
    "    b=eval(input(\"Enter the base:\"))\n",
    "    h=eval(input(\"Enter the hight:\"))\n",
    "    area=round((0.5*b*h),2)\n",
    "    print(f'Area of triangle is {area}')\n",
    "\n",
    "area_of_triangle()\n"
   ]
  },
  {
   "cell_type": "code",
   "execution_count": 115,
   "id": "353742b9-aa66-4e51-aef4-f2e7dc18daf1",
   "metadata": {},
   "outputs": [
    {
     "name": "stdout",
     "output_type": "stream",
     "text": [
      "Bill Amount with Tip function will start\n"
     ]
    },
    {
     "name": "stdin",
     "output_type": "stream",
     "text": [
      "Customer: Price of the meal please: 1000\n",
      "Owner: Please let me know the percent tip which you want to give: 9\n"
     ]
    },
    {
     "name": "stdout",
     "output_type": "stream",
     "text": [
      "tip amount is:90.0\n",
      "total bill amount is: 1090.0\n",
      "Average function will start\n"
     ]
    },
    {
     "name": "stdin",
     "output_type": "stream",
     "text": [
      "Enter First Number: 9\n",
      "Enter Second Number: 8\n",
      "Enter third Number: 7\n"
     ]
    },
    {
     "name": "stdout",
     "output_type": "stream",
     "text": [
      "Sum of 9 8 7 is 24\n",
      "Average of 9 8 7 is 8.0\n",
      "Area of Circle function will start\n"
     ]
    },
    {
     "name": "stdin",
     "output_type": "stream",
     "text": [
      "Enter the radius of circle: 8\n"
     ]
    },
    {
     "name": "stdout",
     "output_type": "stream",
     "text": [
      "area of circle is 201.06\n",
      "Subtraction function will start\n"
     ]
    },
    {
     "name": "stdin",
     "output_type": "stream",
     "text": [
      "Enter the number 8\n",
      "Enter the number2 5\n"
     ]
    },
    {
     "name": "stdout",
     "output_type": "stream",
     "text": [
      "the sub of 8 and 5 is 3\n",
      "Addition function will start\n"
     ]
    },
    {
     "name": "stdin",
     "output_type": "stream",
     "text": [
      "Enter the number1 9\n",
      "Enter the number2 3\n"
     ]
    },
    {
     "name": "stdout",
     "output_type": "stream",
     "text": [
      "the add of 9 and 3 is 12\n",
      "Area of Triangle function will start\n"
     ]
    },
    {
     "name": "stdin",
     "output_type": "stream",
     "text": [
      "Enter the base: 7\n",
      "Enter the hight: 4\n"
     ]
    },
    {
     "name": "stdout",
     "output_type": "stream",
     "text": [
      "Area of triangle is 14.0\n"
     ]
    }
   ],
   "source": [
    "import time\n",
    "print('Bill Amount with Tip function will start')\n",
    "tip()\n",
    "time.sleep(2)\n",
    "print('Average function will start')\n",
    "average()\n",
    "time.sleep(2)\n",
    "print('Area of Circle function will start')\n",
    "area_of_circle()\n",
    "time.sleep(2)\n",
    "print('Subtraction function will start')\n",
    "sub()\n",
    "time.sleep(2)\n",
    "print('Addition function will start')\n",
    "add()\n",
    "time.sleep(2)\n",
    "print('Area of Triangle function will start')\n",
    "area_of_triangle()"
   ]
  },
  {
   "cell_type": "markdown",
   "id": "fbb63b0d-3db9-472d-a40e-ae9476b760fd",
   "metadata": {},
   "source": [
    "**NOTE**\n",
    "\n",
    "- when we definr the function, it will not give any error or any answer\n",
    "- if you want to see any error in code, then\n",
    "- we need to call the function"
   ]
  },
  {
   "cell_type": "code",
   "execution_count": null,
   "id": "c9a4f932-adeb-4307-85c5-80f9c5efa4e0",
   "metadata": {},
   "outputs": [],
   "source": []
  }
 ],
 "metadata": {
  "kernelspec": {
   "display_name": "Python 3 (ipykernel)",
   "language": "python",
   "name": "python3"
  },
  "language_info": {
   "codemirror_mode": {
    "name": "ipython",
    "version": 3
   },
   "file_extension": ".py",
   "mimetype": "text/x-python",
   "name": "python",
   "nbconvert_exporter": "python",
   "pygments_lexer": "ipython3",
   "version": "3.12.4"
  }
 },
 "nbformat": 4,
 "nbformat_minor": 5
}
