{
 "cells": [
  {
   "cell_type": "code",
   "execution_count": 12,
   "id": "da3bc3ec-e330-4902-a67c-998a0f5821bf",
   "metadata": {},
   "outputs": [
    {
     "data": {
      "text/plain": [
       "str"
      ]
     },
     "execution_count": 12,
     "metadata": {},
     "output_type": "execute_result"
    }
   ],
   "source": [
    "import string\n",
    "str2='python'\n",
    "type(str2)"
   ]
  },
  {
   "cell_type": "markdown",
   "id": "904c4f12-ef56-4c89-ac46-f55611fc36b7",
   "metadata": {},
   "source": [
    "**doc string**"
   ]
  },
  {
   "cell_type": "code",
   "execution_count": 14,
   "id": "bd93104a-14f1-4bcc-b829-17388ff0f6b7",
   "metadata": {},
   "outputs": [
    {
     "name": "stdout",
     "output_type": "stream",
     "text": [
      "Hello python\n",
      "many students not coming to lab\n",
      "today come to there dreams\n"
     ]
    }
   ],
   "source": [
    "str3=\"\"\"Hello python\n",
    "many students not coming to lab\n",
    "today come to there dreams\"\"\"\n",
    "\n",
    "print(str3)"
   ]
  },
  {
   "cell_type": "code",
   "execution_count": 20,
   "id": "8243cd8e-9525-4c0f-855e-5a4419462be2",
   "metadata": {},
   "outputs": [
    {
     "data": {
      "text/plain": [
       "'I like \"python\"'"
      ]
     },
     "execution_count": 20,
     "metadata": {},
     "output_type": "execute_result"
    }
   ],
   "source": [
    "str4='I like \"python\"'\n",
    "str4"
   ]
  },
  {
   "cell_type": "code",
   "execution_count": 22,
   "id": "0ebda536-4b92-4e2b-86cb-4f3fa136c855",
   "metadata": {},
   "outputs": [
    {
     "name": "stdout",
     "output_type": "stream",
     "text": [
      "I like \"python\"\n"
     ]
    }
   ],
   "source": [
    "print(str4)"
   ]
  },
  {
   "cell_type": "markdown",
   "id": "b6d99bee-a8f7-4b68-863f-7cc7ed4d9257",
   "metadata": {},
   "source": [
    "**some in-builts functions**"
   ]
  },
  {
   "cell_type": "code",
   "execution_count": null,
   "id": "08472e08-c643-449d-9b86-f715302a1664",
   "metadata": {},
   "outputs": [],
   "source": [
    "max('python')\n",
    "min('python')\n",
    "len('python')\n",
    "print('python')\n",
    "type('python')\n",
    "reversed('python')\n",
    "sorted('python')\n"
   ]
  },
  {
   "cell_type": "code",
   "execution_count": 25,
   "id": "a1848dff-32cf-413a-951b-2fce2aa5711c",
   "metadata": {},
   "outputs": [
    {
     "data": {
      "text/plain": [
       "'y'"
      ]
     },
     "execution_count": 25,
     "metadata": {},
     "output_type": "execute_result"
    }
   ],
   "source": [
    "max('python')  #because of ASCII"
   ]
  },
  {
   "cell_type": "code",
   "execution_count": 27,
   "id": "8a97db91-52f1-4c76-9170-cdf3872c8385",
   "metadata": {},
   "outputs": [
    {
     "data": {
      "text/plain": [
       "'h'"
      ]
     },
     "execution_count": 27,
     "metadata": {},
     "output_type": "execute_result"
    }
   ],
   "source": [
    "min('python')      #because of ASCII"
   ]
  },
  {
   "cell_type": "code",
   "execution_count": 29,
   "id": "2ea60545-edfc-46a8-958b-61c7aae6e7eb",
   "metadata": {},
   "outputs": [
    {
     "data": {
      "text/plain": [
       "6"
      ]
     },
     "execution_count": 29,
     "metadata": {},
     "output_type": "execute_result"
    }
   ],
   "source": [
    "len('python')"
   ]
  },
  {
   "cell_type": "code",
   "execution_count": 31,
   "id": "4dc2df63-9e44-4de6-9a91-f362ce326514",
   "metadata": {},
   "outputs": [
    {
     "name": "stdout",
     "output_type": "stream",
     "text": [
      "python\n"
     ]
    }
   ],
   "source": [
    "print('python')"
   ]
  },
  {
   "cell_type": "code",
   "execution_count": 33,
   "id": "723ee6e2-5292-424d-8f36-2f43a7020532",
   "metadata": {},
   "outputs": [
    {
     "data": {
      "text/plain": [
       "str"
      ]
     },
     "execution_count": 33,
     "metadata": {},
     "output_type": "execute_result"
    }
   ],
   "source": [
    "type('python')"
   ]
  },
  {
   "cell_type": "code",
   "execution_count": 35,
   "id": "65cd415e-527c-4111-adc4-922e58185273",
   "metadata": {},
   "outputs": [
    {
     "data": {
      "text/plain": [
       "<reversed at 0x2096dd190f0>"
      ]
     },
     "execution_count": 35,
     "metadata": {},
     "output_type": "execute_result"
    }
   ],
   "source": [
    "reversed('python')"
   ]
  },
  {
   "cell_type": "code",
   "execution_count": 37,
   "id": "1d6b53c6-b00a-4896-af0e-a0b36b1665b1",
   "metadata": {},
   "outputs": [
    {
     "data": {
      "text/plain": [
       "['h', 'n', 'o', 'p', 't', 'y']"
      ]
     },
     "execution_count": 37,
     "metadata": {},
     "output_type": "execute_result"
    }
   ],
   "source": [
    "sorted('python')"
   ]
  },
  {
   "cell_type": "markdown",
   "id": "03912211-2b98-4c31-a3c2-8b8e4f7353c8",
   "metadata": {},
   "source": [
    "**NOTES**\n",
    "\n",
    "- when you apply the shift tab\n",
    "- there is some arguments will be available\n",
    "- Focus on two arguments\n",
    "    - iterable\n",
    "    - reverse=False\n",
    "- because reverse is a default argument by default ascending order is coming\n",
    "- if you want to change the order then change the default parameter value"
   ]
  },
  {
   "cell_type": "code",
   "execution_count": 1,
   "id": "2b60d1d9-0908-4661-9bab-5858d850e001",
   "metadata": {},
   "outputs": [
    {
     "ename": "TypeError",
     "evalue": "range expected at least 1 argument, got 0",
     "output_type": "error",
     "traceback": [
      "\u001b[1;31m---------------------------------------------------------------------------\u001b[0m",
      "\u001b[1;31mTypeError\u001b[0m                                 Traceback (most recent call last)",
      "Cell \u001b[1;32mIn[1], line 2\u001b[0m\n\u001b[0;32m      1\u001b[0m str1\u001b[38;5;241m=\u001b[39m\u001b[38;5;124m'\u001b[39m\u001b[38;5;124mpython \u001b[39m\u001b[38;5;124m'\u001b[39m\n\u001b[1;32m----> 2\u001b[0m \u001b[38;5;28;01mfor\u001b[39;00m i \u001b[38;5;129;01min\u001b[39;00m \u001b[38;5;28mrange\u001b[39m():\n\u001b[0;32m      3\u001b[0m     \u001b[38;5;28mprint\u001b[39m(i,\u001b[38;5;28mord\u001b[39m(i))\n",
      "\u001b[1;31mTypeError\u001b[0m: range expected at least 1 argument, got 0"
     ]
    }
   ],
   "source": [
    "str1='python '\n",
    "for i in range():\n",
    "    print(i,ord(i))"
   ]
  },
  {
   "cell_type": "markdown",
   "id": "a5e8ed2a-fa17-4abb-8212-da1bfba37714",
   "metadata": {},
   "source": [
    "**sorted**\n",
    "\n",
    "- Sorted means sortingn the letters based on ASCII number\n",
    "- there are two possible sortings available\n",
    "  - ascending: small to high\n",
    "  - descending: high to small"
   ]
  },
  {
   "cell_type": "code",
   "execution_count": 56,
   "id": "63b2f982-4731-4785-ad6c-4a4ef7caae28",
   "metadata": {},
   "outputs": [
    {
     "data": {
      "text/plain": [
       "['y', 't', 'p', 'o', 'n', 'h', ' ']"
      ]
     },
     "execution_count": 56,
     "metadata": {},
     "output_type": "execute_result"
    }
   ],
   "source": [
    "sorted(str1,reverse=True)"
   ]
  },
  {
   "cell_type": "code",
   "execution_count": null,
   "id": "44b7571a-927e-44b1-963e-0bc12b45a51d",
   "metadata": {},
   "outputs": [],
   "source": [
    "sorted(iterable=str1,reverse=False)  # Fail\n",
    "sorted(iterable=str1,False)      # Fail\n",
    "sorted(str1,False)               # Fail\n",
    "sorted(str1,reverse=True)       # Working"
   ]
  },
  {
   "cell_type": "markdown",
   "id": "4544baec-4d95-457a-a50c-5b76c47a7fa4",
   "metadata": {},
   "source": [
    "- we should not allowed to use iterable argument name while provide the value\n",
    "- we should use the argument names while provide the value after '/'\n",
    "- we should not use the argument names before '/'\n",
    "    - iterable argument name is there before '/'\n",
    "    - so do not iterable name\n",
    "\n",
    "\n"
   ]
  },
  {
   "cell_type": "markdown",
   "id": "3bfdeb67-9992-494d-bfb7-d64d378dd873",
   "metadata": {},
   "source": [
    "\n",
    "---------------------------------------------------------------------------------------------------------\n",
    "- any function indicates * means\n",
    "- you can use any variable after *\n",
    "- after * there are two arguments are there\n",
    "    - key\n",
    "    - reverse\n",
    "- you can use both\n",
    "- you can use anyone\n",
    "- you no need to use anything\n"
   ]
  },
  {
   "cell_type": "code",
   "execution_count": null,
   "id": "fe65cb21-5979-4294-b029-a9bccc09ea9b",
   "metadata": {},
   "outputs": [],
   "source": [
    "sorted('hello')   # works\n",
    "sorted(iterable='hello')       # Fails"
   ]
  },
  {
   "cell_type": "code",
   "execution_count": 64,
   "id": "47087793-b960-49e9-9dba-370dc88daced",
   "metadata": {},
   "outputs": [
    {
     "data": {
      "text/plain": [
       "['e', 'h', 'l', 'l', 'o']"
      ]
     },
     "execution_count": 64,
     "metadata": {},
     "output_type": "execute_result"
    }
   ],
   "source": [
    "sorted('hello')"
   ]
  },
  {
   "cell_type": "code",
   "execution_count": 66,
   "id": "7674dd0b-644a-483d-adf4-c18f7a5c82b1",
   "metadata": {},
   "outputs": [
    {
     "data": {
      "text/plain": [
       "['o', 'l', 'l', 'h', 'e']"
      ]
     },
     "execution_count": 66,
     "metadata": {},
     "output_type": "execute_result"
    }
   ],
   "source": [
    "sorted('hello',reverse=True)      #ASCII value it is giving the order"
   ]
  },
  {
   "cell_type": "code",
   "execution_count": 68,
   "id": "22a3e7a2-10d3-4c86-8297-4eddd2b52db4",
   "metadata": {},
   "outputs": [
    {
     "data": {
      "text/plain": [
       "['h', 'e', 'l', 'l', 'o']"
      ]
     },
     "execution_count": 68,
     "metadata": {},
     "output_type": "execute_result"
    }
   ],
   "source": [
    "sorted('hello',key=len)       # you will not understand now"
   ]
  },
  {
   "cell_type": "code",
   "execution_count": 70,
   "id": "a97d92ea-7033-460a-bb25-907dbf736fec",
   "metadata": {},
   "outputs": [
    {
     "data": {
      "text/plain": [
       "['h', 'e', 'l', 'l', 'o']"
      ]
     },
     "execution_count": 70,
     "metadata": {},
     "output_type": "execute_result"
    }
   ],
   "source": [
    "sorted('hello',reverse=True,key=len)"
   ]
  },
  {
   "cell_type": "code",
   "execution_count": 74,
   "id": "5c65a0cd-4a2b-44d3-9d93-c439608febbb",
   "metadata": {},
   "outputs": [],
   "source": [
    "def add(a=100,b=200):\n",
    "    print(a+b)\n",
    "\n"
   ]
  },
  {
   "cell_type": "code",
   "execution_count": 76,
   "id": "1823a454-8a99-4fb3-84ed-364ce70dc962",
   "metadata": {},
   "outputs": [
    {
     "name": "stdout",
     "output_type": "stream",
     "text": [
      "3000\n"
     ]
    }
   ],
   "source": [
    "add(a=1000,b=2000)"
   ]
  },
  {
   "cell_type": "code",
   "execution_count": 80,
   "id": "ed3e85f9-650e-4771-9c81-243cac56cc64",
   "metadata": {},
   "outputs": [
    {
     "name": "stdout",
     "output_type": "stream",
     "text": [
      "4000\n"
     ]
    }
   ],
   "source": [
    "add(b=3000,a=1000)"
   ]
  },
  {
   "cell_type": "code",
   "execution_count": 82,
   "id": "a6cb3a62-aa8a-4b0b-86fa-5c45dce037aa",
   "metadata": {},
   "outputs": [
    {
     "name": "stdout",
     "output_type": "stream",
     "text": [
      "5100\n"
     ]
    }
   ],
   "source": [
    "add(b=5000)"
   ]
  },
  {
   "cell_type": "code",
   "execution_count": 84,
   "id": "23cb6097-b888-4358-9cfc-6f654b1fbf22",
   "metadata": {},
   "outputs": [
    {
     "name": "stdout",
     "output_type": "stream",
     "text": [
      "6200\n"
     ]
    }
   ],
   "source": [
    "add(a=6000)"
   ]
  },
  {
   "cell_type": "code",
   "execution_count": 86,
   "id": "dde61d0e-0290-4657-a6f2-18c0fe1fc045",
   "metadata": {},
   "outputs": [
    {
     "name": "stdout",
     "output_type": "stream",
     "text": [
      "300\n"
     ]
    }
   ],
   "source": [
    "add()"
   ]
  },
  {
   "cell_type": "markdown",
   "id": "62924fab-903b-4f50-a163-6b6958d3f1dc",
   "metadata": {},
   "source": [
    "- vscode ====== we don't have markdown\n",
    "- if you want to write any information\n",
    "- then we can use triple quotes"
   ]
  },
  {
   "cell_type": "code",
   "execution_count": 89,
   "id": "df1ad057-683c-46ad-a9c1-34e33fbfbacd",
   "metadata": {},
   "outputs": [],
   "source": [
    "str1='python'\n",
    "ans=reversed(str1)"
   ]
  },
  {
   "cell_type": "code",
   "execution_count": 91,
   "id": "ff956357-452d-4a99-8f33-5af6938c1c96",
   "metadata": {},
   "outputs": [
    {
     "data": {
      "text/plain": [
       "reversed"
      ]
     },
     "execution_count": 91,
     "metadata": {},
     "output_type": "execute_result"
    }
   ],
   "source": [
    "type(ans)"
   ]
  },
  {
   "cell_type": "code",
   "execution_count": 93,
   "id": "cee4d483-2bcb-4d91-ab46-ef5d23453d57",
   "metadata": {},
   "outputs": [
    {
     "data": {
      "text/plain": [
       "<reversed at 0x20971b3a3e0>"
      ]
     },
     "execution_count": 93,
     "metadata": {},
     "output_type": "execute_result"
    }
   ],
   "source": [
    "reversed(str1)   \n",
    "\n",
    "# the output is stored a memory location\n",
    "# whenever you want to see the output\n",
    "# use a list or for loop"
   ]
  },
  {
   "cell_type": "code",
   "execution_count": 95,
   "id": "89ccdc7e-cf1c-4aba-b4bd-7093e9bd8161",
   "metadata": {},
   "outputs": [
    {
     "name": "stdout",
     "output_type": "stream",
     "text": [
      "n\n",
      "o\n",
      "h\n",
      "t\n",
      "y\n",
      "p\n"
     ]
    }
   ],
   "source": [
    "\n",
    "\n",
    "for i in ans:\n",
    "    print(i)"
   ]
  },
  {
   "cell_type": "code",
   "execution_count": 97,
   "id": "f562d6ff-9ed3-45f3-a8ab-4957f35f76c8",
   "metadata": {},
   "outputs": [
    {
     "data": {
      "text/plain": [
       "['n', 'o', 'h', 't', 'y', 'p']"
      ]
     },
     "execution_count": 97,
     "metadata": {},
     "output_type": "execute_result"
    }
   ],
   "source": [
    "ans=reversed(str1)\n",
    "list(ans)"
   ]
  },
  {
   "cell_type": "markdown",
   "id": "f1a1777b-f5ee-408c-8605-a298928aa534",
   "metadata": {},
   "source": [
    "**concatenation**"
   ]
  },
  {
   "cell_type": "code",
   "execution_count": 106,
   "id": "20e6df77-4b37-46d9-ab7c-b7652099d074",
   "metadata": {},
   "outputs": [
    {
     "ename": "TypeError",
     "evalue": "unsupported operand type(s) for -: 'str' and 'str'",
     "output_type": "error",
     "traceback": [
      "\u001b[1;31m---------------------------------------------------------------------------\u001b[0m",
      "\u001b[1;31mTypeError\u001b[0m                                 Traceback (most recent call last)",
      "Cell \u001b[1;32mIn[106], line 4\u001b[0m\n\u001b[0;32m      2\u001b[0m str2\u001b[38;5;241m=\u001b[39m\u001b[38;5;124m'\u001b[39m\u001b[38;5;124mpython\u001b[39m\u001b[38;5;124m'\u001b[39m\n\u001b[0;32m      3\u001b[0m str1\u001b[38;5;241m+\u001b[39mstr2 \u001b[38;5;66;03m# this will work only\u001b[39;00m\n\u001b[1;32m----> 4\u001b[0m str1\u001b[38;5;241m-\u001b[39mstr2 \u001b[38;5;66;03m# Fail, because other mathematical operation we can't apply on string\u001b[39;00m\n\u001b[0;32m      5\u001b[0m str1\u001b[38;5;241m*\u001b[39mstr2  \u001b[38;5;66;03m# Fail, because other mathematical operation we can't apply on string\u001b[39;00m\n\u001b[0;32m      6\u001b[0m str1\u001b[38;5;241m/\u001b[39mstr2\n",
      "\u001b[1;31mTypeError\u001b[0m: unsupported operand type(s) for -: 'str' and 'str'"
     ]
    }
   ],
   "source": [
    "str1='hello'\n",
    "str2='python'\n",
    "str1+str2 # this will work only\n",
    "str1-str2 # Fail, because other mathematical operation we can't apply on string\n",
    "str1*str2  # Fail, because other mathematical operation we can't apply on string\n",
    "str1/str2   # Fail, because other mathematical operation we can't apply on string"
   ]
  },
  {
   "cell_type": "code",
   "execution_count": 102,
   "id": "d9bbf3a0-d028-4e7a-9dcc-5511603b3276",
   "metadata": {},
   "outputs": [
    {
     "data": {
      "text/plain": [
       "'hellopython'"
      ]
     },
     "execution_count": 102,
     "metadata": {},
     "output_type": "execute_result"
    }
   ],
   "source": [
    "str1+str2"
   ]
  },
  {
   "cell_type": "code",
   "execution_count": 104,
   "id": "41c90ef1-bd23-4e60-b2c0-47763b125c0c",
   "metadata": {},
   "outputs": [
    {
     "ename": "TypeError",
     "evalue": "can't multiply sequence by non-int of type 'str'",
     "output_type": "error",
     "traceback": [
      "\u001b[1;31m---------------------------------------------------------------------------\u001b[0m",
      "\u001b[1;31mTypeError\u001b[0m                                 Traceback (most recent call last)",
      "Cell \u001b[1;32mIn[104], line 1\u001b[0m\n\u001b[1;32m----> 1\u001b[0m str1\u001b[38;5;241m*\u001b[39mstr2\n",
      "\u001b[1;31mTypeError\u001b[0m: can't multiply sequence by non-int of type 'str'"
     ]
    }
   ],
   "source": [
    "str1*str2"
   ]
  },
  {
   "cell_type": "code",
   "execution_count": 108,
   "id": "2ec8b3aa-a159-45c8-83b3-e05658f12b90",
   "metadata": {},
   "outputs": [
    {
     "data": {
      "text/plain": [
       "'pythonpython'"
      ]
     },
     "execution_count": 108,
     "metadata": {},
     "output_type": "execute_result"
    }
   ],
   "source": [
    "'python' * 2"
   ]
  },
  {
   "cell_type": "code",
   "execution_count": 110,
   "id": "d7114a7f-419f-4167-b7bf-a6c43ecbd924",
   "metadata": {},
   "outputs": [
    {
     "data": {
      "text/plain": [
       "'pythonpython'"
      ]
     },
     "execution_count": 110,
     "metadata": {},
     "output_type": "execute_result"
    }
   ],
   "source": [
    "'python' + 'python'"
   ]
  },
  {
   "cell_type": "markdown",
   "id": "6a08d99a-f484-4f1e-b58e-df110fbe3adb",
   "metadata": {},
   "source": [
    "**index**"
   ]
  },
  {
   "cell_type": "code",
   "execution_count": null,
   "id": "b88ce9bc-6250-416a-b0fc-04ae54d2a0ac",
   "metadata": {},
   "outputs": [],
   "source": [
    "str1='python'\n",
    "\n",
    "# -6   -5   -4   -3   -2   -1\n",
    "# 'p'  'y'  't'  'h'  'o'  'n'\n",
    "# 0    1     2    3    4    5"
   ]
  },
  {
   "cell_type": "code",
   "execution_count": 125,
   "id": "ae024a64-8b63-4b7c-abe8-6d3db6326b71",
   "metadata": {},
   "outputs": [
    {
     "data": {
      "text/plain": [
       "('h', 'o')"
      ]
     },
     "execution_count": 125,
     "metadata": {},
     "output_type": "execute_result"
    }
   ],
   "source": [
    "str1[0],str1[-1]"
   ]
  },
  {
   "cell_type": "code",
   "execution_count": 1,
   "id": "a669385f-9c25-4712-8922-16d22763250d",
   "metadata": {},
   "outputs": [
    {
     "data": {
      "text/plain": [
       "'p'"
      ]
     },
     "execution_count": 1,
     "metadata": {},
     "output_type": "execute_result"
    }
   ],
   "source": [
    "str1='python'\n",
    "\n",
    "str1[0]\n",
    "str1[1]\n",
    "str1[2]\n",
    "str1[3]\n",
    "str1[4]\n",
    "str1[5]\n",
    "\n",
    "str1[i] #i is a number i=0 and ends =5"
   ]
  },
  {
   "cell_type": "code",
   "execution_count": 3,
   "id": "f3f5bb13-72d1-4499-8207-7ed5b5384ca7",
   "metadata": {},
   "outputs": [
    {
     "name": "stdout",
     "output_type": "stream",
     "text": [
      "0 p\n",
      "1 y\n",
      "2 t\n",
      "3 h\n",
      "4 o\n",
      "5 n\n"
     ]
    }
   ],
   "source": [
    "str1='python'\n",
    "for i in range(6):\n",
    "    print(i,str1[i])"
   ]
  },
  {
   "cell_type": "code",
   "execution_count": 5,
   "id": "5fec3bc8-45b9-485d-bb52-6e50504c21bc",
   "metadata": {},
   "outputs": [
    {
     "name": "stdout",
     "output_type": "stream",
     "text": [
      "the postive index of p is : 0\n",
      "the postive index of y is : 1\n",
      "the postive index of t is : 2\n",
      "the postive index of h is : 3\n",
      "the postive index of o is : 4\n",
      "the postive index of n is : 5\n",
      "the postive index of   is : 6\n",
      "the postive index of h is : 7\n",
      "the postive index of e is : 8\n",
      "the postive index of l is : 9\n",
      "the postive index of l is : 10\n",
      "the postive index of o is : 11\n"
     ]
    }
   ],
   "source": [
    "str1='python hello'\n",
    "for i in range(len(str1)):\n",
    "    print(f\"the postive index of {str1[i]} is : {i}\")"
   ]
  },
  {
   "cell_type": "code",
   "execution_count": 13,
   "id": "e4078bbb-91dc-4f63-891d-dd206aea14a5",
   "metadata": {},
   "outputs": [
    {
     "name": "stdout",
     "output_type": "stream",
     "text": [
      "-12\n",
      "-11\n",
      "-10\n",
      "-9\n",
      "-8\n",
      "-7\n",
      "-6\n",
      "-5\n",
      "-4\n",
      "-3\n",
      "-2\n",
      "-1\n"
     ]
    }
   ],
   "source": [
    "#the negative index of p is -6\n",
    "#the negative index of p is -5\n",
    "\n",
    "for i in range(len(str1)):\n",
    "    print(i-len(str1))"
   ]
  },
  {
   "cell_type": "code",
   "execution_count": 19,
   "id": "c3c05b6d-bb30-43e9-9bd1-f5d19942d01c",
   "metadata": {},
   "outputs": [
    {
     "name": "stdout",
     "output_type": "stream",
     "text": [
      "the negetive index of p is : 0\n",
      "the negetive index of y is : 1\n",
      "the negetive index of t is : 2\n",
      "the negetive index of h is : 3\n",
      "the negetive index of o is : 4\n",
      "the negetive index of n is : 5\n",
      "the negetive index of   is : 6\n",
      "the negetive index of h is : 7\n",
      "the negetive index of e is : 8\n",
      "the negetive index of l is : 9\n",
      "the negetive index of l is : 10\n",
      "the negetive index of o is : 11\n"
     ]
    }
   ],
   "source": [
    "n=len(str1)\n",
    "for i in range(n):\n",
    "    print(f\"the negetive index of {str1[i]} is : {i}\")"
   ]
  },
  {
   "cell_type": "code",
   "execution_count": 21,
   "id": "9181a48d-07d6-431c-929a-6229fbde44d3",
   "metadata": {},
   "outputs": [
    {
     "name": "stdout",
     "output_type": "stream",
     "text": [
      "-12 is (-) index and 0 is (+)ve index of p\n",
      "-11 is (-) index and 1 is (+)ve index of y\n",
      "-10 is (-) index and 2 is (+)ve index of t\n",
      "-9 is (-) index and 3 is (+)ve index of h\n",
      "-8 is (-) index and 4 is (+)ve index of o\n",
      "-7 is (-) index and 5 is (+)ve index of n\n",
      "-6 is (-) index and 6 is (+)ve index of  \n",
      "-5 is (-) index and 7 is (+)ve index of h\n",
      "-4 is (-) index and 8 is (+)ve index of e\n",
      "-3 is (-) index and 9 is (+)ve index of l\n",
      "-2 is (-) index and 10 is (+)ve index of l\n",
      "-1 is (-) index and 11 is (+)ve index of o\n"
     ]
    }
   ],
   "source": [
    "#-6 is negative index, 0 is positive index for a letter p\n",
    "n=len(str1)\n",
    "for i in range(n):\n",
    "    print(f\"{i-n} is (-) index and {i} is (+)ve index of {str1[i]}\")"
   ]
  },
  {
   "cell_type": "markdown",
   "id": "560a0287-8416-4958-8b3e-cc754f70cb51",
   "metadata": {},
   "source": [
    "**when to use range - when to use in operator**\n",
    "\n",
    "- any problem if we work with index use range operator\n",
    "- range operator will give index as well as character\n",
    "- any problem if index is not useful, only character is useful then go with **in**\n",
    "- witn **in** operator we cannot get index"
   ]
  },
  {
   "cell_type": "code",
   "execution_count": null,
   "id": "e459fd3e-8688-4cc2-96d2-fb53448b742b",
   "metadata": {},
   "outputs": [],
   "source": [
    "#Q4) WAP count the number of 'a' letters in a given string \n",
    "# str1 = 'hello python how are you'\n",
    "\n",
    "# Q5) WAP to find the index of 'a' letters in a given string \n",
    "# str1 = 'hello python how are you'\n",
    "\n",
    "# Q6) WAP to find to get sum of all indexes of 'a' letters in a given string \n",
    "# str1 = 'hello python how are you'\n",
    "\n",
    "# Q7) WAP to find the vowels in a given string \n",
    "# str1 = 'hello python how are you'\n",
    "\n",
    "# Q8) WAP to find the non-repeated vowels in a given string \n",
    "# str1 = 'hello python how are you'\n",
    "\n"
   ]
  },
  {
   "cell_type": "code",
   "execution_count": 34,
   "id": "1e776b71-54b9-421f-9943-f248097248b4",
   "metadata": {},
   "outputs": [
    {
     "name": "stdout",
     "output_type": "stream",
     "text": [
      "count of letter a is 1\n"
     ]
    }
   ],
   "source": [
    "#Q4) WAP count the number of 'a' letters in a given string \n",
    "# str1 = 'hello python how are you'\n",
    "\n",
    "str1='hello python how are you'\n",
    "n=len(str1)\n",
    "count=0\n",
    "for i in range(n):\n",
    "    if str1[i]=='a':\n",
    "        count=count+1\n",
    "print(f'count of letter a is {count}')    "
   ]
  },
  {
   "cell_type": "code",
   "execution_count": 40,
   "id": "e86c0583-5d18-4052-ad92-9fdbdc602179",
   "metadata": {},
   "outputs": [
    {
     "name": "stdout",
     "output_type": "stream",
     "text": [
      "-7 is (-) index and 17 is (+)ve index of a\n"
     ]
    }
   ],
   "source": [
    "# Q5) WAP to find the index of 'a' letters in a given string \n",
    "# str1 = 'hello python how are you'\n",
    "\n",
    "\n",
    "str1='hello python how are you'\n",
    "n=len(str1)\n",
    "count=0\n",
    "for i in range(n):\n",
    "    if str1[i]=='a':\n",
    "        print(f\"{i-n} is (-) index and {i} is (+)ve index of {str1[i]}\")"
   ]
  },
  {
   "cell_type": "code",
   "execution_count": 48,
   "id": "0efb53b2-589e-484f-867d-781829131025",
   "metadata": {},
   "outputs": [
    {
     "name": "stdout",
     "output_type": "stream",
     "text": [
      "Sum of all indexes of a is 17\n"
     ]
    }
   ],
   "source": [
    "# Q6) WAP to find to get sum of all indexes of 'a' letters in a given string \n",
    "# str1 = 'hello python how are you'\n",
    "\n",
    "str1='hello python how are you'\n",
    "n=len(str1)\n",
    "sum_indexes=0\n",
    "for i in range(n):\n",
    "    if str1[i]=='a':\n",
    "        sum_indexes=sum_indexes+i\n",
    "print(f\"Sum of all indexes of a is {sum_indexes}\")"
   ]
  },
  {
   "cell_type": "code",
   "execution_count": 60,
   "id": "776eafcc-7acd-4578-beb6-c017be86ea83",
   "metadata": {},
   "outputs": [
    {
     "name": "stdout",
     "output_type": "stream",
     "text": [
      "the vowel in the string is e\n",
      "the vowel in the string is o\n",
      "the vowel in the string is o\n",
      "the vowel in the string is o\n",
      "the vowel in the string is a\n",
      "the vowel in the string is e\n",
      "the vowel in the string is o\n",
      "the vowel in the string is u\n",
      "the number of vowels in string are: 8\n"
     ]
    }
   ],
   "source": [
    "# Q7) WAP to find the vowels in a given string \n",
    "# str1 = 'hello python how are you'\n",
    "\n",
    "str1='hello python how are you'\n",
    "count=0\n",
    "for i in str1:\n",
    "    if i in 'aeiou':\n",
    "        print(f'the vowel in the string is {i}')\n",
    "        count+=1\n",
    "\n",
    "print(f'the number of vowels in string are: {count}')"
   ]
  },
  {
   "cell_type": "code",
   "execution_count": 62,
   "id": "c1e4d2ba-903a-4b1d-b872-1f82928266ce",
   "metadata": {},
   "outputs": [
    {
     "name": "stdout",
     "output_type": "stream",
     "text": [
      "eoau\n"
     ]
    }
   ],
   "source": [
    "# Q8) WAP to print every vowel that should come but we need to avoid repeatition in a given string.\n",
    "# str1 = 'hello python how are you'\n",
    "\n",
    "# logic= take empty string \n",
    "str1='hello python how are you'\n",
    "str2=''\n",
    "count=0\n",
    "for i in str1:\n",
    "    if i in 'aeiou'and i not in str2:\n",
    "        str2=str2+i\n",
    "print(str2)"
   ]
  },
  {
   "cell_type": "code",
   "execution_count": 64,
   "id": "d812e2f3-29da-44a9-beb4-3030aca0399a",
   "metadata": {},
   "outputs": [
    {
     "name": "stdout",
     "output_type": "stream",
     "text": [
      "e\n",
      "o\n",
      "a\n",
      "u\n",
      "the total count is 4\n"
     ]
    }
   ],
   "source": [
    "s1=''\n",
    "s2='aeiou'\n",
    "str1='hello python how are you'\n",
    "count=0\n",
    "for i in str1:\n",
    "    if i in s2 and i not in s1:\n",
    "        print(i)\n",
    "        s1=s1+i\n",
    "        count=count+1\n",
    "\n",
    "print(f'the total count is {count}')"
   ]
  },
  {
   "cell_type": "code",
   "execution_count": 7,
   "id": "a6ce906a-f8bc-45e8-9c85-1a3d4b489865",
   "metadata": {},
   "outputs": [
    {
     "ename": "AttributeError",
     "evalue": "module 'string' has no attribute 'pop'",
     "output_type": "error",
     "traceback": [
      "\u001b[1;31m---------------------------------------------------------------------------\u001b[0m",
      "\u001b[1;31mAttributeError\u001b[0m                            Traceback (most recent call last)",
      "Cell \u001b[1;32mIn[7], line 11\u001b[0m\n\u001b[0;32m      9\u001b[0m         str2\u001b[38;5;241m=\u001b[39mstr2\u001b[38;5;241m+\u001b[39mi\n\u001b[0;32m     10\u001b[0m         \u001b[38;5;28;01mif\u001b[39;00m i\u001b[38;5;241m==\u001b[39mstr2:\n\u001b[1;32m---> 11\u001b[0m             str2\u001b[38;5;241m=\u001b[39mstring\u001b[38;5;241m.\u001b[39mpop(i) \n\u001b[0;32m     12\u001b[0m \u001b[38;5;28mprint\u001b[39m(str2)\n",
      "\u001b[1;31mAttributeError\u001b[0m: module 'string' has no attribute 'pop'"
     ]
    }
   ],
   "source": [
    "# Q9) WAP to find the non-repeated vowels in a given string.\n",
    "# str1 = 'hello python how are you'\n",
    "import string\n",
    "str1='hello python how are you'\n",
    "str2=''\n",
    "count=0\n",
    "for i in str1:\n",
    "    if i in 'aeiou'and i not in str2:\n",
    "        str2=str2+i\n",
    "        if i==str2:\n",
    "            str2=string.pop(i) \n",
    "print(str2)"
   ]
  },
  {
   "cell_type": "markdown",
   "id": "3fa2de81-80f1-4ba1-ac02-c0e1f24b9798",
   "metadata": {},
   "source": [
    "**Mutable-Immutable**"
   ]
  },
  {
   "cell_type": "code",
   "execution_count": null,
   "id": "4e60feb7-a608-4ada-b61f-e86b75cfb501",
   "metadata": {},
   "outputs": [],
   "source": [
    "# mutable : Change\n",
    "# immutable : No change\n",
    "str1='welcome'\n",
    "\n",
    "# i want to change 'l' with 'L'\n",
    "# can we change 'l' with 'L'"
   ]
  },
  {
   "cell_type": "code",
   "execution_count": 10,
   "id": "bb3370df-c69e-463c-acf1-c03cc8ffbe57",
   "metadata": {},
   "outputs": [
    {
     "ename": "TypeError",
     "evalue": "'str' object does not support item assignment",
     "output_type": "error",
     "traceback": [
      "\u001b[1;31m---------------------------------------------------------------------------\u001b[0m",
      "\u001b[1;31mTypeError\u001b[0m                                 Traceback (most recent call last)",
      "Cell \u001b[1;32mIn[10], line 1\u001b[0m\n\u001b[1;32m----> 1\u001b[0m str1[\u001b[38;5;241m2\u001b[39m]\u001b[38;5;241m=\u001b[39m\u001b[38;5;124m'\u001b[39m\u001b[38;5;124mL\u001b[39m\u001b[38;5;124m'\u001b[39m\n",
      "\u001b[1;31mTypeError\u001b[0m: 'str' object does not support item assignment"
     ]
    }
   ],
   "source": [
    "str1[2]='L'"
   ]
  },
  {
   "cell_type": "code",
   "execution_count": 22,
   "id": "3b70adf3-0716-4359-b288-0d55fda7d05d",
   "metadata": {},
   "outputs": [
    {
     "data": {
      "text/plain": [
       "33"
      ]
     },
     "execution_count": 22,
     "metadata": {},
     "output_type": "execute_result"
    }
   ],
   "source": [
    "l=[11,22,33,44]\n",
    "l[2]\n"
   ]
  },
  {
   "cell_type": "code",
   "execution_count": 24,
   "id": "72de392c-6e42-4e03-9465-d81564109790",
   "metadata": {},
   "outputs": [
    {
     "data": {
      "text/plain": [
       "[11, 22, 300, 44]"
      ]
     },
     "execution_count": 24,
     "metadata": {},
     "output_type": "execute_result"
    }
   ],
   "source": [
    "l=[11,22,33,44]\n",
    "l[2]=300\n",
    "l\n"
   ]
  },
  {
   "cell_type": "markdown",
   "id": "79169b5c-5442-48bc-9ff7-a752b416da5c",
   "metadata": {},
   "source": [
    "- if the elements will change using indexing is called as mutable\n",
    "- otherwise immutable"
   ]
  },
  {
   "cell_type": "markdown",
   "id": "0920471c-6f6c-4e59-9548-d839eab22a6b",
   "metadata": {},
   "source": [
    "**slicing**"
   ]
  },
  {
   "cell_type": "markdown",
   "id": "1a9c5aa4-9f0b-482e-80c5-930c26c565bc",
   "metadata": {},
   "source": [
    "- slice : piece of the string\n",
    "- it is similiar to for loop start:stop:step"
   ]
  },
  {
   "cell_type": "code",
   "execution_count": 31,
   "id": "f12bf5e4-638a-47d9-b0e7-d4619f115ecd",
   "metadata": {},
   "outputs": [],
   "source": [
    "str1='hello how are you'"
   ]
  },
  {
   "cell_type": "code",
   "execution_count": 33,
   "id": "6a0cb7f8-ccb2-4ceb-95d4-8b51bc2cf0dc",
   "metadata": {},
   "outputs": [
    {
     "data": {
      "text/plain": [
       "17"
      ]
     },
     "execution_count": 33,
     "metadata": {},
     "output_type": "execute_result"
    }
   ],
   "source": [
    "len(str1)"
   ]
  },
  {
   "cell_type": "code",
   "execution_count": 35,
   "id": "4dab8868-c00a-4e4b-a7e7-dc5d5d5bc49c",
   "metadata": {},
   "outputs": [
    {
     "ename": "SyntaxError",
     "evalue": "invalid syntax (329772928.py, line 2)",
     "output_type": "error",
     "traceback": [
      "\u001b[1;36m  Cell \u001b[1;32mIn[35], line 2\u001b[1;36m\u001b[0m\n\u001b[1;33m    h    e   l   l   o        h  o   w     a  r  e     y  o  u\u001b[0m\n\u001b[1;37m         ^\u001b[0m\n\u001b[1;31mSyntaxError\u001b[0m\u001b[1;31m:\u001b[0m invalid syntax\n"
     ]
    }
   ],
   "source": [
    "-17 -16 -15 -14 -13 -12 -11 -10 -9 -8 -7 -6 -5 -4 -3 -2 -1 \n",
    "h    e   l   l   o        h  o   w     a  r  e     y  o  u\n",
    "0    1   2   3   4   5    6  7   8  9  10 11 12 13 14 15 16"
   ]
  },
  {
   "cell_type": "code",
   "execution_count": null,
   "id": "5f96e749-2a3a-4302-b992-7b9bd462c76e",
   "metadata": {},
   "outputs": [],
   "source": [
    "range()\n",
    "print()\n",
    "str1[6]"
   ]
  },
  {
   "cell_type": "markdown",
   "id": "b0614ecd-6b7c-40e7-8c12-47078711b79a",
   "metadata": {},
   "source": [
    "**case-1: str1[start:]**"
   ]
  },
  {
   "cell_type": "markdown",
   "id": "32bae6c4-ddd2-4b1e-8d0a-e6b3bec52997",
   "metadata": {},
   "source": [
    "- str1[start:]\n",
    "- start= start value only\n",
    "- last not mentioned means it will go to till last"
   ]
  },
  {
   "cell_type": "code",
   "execution_count": 40,
   "id": "b0b06afd-b469-429d-a4b1-39150a1b66f4",
   "metadata": {},
   "outputs": [
    {
     "data": {
      "text/plain": [
       "' how are you'"
      ]
     },
     "execution_count": 40,
     "metadata": {},
     "output_type": "execute_result"
    }
   ],
   "source": [
    "str1[5:]"
   ]
  },
  {
   "cell_type": "code",
   "execution_count": 42,
   "id": "43982d29-1264-4c32-8577-856b07bbc83b",
   "metadata": {},
   "outputs": [
    {
     "data": {
      "text/plain": [
       "'e you'"
      ]
     },
     "execution_count": 42,
     "metadata": {},
     "output_type": "execute_result"
    }
   ],
   "source": [
    "str1[-5:]"
   ]
  },
  {
   "cell_type": "markdown",
   "id": "cfe576c5-2672-41d8-a10c-7f36a127bcfa",
   "metadata": {},
   "source": [
    "**case-2: str1[start:stop]**\n",
    "\n",
    "- start = start value\n",
    "- step is not mentioned means = positive one\n",
    "- last= stop-1"
   ]
  },
  {
   "cell_type": "code",
   "execution_count": 47,
   "id": "8ead5572-04e0-4e75-9300-41851e6e854c",
   "metadata": {},
   "outputs": [
    {
     "data": {
      "text/plain": [
       "'llo how are yo'"
      ]
     },
     "execution_count": 47,
     "metadata": {},
     "output_type": "execute_result"
    }
   ],
   "source": [
    "str1[2:16]\n",
    "\n",
    "# start = 2  ------>  l\n",
    "# last = 16 ------->  o"
   ]
  },
  {
   "cell_type": "code",
   "execution_count": 51,
   "id": "50c948e9-2be2-49c1-be3e-e8eabd55a5c0",
   "metadata": {},
   "outputs": [
    {
     "data": {
      "text/plain": [
       "' how are y'"
      ]
     },
     "execution_count": 51,
     "metadata": {},
     "output_type": "execute_result"
    }
   ],
   "source": [
    "str1[-12:-2]\n",
    "\n",
    "# start = -12 ------> ' '\n",
    "# last = stop-1 = -2-1 = -3  ------->  y"
   ]
  },
  {
   "cell_type": "code",
   "execution_count": 53,
   "id": "b3aae129-6f9c-44ff-9cf4-b4117c4f74a8",
   "metadata": {},
   "outputs": [
    {
     "data": {
      "text/plain": [
       "''"
      ]
     },
     "execution_count": 53,
     "metadata": {},
     "output_type": "execute_result"
    }
   ],
   "source": [
    "str1[-2:-12]\n",
    "\n",
    "# start = -2 ------> ' '\n",
    "# last = stop-1 = -12-1 = -13  ------->  y"
   ]
  },
  {
   "cell_type": "markdown",
   "id": "e40dc2a1-1bde-4c78-88ef-435008af5641",
   "metadata": {},
   "source": [
    "**case-3: str1[start:step:stop]**"
   ]
  },
  {
   "cell_type": "code",
   "execution_count": null,
   "id": "79b24a12-c7fd-444d-a765-8deadc06a3a2",
   "metadata": {},
   "outputs": [],
   "source": [
    "-17 -16 -15 -14 -13 -12 -11 -10 -9 -8 -7 -6 -5 -4 -3 -2 -1 \n",
    "h    e   l   l   o        h  o   w     a  r  e     y  o  u\n",
    "0    1   2   3   4   5    6  7   8  9  10 11 12 13 14 15 16\n",
    "\n",
    "\n",
    "str1[2:-15:2]  # NP\n",
    "str1[-2:15:-2]  #NP\n",
    "str1[2:-15:2] #NP\n",
    "str1[-2:15:2]  #NP\n",
    "str1[-2:-15:2]  #NP\n",
    "str1[-2:-15:-2]  #P    ----------->   'o r o l'\n",
    "str1[15:2:2]   #NP\n",
    "str1[15:2:-2]  #P    ------------>   'o r o l'\n",
    "str1[15:-2:2]   #NP\n",
    "str1[15:-2:-2]    #NP\n",
    "str1[-15:2:2]   #NP\n",
    "str1[-15:-2:2] #P   -------->  'lohwaey'\n",
    "str1[-15:-2:-2]   #NP"
   ]
  },
  {
   "cell_type": "code",
   "execution_count": 84,
   "id": "94ebee95-0b1a-42f3-a4d6-1887025aae71",
   "metadata": {},
   "outputs": [
    {
     "data": {
      "text/plain": [
       "''"
      ]
     },
     "execution_count": 84,
     "metadata": {},
     "output_type": "execute_result"
    }
   ],
   "source": [
    "str1[-15:-2:-2]"
   ]
  },
  {
   "cell_type": "code",
   "execution_count": 58,
   "id": "2abc87f1-a2cb-4233-b489-c8d78bdc4bb5",
   "metadata": {},
   "outputs": [
    {
     "data": {
      "text/plain": [
       "''"
      ]
     },
     "execution_count": 58,
     "metadata": {},
     "output_type": "execute_result"
    }
   ],
   "source": [
    "str1[15:-2:-2]"
   ]
  },
  {
   "cell_type": "code",
   "execution_count": 60,
   "id": "c8415602-6244-4338-97a8-7d49d1228560",
   "metadata": {},
   "outputs": [
    {
     "data": {
      "text/plain": [
       "''"
      ]
     },
     "execution_count": 60,
     "metadata": {},
     "output_type": "execute_result"
    }
   ],
   "source": [
    "str1[-15:2:2]"
   ]
  },
  {
   "cell_type": "code",
   "execution_count": 62,
   "id": "bb396f02-485e-49ff-ba91-e85da08f1e60",
   "metadata": {},
   "outputs": [
    {
     "data": {
      "text/plain": [
       "''"
      ]
     },
     "execution_count": 62,
     "metadata": {},
     "output_type": "execute_result"
    }
   ],
   "source": [
    "str1[2:-15:2]"
   ]
  },
  {
   "cell_type": "code",
   "execution_count": 64,
   "id": "32795132-a23a-4b2f-8a51-270c3c6effef",
   "metadata": {},
   "outputs": [
    {
     "data": {
      "text/plain": [
       "'lohwaey'"
      ]
     },
     "execution_count": 64,
     "metadata": {},
     "output_type": "execute_result"
    }
   ],
   "source": [
    "str1[-15:-2:2]"
   ]
  },
  {
   "cell_type": "code",
   "execution_count": 66,
   "id": "a575d402-8ef3-46b8-8cfa-b5b34fcb0dc6",
   "metadata": {},
   "outputs": [
    {
     "data": {
      "text/plain": [
       "'o r o l'"
      ]
     },
     "execution_count": 66,
     "metadata": {},
     "output_type": "execute_result"
    }
   ],
   "source": [
    "str1[15:2:-2]"
   ]
  },
  {
   "cell_type": "code",
   "execution_count": 68,
   "id": "ab88e34a-fb42-4f1e-8797-6efe5a7fd19f",
   "metadata": {},
   "outputs": [
    {
     "data": {
      "text/plain": [
       "'o r o l'"
      ]
     },
     "execution_count": 68,
     "metadata": {},
     "output_type": "execute_result"
    }
   ],
   "source": [
    "str1[-2:-15:-2]"
   ]
  },
  {
   "cell_type": "code",
   "execution_count": 88,
   "id": "58b98866-3fd5-4d24-9229-7ff294757da3",
   "metadata": {},
   "outputs": [
    {
     "data": {
      "text/plain": [
       "'hello how are you'"
      ]
     },
     "execution_count": 88,
     "metadata": {},
     "output_type": "execute_result"
    }
   ],
   "source": [
    "str1[:]"
   ]
  },
  {
   "cell_type": "code",
   "execution_count": 90,
   "id": "0831096d-b229-4702-ba69-3babc72cc0f1",
   "metadata": {},
   "outputs": [
    {
     "data": {
      "text/plain": [
       "'hello how are you'"
      ]
     },
     "execution_count": 90,
     "metadata": {},
     "output_type": "execute_result"
    }
   ],
   "source": [
    "str1[: :]"
   ]
  },
  {
   "cell_type": "code",
   "execution_count": 92,
   "id": "7849e4ba-2739-4ba4-8fa6-0720c98f4eb2",
   "metadata": {},
   "outputs": [
    {
     "data": {
      "text/plain": [
       "'uoy era woh olleh'"
      ]
     },
     "execution_count": 92,
     "metadata": {},
     "output_type": "execute_result"
    }
   ],
   "source": [
    "str1[::-1]"
   ]
  },
  {
   "cell_type": "code",
   "execution_count": 100,
   "id": "86345d91-0004-40d4-a898-9a65539b7fc4",
   "metadata": {},
   "outputs": [
    {
     "data": {
      "text/plain": [
       "''"
      ]
     },
     "execution_count": 100,
     "metadata": {},
     "output_type": "execute_result"
    }
   ],
   "source": [
    "str1[2:-15:-1]\n",
    "\n",
    "# start = 2\n",
    "# stop = "
   ]
  },
  {
   "cell_type": "markdown",
   "id": "abaa9155-c44c-4f06-865a-4a89363c15f6",
   "metadata": {},
   "source": [
    "- initialization\n",
    "- print\n",
    "- min/max\n",
    "- len\n",
    "- reverse/sorted\n",
    "- index\n",
    "    - for loop with range\n",
    "    - for loop in\n",
    "- mutable vs  immutable\n",
    "- concatenation\n",
    "- slicing"
   ]
  },
  {
   "cell_type": "code",
   "execution_count": null,
   "id": "d8290f8d-3492-4ffc-881a-35247b165d8e",
   "metadata": {},
   "outputs": [],
   "source": [
    "min('hello')\n",
    "min(10,20,30)"
   ]
  },
  {
   "cell_type": "markdown",
   "id": "01d651af-7f99-413c-abb7-e46f97457eb8",
   "metadata": {},
   "source": [
    "**Methods**"
   ]
  },
  {
   "cell_type": "code",
   "execution_count": 102,
   "id": "108b1c86-127c-4b66-a2df-33bfa7747fe0",
   "metadata": {},
   "outputs": [
    {
     "data": {
      "text/plain": [
       "['BPF',\n",
       " 'LOG4',\n",
       " 'NV_MAGICCONST',\n",
       " 'RECIP_BPF',\n",
       " 'Random',\n",
       " 'SG_MAGICCONST',\n",
       " 'SystemRandom',\n",
       " 'TWOPI',\n",
       " '_ONE',\n",
       " '_Sequence',\n",
       " '__all__',\n",
       " '__builtins__',\n",
       " '__cached__',\n",
       " '__doc__',\n",
       " '__file__',\n",
       " '__loader__',\n",
       " '__name__',\n",
       " '__package__',\n",
       " '__spec__',\n",
       " '_accumulate',\n",
       " '_acos',\n",
       " '_bisect',\n",
       " '_ceil',\n",
       " '_cos',\n",
       " '_e',\n",
       " '_exp',\n",
       " '_fabs',\n",
       " '_floor',\n",
       " '_index',\n",
       " '_inst',\n",
       " '_isfinite',\n",
       " '_lgamma',\n",
       " '_log',\n",
       " '_log2',\n",
       " '_os',\n",
       " '_pi',\n",
       " '_random',\n",
       " '_repeat',\n",
       " '_sha512',\n",
       " '_sin',\n",
       " '_sqrt',\n",
       " '_test',\n",
       " '_test_generator',\n",
       " '_urandom',\n",
       " '_warn',\n",
       " 'betavariate',\n",
       " 'binomialvariate',\n",
       " 'choice',\n",
       " 'choices',\n",
       " 'expovariate',\n",
       " 'gammavariate',\n",
       " 'gauss',\n",
       " 'getrandbits',\n",
       " 'getstate',\n",
       " 'lognormvariate',\n",
       " 'normalvariate',\n",
       " 'paretovariate',\n",
       " 'randbytes',\n",
       " 'randint',\n",
       " 'random',\n",
       " 'randrange',\n",
       " 'sample',\n",
       " 'seed',\n",
       " 'setstate',\n",
       " 'shuffle',\n",
       " 'triangular',\n",
       " 'uniform',\n",
       " 'vonmisesvariate',\n",
       " 'weibullvariate']"
      ]
     },
     "execution_count": 102,
     "metadata": {},
     "output_type": "execute_result"
    }
   ],
   "source": [
    "import random\n",
    "dir(random)"
   ]
  },
  {
   "cell_type": "code",
   "execution_count": 104,
   "id": "16fbd15f-0e4c-4d66-9e39-d40dd19a2d4f",
   "metadata": {},
   "outputs": [
    {
     "data": {
      "text/plain": [
       "['__add__',\n",
       " '__class__',\n",
       " '__contains__',\n",
       " '__delattr__',\n",
       " '__dir__',\n",
       " '__doc__',\n",
       " '__eq__',\n",
       " '__format__',\n",
       " '__ge__',\n",
       " '__getattribute__',\n",
       " '__getitem__',\n",
       " '__getnewargs__',\n",
       " '__getstate__',\n",
       " '__gt__',\n",
       " '__hash__',\n",
       " '__init__',\n",
       " '__init_subclass__',\n",
       " '__iter__',\n",
       " '__le__',\n",
       " '__len__',\n",
       " '__lt__',\n",
       " '__mod__',\n",
       " '__mul__',\n",
       " '__ne__',\n",
       " '__new__',\n",
       " '__reduce__',\n",
       " '__reduce_ex__',\n",
       " '__repr__',\n",
       " '__rmod__',\n",
       " '__rmul__',\n",
       " '__setattr__',\n",
       " '__sizeof__',\n",
       " '__str__',\n",
       " '__subclasshook__',\n",
       " 'capitalize',\n",
       " 'casefold',\n",
       " 'center',\n",
       " 'count',\n",
       " 'encode',\n",
       " 'endswith',\n",
       " 'expandtabs',\n",
       " 'find',\n",
       " 'format',\n",
       " 'format_map',\n",
       " 'index',\n",
       " 'isalnum',\n",
       " 'isalpha',\n",
       " 'isascii',\n",
       " 'isdecimal',\n",
       " 'isdigit',\n",
       " 'isidentifier',\n",
       " 'islower',\n",
       " 'isnumeric',\n",
       " 'isprintable',\n",
       " 'isspace',\n",
       " 'istitle',\n",
       " 'isupper',\n",
       " 'join',\n",
       " 'ljust',\n",
       " 'lower',\n",
       " 'lstrip',\n",
       " 'maketrans',\n",
       " 'partition',\n",
       " 'removeprefix',\n",
       " 'removesuffix',\n",
       " 'replace',\n",
       " 'rfind',\n",
       " 'rindex',\n",
       " 'rjust',\n",
       " 'rpartition',\n",
       " 'rsplit',\n",
       " 'rstrip',\n",
       " 'split',\n",
       " 'splitlines',\n",
       " 'startswith',\n",
       " 'strip',\n",
       " 'swapcase',\n",
       " 'title',\n",
       " 'translate',\n",
       " 'upper',\n",
       " 'zfill']"
      ]
     },
     "execution_count": 104,
     "metadata": {},
     "output_type": "execute_result"
    }
   ],
   "source": [
    "name='python'     ### string methods\n",
    "dir(name)"
   ]
  },
  {
   "cell_type": "code",
   "execution_count": 106,
   "id": "a7ecd11a-73ac-4eb9-a695-21619247918d",
   "metadata": {},
   "outputs": [
    {
     "data": {
      "text/plain": [
       "'PYTHON'"
      ]
     },
     "execution_count": 106,
     "metadata": {},
     "output_type": "execute_result"
    }
   ],
   "source": [
    "name='python'\n",
    "dir(name)\n",
    "#upper\n",
    "name.upper()"
   ]
  },
  {
   "cell_type": "code",
   "execution_count": null,
   "id": "c3163dc2-39cc-4038-893d-e3b343aafe79",
   "metadata": {},
   "outputs": [],
   "source": [
    "<package_name>.<method_name>"
   ]
  },
  {
   "cell_type": "code",
   "execution_count": 108,
   "id": "89f6f545-9659-41a3-8354-73d5e1acb86f",
   "metadata": {},
   "outputs": [
    {
     "data": {
      "text/plain": [
       "'PYTHON'"
      ]
     },
     "execution_count": 108,
     "metadata": {},
     "output_type": "execute_result"
    }
   ],
   "source": [
    "name.upper()"
   ]
  },
  {
   "cell_type": "code",
   "execution_count": null,
   "id": "1cb69198-72bd-47ff-865f-332c7c0eaf29",
   "metadata": {},
   "outputs": [],
   "source": [
    "lower\n",
    "casefold\n",
    "center\n",
    "captalize\n",
    "title\n"
   ]
  },
  {
   "cell_type": "code",
   "execution_count": 110,
   "id": "8d030529-692c-4070-80da-e3c407a7dcc1",
   "metadata": {},
   "outputs": [
    {
     "data": {
      "text/plain": [
       "'python'"
      ]
     },
     "execution_count": 110,
     "metadata": {},
     "output_type": "execute_result"
    }
   ],
   "source": [
    "name.lower()"
   ]
  },
  {
   "cell_type": "code",
   "execution_count": 112,
   "id": "2df1ca2b-6f7c-4fb9-b0e4-822a13ea2d67",
   "metadata": {},
   "outputs": [
    {
     "data": {
      "text/plain": [
       "'python'"
      ]
     },
     "execution_count": 112,
     "metadata": {},
     "output_type": "execute_result"
    }
   ],
   "source": [
    "name.casefold()"
   ]
  },
  {
   "cell_type": "code",
   "execution_count": 114,
   "id": "a3f1ee41-bc5c-4dd9-95ce-a76d34272657",
   "metadata": {},
   "outputs": [
    {
     "ename": "TypeError",
     "evalue": "center expected at least 1 argument, got 0",
     "output_type": "error",
     "traceback": [
      "\u001b[1;31m---------------------------------------------------------------------------\u001b[0m",
      "\u001b[1;31mTypeError\u001b[0m                                 Traceback (most recent call last)",
      "Cell \u001b[1;32mIn[114], line 1\u001b[0m\n\u001b[1;32m----> 1\u001b[0m name\u001b[38;5;241m.\u001b[39mcenter()\n",
      "\u001b[1;31mTypeError\u001b[0m: center expected at least 1 argument, got 0"
     ]
    }
   ],
   "source": [
    "name.center()"
   ]
  },
  {
   "cell_type": "code",
   "execution_count": 116,
   "id": "a16277de-5156-4756-97ea-13d2f1e5d7b5",
   "metadata": {},
   "outputs": [
    {
     "ename": "AttributeError",
     "evalue": "'str' object has no attribute 'captalize'",
     "output_type": "error",
     "traceback": [
      "\u001b[1;31m---------------------------------------------------------------------------\u001b[0m",
      "\u001b[1;31mAttributeError\u001b[0m                            Traceback (most recent call last)",
      "Cell \u001b[1;32mIn[116], line 1\u001b[0m\n\u001b[1;32m----> 1\u001b[0m name\u001b[38;5;241m.\u001b[39mcaptalize()\n",
      "\u001b[1;31mAttributeError\u001b[0m: 'str' object has no attribute 'captalize'"
     ]
    }
   ],
   "source": [
    "name.captalize()"
   ]
  },
  {
   "cell_type": "code",
   "execution_count": 118,
   "id": "b6495040-30ec-48b6-ac1d-cace9aed15b9",
   "metadata": {},
   "outputs": [
    {
     "data": {
      "text/plain": [
       "'Python'"
      ]
     },
     "execution_count": 118,
     "metadata": {},
     "output_type": "execute_result"
    }
   ],
   "source": [
    "name.title()"
   ]
  },
  {
   "cell_type": "markdown",
   "id": "6c1e4d02-2c2e-4e72-869a-641576a08570",
   "metadata": {},
   "source": [
    "**output will not overwrite**\n",
    "\n",
    "- whenever we apply the function\n",
    "- always apply shift+tab\n",
    "- then if any arguments are there try to understand those\n",
    "- in that one argument name is called as **inplace**\n",
    "- inplace = True the result will be overwrite in oroginal variable\n",
    "- if inplace not available or inplace = False\n",
    "- then the output will not overwrite\n",
    "- in the upper case there is no arguments\n",
    "- so when we apply upper the output will not overwrite"
   ]
  },
  {
   "cell_type": "code",
   "execution_count": 127,
   "id": "5ba31724-3a6c-420c-a75d-54f8bcdcd0ac",
   "metadata": {},
   "outputs": [],
   "source": [
    "name='python'\n",
    "name_upper=name.upper()\n"
   ]
  },
  {
   "cell_type": "code",
   "execution_count": 129,
   "id": "9edd710c-33ed-46e2-a784-c4dc48dfb478",
   "metadata": {},
   "outputs": [
    {
     "name": "stdout",
     "output_type": "stream",
     "text": [
      "python\n",
      "PYTHON\n"
     ]
    }
   ],
   "source": [
    "print(name)\n",
    "print(name_upper)"
   ]
  },
  {
   "cell_type": "code",
   "execution_count": 131,
   "id": "3554c129-374c-4e79-a533-9193cfc5ace2",
   "metadata": {},
   "outputs": [
    {
     "data": {
      "text/plain": [
       "'python'"
      ]
     },
     "execution_count": 131,
     "metadata": {},
     "output_type": "execute_result"
    }
   ],
   "source": [
    "'PYTHON'.lower()"
   ]
  },
  {
   "cell_type": "code",
   "execution_count": 133,
   "id": "61a2d7d6-8adf-471b-806f-aef6e5f01238",
   "metadata": {},
   "outputs": [
    {
     "ename": "NameError",
     "evalue": "name 'lower' is not defined",
     "output_type": "error",
     "traceback": [
      "\u001b[1;31m---------------------------------------------------------------------------\u001b[0m",
      "\u001b[1;31mNameError\u001b[0m                                 Traceback (most recent call last)",
      "Cell \u001b[1;32mIn[133], line 1\u001b[0m\n\u001b[1;32m----> 1\u001b[0m lower(\u001b[38;5;124m'\u001b[39m\u001b[38;5;124mPYTHON\u001b[39m\u001b[38;5;124m'\u001b[39m)\n",
      "\u001b[1;31mNameError\u001b[0m: name 'lower' is not defined"
     ]
    }
   ],
   "source": [
    "lower('PYTHON')"
   ]
  },
  {
   "cell_type": "code",
   "execution_count": 135,
   "id": "069d8fca-efdf-4305-9b1d-f86fbf86ee9f",
   "metadata": {},
   "outputs": [
    {
     "data": {
      "text/plain": [
       "'P'"
      ]
     },
     "execution_count": 135,
     "metadata": {},
     "output_type": "execute_result"
    }
   ],
   "source": [
    "min('Python')"
   ]
  },
  {
   "cell_type": "code",
   "execution_count": 137,
   "id": "33a4e203-c84d-4ce5-acb3-77eb9c47f9db",
   "metadata": {},
   "outputs": [
    {
     "data": {
      "text/plain": [
       "'y'"
      ]
     },
     "execution_count": 137,
     "metadata": {},
     "output_type": "execute_result"
    }
   ],
   "source": [
    "max('Python')"
   ]
  },
  {
   "cell_type": "code",
   "execution_count": 139,
   "id": "de9e1f57-544e-4df9-95d3-6dabeb3e9392",
   "metadata": {},
   "outputs": [
    {
     "data": {
      "text/plain": [
       "6"
      ]
     },
     "execution_count": 139,
     "metadata": {},
     "output_type": "execute_result"
    }
   ],
   "source": [
    "len('Python')"
   ]
  },
  {
   "cell_type": "markdown",
   "id": "d5e75135-2a39-408a-bbb6-931553f1a989",
   "metadata": {},
   "source": [
    "**Methods Vs inbuit function**"
   ]
  },
  {
   "cell_type": "markdown",
   "id": "2b3094bb-ff88-4cd5-b69b-4d4868074943",
   "metadata": {},
   "source": [
    "- inbuilt functions applicable for all python data types \n",
    "- ex : print, type, min, max ....\n",
    "- access: inbuit_function(<value>)\n",
    "- method is a specific use for different data types\n",
    "- access: package.methodname()\n",
    "- access: element.methodname()"
   ]
  },
  {
   "cell_type": "code",
   "execution_count": 143,
   "id": "ec9fa0e5-e6b9-4814-a3f9-18c641487912",
   "metadata": {},
   "outputs": [
    {
     "data": {
      "text/plain": [
       "' python'"
      ]
     },
     "execution_count": 143,
     "metadata": {},
     "output_type": "execute_result"
    }
   ],
   "source": [
    "str1='python'\n",
    "str1.center(7)"
   ]
  },
  {
   "cell_type": "code",
   "execution_count": 147,
   "id": "aa8bc784-9dad-4cc7-b37e-b49ff3799552",
   "metadata": {},
   "outputs": [
    {
     "data": {
      "text/plain": [
       "'********python*******'"
      ]
     },
     "execution_count": 147,
     "metadata": {},
     "output_type": "execute_result"
    }
   ],
   "source": [
    "str1.center(21,'*')"
   ]
  },
  {
   "cell_type": "markdown",
   "id": "0b164cf9-bb43-4b9c-8e70-54e66a1d8c07",
   "metadata": {},
   "source": [
    "**replace**"
   ]
  },
  {
   "cell_type": "code",
   "execution_count": 152,
   "id": "e72bd57c-609a-4e6a-bc00-6167330d3d0b",
   "metadata": {},
   "outputs": [
    {
     "data": {
      "text/plain": [
       "'weLcome'"
      ]
     },
     "execution_count": 152,
     "metadata": {},
     "output_type": "execute_result"
    }
   ],
   "source": [
    "str1='welcome'\n",
    "# replace 'l' with 'L'\n",
    "\n",
    "str1.replace('l','L')"
   ]
  },
  {
   "cell_type": "code",
   "execution_count": 154,
   "id": "a1dad024-217b-4104-ae21-4ef434298b0c",
   "metadata": {},
   "outputs": [
    {
     "data": {
      "text/plain": [
       "'weLLLLcome'"
      ]
     },
     "execution_count": 154,
     "metadata": {},
     "output_type": "execute_result"
    }
   ],
   "source": [
    "str1='wellllcome'\n",
    "# replace 'l' with 'L'\n",
    "\n",
    "str1.replace('l','L')"
   ]
  },
  {
   "cell_type": "code",
   "execution_count": 156,
   "id": "4d1ce49a-8ce8-4cf7-8b0b-25ddf0a95cc0",
   "metadata": {},
   "outputs": [
    {
     "data": {
      "text/plain": [
       "'weLlllcome'"
      ]
     },
     "execution_count": 156,
     "metadata": {},
     "output_type": "execute_result"
    }
   ],
   "source": [
    "str1='wellllcome'\n",
    "# replace 'l' with 'L'\n",
    "\n",
    "str1.replace('l','L',1)"
   ]
  },
  {
   "cell_type": "code",
   "execution_count": 158,
   "id": "05e8e04f-e23e-4fd0-9362-54e3c9f6245f",
   "metadata": {},
   "outputs": [
    {
     "data": {
      "text/plain": [
       "'weLLllcome'"
      ]
     },
     "execution_count": 158,
     "metadata": {},
     "output_type": "execute_result"
    }
   ],
   "source": [
    "str1='wellllcome'\n",
    "# replace 'l' with 'L'\n",
    "\n",
    "str1.replace('l','L',2)"
   ]
  },
  {
   "cell_type": "code",
   "execution_count": 160,
   "id": "d745c629-d9fa-4d50-920a-b1478e2b55fe",
   "metadata": {},
   "outputs": [
    {
     "data": {
      "text/plain": [
       "'weLLLLcome'"
      ]
     },
     "execution_count": 160,
     "metadata": {},
     "output_type": "execute_result"
    }
   ],
   "source": [
    "str1='wellllcome'\n",
    "# replace 'l' with 'L'\n",
    "\n",
    "str1.replace('l','L',5)"
   ]
  },
  {
   "cell_type": "code",
   "execution_count": 162,
   "id": "55348be5-f0e1-418d-8e2f-8f6cca2cff41",
   "metadata": {},
   "outputs": [
    {
     "data": {
      "text/plain": [
       "'wellllcome'"
      ]
     },
     "execution_count": 162,
     "metadata": {},
     "output_type": "execute_result"
    }
   ],
   "source": [
    "str1='wellllcome'\n",
    "# replace 'l' with 'L'\n",
    "\n",
    "str1.replace('z','Z',)"
   ]
  },
  {
   "cell_type": "code",
   "execution_count": 1,
   "id": "7e46c0aa-a64c-4b06-a3d3-8ffaac03d0d0",
   "metadata": {},
   "outputs": [
    {
     "data": {
      "text/plain": [
       "'heLLo'"
      ]
     },
     "execution_count": 1,
     "metadata": {},
     "output_type": "execute_result"
    }
   ],
   "source": [
    "str1='hello'\n",
    "str1.replace('l','L')    #by default count=-1 ------> it means it will replace all "
   ]
  },
  {
   "cell_type": "markdown",
   "id": "cb95d44c-1319-4b29-8556-b367a39a6bc2",
   "metadata": {},
   "source": [
    "**How to replace the only second letter**"
   ]
  },
  {
   "cell_type": "code",
   "execution_count": 16,
   "id": "e487026b-40fc-40bf-a23b-20d70db8f6d2",
   "metadata": {},
   "outputs": [
    {
     "data": {
      "text/plain": [
       "'resta$t'"
      ]
     },
     "execution_count": 16,
     "metadata": {},
     "output_type": "execute_result"
    }
   ],
   "source": [
    "str1='restart'\n",
    "# ans: 'resta$t'\n",
    "\n",
    "str1.replace('rt','$t')"
   ]
  },
  {
   "cell_type": "markdown",
   "id": "abeb5b13-2629-4794-b794-14ea336810ca",
   "metadata": {},
   "source": [
    "- till first 'r' is the one string\n",
    "- after first 'r' is the another string"
   ]
  },
  {
   "cell_type": "code",
   "execution_count": 21,
   "id": "e625e6eb-f64b-47c7-b35d-7079e42d509d",
   "metadata": {},
   "outputs": [
    {
     "data": {
      "text/plain": [
       "'resta$t'"
      ]
     },
     "execution_count": 21,
     "metadata": {},
     "output_type": "execute_result"
    }
   ],
   "source": [
    "str1='restart'\n",
    "s1=str1[0] # indexing\n",
    "s2=str1[1:]  # slicing\n",
    "s3=s2.replace('r','$')   # replace\n",
    "s1+s3   # concatenation"
   ]
  },
  {
   "cell_type": "code",
   "execution_count": 23,
   "id": "07d39f2a-278e-4c71-a084-f7e3389a2f72",
   "metadata": {},
   "outputs": [
    {
     "data": {
      "text/plain": [
       "'resta$t'"
      ]
     },
     "execution_count": 23,
     "metadata": {},
     "output_type": "execute_result"
    }
   ],
   "source": [
    "str1='restart'\n",
    "str1[::-1].replace('r','$',1)[::-1]"
   ]
  },
  {
   "cell_type": "code",
   "execution_count": 30,
   "id": "0e29d210-7815-40ad-be68-36f328adfb12",
   "metadata": {},
   "outputs": [
    {
     "data": {
      "text/plain": [
       "'restart $estart'"
      ]
     },
     "execution_count": 30,
     "metadata": {},
     "output_type": "execute_result"
    }
   ],
   "source": [
    "str1='restart restart' \n",
    "# i want to replace the third 'r'\n",
    "# third 'r' means we have to already 2 'r's\n",
    "# we need to slice the sentence\n",
    "# till second 'r' : one string\n",
    "# after second 'r' : one string\n",
    "\n",
    "\n",
    "s1=str1[:6]\n",
    "s2=str1[6:]\n",
    "s3=s2.replace('r','$',1)\n",
    "s1+s3\n",
    "\n",
    "# but here the drawback is we need to find the index of second 'r'\n",
    "# we are manually counting\n",
    "\n",
    "# Next question: is there any method to give automatically "
   ]
  },
  {
   "cell_type": "markdown",
   "id": "30a427ef-040e-45fc-8d65-d18c9078000a",
   "metadata": {},
   "source": [
    "**index**"
   ]
  },
  {
   "cell_type": "code",
   "execution_count": 32,
   "id": "879474f2-b2ab-4a7b-8d02-0bc72140908a",
   "metadata": {},
   "outputs": [
    {
     "data": {
      "text/plain": [
       "0"
      ]
     },
     "execution_count": 32,
     "metadata": {},
     "output_type": "execute_result"
    }
   ],
   "source": [
    "str1='hello hai how are you'\n",
    "str1.index('h')"
   ]
  },
  {
   "cell_type": "code",
   "execution_count": 36,
   "id": "47c285ac-a980-4bc9-b678-e0fec56e5b65",
   "metadata": {},
   "outputs": [
    {
     "data": {
      "text/plain": [
       "(12, 4)"
      ]
     },
     "execution_count": 36,
     "metadata": {},
     "output_type": "execute_result"
    }
   ],
   "source": [
    "str1.index('w'),str1.index('o')"
   ]
  },
  {
   "cell_type": "code",
   "execution_count": 38,
   "id": "8662c0a4-191d-417d-8905-d0e48aaa27f6",
   "metadata": {},
   "outputs": [
    {
     "data": {
      "text/plain": [
       "(0, 4, 8, 12)"
      ]
     },
     "execution_count": 38,
     "metadata": {},
     "output_type": "execute_result"
    }
   ],
   "source": [
    "str1='hai hai hai hai'\n",
    "i1=str1.index('h')    # index = 0  \n",
    "i2=str1.index('h',i1+1)   # index= 4   -----> we are searching for 'h' from i1+1(0+1=1) index \n",
    "i3=str1.index('h',i2+1)  # index= 8     -----> we are searching for 'h' from i2+1(4+1=5) index \n",
    "i4=str1.index('h',i3+1)   # index= 12   -----> we are searching for 'h' from i3+1(8+1=9) index\n",
    "#i5=str1.index('h',i4+1)   # error because 5th 'h' is not available in string str1\n",
    "\n",
    "i1,i2,i3,i4"
   ]
  },
  {
   "cell_type": "code",
   "execution_count": 40,
   "id": "ecf543e8-d1fa-4797-bfcb-c25b7ba64089",
   "metadata": {},
   "outputs": [
    {
     "data": {
      "text/plain": [
       "8"
      ]
     },
     "execution_count": 40,
     "metadata": {},
     "output_type": "execute_result"
    }
   ],
   "source": [
    "str1.index('h',str1.index('h',str1.index('h')+1)+1)"
   ]
  },
  {
   "cell_type": "code",
   "execution_count": 42,
   "id": "d2ac5665-a8f4-414c-bbfb-6b1c03d104b9",
   "metadata": {},
   "outputs": [
    {
     "data": {
      "text/plain": [
       "5"
      ]
     },
     "execution_count": 42,
     "metadata": {},
     "output_type": "execute_result"
    }
   ],
   "source": [
    "str1='hai hai hai hai'\n",
    "str1.index('a',2,8)"
   ]
  },
  {
   "cell_type": "code",
   "execution_count": 46,
   "id": "88499eb0-9662-441e-847c-adee032c7891",
   "metadata": {},
   "outputs": [
    {
     "data": {
      "text/plain": [
       "'i hai '"
      ]
     },
     "execution_count": 46,
     "metadata": {},
     "output_type": "execute_result"
    }
   ],
   "source": [
    "str1='hai hai hai hai'\n",
    "str1.index('a',2,8)\n",
    "\n",
    "str1[2:8]"
   ]
  },
  {
   "cell_type": "code",
   "execution_count": 44,
   "id": "67c4d5a6-746e-4792-aa8f-ed39f14ba9cf",
   "metadata": {},
   "outputs": [
    {
     "ename": "ValueError",
     "evalue": "substring not found",
     "output_type": "error",
     "traceback": [
      "\u001b[1;31m---------------------------------------------------------------------------\u001b[0m",
      "\u001b[1;31mValueError\u001b[0m                                Traceback (most recent call last)",
      "Cell \u001b[1;32mIn[44], line 2\u001b[0m\n\u001b[0;32m      1\u001b[0m str1\u001b[38;5;241m=\u001b[39m\u001b[38;5;124m'\u001b[39m\u001b[38;5;124mhai hai hai hai\u001b[39m\u001b[38;5;124m'\u001b[39m\n\u001b[1;32m----> 2\u001b[0m str1\u001b[38;5;241m.\u001b[39mindex(\u001b[38;5;124m'\u001b[39m\u001b[38;5;124mz\u001b[39m\u001b[38;5;124m'\u001b[39m,\u001b[38;5;241m2\u001b[39m,\u001b[38;5;241m8\u001b[39m)\n",
      "\u001b[1;31mValueError\u001b[0m: substring not found"
     ]
    }
   ],
   "source": [
    "str1='hai hai hai hai'\n",
    "str1.index('z',2,8)"
   ]
  },
  {
   "cell_type": "code",
   "execution_count": 62,
   "id": "7db8143a-4151-4c62-a22e-e0241018db64",
   "metadata": {},
   "outputs": [
    {
     "name": "stdout",
     "output_type": "stream",
     "text": [
      "i2 = 5\n",
      "s1 = restar\n",
      "s2 = t restart\n"
     ]
    },
    {
     "data": {
      "text/plain": [
       "'restart $estart'"
      ]
     },
     "execution_count": 62,
     "metadata": {},
     "output_type": "execute_result"
    }
   ],
   "source": [
    "str1='restart restart' \n",
    "i1=str1.index('r')\n",
    "i2=str1.index('r',i1+1)\n",
    "print(f'i2 = {i2}')\n",
    "s1=str1[:i2+1]       # restar : starting : second\n",
    "print(f's1 = {s1}')\n",
    "s2=str1[i2+1:]       # \n",
    "print(f's2 = {s2}')\n",
    "s3=s2.replace('r','$',1)\n",
    "s1+s3"
   ]
  },
  {
   "cell_type": "markdown",
   "id": "ab5d69c0-ac5f-481f-b340-8092fa5246c6",
   "metadata": {},
   "source": [
    "**find**"
   ]
  },
  {
   "cell_type": "markdown",
   "id": "3b3fc17c-f99b-4a8a-938f-47b891044240",
   "metadata": {},
   "source": [
    "- just replace index with find\n",
    "- tell me the diffrence between index and find"
   ]
  },
  {
   "cell_type": "code",
   "execution_count": 70,
   "id": "9f1a7f56-6b9a-4e96-a6bd-4943953afb76",
   "metadata": {},
   "outputs": [
    {
     "data": {
      "text/plain": [
       "(0, 4, 8, 12, -1)"
      ]
     },
     "execution_count": 70,
     "metadata": {},
     "output_type": "execute_result"
    }
   ],
   "source": [
    "str1='hai hai hai hai'\n",
    "i1=str1.find('h')    # index = 0  \n",
    "i2=str1.find('h',i1+1)   # index= 4   -----> we are searching for 'h' from i1+1(0+1=1) index \n",
    "i3=str1.find('h',i2+1)  # index= 8     -----> we are searching for 'h' from i2+1(4+1=5) index \n",
    "i4=str1.find('h',i3+1)   # index= 12   -----> we are searching for 'h' from i3+1(8+1=9) index\n",
    "i5=str1.find('h',i4+1)   # error because 5th 'h' is not available in string str1\n",
    "\n",
    "i1,i2,i3,i4,i5"
   ]
  },
  {
   "cell_type": "markdown",
   "id": "5e49249e-8f88-4082-8956-fc0dee2686c5",
   "metadata": {},
   "source": [
    "**IMPORTANT NOTES**\n",
    "\n",
    "- index and find both are working for same purpose to find the index of a letter\n",
    "- if any substring not found index will throw error\n",
    "- but find method will give -1"
   ]
  },
  {
   "cell_type": "markdown",
   "id": "1039838e-d43b-4480-830f-1cff9b18e2f0",
   "metadata": {},
   "source": [
    "**count**"
   ]
  },
  {
   "cell_type": "code",
   "execution_count": 75,
   "id": "ce755aec-ec6d-40da-8046-a7ec39e690a9",
   "metadata": {},
   "outputs": [
    {
     "name": "stdout",
     "output_type": "stream",
     "text": [
      "4\n"
     ]
    }
   ],
   "source": [
    "str1='hai hai hai hai'\n",
    "count=0\n",
    "for i in str1:\n",
    "    if i=='a':\n",
    "        count=count+1\n",
    "print(count)"
   ]
  },
  {
   "cell_type": "code",
   "execution_count": 78,
   "id": "67a93aa9-9c80-4d20-856b-7babb28ccfa0",
   "metadata": {},
   "outputs": [
    {
     "data": {
      "text/plain": [
       "4"
      ]
     },
     "execution_count": 78,
     "metadata": {},
     "output_type": "execute_result"
    }
   ],
   "source": [
    "str1='hai hai hai hai'\n",
    "str1.count('a')"
   ]
  },
  {
   "cell_type": "code",
   "execution_count": 82,
   "id": "dad7ef81-9034-4bda-9be0-8a54a79c69f6",
   "metadata": {},
   "outputs": [
    {
     "data": {
      "text/plain": [
       "1"
      ]
     },
     "execution_count": 82,
     "metadata": {},
     "output_type": "execute_result"
    }
   ],
   "source": [
    "str1.count('a',2,7)\n",
    "\n",
    "# count the number of 'a' between 2 to 6 index"
   ]
  },
  {
   "cell_type": "code",
   "execution_count": 86,
   "id": "aae47757-7bae-4251-87aa-7f2f0db81b78",
   "metadata": {},
   "outputs": [
    {
     "data": {
      "text/plain": [
       "3"
      ]
     },
     "execution_count": 86,
     "metadata": {},
     "output_type": "execute_result"
    }
   ],
   "source": [
    "str1='hai hai hai'\n",
    "str1.count('hai')"
   ]
  },
  {
   "cell_type": "code",
   "execution_count": 92,
   "id": "c1a192cc-b8c9-418e-a04c-7f59ccc337a4",
   "metadata": {},
   "outputs": [
    {
     "data": {
      "text/plain": [
       "2"
      ]
     },
     "execution_count": 92,
     "metadata": {},
     "output_type": "execute_result"
    }
   ],
   "source": [
    "str1='hai hai hai'\n",
    "str1.count('hai ')"
   ]
  },
  {
   "cell_type": "code",
   "execution_count": 94,
   "id": "125b37c6-fb8b-4d0a-9d91-0983510b1792",
   "metadata": {},
   "outputs": [
    {
     "data": {
      "text/plain": [
       "1"
      ]
     },
     "execution_count": 94,
     "metadata": {},
     "output_type": "execute_result"
    }
   ],
   "source": [
    "str1='hai hai hai'\n",
    "str1.count('hai hai')"
   ]
  },
  {
   "cell_type": "code",
   "execution_count": 96,
   "id": "9b2a5c71-12b6-4b36-8328-6a06250f43ca",
   "metadata": {},
   "outputs": [
    {
     "data": {
      "text/plain": [
       "1"
      ]
     },
     "execution_count": 96,
     "metadata": {},
     "output_type": "execute_result"
    }
   ],
   "source": [
    "str1='hai hai hai'\n",
    "str1.count('hai hai ')"
   ]
  },
  {
   "cell_type": "code",
   "execution_count": 98,
   "id": "e24e530b-7885-4716-80af-86a56848f5a2",
   "metadata": {},
   "outputs": [
    {
     "data": {
      "text/plain": [
       "1"
      ]
     },
     "execution_count": 98,
     "metadata": {},
     "output_type": "execute_result"
    }
   ],
   "source": [
    "str1='hai hai hai'\n",
    "str1.count('hai hai hai')"
   ]
  },
  {
   "cell_type": "code",
   "execution_count": 84,
   "id": "9c7ac4c1-0a36-480e-912c-f0a539584ba5",
   "metadata": {},
   "outputs": [
    {
     "data": {
      "text/plain": [
       "1"
      ]
     },
     "execution_count": 84,
     "metadata": {},
     "output_type": "execute_result"
    }
   ],
   "source": [
    "str1='hai hai hai'\n",
    "str1.count(str1)"
   ]
  },
  {
   "cell_type": "markdown",
   "id": "883c8bbd-904d-4707-a649-c37221b6e1ed",
   "metadata": {},
   "source": [
    "**WINDOW SLIDING METHOD**"
   ]
  },
  {
   "cell_type": "code",
   "execution_count": 112,
   "id": "910162b0-3d1d-411f-bb84-7f52da31f96c",
   "metadata": {},
   "outputs": [
    {
     "name": "stdout",
     "output_type": "stream",
     "text": [
      "3\n"
     ]
    }
   ],
   "source": [
    "str1='hai hai hai'\n",
    "count=0\n",
    "for i in range(len(str1)):\n",
    "    if str1[i:i+3]=='hai':\n",
    "        count=count+1\n",
    "\n",
    "print(count)0\n",
    "\n",
    "# step-1: i=0 if str1[0:3] : 'hai'=='hai'  T  -----> count=1\n",
    "# step-2: i=1 if str1[1:4] : 'ai '=='hai'  F\n",
    "# step-3: i=2 if str1[2:5] : 'i h'==hai  F   so on"
   ]
  },
  {
   "cell_type": "code",
   "execution_count": null,
   "id": "f7ce6d5a-382d-40aa-b1b7-33fa6cefef30",
   "metadata": {},
   "outputs": [],
   "source": []
  },
  {
   "cell_type": "code",
   "execution_count": 135,
   "id": "c9d41fe8-da07-478f-bd4c-622936f98eb0",
   "metadata": {},
   "outputs": [
    {
     "name": "stdout",
     "output_type": "stream",
     "text": [
      "fname is: virat\n",
      "sname is: kohli\n",
      "cname is: rcb\n"
     ]
    }
   ],
   "source": [
    "str1='virat.kohli@rcb.com'\n",
    "str2='rohit.sharma@mi.com'\n",
    "str3='m.dhoni@chennai.com'\n",
    "str4='omkar.nallagoni@cts.com'\n",
    "str5='nandu.kishore@google.com'\n",
    "# Derive the code to get\n",
    "# first name, second name, Cname\n",
    "\n",
    "# idea\n",
    "# find the first dot index\n",
    "# find the @ index\n",
    "# find the second dot index\n",
    "\n",
    "\n",
    "\n",
    "s1=str1.index('.')\n",
    "s2=str1.index('@')\n",
    "s3=str1.index('.',s1+1)\n",
    "s1,s2,s3\n",
    "fname=str1[0:s1]\n",
    "print(f'fname is: {fname}')\n",
    "sname=str1[s1+1:s2]\n",
    "print(f'sname is: {sname}')\n",
    "cname=str1[s2+1:s3]\n",
    "print(f'cname is: {cname}')"
   ]
  },
  {
   "cell_type": "code",
   "execution_count": 145,
   "id": "b2d4ec5a-aa75-4595-8149-b50fec30b9e1",
   "metadata": {},
   "outputs": [
    {
     "ename": "TypeError",
     "evalue": "type 'str' is not subscriptable",
     "output_type": "error",
     "traceback": [
      "\u001b[1;31m---------------------------------------------------------------------------\u001b[0m",
      "\u001b[1;31mTypeError\u001b[0m                                 Traceback (most recent call last)",
      "Cell \u001b[1;32mIn[145], line 10\u001b[0m\n\u001b[0;32m      8\u001b[0m str4\u001b[38;5;241m=\u001b[39m\u001b[38;5;124m'\u001b[39m\u001b[38;5;124momkar.nallagoni@cts.com\u001b[39m\u001b[38;5;124m'\u001b[39m\n\u001b[0;32m      9\u001b[0m str5\u001b[38;5;241m=\u001b[39m\u001b[38;5;124m'\u001b[39m\u001b[38;5;124mnandu.kishore@google.com\u001b[39m\u001b[38;5;124m'\u001b[39m\n\u001b[1;32m---> 10\u001b[0m \u001b[38;5;28;01mfor\u001b[39;00m i \u001b[38;5;129;01min\u001b[39;00m \u001b[38;5;28mstr\u001b[39m[i]:\n\u001b[0;32m     11\u001b[0m     s1\u001b[38;5;241m=\u001b[39m\u001b[38;5;28mstr\u001b[39m[i]\u001b[38;5;241m.\u001b[39mindex(\u001b[38;5;124m'\u001b[39m\u001b[38;5;124m.\u001b[39m\u001b[38;5;124m'\u001b[39m)\n\u001b[0;32m     12\u001b[0m     s2\u001b[38;5;241m=\u001b[39m\u001b[38;5;28mstr\u001b[39m[i]\u001b[38;5;241m.\u001b[39mindex(\u001b[38;5;124m'\u001b[39m\u001b[38;5;124m@\u001b[39m\u001b[38;5;124m'\u001b[39m)\n",
      "\u001b[1;31mTypeError\u001b[0m: type 'str' is not subscriptable"
     ]
    }
   ],
   "source": [
    "# fname : available from starting to first_dot -----> s1\n",
    "# sname : \n",
    "# canme : vailable from @ symbot to secnd_dot ----> s2\n",
    "\n",
    "str1='virat.kohli@rcb.com'\n",
    "str2='rohit.sharma@mi.com'\n",
    "str3='m.dhoni@chennai.com'\n",
    "str4='omkar.nallagoni@cts.com'\n",
    "str5='nandu.kishore@google.com'\n",
    "for i in str[i]:\n",
    "    s1=str[i].index('.')\n",
    "    s2=str[i].index('@')\n",
    "    s3=str[i].index('.',s1+1)\n",
    "    #s1,s2,s3\n",
    "    fname=str[i][0:s1]\n",
    "    print(f'fname of {str[i]}: {fname}')\n",
    "    sname=str[i][s1+1:s2]\n",
    "    print(f'sname of {str[i]}: {sname}')\n",
    "    cname=str[i][s2+1:s3]\n",
    "    print(f'cname of {str[i]}: {cname}')\n"
   ]
  },
  {
   "cell_type": "code",
   "execution_count": null,
   "id": "5a2d1ec1-8647-4cf6-a4e3-a45220975bb2",
   "metadata": {},
   "outputs": [],
   "source": [
    "def extraction(str1):\n",
    "    first_dot=str1.index('.')\n",
    "    second_dot=str1.index('.',first_dot+1)\n",
    "    at_rate=str1.index('@')\n",
    "    "
   ]
  },
  {
   "cell_type": "code",
   "execution_count": 141,
   "id": "3ab9729d-4e13-40ad-8fc2-67715c9637ae",
   "metadata": {},
   "outputs": [
    {
     "data": {
      "text/plain": [
       "['__add__',\n",
       " '__class__',\n",
       " '__contains__',\n",
       " '__delattr__',\n",
       " '__dir__',\n",
       " '__doc__',\n",
       " '__eq__',\n",
       " '__format__',\n",
       " '__ge__',\n",
       " '__getattribute__',\n",
       " '__getitem__',\n",
       " '__getnewargs__',\n",
       " '__getstate__',\n",
       " '__gt__',\n",
       " '__hash__',\n",
       " '__init__',\n",
       " '__init_subclass__',\n",
       " '__iter__',\n",
       " '__le__',\n",
       " '__len__',\n",
       " '__lt__',\n",
       " '__mod__',\n",
       " '__mul__',\n",
       " '__ne__',\n",
       " '__new__',\n",
       " '__reduce__',\n",
       " '__reduce_ex__',\n",
       " '__repr__',\n",
       " '__rmod__',\n",
       " '__rmul__',\n",
       " '__setattr__',\n",
       " '__sizeof__',\n",
       " '__str__',\n",
       " '__subclasshook__',\n",
       " 'capitalize',\n",
       " 'casefold',\n",
       " 'center',\n",
       " 'count',\n",
       " 'encode',\n",
       " 'endswith',\n",
       " 'expandtabs',\n",
       " 'find',\n",
       " 'format',\n",
       " 'format_map',\n",
       " 'index',\n",
       " 'isalnum',\n",
       " 'isalpha',\n",
       " 'isascii',\n",
       " 'isdecimal',\n",
       " 'isdigit',\n",
       " 'isidentifier',\n",
       " 'islower',\n",
       " 'isnumeric',\n",
       " 'isprintable',\n",
       " 'isspace',\n",
       " 'istitle',\n",
       " 'isupper',\n",
       " 'join',\n",
       " 'ljust',\n",
       " 'lower',\n",
       " 'lstrip',\n",
       " 'maketrans',\n",
       " 'partition',\n",
       " 'removeprefix',\n",
       " 'removesuffix',\n",
       " 'replace',\n",
       " 'rfind',\n",
       " 'rindex',\n",
       " 'rjust',\n",
       " 'rpartition',\n",
       " 'rsplit',\n",
       " 'rstrip',\n",
       " 'split',\n",
       " 'splitlines',\n",
       " 'startswith',\n",
       " 'strip',\n",
       " 'swapcase',\n",
       " 'title',\n",
       " 'translate',\n",
       " 'upper',\n",
       " 'zfill']"
      ]
     },
     "execution_count": 141,
     "metadata": {},
     "output_type": "execute_result"
    }
   ],
   "source": [
    "dir('')"
   ]
  },
  {
   "cell_type": "code",
   "execution_count": 143,
   "id": "2e99eb53-1ee4-46d3-9071-e8cb55399acd",
   "metadata": {},
   "outputs": [
    {
     "data": {
      "text/plain": [
       "False"
      ]
     },
     "execution_count": 143,
     "metadata": {},
     "output_type": "execute_result"
    }
   ],
   "source": [
    "str1='python'\n",
    "str1.isupper()"
   ]
  },
  {
   "cell_type": "markdown",
   "id": "3fdfcc7e-e105-4bcd-b761-49867969c6bf",
   "metadata": {},
   "source": [
    "**lstrip-strip-rstrip**"
   ]
  },
  {
   "cell_type": "markdown",
   "id": "f0ed12cf-c506-4fdf-a67d-839337355ec1",
   "metadata": {},
   "source": [
    "- lstrip : we can remove some letters from left side of string\n",
    "- rstrip : we can remove some letters from right side of string\n",
    "- strip : we can remove some letters from both side of string"
   ]
  },
  {
   "cell_type": "code",
   "execution_count": 153,
   "id": "5aafde4a-12cd-4a0a-8138-49a171bb03f1",
   "metadata": {},
   "outputs": [],
   "source": [
    "s11=' hai how are you'\n",
    "s22='hai how are you '\n",
    "s33=' hai how are you '\n"
   ]
  },
  {
   "cell_type": "code",
   "execution_count": 157,
   "id": "9acdd761-46a8-4ce8-814d-b92bf81a318c",
   "metadata": {},
   "outputs": [
    {
     "data": {
      "text/plain": [
       "('hai how are you', 'hai how are you', 'hai how are you')"
      ]
     },
     "execution_count": 157,
     "metadata": {},
     "output_type": "execute_result"
    }
   ],
   "source": [
    "s11.lstrip(),s22.rstrip(),s33.strip()"
   ]
  },
  {
   "cell_type": "code",
   "execution_count": 178,
   "id": "6a98114b-2b86-449d-9907-060b882b0cdb",
   "metadata": {},
   "outputs": [
    {
     "data": {
      "text/plain": [
       "'***hai how are you'"
      ]
     },
     "execution_count": 178,
     "metadata": {},
     "output_type": "execute_result"
    }
   ],
   "source": [
    "s1='***hai how are you'\n",
    "s1.lstrip()"
   ]
  },
  {
   "cell_type": "markdown",
   "id": "60aaab58-544e-4418-bba1-92172946c908",
   "metadata": {},
   "source": [
    "**startswith-endswith**"
   ]
  },
  {
   "cell_type": "code",
   "execution_count": 168,
   "id": "fa40525e-7d74-42fe-b113-33b85dd983db",
   "metadata": {},
   "outputs": [
    {
     "data": {
      "text/plain": [
       "True"
      ]
     },
     "execution_count": 168,
     "metadata": {},
     "output_type": "execute_result"
    }
   ],
   "source": [
    "str1='hai how are you'\n",
    "str1.startswith('hai how are you')"
   ]
  },
  {
   "cell_type": "code",
   "execution_count": 170,
   "id": "8e45a9c3-6430-48c0-82df-49603d188b37",
   "metadata": {},
   "outputs": [
    {
     "data": {
      "text/plain": [
       "True"
      ]
     },
     "execution_count": 170,
     "metadata": {},
     "output_type": "execute_result"
    }
   ],
   "source": [
    "str1='hai how are you'\n",
    "str1.startswith(str1)"
   ]
  },
  {
   "cell_type": "markdown",
   "id": "b9de0a52-62a5-4a49-b8d7-516474b9d2d9",
   "metadata": {},
   "source": [
    "**split**"
   ]
  },
  {
   "cell_type": "code",
   "execution_count": 183,
   "id": "1d13adb3-2ddc-46f5-b00e-36826b0f5e9d",
   "metadata": {},
   "outputs": [
    {
     "data": {
      "text/plain": [
       "['hello', 'how', 'are', 'you']"
      ]
     },
     "execution_count": 183,
     "metadata": {},
     "output_type": "execute_result"
    }
   ],
   "source": [
    "str1='hello how are you'\n",
    "str1.split()"
   ]
  },
  {
   "cell_type": "code",
   "execution_count": 185,
   "id": "6ce4d9a1-c8d1-4a14-8cb2-8162bcf92002",
   "metadata": {},
   "outputs": [
    {
     "data": {
      "text/plain": [
       "['', 'ello ', 'ow are you']"
      ]
     },
     "execution_count": 185,
     "metadata": {},
     "output_type": "execute_result"
    }
   ],
   "source": [
    " str1.split('h')"
   ]
  },
  {
   "cell_type": "code",
   "execution_count": 187,
   "id": "40b7a03d-e195-49bb-9ede-dfaf77fee86a",
   "metadata": {},
   "outputs": [
    {
     "data": {
      "text/plain": [
       "['h', 'i h', 'i h', 'i h', 'i']"
      ]
     },
     "execution_count": 187,
     "metadata": {},
     "output_type": "execute_result"
    }
   ],
   "source": [
    "str1='hai hai hai hai'\n",
    "str1.split('a')"
   ]
  },
  {
   "cell_type": "code",
   "execution_count": null,
   "id": "695b9768-51c4-456f-a836-7ce143ebd78e",
   "metadata": {},
   "outputs": [],
   "source": [
    "# in a given sentence find the most repeated word\n",
    "# in a given sentence find the min and max len of word\n",
    "# in a given sentence most occured second max length of word\n",
    "# sliding window \n",
    "# how to convert string to list and vice versa\n",
    "# hai how are you -----> Hai How Are You (without method)"
   ]
  }
 ],
 "metadata": {
  "kernelspec": {
   "display_name": "Python 3 (ipykernel)",
   "language": "python",
   "name": "python3"
  },
  "language_info": {
   "codemirror_mode": {
    "name": "ipython",
    "version": 3
   },
   "file_extension": ".py",
   "mimetype": "text/x-python",
   "name": "python",
   "nbconvert_exporter": "python",
   "pygments_lexer": "ipython3",
   "version": "3.12.4"
  }
 },
 "nbformat": 4,
 "nbformat_minor": 5
}
