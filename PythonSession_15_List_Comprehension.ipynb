{
 "cells": [
  {
   "cell_type": "markdown",
   "id": "fab7ae89-d1e5-47dd-ba32-ef158864308f",
   "metadata": {},
   "source": [
    "- List comprehension is a way to write the code line in a single line\n",
    "- whenever we use for loops and if conditions the time will be increase\n",
    "- list comprehension will able to write for loop and if condition in a single line\n",
    "- which reduce the time to get the output\n"
   ]
  },
  {
   "cell_type": "code",
   "execution_count": 2,
   "id": "4747d173-4b29-4baa-99d4-2aa093a8274b",
   "metadata": {},
   "outputs": [
    {
     "name": "stdout",
     "output_type": "stream",
     "text": [
      "0 1 2 3 4 5 6 7 8 9 "
     ]
    }
   ],
   "source": [
    "for i in range(10):\n",
    "    print(i,end=' ')"
   ]
  },
  {
   "cell_type": "code",
   "execution_count": 4,
   "id": "1b1bc468-6729-44b0-ae54-084d5fc9edbd",
   "metadata": {},
   "outputs": [
    {
     "data": {
      "text/plain": [
       "[0, 1, 2, 3, 4, 5, 6, 7, 8, 9]"
      ]
     },
     "execution_count": 4,
     "metadata": {},
     "output_type": "execute_result"
    }
   ],
   "source": [
    "list1=[]\n",
    "for i in range(10):\n",
    "    list1.append(i)\n",
    "list1"
   ]
  },
  {
   "cell_type": "markdown",
   "id": "3a898705-db72-4a83-bb2d-168d13283fdc",
   "metadata": {},
   "source": [
    "**Method-1: Only for loop**"
   ]
  },
  {
   "cell_type": "code",
   "execution_count": 8,
   "id": "624c6779-c261-4e46-be91-0e25a79430f5",
   "metadata": {},
   "outputs": [],
   "source": [
    "#list1=[<code here>]\n",
    "#list1=[<output> <for loop>]"
   ]
  },
  {
   "cell_type": "code",
   "execution_count": 10,
   "id": "b5f77c5f-8a48-43fb-8c6e-09741f69453f",
   "metadata": {},
   "outputs": [
    {
     "data": {
      "text/plain": [
       "[0, 1, 2, 3, 4, 5, 6, 7, 8, 9]"
      ]
     },
     "execution_count": 10,
     "metadata": {},
     "output_type": "execute_result"
    }
   ],
   "source": [
    "list1=[i for i in range(10)]\n",
    "list1"
   ]
  },
  {
   "cell_type": "code",
   "execution_count": 12,
   "id": "f6e73285-10aa-42c6-98a9-b74428c2b49a",
   "metadata": {},
   "outputs": [],
   "source": [
    "#Q1)  l1=['hyd','chennai','mumbai','pune']\n",
    "#     ans=['Hyd','Chennai','Mumabi','Pune']\n",
    "\n",
    "#Q2)  l1=['hyd','chennai','mumbai','pune']\n",
    "#     ans=['HYD','CHENNAI','MUMBAI','PUNE']\n",
    "\n",
    "#Q3)  l1=['hyd','chennai','mumbai','pune']\n",
    "#     ans=[0,10,20,30]  multiply index with 10\n",
    "\n",
    "#Q4)  l1=['hyd','chennai','mumbai','pune']\n",
    "#     ans=[6]  sum of indexes"
   ]
  },
  {
   "cell_type": "code",
   "execution_count": 24,
   "id": "026a805e-5c68-4752-8f12-ac662391e31a",
   "metadata": {},
   "outputs": [
    {
     "data": {
      "text/plain": [
       "['Hyd', 'Chennai', 'Mumbai', 'Pune']"
      ]
     },
     "execution_count": 24,
     "metadata": {},
     "output_type": "execute_result"
    }
   ],
   "source": [
    "#Q1)  l1=['hyd','chennai','mumbai','pune']\n",
    "#     ans=['Hyd','Chennai','Mumabi','Pune']\n",
    "\n",
    "\n",
    "l1=['hyd','chennai','mumbai','pune']\n",
    "ans=[]\n",
    "for i in l1:\n",
    "    ans.append(i.capitalize())\n",
    "\n",
    "ans"
   ]
  },
  {
   "cell_type": "code",
   "execution_count": 26,
   "id": "b22c8ddb-3957-4304-a216-8ff13bf49dec",
   "metadata": {},
   "outputs": [
    {
     "data": {
      "text/plain": [
       "['Hyd', 'Chennai', 'Mumbai', 'Pune']"
      ]
     },
     "execution_count": 26,
     "metadata": {},
     "output_type": "execute_result"
    }
   ],
   "source": [
    "ans=[i.capitalize() for i in ['hyd','chennai','mumbai','pune']]\n",
    "ans"
   ]
  },
  {
   "cell_type": "code",
   "execution_count": 32,
   "id": "e0aa4487-1ae2-4be0-8add-b1a6e170a5ab",
   "metadata": {},
   "outputs": [
    {
     "data": {
      "text/plain": [
       "['HYD', 'CHENNAI', 'MUMBAI', 'PUNE']"
      ]
     },
     "execution_count": 32,
     "metadata": {},
     "output_type": "execute_result"
    }
   ],
   "source": [
    "#Q2)  l1=['hyd','chennai','mumbai','pune']\n",
    "#     ans=['HYD','CHENNAI','MUMBAI','PUNE']\n",
    "\n",
    "l1=['hyd','chennai','mumbai','pune']\n",
    "ans=[i.upper() for i in l1]\n",
    "ans"
   ]
  },
  {
   "cell_type": "code",
   "execution_count": 48,
   "id": "83185151-8054-46bd-81cf-60ecb07e98c9",
   "metadata": {},
   "outputs": [
    {
     "data": {
      "text/plain": [
       "[0, 10, 20, 30]"
      ]
     },
     "execution_count": 48,
     "metadata": {},
     "output_type": "execute_result"
    }
   ],
   "source": [
    "#Q3)  l1=['hyd','chennai','mumbai','pune']\n",
    "#     ans=[0,10,20,30]  multiply index with 10\n",
    "\n",
    "l1=['hyd','chennai','mumbai','pune']\n",
    "ans=[]\n",
    "for i in l1:\n",
    "    ans.append(l1.index(i)*10)\n",
    "\n",
    "ans"
   ]
  },
  {
   "cell_type": "code",
   "execution_count": 50,
   "id": "b1032f91-91f5-4658-9dce-a27c40ee7627",
   "metadata": {},
   "outputs": [
    {
     "data": {
      "text/plain": [
       "[0, 10, 20, 30]"
      ]
     },
     "execution_count": 50,
     "metadata": {},
     "output_type": "execute_result"
    }
   ],
   "source": [
    "ans=[l1.index(i)*10 for i in l1]\n",
    "ans"
   ]
  },
  {
   "cell_type": "code",
   "execution_count": 152,
   "id": "3920e3ec-2b52-4293-bc90-7986700c9b22",
   "metadata": {},
   "outputs": [
    {
     "data": {
      "text/plain": [
       "6"
      ]
     },
     "execution_count": 152,
     "metadata": {},
     "output_type": "execute_result"
    }
   ],
   "source": [
    "#Q4)  l1=['hyd','chennai','mumbai','pune']\n",
    "#     ans=[6]  sum of indexes\n",
    "\n",
    "l1=['hyd','chennai','mumbai','pune']\n",
    "summ=0\n",
    "ans=[l1.index(i) for i in l1]\n",
    "sum(ans)"
   ]
  },
  {
   "cell_type": "code",
   "execution_count": 154,
   "id": "5adaeae1-96e0-47ec-9b8f-5e04cdd994f3",
   "metadata": {},
   "outputs": [
    {
     "ename": "SyntaxError",
     "evalue": "invalid syntax. Maybe you meant '==' or ':=' instead of '='? (3200537229.py, line 3)",
     "output_type": "error",
     "traceback": [
      "\u001b[1;36m  Cell \u001b[1;32mIn[154], line 3\u001b[1;36m\u001b[0m\n\u001b[1;33m    ans=[summ=summ+l1.index(i) for i in l1]\u001b[0m\n\u001b[1;37m         ^\u001b[0m\n\u001b[1;31mSyntaxError\u001b[0m\u001b[1;31m:\u001b[0m invalid syntax. Maybe you meant '==' or ':=' instead of '='?\n"
     ]
    }
   ],
   "source": [
    "l1=['hyd','chennai','mumbai','pune']\n",
    "summ=0\n",
    "ans=[summ=summ+l1.index(i) for i in l1]\n",
    "ans"
   ]
  },
  {
   "cell_type": "code",
   "execution_count": 60,
   "id": "67ef2e0b-a9a6-4655-954c-22fe5ff973f8",
   "metadata": {},
   "outputs": [
    {
     "name": "stdout",
     "output_type": "stream",
     "text": [
      "0\n",
      "2\n",
      "6\n",
      "12\n"
     ]
    }
   ],
   "source": [
    "summ=0\n",
    "for i in l1:\n",
    "    summ=summ+l1.index(i)\n",
    "    summ+=l1.index(i)\n",
    "    print(summ)"
   ]
  },
  {
   "cell_type": "code",
   "execution_count": 62,
   "id": "7e873bda-0897-42ab-aa3c-0669f10cb4dc",
   "metadata": {},
   "outputs": [
    {
     "data": {
      "text/plain": [
       "[0, 1, 2, 3]"
      ]
     },
     "execution_count": 62,
     "metadata": {},
     "output_type": "execute_result"
    }
   ],
   "source": [
    "l1=['hyd','chennai','mumbai','pune']\n",
    "summ=0\n",
    "ans=[i for i in range(len(l1))]\n",
    "ans"
   ]
  },
  {
   "cell_type": "markdown",
   "id": "0a0c1f8f-60b9-4f24-8744-06344d5a5c43",
   "metadata": {},
   "source": [
    "**Method-2: for loop with if condition**"
   ]
  },
  {
   "cell_type": "code",
   "execution_count": 69,
   "id": "a4ece35c-a0f6-418e-ac43-0d1af19baae4",
   "metadata": {},
   "outputs": [
    {
     "data": {
      "text/plain": [
       "['chen#ai', 'mu#bai']"
      ]
     },
     "execution_count": 69,
     "metadata": {},
     "output_type": "execute_result"
    }
   ],
   "source": [
    "#Q1)  l1=['hyd','chen#ai','mu#bai','pune']\n",
    "#     ans=['chen#ai','mu#bai']\n",
    "\n",
    "l1=['hyd','chen#ai','mu#bai','pune']\n",
    "ans=[]\n",
    "for i in l1:\n",
    "    if '#' in i:\n",
    "        ans.append(i)\n",
    "\n",
    "ans"
   ]
  },
  {
   "cell_type": "code",
   "execution_count": 71,
   "id": "98704678-efac-41ff-a54e-b8718943eb6a",
   "metadata": {},
   "outputs": [],
   "source": [
    "\n",
    "# [<output> <for loop> <if condition>]"
   ]
  },
  {
   "cell_type": "code",
   "execution_count": 81,
   "id": "4fd176ef-657c-4fa7-bb7a-69cff3deef29",
   "metadata": {},
   "outputs": [
    {
     "data": {
      "text/plain": [
       "['chen#ai', 'mu#bai']"
      ]
     },
     "execution_count": 81,
     "metadata": {},
     "output_type": "execute_result"
    }
   ],
   "source": [
    "ans=[i for i in l1 if '#' in i]\n",
    "ans"
   ]
  },
  {
   "cell_type": "code",
   "execution_count": 85,
   "id": "1491be4d-90a2-4365-8ce4-90fde2066c2c",
   "metadata": {},
   "outputs": [
    {
     "data": {
      "text/plain": [
       "['hyd', 'pune']"
      ]
     },
     "execution_count": 85,
     "metadata": {},
     "output_type": "execute_result"
    }
   ],
   "source": [
    "#Q2)  l1=['hyd','chen#ai','mu#bai','pune']\n",
    "#     ans=['hyd','pune']\n",
    "\n",
    "ans=[i for i in l1 if '#' not in i]\n",
    "ans"
   ]
  },
  {
   "cell_type": "code",
   "execution_count": 87,
   "id": "cae8ce78-1b00-4aef-9917-f3861697cb62",
   "metadata": {},
   "outputs": [
    {
     "name": "stdout",
     "output_type": "stream",
     "text": [
      "[20, 38, 52, 100]\n",
      "[27, 47, 87]\n"
     ]
    }
   ],
   "source": [
    "# Q3) dont give if and else\n",
    "# write two answers both will use if only\n",
    "# evenlist=[<write your code here>]\n",
    "# oddlist=[<write your code here>]\n",
    "\n",
    "# list1=[100,20,27,38,47,52,87]\n",
    "# using this we need to extract even and odd numbers\n",
    "# even_list= the output should be sorted\n",
    "# odd_list= the output should be sorted\n",
    "\n",
    "list1=[100,20,27,38,47,52,87]\n",
    "even_list=[]\n",
    "odd_list=[]\n",
    "for i in list1:\n",
    "    if i%2==0:\n",
    "        even_list.append(i)\n",
    "    else:\n",
    "        odd_list.append(i)\n",
    "\n",
    "even_list.sort()\n",
    "odd_list.sort()\n",
    "\n",
    "print(even_list)\n",
    "print(odd_list)"
   ]
  },
  {
   "cell_type": "code",
   "execution_count": 99,
   "id": "07c60d73-f7dd-42f4-8086-530db41ddde3",
   "metadata": {},
   "outputs": [
    {
     "data": {
      "text/plain": [
       "([100, 20, 38, 52], [27, 47, 87])"
      ]
     },
     "execution_count": 99,
     "metadata": {},
     "output_type": "execute_result"
    }
   ],
   "source": [
    "even_list=[i for i in list1 if i%2==0]\n",
    "\n",
    "odd_list=[i for i in list1 if i%2!=0]\n",
    "even_list,odd_list"
   ]
  },
  {
   "cell_type": "markdown",
   "id": "363a607f-6342-446a-89a2-23fc07220808",
   "metadata": {},
   "source": [
    "**Method-3: for loop-if-else**"
   ]
  },
  {
   "cell_type": "code",
   "execution_count": 102,
   "id": "11bce481-fe62-422b-b4de-52282302103e",
   "metadata": {},
   "outputs": [],
   "source": [
    "# method-1: [<output> <forloop>]\n",
    "# method-2: [<output> <for loop> <if condition>]\n",
    "# method-3: [<if output> <if condition> else <else output> <for loop>]\n",
    "\n"
   ]
  },
  {
   "cell_type": "code",
   "execution_count": 106,
   "id": "46c46ae9-e2f4-4298-b513-155b4261608a",
   "metadata": {},
   "outputs": [
    {
     "data": {
      "text/plain": [
       "[100, 20, 27, 38, 47, 52, 87]"
      ]
     },
     "execution_count": 106,
     "metadata": {},
     "output_type": "execute_result"
    }
   ],
   "source": [
    "ans=[i if i%2==0 else i for i in list1]\n",
    "ans"
   ]
  },
  {
   "cell_type": "code",
   "execution_count": 110,
   "id": "b8cb61ca-77a9-4f40-bb6b-d283d07a4cc3",
   "metadata": {},
   "outputs": [
    {
     "data": {
      "text/plain": [
       "['even:100', 'even:20', 'odd:27', 'even:38', 'odd:47', 'even:52', 'odd:87']"
      ]
     },
     "execution_count": 110,
     "metadata": {},
     "output_type": "execute_result"
    }
   ],
   "source": [
    "ans=[f'even:{i}' if i%2==0 else f'odd:{i}' for i in list1]\n",
    "ans"
   ]
  },
  {
   "cell_type": "code",
   "execution_count": null,
   "id": "5b6d986f-b6e3-4ff9-b3a4-d150141d6ab3",
   "metadata": {},
   "outputs": [],
   "source": [
    "l=[45,76,89,53,67,90,82,49,33,99]\n",
    "# 1. filter the students who passes marks>=50\n",
    "# 2. calculate grades of all students\n",
    "#            A: 85+, B: 70-84  C: 50-69   D: <50\n",
    "#            4 lists will come\n",
    "# 3. Add 5 grace marks to students who failed <50\n",
    "# 4. Find the average marks of the class"
   ]
  },
  {
   "cell_type": "code",
   "execution_count": 114,
   "id": "8a75644c-f252-44d5-bf31-9db1a04cd735",
   "metadata": {},
   "outputs": [
    {
     "data": {
      "text/plain": [
       "[76, 89, 53, 67, 90, 82, 99]"
      ]
     },
     "execution_count": 114,
     "metadata": {},
     "output_type": "execute_result"
    }
   ],
   "source": [
    "# 1. filter the students who passes marks>=50\n",
    "\n",
    "l=[45,76,89,53,67,90,82,49,33,99]\n",
    "marks=[i for i in l if i>=50]\n",
    "marks"
   ]
  },
  {
   "cell_type": "code",
   "execution_count": 122,
   "id": "48e5dcb8-56c9-465b-a98f-b0f5c3773e87",
   "metadata": {},
   "outputs": [
    {
     "name": "stdout",
     "output_type": "stream",
     "text": [
      "A grade: [89, 90, 99]\n",
      "B grade: [76, 82]\n",
      "C grade: [53, 67]\n",
      "D grade: [45, 49, 33]\n"
     ]
    }
   ],
   "source": [
    "# 2. calculate grades of all students\n",
    "#            A: 85+, B: 70-84  C: 50-69   D: <50\n",
    "#            4 lists will come\n",
    "\n",
    "l=[45,76,89,53,67,90,82,49,33,99]\n",
    "A_grade=[i for i in l if i>=85]\n",
    "B_grade=[i for i in l if 70<i<84]\n",
    "C_grade=[i for i in l if 50<i<69]\n",
    "D_grade=[i for i in l if i<50]\n",
    "print('A grade:', A_grade)\n",
    "print('B grade:', B_grade)\n",
    "print('C grade:', C_grade)\n",
    "print('D grade:', D_grade)"
   ]
  },
  {
   "cell_type": "code",
   "execution_count": 129,
   "id": "cee689c1-2f4f-4d84-9b1e-8ecdee7a6329",
   "metadata": {},
   "outputs": [
    {
     "data": {
      "text/plain": [
       "['D:45',\n",
       " 'B:76',\n",
       " 'A:89',\n",
       " 'C:53',\n",
       " 'C:67',\n",
       " 'A:90',\n",
       " 'B:82',\n",
       " 'D:49',\n",
       " 'D:33',\n",
       " 'A:99']"
      ]
     },
     "execution_count": 129,
     "metadata": {},
     "output_type": "execute_result"
    }
   ],
   "source": [
    "# 2. calculate grades of all students\n",
    "#            A: 85+, B: 70-84  C: 50-69   D: <50\n",
    "#            4 lists will come\n",
    "\n",
    "grade_list=[]\n",
    "for i in l:\n",
    "    if i>85:\n",
    "        grade_list.append(f'A:{i}')\n",
    "    elif i>=70:\n",
    "        grade_list.append(f'B:{i}')\n",
    "    elif i>=50:\n",
    "        grade_list.append(f'C:{i}')\n",
    "    else:\n",
    "        grade_list.append(f'D:{i}')\n",
    "\n",
    "grade_list"
   ]
  },
  {
   "cell_type": "code",
   "execution_count": 124,
   "id": "f2bf7ded-89ce-454c-a88a-f0c4fd9ed4a2",
   "metadata": {},
   "outputs": [
    {
     "name": "stdout",
     "output_type": "stream",
     "text": [
      "Graced_stu: [50, 54, 38]\n"
     ]
    }
   ],
   "source": [
    "# 3. Add 5 grace marks to students who failed <50\n",
    "\n",
    "l=[45,76,89,53,67,90,82,49,33,99]\n",
    "Graced_stu=[i+5 for i in l if i<50]\n",
    "print('Graced_stu:', Graced_stu)"
   ]
  },
  {
   "cell_type": "code",
   "execution_count": 126,
   "id": "6a8f5525-1cca-448c-9fb6-5d0ae522113d",
   "metadata": {},
   "outputs": [
    {
     "name": "stdout",
     "output_type": "stream",
     "text": [
      "avg_marks: [4.5, 7.6, 8.9, 5.3, 6.7, 9.0, 8.2, 4.9, 3.3, 9.9]\n"
     ]
    }
   ],
   "source": [
    "l=[45,76,89,53,67,90,82,49,33,99]\n",
    "avg_marks=[i/(len(l)) for i in l]\n",
    "print('avg_marks:', avg_marks)"
   ]
  },
  {
   "cell_type": "markdown",
   "id": "f5126128-5def-4d03-9c69-9affac6dea2f",
   "metadata": {},
   "source": [
    "**Method-4: for if elif else**\n",
    "\n",
    "- there is no elif in list comprehension\n",
    "- elif also we can write : else+if\n",
    "- method-3: [<if output> <if condition> else <else output>]\n",
    "- method-4: [<if output> <if condition> <if condition> <if condition> else <else output>]"
   ]
  },
  {
   "cell_type": "code",
   "execution_count": 133,
   "id": "2a1b030e-1926-4311-b824-d1287fd6245b",
   "metadata": {},
   "outputs": [
    {
     "data": {
      "text/plain": [
       "['C:45',\n",
       " 'B:76',\n",
       " 'A:89',\n",
       " 'C:53',\n",
       " 'C:67',\n",
       " 'A:90',\n",
       " 'B:82',\n",
       " 'C:49',\n",
       " 'C:33',\n",
       " 'A:99']"
      ]
     },
     "execution_count": 133,
     "metadata": {},
     "output_type": "execute_result"
    }
   ],
   "source": [
    "# f'A:{i}' if i>=85\n",
    "# else f'B:{i}' if i>=70  : else+if = elif\n",
    "# else f'C:{i}' if i>=50  : else+if = elif\n",
    "# else f'D:{i}'\n",
    "\n",
    "grade_list=[f'A:{i}' if i>=85 else f'B:{i}' if i>=70 else f'C:{i}' for i in l]\n",
    "grade_list"
   ]
  },
  {
   "cell_type": "code",
   "execution_count": 135,
   "id": "27d67f8b-ea33-4616-9c8d-a659947c104e",
   "metadata": {},
   "outputs": [],
   "source": [
    "# method-1: [<output> <forloop>]\n",
    "# method-2: [<output> <for loop> <if condition>]\n",
    "# method-3: [<if output> <if condition> else <else output> <for loop>]\n",
    "# method-4: [<if output> <if condition> <if condition> <if condition> else <else output>]"
   ]
  },
  {
   "cell_type": "code",
   "execution_count": 137,
   "id": "3d4931b9-e0f0-4a19-8485-c534ac77fd9b",
   "metadata": {},
   "outputs": [
    {
     "data": {
      "text/plain": [
       "68.3"
      ]
     },
     "execution_count": 137,
     "metadata": {},
     "output_type": "execute_result"
    }
   ],
   "source": [
    "l=[45,76,89,53,67,90,82,49,33,99]\n",
    "sum(l)/len(l)"
   ]
  },
  {
   "cell_type": "code",
   "execution_count": 143,
   "id": "0eb7c1e3-fc66-4b17-afbe-ba3bee48e5df",
   "metadata": {},
   "outputs": [
    {
     "name": "stdout",
     "output_type": "stream",
     "text": [
      "683\n",
      "avg: 68.3\n"
     ]
    }
   ],
   "source": [
    "summ=0\n",
    "for i in l:\n",
    "    summ=summ+i\n",
    "print(summ)\n",
    "print('avg:',summ/len(l))"
   ]
  },
  {
   "cell_type": "markdown",
   "id": "bd7bb9fc-3305-4a05-bbb9-a8c1cda1ef89",
   "metadata": {},
   "source": [
    "**walrus operator**\n",
    "\n",
    "- in list comprehension = will not work\n",
    "- if you want to write equal to (=), then will use walrus operator :="
   ]
  },
  {
   "cell_type": "code",
   "execution_count": 146,
   "id": "57500071-9158-4872-8e55-481e5ae6cad8",
   "metadata": {},
   "outputs": [
    {
     "data": {
      "text/plain": [
       "68.3"
      ]
     },
     "execution_count": 146,
     "metadata": {},
     "output_type": "execute_result"
    }
   ],
   "source": [
    "total=0\n",
    "ans=[total:=total+i for i in l]\n",
    "total/len(ans)"
   ]
  },
  {
   "cell_type": "code",
   "execution_count": null,
   "id": "e2daa3c7-1994-4259-9394-fbe285016010",
   "metadata": {},
   "outputs": [],
   "source": []
  }
 ],
 "metadata": {
  "kernelspec": {
   "display_name": "Python 3 (ipykernel)",
   "language": "python",
   "name": "python3"
  },
  "language_info": {
   "codemirror_mode": {
    "name": "ipython",
    "version": 3
   },
   "file_extension": ".py",
   "mimetype": "text/x-python",
   "name": "python",
   "nbconvert_exporter": "python",
   "pygments_lexer": "ipython3",
   "version": "3.12.4"
  }
 },
 "nbformat": 4,
 "nbformat_minor": 5
}
