{
 "cells": [
  {
   "cell_type": "markdown",
   "id": "1c120028-ff51-4ba8-901d-227d931f5cff",
   "metadata": {},
   "source": [
    "Divya is updating the file\n"
   ]
  },
  {
   "cell_type": "markdown",
   "id": "c9cf23ca-a78c-40c6-ba4f-78aff9cb062c",
   "metadata": {},
   "source": [
    "updating the second file"
   ]
  },
  {
   "cell_type": "markdown",
   "id": "cb6987b8-cb7d-4ba7-9d11-5a10677ff40c",
   "metadata": {},
   "source": [
    "- Conditional Statement refers to execute the code based on some conditions\n",
    "\n",
    "- we have ainly 3 types of Conditional Statement\n",
    "\n",
    "**if**\n",
    "\n",
    "\n",
    "**if else**\n",
    "\n",
    "\n",
    "**if elif else**"
   ]
  },
  {
   "cell_type": "code",
   "execution_count": 3,
   "id": "ee40d2bb-203d-41be-a580-a1b7ef5c01d4",
   "metadata": {},
   "outputs": [
    {
     "name": "stdout",
     "output_type": "stream",
     "text": [
      "hello good morning\n"
     ]
    }
   ],
   "source": [
    "print('hello good morning')"
   ]
  },
  {
   "cell_type": "code",
   "execution_count": null,
   "id": "fe2d0771-88f3-41b4-a69b-38baf14a9bf6",
   "metadata": {},
   "outputs": [],
   "source": [
    "#i want to say good morning \n",
    "#if your name is python\n"
   ]
  },
  {
   "cell_type": "code",
   "execution_count": 5,
   "id": "e1691573-940b-407c-8eee-722aa1a01cc8",
   "metadata": {},
   "outputs": [
    {
     "ename": "SyntaxError",
     "evalue": "invalid syntax (1939966107.py, line 1)",
     "output_type": "error",
     "traceback": [
      "\u001b[1;36m  Cell \u001b[1;32mIn[5], line 1\u001b[1;36m\u001b[0m\n\u001b[1;33m    if <condition>:\u001b[0m\n\u001b[1;37m       ^\u001b[0m\n\u001b[1;31mSyntaxError\u001b[0m\u001b[1;31m:\u001b[0m invalid syntax\n"
     ]
    }
   ],
   "source": [
    "**syntax**\n",
    "if <condition>:\n",
    "    <write your code here>\n"
   ]
  },
  {
   "cell_type": "code",
   "execution_count": 9,
   "id": "a3827e1c-d665-4d90-9c0e-2c90b2dc1364",
   "metadata": {},
   "outputs": [
    {
     "name": "stdout",
     "output_type": "stream",
     "text": [
      "correct condition\n",
      "hello\n"
     ]
    }
   ],
   "source": [
    "num=10\n",
    "if num>0:   #10>0 true\n",
    "    print('correct condition')\n",
    "    print('hello')"
   ]
  },
  {
   "cell_type": "code",
   "execution_count": 15,
   "id": "c77fef60-afa5-472d-a881-0b0ffa906661",
   "metadata": {},
   "outputs": [
    {
     "ename": "IndentationError",
     "evalue": "expected an indented block after 'if' statement on line 2 (930084714.py, line 3)",
     "output_type": "error",
     "traceback": [
      "\u001b[1;36m  Cell \u001b[1;32mIn[15], line 3\u001b[1;36m\u001b[0m\n\u001b[1;33m    print('correct condition')\u001b[0m\n\u001b[1;37m    ^\u001b[0m\n\u001b[1;31mIndentationError\u001b[0m\u001b[1;31m:\u001b[0m expected an indented block after 'if' statement on line 2\n"
     ]
    }
   ],
   "source": [
    "num=10\n",
    "if num>0:\n",
    "print('correct condition')\n",
    "   "
   ]
  },
  {
   "cell_type": "code",
   "execution_count": 17,
   "id": "ad93b11b-f0ae-4d9f-a00f-4443b9544e1d",
   "metadata": {},
   "outputs": [
    {
     "name": "stdout",
     "output_type": "stream",
     "text": [
      "correct condition\n"
     ]
    }
   ],
   "source": [
    "num=10\n",
    "if num>0:\n",
    " print('correct condition')\n",
    "   "
   ]
  },
  {
   "cell_type": "code",
   "execution_count": 5,
   "id": "164d678c-536e-4b50-b97e-4a57bf83bc4a",
   "metadata": {},
   "outputs": [
    {
     "name": "stdout",
     "output_type": "stream",
     "text": [
      "hello\n"
     ]
    }
   ],
   "source": [
    "name='python'\n",
    "if name=='python':\n",
    "    print(\"hello\")\n",
    "    "
   ]
  },
  {
   "cell_type": "code",
   "execution_count": 7,
   "id": "05b07253-c0c9-4140-978a-361b869fa497",
   "metadata": {},
   "outputs": [
    {
     "name": "stdout",
     "output_type": "stream",
     "text": [
      "hello\n"
     ]
    }
   ],
   "source": [
    "if(100>10):\n",
    "    print('hello')"
   ]
  },
  {
   "cell_type": "code",
   "execution_count": 9,
   "id": "4963b512-f7fc-4bf9-ae3b-7a04400441ba",
   "metadata": {},
   "outputs": [
    {
     "name": "stdout",
     "output_type": "stream",
     "text": [
      "hello\n",
      "bye\n"
     ]
    }
   ],
   "source": [
    "if(100>10):\n",
    "    print('hello')\n",
    "print('bye')"
   ]
  },
  {
   "cell_type": "code",
   "execution_count": 11,
   "id": "83b87492-0df5-414d-9798-1c75b1e397c4",
   "metadata": {},
   "outputs": [
    {
     "name": "stdout",
     "output_type": "stream",
     "text": [
      "bye\n"
     ]
    }
   ],
   "source": [
    "if(100<10):\n",
    "    print('hello')\n",
    "print('bye')"
   ]
  },
  {
   "cell_type": "code",
   "execution_count": 13,
   "id": "708a718e-b009-4f45-9ec0-42524361c626",
   "metadata": {},
   "outputs": [
    {
     "name": "stdout",
     "output_type": "stream",
     "text": [
      "hai\n",
      "hello\n",
      "bye\n"
     ]
    }
   ],
   "source": [
    "print('hai')\n",
    "if(100>10):\n",
    "    print('hello')\n",
    "print('bye')"
   ]
  },
  {
   "cell_type": "markdown",
   "id": "f0a45c88-0cb9-45bd-86b4-b33ee6c8a7b6",
   "metadata": {},
   "source": [
    "**if-else**\n",
    "\n",
    "- whenever if condition fails it goes to else part\n",
    "- so else doesn't require any condition\n",
    "- always maintain indentation for both **if part** and **else part**\n"
   ]
  },
  {
   "cell_type": "code",
   "execution_count": 18,
   "id": "65b82f7d-8d36-471c-b108-59816491f4aa",
   "metadata": {},
   "outputs": [
    {
     "name": "stdout",
     "output_type": "stream",
     "text": [
      "wrong statement\n"
     ]
    }
   ],
   "source": [
    "if 100<0:\n",
    "    print('correct statement')\n",
    "else:\n",
    "    print('wrong statement')\n"
   ]
  },
  {
   "cell_type": "code",
   "execution_count": 22,
   "id": "9abafbe1-54ff-498e-b215-9961868fd051",
   "metadata": {},
   "outputs": [
    {
     "name": "stdout",
     "output_type": "stream",
     "text": [
      "10\n",
      "wrong statement\n",
      "20\n"
     ]
    }
   ],
   "source": [
    "print(10)\n",
    "if 100<0:\n",
    "    print('correct statement')\n",
    "else:\n",
    "    print('wrong statement')\n",
    "print(20)"
   ]
  },
  {
   "cell_type": "code",
   "execution_count": 24,
   "id": "ec9a1817-3c49-4c12-b186-abb53378b299",
   "metadata": {},
   "outputs": [
    {
     "name": "stdout",
     "output_type": "stream",
     "text": [
      "10\n",
      "correct statement\n",
      "20\n"
     ]
    }
   ],
   "source": [
    "print(10)\n",
    "if 100>0:\n",
    "    print('correct statement')\n",
    "else:\n",
    "    print('wrong statement')\n",
    "print(20)"
   ]
  },
  {
   "cell_type": "code",
   "execution_count": 28,
   "id": "e2ebdaff-0e18-4c82-9379-6b2793855296",
   "metadata": {},
   "outputs": [
    {
     "ename": "SyntaxError",
     "evalue": "invalid syntax (56000660.py, line 5)",
     "output_type": "error",
     "traceback": [
      "\u001b[1;36m  Cell \u001b[1;32mIn[28], line 5\u001b[1;36m\u001b[0m\n\u001b[1;33m    else:\u001b[0m\n\u001b[1;37m    ^\u001b[0m\n\u001b[1;31mSyntaxError\u001b[0m\u001b[1;31m:\u001b[0m invalid syntax\n"
     ]
    }
   ],
   "source": [
    "print(10)\n",
    "if 100>0:\n",
    "    print('correct statement')\n",
    "print('why are you come in middle')   ##error will come........if-else shuld always come together......between if-else other statement is not allowed\n",
    "else:\n",
    "    print('wrong statement')\n",
    "print(20)"
   ]
  },
  {
   "cell_type": "code",
   "execution_count": 34,
   "id": "1728f10f-cec3-4745-8314-2fe14577df51",
   "metadata": {},
   "outputs": [
    {
     "name": "stdin",
     "output_type": "stream",
     "text": [
      "Enter num1 40\n",
      "Enter num2 40\n"
     ]
    },
    {
     "name": "stdout",
     "output_type": "stream",
     "text": [
      "We won\n"
     ]
    }
   ],
   "source": [
    "#wap to ask the user take two numbers num1 and num2. if both number match then print'we are won' else print 'we lost'\n",
    "\n",
    "num1=eval(input('Enter num1'))\n",
    "num2=eval(input('Enter num2'))\n",
    "if(num1==num2):\n",
    "    print('We won')\n",
    "else:\n",
    "    print('We lost')"
   ]
  },
  {
   "cell_type": "code",
   "execution_count": 36,
   "id": "2422918d-0857-433f-9a9b-009c7f042249",
   "metadata": {},
   "outputs": [
    {
     "name": "stdin",
     "output_type": "stream",
     "text": [
      "Enter num1 40\n",
      "Enter num2 70\n"
     ]
    },
    {
     "name": "stdout",
     "output_type": "stream",
     "text": [
      "We lost\n"
     ]
    }
   ],
   "source": [
    "#wap to ask the user take two numbers num1 and num2. if both number match then print'we are won' else print 'we lost'\n",
    "\n",
    "num1=eval(input('Enter num1'))\n",
    "num2=eval(input('Enter num2'))\n",
    "if(num1==num2):\n",
    "    print('We won')\n",
    "else:\n",
    "    print('We lost')"
   ]
  },
  {
   "cell_type": "code",
   "execution_count": 80,
   "id": "f70041b6-1613-40d0-9e95-be2717cb9ed6",
   "metadata": {},
   "outputs": [
    {
     "name": "stdin",
     "output_type": "stream",
     "text": [
      "Enter num1 5\n"
     ]
    },
    {
     "name": "stdout",
     "output_type": "stream",
     "text": [
      "the random number is 5\n",
      "We won\n"
     ]
    }
   ],
   "source": [
    "#wap to ask the user 1st number as num1 and 2nd number from random num2. if both number match then print'we are won' else print 'we lost'\n",
    "\n",
    "import random\n",
    "num1=eval(input('Enter num1'))\n",
    "num2=random.randint(1,10)\n",
    "print(f'the random number is {num2}')\n",
    "if(num1==num2):\n",
    "    print('We won')\n",
    "else:\n",
    "    print('We lost')"
   ]
  },
  {
   "cell_type": "code",
   "execution_count": 82,
   "id": "e59f10c7-6750-41af-b7a9-6247d53459b5",
   "metadata": {},
   "outputs": [
    {
     "name": "stdin",
     "output_type": "stream",
     "text": [
      "Enter num1 6\n"
     ]
    },
    {
     "name": "stdout",
     "output_type": "stream",
     "text": [
      "number is even\n"
     ]
    }
   ],
   "source": [
    "#wap ask auser to enter a number to print that the number is even or odd\n",
    "\n",
    "num1=eval(input('Enter num1'))\n",
    "\n",
    "if(num1%2==0):\n",
    "    print('number is even')\n",
    "else:\n",
    "    print('number is odd')"
   ]
  },
  {
   "cell_type": "code",
   "execution_count": 84,
   "id": "74fd169e-1c75-4fd5-a198-01594ebc10a0",
   "metadata": {},
   "outputs": [
    {
     "data": {
      "text/plain": [
       "2.5"
      ]
     },
     "execution_count": 84,
     "metadata": {},
     "output_type": "execute_result"
    }
   ],
   "source": [
    "5/2    # division = = quotient in float form"
   ]
  },
  {
   "cell_type": "code",
   "execution_count": 86,
   "id": "2f1124d3-2c33-4933-b212-356552e52d6c",
   "metadata": {},
   "outputs": [
    {
     "data": {
      "text/plain": [
       "2"
      ]
     },
     "execution_count": 86,
     "metadata": {},
     "output_type": "execute_result"
    }
   ],
   "source": [
    "5//2  # floor division = quotient in int form"
   ]
  },
  {
   "cell_type": "code",
   "execution_count": 90,
   "id": "b036eceb-ba0e-441f-980e-fa2a5dc7320e",
   "metadata": {},
   "outputs": [
    {
     "data": {
      "text/plain": [
       "1"
      ]
     },
     "execution_count": 90,
     "metadata": {},
     "output_type": "execute_result"
    }
   ],
   "source": [
    "5%2     # modulus operator = remainder"
   ]
  },
  {
   "cell_type": "code",
   "execution_count": 92,
   "id": "0c700e93-ff8b-4f64-a6ee-92e9fbee910a",
   "metadata": {},
   "outputs": [
    {
     "name": "stdout",
     "output_type": "stream",
     "text": [
      "the random number to check even and odd is 9\n",
      "number is odd\n"
     ]
    }
   ],
   "source": [
    "#wap to enter random number to print that the number is even or odd\n",
    "\n",
    "num1=random.randint(1,100)\n",
    "print(f'the random number to check even and odd is {num1}')\n",
    "if(num1%2==0):\n",
    "    print('number is even')\n",
    "else:\n",
    "    print('number is odd')"
   ]
  },
  {
   "cell_type": "code",
   "execution_count": 98,
   "id": "2fdaa8a3-3115-4c45-b718-99b954234f31",
   "metadata": {},
   "outputs": [
    {
     "name": "stdin",
     "output_type": "stream",
     "text": [
      "Enter the distance 5\n"
     ]
    },
    {
     "name": "stdout",
     "output_type": "stream",
     "text": [
      "enjoy the free ride\n"
     ]
    }
   ],
   "source": [
    "#wap to ask the user the distance, if distance is greater than 25. then ask the charge otherwise free ride\n",
    "\n",
    "dist=eval(input('Enter the distance'))\n",
    "\n",
    "if dist>25:\n",
    "\n",
    "    print(f'thecharge applicable only on: {dist-25}')\n",
    "    charge= eval(input('Enter the charge'))\n",
    "    final_price= (dist-25)*charge\n",
    "   \n",
    "    print(f'the final price is: {final_price}')\n",
    "else:\n",
    "    \n",
    "    print('enjoy the free ride')"
   ]
  },
  {
   "cell_type": "code",
   "execution_count": 100,
   "id": "efc315d2-9961-47ae-81f6-33a7b9bd36fa",
   "metadata": {},
   "outputs": [
    {
     "name": "stdin",
     "output_type": "stream",
     "text": [
      "Enter the distance 100\n",
      "gave cutoff distance: 25\n"
     ]
    },
    {
     "name": "stdout",
     "output_type": "stream",
     "text": [
      "thecharge applicable only on: 75 kms\n"
     ]
    },
    {
     "name": "stdin",
     "output_type": "stream",
     "text": [
      "Enter the charge 2\n"
     ]
    },
    {
     "name": "stdout",
     "output_type": "stream",
     "text": [
      "the final price is: 150 rs\n"
     ]
    }
   ],
   "source": [
    "dist=eval(input('Enter the distance'))\n",
    "cutoff_dis=eval(input('gave cutoff distance:'))\n",
    "if dist>25:\n",
    "\n",
    "    print(f'thecharge applicable only on: {dist-cutoff_dis} kms')\n",
    "    charge= eval(input('Enter the charge'))\n",
    "    final_price= (dist-cutoff_dis)*charge\n",
    "   \n",
    "    print(f'the final price is: {final_price} rs')\n",
    "else:\n",
    "    \n",
    "    print('enjoy the free ride')"
   ]
  },
  {
   "cell_type": "code",
   "execution_count": 102,
   "id": "9a2806fb-5d52-4581-8fc9-0a9e1ca69e1a",
   "metadata": {},
   "outputs": [
    {
     "name": "stdin",
     "output_type": "stream",
     "text": [
      "Enter num1 9\n",
      "Enter num2 5\n"
     ]
    },
    {
     "name": "stdout",
     "output_type": "stream",
     "text": [
      "9 is greater then n2\n"
     ]
    }
   ],
   "source": [
    "#wap to ask the user take 2 number\n",
    "#print which is graater \n",
    "\n",
    "num1=eval(input('Enter num1'))\n",
    "num2=eval(input('Enter num2'))\n",
    "if num1>num2:\n",
    "    print(f'{num1} is greater then {num2}')\n",
    "else:\n",
    "    print(f'{num2} is greater then {num1}')\n"
   ]
  },
  {
   "cell_type": "code",
   "execution_count": 104,
   "id": "880659b6-a46d-4166-99b6-0902765a58f1",
   "metadata": {},
   "outputs": [
    {
     "name": "stdout",
     "output_type": "stream",
     "text": [
      "60 is greater then 50\n"
     ]
    }
   ],
   "source": [
    "num1=random.randint(1,100)\n",
    "num2=random.randint(1,100)\n",
    "\n",
    "if num1>num2:\n",
    "    print(f'{num1} is greater then {num2}')\n",
    "else:\n",
    "    print(f'{num2} is greater then {num1}')"
   ]
  },
  {
   "cell_type": "code",
   "execution_count": 114,
   "id": "b64bcea6-21bc-404e-9194-a2b3837216f5",
   "metadata": {},
   "outputs": [
    {
     "name": "stdin",
     "output_type": "stream",
     "text": [
      "Enter the Course Name: data_science\n",
      "Enter the institute Name: naresh_it\n"
     ]
    },
    {
     "name": "stdout",
     "output_type": "stream",
     "text": [
      "we are good\n"
     ]
    }
   ],
   "source": [
    "#wap to ask the user \n",
    "#enter the course name\n",
    "#enter the institute name\n",
    "#if course name equal to data science\n",
    "#and institute name equal to naresh it\n",
    "#then print we are good\n",
    "#else not good\n",
    "\n",
    "course_name= input('Enter the Course Name:')\n",
    "inst_name=input('Enter the institute Name:')\n",
    "\n",
    "if course_name==\"data_science\" and inst_name==\"naresh_it\":\n",
    "     print('we are good')\n",
    "\n",
    "else:\n",
    "    print('not good')\n",
    "\n",
    "\n"
   ]
  },
  {
   "cell_type": "markdown",
   "id": "88485f79-dc89-4795-bf44-6b2cd8caaf2f",
   "metadata": {},
   "source": [
    "**if-elif-else**\n",
    "\n",
    "- when we have two solutions based on one condition\n",
    "- then we go for if-else\n",
    "- when we have 3 solutions based on two conditions\n",
    "- then we go for if-elif-else\n",
    "- if needs condition\n",
    "- elif needs condition\n",
    "- if and elif both are wrong then we get else output"
   ]
  },
  {
   "cell_type": "code",
   "execution_count": 117,
   "id": "9211c451-5f9f-4b6a-b441-a793ae821541",
   "metadata": {},
   "outputs": [
    {
     "name": "stdin",
     "output_type": "stream",
     "text": [
      "Enter the number: 1\n"
     ]
    },
    {
     "name": "stdout",
     "output_type": "stream",
     "text": [
      "ONE\n"
     ]
    }
   ],
   "source": [
    "#wap ask the user to enter a number\n",
    "# if \n",
    "\n",
    "num1=eval(input(\"Enter the number:\"))\n",
    "if num1==1:\n",
    "    print(\"ONE\")\n",
    "elif num1==2:\n",
    "    print('TWO')\n",
    "elif num1==3:\n",
    "    print('THREE')\n",
    "else:\n",
    "    print('ENTER A VALID NUMBER')"
   ]
  },
  {
   "cell_type": "code",
   "execution_count": 131,
   "id": "af33be59-3c17-4882-9e02-c97286cfd772",
   "metadata": {},
   "outputs": [
    {
     "name": "stdin",
     "output_type": "stream",
     "text": [
      "Enter the Percentage: 78\n"
     ]
    },
    {
     "name": "stdout",
     "output_type": "stream",
     "text": [
      "A GRADE\n"
     ]
    }
   ],
   "source": [
    "# wap ask the user to enter the percentage of marks\n",
    "# if marks > 75, then print A\n",
    "# if marks between 60 to 75, then print B\n",
    "# if marks between 45 to 60, then print C\n",
    "# if marks between 35 to 45 then print D grade\n",
    "# else print fail\n",
    "\n",
    "marks_percent=eval(input(\"Enter the Percentage:\"))\n",
    "if marks_percent>75:\n",
    "    print(\"A GRADE\")\n",
    "elif (marks_percent>60) & (marks_percent<=75):\n",
    "    print('B GRADE')\n",
    "elif (marks_percent45) & (marks_percent<=60):\n",
    "    print('C GRADE')\n",
    "elif (marks_percent>35) & (marks_percent<=45):\n",
    "    print('D GRADE')\n",
    "else:\n",
    "    print('FAIL')"
   ]
  },
  {
   "cell_type": "code",
   "execution_count": 135,
   "id": "031a9925-5e53-4bcc-9a5e-103b3993b4e3",
   "metadata": {},
   "outputs": [
    {
     "name": "stdin",
     "output_type": "stream",
     "text": [
      "Enter the Percentage: 55\n"
     ]
    },
    {
     "name": "stdout",
     "output_type": "stream",
     "text": [
      "C GRADE\n"
     ]
    }
   ],
   "source": [
    "# wap ask the user to enter the percentage of marks\n",
    "# if marks > 75, then print A\n",
    "# if marks between 60 to 75, then print B\n",
    "# if marks between 45 to 60, then print C\n",
    "# if marks between 35 to 45 then print D grade\n",
    "# else print fail\n",
    "\n",
    "marks_percent=eval(input(\"Enter the Percentage:\"))\n",
    "if marks_percent>=75:\n",
    "    print(\"A GRADE\")\n",
    "elif marks_percent>=60:\n",
    "    print('B GRADE')\n",
    "elif marks_percent>=45:\n",
    "    print('C GRADE')\n",
    "elif marks_percent>=35:\n",
    "    print('D GRADE')\n",
    "else:\n",
    "    print('FAIL')"
   ]
  },
  {
   "cell_type": "code",
   "execution_count": 145,
   "id": "35677e01-8d1f-4eaf-a722-839d548a947d",
   "metadata": {},
   "outputs": [
    {
     "name": "stdin",
     "output_type": "stream",
     "text": [
      "Enter the Age: 3\n"
     ]
    },
    {
     "name": "stdout",
     "output_type": "stream",
     "text": [
      "KID\n"
     ]
    }
   ],
   "source": [
    "# wap aske the user to enter age\n",
    "# if age > 100 print unlucky guy\n",
    "# if age between 80 to 100. the print super senior citizen\n",
    "# if age between 60 to 80 , print senior citizen\n",
    "# age between 40 to 60, then print Aged\n",
    "# if age between 25 to 40, print middle age\n",
    "# if age between 15 to 25, then young\n",
    "# otherwise kid\n",
    "\n",
    "age=eval(input(\"Enter the Age:\"))\n",
    "if age>=100:\n",
    "    print('UNLUCKY GUY')\n",
    "elif age>=80:\n",
    "    print('SUPER SENIOR CITIZEN')\n",
    "elif age>=60:\n",
    "    print('SENIOR CITIZEN')\n",
    "elif age>=40:\n",
    "    print('AGED')\n",
    "elif age>=25:\n",
    "    print('MIDDLE AGE')\n",
    "elif age>=15:\n",
    "    print('YOUNG')\n",
    "else:\n",
    "    print('KID')"
   ]
  },
  {
   "cell_type": "code",
   "execution_count": 151,
   "id": "33745d0b-4237-43ca-a62c-e3baafcbbfe8",
   "metadata": {},
   "outputs": [
    {
     "name": "stdin",
     "output_type": "stream",
     "text": [
      "Enter the Distance: 200\n",
      "Enter the charge 25\n"
     ]
    },
    {
     "name": "stdout",
     "output_type": "stream",
     "text": [
      "the final charge is 5000 \n"
     ]
    }
   ],
   "source": [
    "# WAP ASKE THE USER TO ENTER THE DISTANCE\n",
    "# IF DISTANCE GREATER THAN 100\n",
    "# ASK THE USER TO ENTER THE CHARGE I.E. 25 RS\n",
    "# PRINT THE FINAL CHARGE\n",
    "# IF THE DISTANCE BETWEEN 50 TO 100\n",
    "# ASK THE USER TO ENTER THE CHARGE I.E. 10 RS\n",
    "# PRINT THE FINAL CHARGE\n",
    "#IF DISTANCE BETWEEN 25 TO 50\n",
    "# ASK THE USER TO ENTER THE CHARGE I.E. 5 RS\n",
    "# PRINT THE FINAL CHARGE\n",
    "#OTHERWISE PRINT FREE RIDE\n",
    "\n",
    "dist=eval(input(\"Enter the Distance:\"))\n",
    "if dist>=100:\n",
    "    charge=eval(input('Enter the charge'))\n",
    "    final_charge= dist*charge\n",
    "    print(f'the final charge is {final_charge} ')\n",
    "elif dist>=50:\n",
    "    charge=eval(input('Enter the charge'))\n",
    "    final_charge= dist*charge\n",
    "    print(f'the final charge is {final_charge} ')\n",
    "elif dist>=25:\n",
    "    charge=eval(input('Enter the charge'))\n",
    "    final_charge= dist*charge\n",
    "    print(f'the final charge is {final_charge} ')\n",
    "\n",
    "else:\n",
    "    print('Free Ride')\n",
    "\n"
   ]
  },
  {
   "cell_type": "code",
   "execution_count": 159,
   "id": "8394a6a2-2b7a-41b9-9485-e4b521c744ee",
   "metadata": {},
   "outputs": [
    {
     "name": "stdout",
     "output_type": "stream",
     "text": [
      "1 for addition\n",
      "2 for subtraction\n",
      "3 for multiplication\n",
      "4 for division\n"
     ]
    },
    {
     "name": "stdin",
     "output_type": "stream",
     "text": [
      "Enter the 1st number: 7\n",
      "Enter the 2nd number: 8\n",
      "enter the nukbers between 1 to 4: 4\n"
     ]
    },
    {
     "name": "stdout",
     "output_type": "stream",
     "text": [
      "you choose division operation\n",
      "The division of both number is 0.88\n"
     ]
    }
   ],
   "source": [
    "\n",
    "# you need to print some statement\n",
    "# print 1 for addition\n",
    "# print 2 for subtraction\n",
    "# print 3 for multiplication\n",
    "# print 4 for division\n",
    "# after every print statement time.sleep(1)\n",
    "#operation = eval(input('enter the nukbers between 1 to 4'))\n",
    "#if operation == 1 :\n",
    "#print you choose addition operation\n",
    "# addition of n1+n2\n",
    "# and so on\n",
    "import time\n",
    "print('1 for addition')\n",
    "time.sleep(1)\n",
    "print('2 for subtraction')\n",
    "time.sleep(1)\n",
    "print('3 for multiplication')\n",
    "time.sleep(1)\n",
    "print('4 for division')\n",
    "time.sleep(1)\n",
    "n1=eval(input(\"Enter the 1st number:\"))\n",
    "n2=eval(input(\"Enter the 2nd number:\"))\n",
    "operation = eval(input('enter the nukbers between 1 to 4:'))\n",
    "if operation==1:\n",
    "    print('you choose addition operation')\n",
    "    add=n1+n2\n",
    "    print(f'The addition of both number is {add}')\n",
    "elif operation==2:\n",
    "    print('you choose subtraction operation')\n",
    "    sub=n1-n2\n",
    "    print(f'The subtraction of both number is {sub}')\n",
    "elif operation==3:\n",
    "    print('you choose multiplication operation')\n",
    "    mult=n1*n2\n",
    "    print(f'The multiplication of both number is {mult}')\n",
    "elif operation==4:\n",
    "    print('you choose division operation')\n",
    "    div=round(n1/n2,2)\n",
    "    print(f'The division of both number is {div}')\n",
    "else:\n",
    "    print('Invalid Input')"
   ]
  },
  {
   "cell_type": "markdown",
   "id": "0e4fdb8f-ae61-42c9-a41f-f92df22772e7",
   "metadata": {},
   "source": [
    "**nested if-else**"
   ]
  },
  {
   "cell_type": "code",
   "execution_count": 2,
   "id": "22a9a7bb-edbb-4894-ba8d-fb3e3524c5a3",
   "metadata": {},
   "outputs": [
    {
     "name": "stdin",
     "output_type": "stream",
     "text": [
      "Enter the number 7\n"
     ]
    },
    {
     "name": "stdout",
     "output_type": "stream",
     "text": [
      "It is positive number\n"
     ]
    }
   ],
   "source": [
    "#wap ask the user enter a number\n",
    "# if number more than zero print positive number\n",
    "# if number is leass than zero print negative number\n",
    "# otherwise print it zero\n",
    "\n",
    "\n",
    "num=eval(input('Enter the number'))\n",
    "if num>0:\n",
    "    print('It is positive number')\n",
    "elif num<0:\n",
    "    print('It is negative number')\n",
    "else:\n",
    "    print('It is zero')\n",
    "    "
   ]
  },
  {
   "cell_type": "code",
   "execution_count": 10,
   "id": "a938b3e3-9f53-4851-88d4-795b0bac25af",
   "metadata": {},
   "outputs": [
    {
     "name": "stdin",
     "output_type": "stream",
     "text": [
      "Enter the number -5\n"
     ]
    },
    {
     "name": "stdout",
     "output_type": "stream",
     "text": [
      "It is negative number\n"
     ]
    }
   ],
   "source": [
    "# wap ask the user to enter a number\n",
    "# if number is greater than equal to zero\n",
    "#         if number is equal to zero\n",
    "#          then print number is zero\n",
    "#          otherwise print positive number\n",
    "# otherwise print negative number\n",
    "\n",
    "\n",
    "num=eval(input('Enter the number'))\n",
    "if num>=0:\n",
    "    if num==0:\n",
    "        print('It is zero number')\n",
    "    else:\n",
    "        print('It is positive number')\n",
    "else:\n",
    "    print('It is negative number')"
   ]
  },
  {
   "cell_type": "code",
   "execution_count": 20,
   "id": "5f238276-4c90-4074-82a7-231883242ff0",
   "metadata": {},
   "outputs": [
    {
     "name": "stdin",
     "output_type": "stream",
     "text": [
      "Enter the gender: Female\n",
      "Enter the age: 36\n"
     ]
    },
    {
     "name": "stdout",
     "output_type": "stream",
     "text": [
      "middle age\n"
     ]
    }
   ],
   "source": [
    "# wap to ask the user enter a gender\n",
    "# if gender is equal to male\n",
    "# ask the user to enter the age\n",
    "# if age is greater than equal to zero print senior citizen\n",
    "# if age is between 30 to 60 then print middle age\n",
    "# if age is between 10 to 30 print young boy\n",
    "# otherwise print a boy\n",
    "# if gender is equal to female\n",
    "# ask the user to enter the age\n",
    "# if age is greater than equal to 60 print senior citizen\n",
    "# if age is between 30 to 60 then print middle age\n",
    "# if age is between 10 to 30 print young girl\n",
    "# otherwise print a girl\n",
    "\n",
    "gender=input('Enter the gender:')\n",
    "if gender=='Male':\n",
    "    age=eval(input('Enter the age:'))\n",
    "    if age>=60:\n",
    "        print('senior citizen')\n",
    "    elif age>=30:\n",
    "        print('middle age')\n",
    "    elif age>=10:\n",
    "        print('young boy')\n",
    "    else:\n",
    "        print('a boy')\n",
    "elif gender=='Female':\n",
    "    age=eval(input('Enter the age:'))\n",
    "    if age>=60:\n",
    "        print('senior citizen')\n",
    "    elif age>=30:\n",
    "        print('middle age')\n",
    "    elif age>=10:\n",
    "        print('young girl')\n",
    "    else:\n",
    "        print('a girl')\n",
    "else:\n",
    "    print('enter the valid gender')"
   ]
  },
  {
   "cell_type": "code",
   "execution_count": null,
   "id": "4533c941-5ce5-4e28-b6af-646b19abef69",
   "metadata": {},
   "outputs": [],
   "source": []
  },
  {
   "cell_type": "code",
   "execution_count": null,
   "id": "1e7207f8-853a-476d-ab7e-b4d9006a7a77",
   "metadata": {},
   "outputs": [],
   "source": []
  },
  {
   "cell_type": "code",
   "execution_count": null,
   "id": "455f3829-83ac-4596-9a02-18920362fd4d",
   "metadata": {},
   "outputs": [],
   "source": [
    "def add(a,b)\n"
   ]
  },
  {
   "cell_type": "code",
   "execution_count": 26,
   "id": "757f8eb6-f0de-4212-8d0a-b9ad9b4b3ecb",
   "metadata": {},
   "outputs": [
    {
     "data": {
      "text/plain": [
       "'4321'"
      ]
     },
     "execution_count": 26,
     "metadata": {},
     "output_type": "execute_result"
    }
   ],
   "source": [
    "n1='1234'\n",
    "n1[::-1]"
   ]
  },
  {
   "cell_type": "code",
   "execution_count": null,
   "id": "3bde869b-c90c-4356-9d6f-9301fb8e615d",
   "metadata": {},
   "outputs": [],
   "source": []
  }
 ],
 "metadata": {
  "kernelspec": {
   "display_name": "Python 3 (ipykernel)",
   "language": "python",
   "name": "python3"
  },
  "language_info": {
   "codemirror_mode": {
    "name": "ipython",
    "version": 3
   },
   "file_extension": ".py",
   "mimetype": "text/x-python",
   "name": "python",
   "nbconvert_exporter": "python",
   "pygments_lexer": "ipython3",
   "version": "3.12.4"
  }
 },
 "nbformat": 4,
 "nbformat_minor": 5
}
