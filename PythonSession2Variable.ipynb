{
 "cells": [
  {
   "cell_type": "code",
   "execution_count": 1,
   "id": "dd354612-2d1d-4adb-9a06-c63ee2174db2",
   "metadata": {},
   "outputs": [
    {
     "data": {
      "text/plain": [
       "'C:\\\\Users\\\\Lenovo\\\\Documents\\\\NareshIT\\\\PythonSession'"
      ]
     },
     "execution_count": 1,
     "metadata": {},
     "output_type": "execute_result"
    }
   ],
   "source": [
    "import os\n",
    "os.getcwd\n",
    "\n",
    "#get current working directory(cmd)"
   ]
  },
  {
   "cell_type": "markdown",
   "id": "06c03312-7c1a-43cf-a9bb-e0767139874d",
   "metadata": {},
   "source": [
    "## Variables"
   ]
  },
  {
   "cell_type": "markdown",
   "id": "1e2fc8e9-b25a-456d-b234-ff00952d0e62",
   "metadata": {},
   "source": [
    "Variables are used to store the values and the valus can be changed "
   ]
  },
  {
   "cell_type": "code",
   "execution_count": 8,
   "id": "9c532af6-c6a8-4d17-b025-402eefffcba1",
   "metadata": {},
   "outputs": [
    {
     "name": "stdout",
     "output_type": "stream",
     "text": [
      "100\n"
     ]
    }
   ],
   "source": [
    "num=100\n",
    "# esc+M\n",
    "# Shift+enter\n",
    "\n",
    "print(num)"
   ]
  },
  {
   "cell_type": "markdown",
   "id": "31c59066-6f3d-421f-b206-8ec5da7be50b",
   "metadata": {},
   "source": [
    "num=200\n",
    "print(num)"
   ]
  },
  {
   "cell_type": "code",
   "execution_count": 13,
   "id": "bd443b9b-c662-4890-8676-c12421196a87",
   "metadata": {},
   "outputs": [
    {
     "data": {
      "text/plain": [
       "200"
      ]
     },
     "execution_count": 13,
     "metadata": {},
     "output_type": "execute_result"
    }
   ],
   "source": [
    "number = 200\n",
    "number"
   ]
  },
  {
   "cell_type": "code",
   "execution_count": 15,
   "id": "0aee34ac-856b-41c2-8536-81a78d781f4f",
   "metadata": {},
   "outputs": [
    {
     "data": {
      "text/plain": [
       "300"
      ]
     },
     "execution_count": 15,
     "metadata": {},
     "output_type": "execute_result"
    }
   ],
   "source": [
    "NUMBER=300\n",
    "NUMBER"
   ]
  },
  {
   "cell_type": "code",
   "execution_count": 17,
   "id": "548355c5-4c7a-43e1-b4f0-a58cc9c91dde",
   "metadata": {},
   "outputs": [
    {
     "data": {
      "text/plain": [
       "(200, 300)"
      ]
     },
     "execution_count": 17,
     "metadata": {},
     "output_type": "execute_result"
    }
   ],
   "source": [
    "number,NUMBER"
   ]
  },
  {
   "cell_type": "code",
   "execution_count": 23,
   "id": "c31da800-52af-4fd1-b151-14bfe336aef5",
   "metadata": {},
   "outputs": [
    {
     "data": {
      "text/plain": [
       "300"
      ]
     },
     "execution_count": 23,
     "metadata": {},
     "output_type": "execute_result"
    }
   ],
   "source": [
    "number123=300\n",
    "number123\n"
   ]
  },
  {
   "cell_type": "code",
   "execution_count": 25,
   "id": "3eab3a24-36b3-4546-949e-e13ea2092a43",
   "metadata": {
    "scrolled": true
   },
   "outputs": [
    {
     "ename": "SyntaxError",
     "evalue": "invalid decimal literal (359278068.py, line 1)",
     "output_type": "error",
     "traceback": [
      "\u001b[1;36m  Cell \u001b[1;32mIn[25], line 1\u001b[1;36m\u001b[0m\n\u001b[1;33m    123number=400\u001b[0m\n\u001b[1;37m      ^\u001b[0m\n\u001b[1;31mSyntaxError\u001b[0m\u001b[1;31m:\u001b[0m invalid decimal literal\n"
     ]
    }
   ],
   "source": [
    "123number=400\n",
    "123number"
   ]
  },
  {
   "cell_type": "markdown",
   "id": "16b06a2e-31ca-4e60-9bab-6dd65d5fc203",
   "metadata": {},
   "source": [
    "number #worked \n",
    "NUMBER #worked\n",
    "number123 #worked\n",
    "123number#not worked"
   ]
  },
  {
   "cell_type": "code",
   "execution_count": 28,
   "id": "9e015bd4-43d8-43b1-aa13-5b7f3cc3cd6a",
   "metadata": {},
   "outputs": [
    {
     "data": {
      "text/plain": [
       "500"
      ]
     },
     "execution_count": 28,
     "metadata": {},
     "output_type": "execute_result"
    }
   ],
   "source": [
    "NUMBERone=500\n",
    "NUMBERone"
   ]
  },
  {
   "cell_type": "code",
   "execution_count": 32,
   "id": "de079ae1-4d72-40c3-9a82-08b0155d8477",
   "metadata": {},
   "outputs": [
    {
     "ename": "SyntaxError",
     "evalue": "invalid syntax (275804197.py, line 1)",
     "output_type": "error",
     "traceback": [
      "\u001b[1;36m  Cell \u001b[1;32mIn[32], line 1\u001b[1;36m\u001b[0m\n\u001b[1;33m    number$one=600\u001b[0m\n\u001b[1;37m          ^\u001b[0m\n\u001b[1;31mSyntaxError\u001b[0m\u001b[1;31m:\u001b[0m invalid syntax\n"
     ]
    }
   ],
   "source": [
    "number$one=600\n",
    "number$one"
   ]
  },
  {
   "cell_type": "code",
   "execution_count": 34,
   "id": "f95aee34-4ab0-4221-9b83-618e05c8c865",
   "metadata": {},
   "outputs": [
    {
     "ename": "SyntaxError",
     "evalue": "cannot assign to expression here. Maybe you meant '==' instead of '='? (1323231619.py, line 1)",
     "output_type": "error",
     "traceback": [
      "\u001b[1;36m  Cell \u001b[1;32mIn[34], line 1\u001b[1;36m\u001b[0m\n\u001b[1;33m    number&one=600\u001b[0m\n\u001b[1;37m    ^\u001b[0m\n\u001b[1;31mSyntaxError\u001b[0m\u001b[1;31m:\u001b[0m cannot assign to expression here. Maybe you meant '==' instead of '='?\n"
     ]
    }
   ],
   "source": [
    "number&one=600\n",
    "number&one"
   ]
  },
  {
   "cell_type": "code",
   "execution_count": 36,
   "id": "e13bda76-13a2-47ee-9daa-182cdd45a90a",
   "metadata": {},
   "outputs": [
    {
     "ename": "SyntaxError",
     "evalue": "cannot assign to expression here. Maybe you meant '==' instead of '='? (502523860.py, line 1)",
     "output_type": "error",
     "traceback": [
      "\u001b[1;36m  Cell \u001b[1;32mIn[36], line 1\u001b[1;36m\u001b[0m\n\u001b[1;33m    number*one=700\u001b[0m\n\u001b[1;37m    ^\u001b[0m\n\u001b[1;31mSyntaxError\u001b[0m\u001b[1;31m:\u001b[0m cannot assign to expression here. Maybe you meant '==' instead of '='?\n"
     ]
    }
   ],
   "source": [
    "number*one=700\n",
    "number*one"
   ]
  },
  {
   "cell_type": "code",
   "execution_count": 40,
   "id": "706563ac-c237-4900-b810-c2ed4bedd894",
   "metadata": {},
   "outputs": [
    {
     "data": {
      "text/plain": [
       "1000"
      ]
     },
     "execution_count": 40,
     "metadata": {},
     "output_type": "execute_result"
    }
   ],
   "source": [
    "number_one=1000\n",
    "number_one"
   ]
  },
  {
   "cell_type": "code",
   "execution_count": 44,
   "id": "8c7e5e6b-0175-4f33-94c9-74852e662edc",
   "metadata": {},
   "outputs": [
    {
     "ename": "SyntaxError",
     "evalue": "invalid syntax (1053755253.py, line 1)",
     "output_type": "error",
     "traceback": [
      "\u001b[1;36m  Cell \u001b[1;32mIn[44], line 1\u001b[1;36m\u001b[0m\n\u001b[1;33m    number one=2000\u001b[0m\n\u001b[1;37m           ^\u001b[0m\n\u001b[1;31mSyntaxError\u001b[0m\u001b[1;31m:\u001b[0m invalid syntax\n"
     ]
    }
   ],
   "source": [
    "number one=2000\n",
    "number one"
   ]
  },
  {
   "cell_type": "code",
   "execution_count": 46,
   "id": "c0e5d36d-9cf6-49f4-b6d8-2aecad3d9a12",
   "metadata": {},
   "outputs": [
    {
     "data": {
      "text/plain": [
       "200"
      ]
     },
     "execution_count": 46,
     "metadata": {},
     "output_type": "execute_result"
    }
   ],
   "source": [
    "number #worked NUMBER #worked number123 #worked 123number#not worked"
   ]
  },
  {
   "cell_type": "code",
   "execution_count": null,
   "id": "5cf2ac80-cf6a-441f-8f6f-0e79114c61ea",
   "metadata": {},
   "outputs": [],
   "source": [
    "if\n",
    "else\n",
    "True\n",
    "False\n",
    "For\n",
    "While\n"
   ]
  },
  {
   "cell_type": "markdown",
   "id": "e7708aac-c960-4907-8967-8f32bc3c7fa0",
   "metadata": {},
   "source": [
    "- Variable can be a Capital letters\n",
    "- Variable can be a small letters\n",
    "- Variable can be a mix of both capital small letters\n",
    "- Variable can be a mix of letters and numbers as **suffix**\n",
    "- Variable can not be a mix of letters and numbers as **preffix**\n",
    "- Variable can not include spacial character except **underscore**\n",
    "- Variable can not include a **space between words**\n",
    "- only underscore also consider as a variable\n",
    "- inbuild keywords can not be a variables"
   ]
  },
  {
   "cell_type": "code",
   "execution_count": 57,
   "id": "82eb8a91-7dfe-4049-afc8-8fdd060c4bbd",
   "metadata": {},
   "outputs": [
    {
     "data": {
      "text/plain": [
       "100"
      ]
     },
     "execution_count": 57,
     "metadata": {},
     "output_type": "execute_result"
    }
   ],
   "source": [
    "_=100\n",
    "_"
   ]
  },
  {
   "cell_type": "code",
   "execution_count": null,
   "id": "c6dce35f-89d1-4b3b-a688-4d4ca4adbd90",
   "metadata": {},
   "outputs": [],
   "source": []
  }
 ],
 "metadata": {
  "kernelspec": {
   "display_name": "Python 3 (ipykernel)",
   "language": "python",
   "name": "python3"
  },
  "language_info": {
   "codemirror_mode": {
    "name": "ipython",
    "version": 3
   },
   "file_extension": ".py",
   "mimetype": "text/x-python",
   "name": "python",
   "nbconvert_exporter": "python",
   "pygments_lexer": "ipython3",
   "version": "3.12.4"
  }
 },
 "nbformat": 4,
 "nbformat_minor": 5
}
