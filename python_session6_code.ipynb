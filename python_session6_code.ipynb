{
 "cells": [
  {
   "cell_type": "markdown",
   "id": "35e9bc2f-f0d7-4e4c-a456-e06b146d2ea4",
   "metadata": {},
   "source": [
    "$code$"
   ]
  },
  {
   "cell_type": "markdown",
   "id": "a9afe1d8-4609-4c2c-9387-1b60bc17fff5",
   "metadata": {},
   "source": [
    "- Generally if you observe any application \n",
    "- user will provide the values\n",
    "- backend some programming lanuage will work\n",
    "- if any code the values we give is called **Hard Code**\n",
    "- always the code should be generic\n",
    "- in python the user can provide the values from keybord using **input**    "
   ]
  },
  {
   "cell_type": "code",
   "execution_count": 1,
   "id": "6dd2b470-abd1-4677-a72f-1a78ae8fa484",
   "metadata": {},
   "outputs": [
    {
     "name": "stdin",
     "output_type": "stream",
     "text": [
      " hello\n"
     ]
    },
    {
     "data": {
      "text/plain": [
       "'hello'"
      ]
     },
     "execution_count": 1,
     "metadata": {},
     "output_type": "execute_result"
    }
   ],
   "source": [
    "input()"
   ]
  },
  {
   "cell_type": "code",
   "execution_count": null,
   "id": "21bc7ced-78b8-4724-ad70-da5dc35b0e17",
   "metadata": {},
   "outputs": [],
   "source": []
  },
  {
   "cell_type": "code",
   "execution_count": 5,
   "id": "d4c3a914-bc02-4c7b-a934-2a932eb05667",
   "metadata": {},
   "outputs": [
    {
     "name": "stdin",
     "output_type": "stream",
     "text": [
      " 20\n",
      " 30\n",
      " done\n"
     ]
    },
    {
     "data": {
      "text/plain": [
       "'done'"
      ]
     },
     "execution_count": 5,
     "metadata": {},
     "output_type": "execute_result"
    }
   ],
   "source": [
    "input()\n",
    "input()\n",
    "input()\n"
   ]
  },
  {
   "cell_type": "code",
   "execution_count": 9,
   "id": "b2e6e75f-76b0-45e4-97d6-d907f63e5636",
   "metadata": {},
   "outputs": [
    {
     "name": "stdin",
     "output_type": "stream",
     "text": [
      "enter a number1: 30\n"
     ]
    },
    {
     "data": {
      "text/plain": [
       "'30'"
      ]
     },
     "execution_count": 9,
     "metadata": {},
     "output_type": "execute_result"
    }
   ],
   "source": [
    "input('enter a number1:')"
   ]
  },
  {
   "cell_type": "code",
   "execution_count": 11,
   "id": "4ca85047-950a-431f-9771-7a7e83af25ea",
   "metadata": {},
   "outputs": [
    {
     "name": "stdin",
     "output_type": "stream",
     "text": [
      "enetr your name: python\n",
      "enter age : 30\n",
      "enter city : hyderabad\n"
     ]
    },
    {
     "data": {
      "text/plain": [
       "'hyderabad'"
      ]
     },
     "execution_count": 11,
     "metadata": {},
     "output_type": "execute_result"
    }
   ],
   "source": [
    "input('enetr your name:')\n",
    "input('enter age :')\n",
    "input('enter city :')"
   ]
  },
  {
   "cell_type": "code",
   "execution_count": 13,
   "id": "4cfd1ecf-c170-4330-91d5-0d3a4fe19ba7",
   "metadata": {},
   "outputs": [
    {
     "name": "stdin",
     "output_type": "stream",
     "text": [
      "enter value1: 100\n",
      "enter value2 : 200\n"
     ]
    },
    {
     "data": {
      "text/plain": [
       "'100200'"
      ]
     },
     "execution_count": 13,
     "metadata": {},
     "output_type": "execute_result"
    }
   ],
   "source": [
    "a=input('enter value1:')\n",
    "b=input('enter value2 :')\n",
    "a+b\n",
    "        "
   ]
  },
  {
   "cell_type": "code",
   "execution_count": 17,
   "id": "cbe6a9d1-6af4-416c-a6c9-74d9c2e5d0a2",
   "metadata": {},
   "outputs": [
    {
     "name": "stdin",
     "output_type": "stream",
     "text": [
      "enter value1: 200\n",
      "enter value2 : 300\n"
     ]
    },
    {
     "data": {
      "text/plain": [
       "500"
      ]
     },
     "execution_count": 17,
     "metadata": {},
     "output_type": "execute_result"
    }
   ],
   "source": [
    "a=int(input('enter value1:')) #a=int('100')=100\n",
    "b=int(input('enter value2 :')) #b=int('200')=200\n",
    "a+b # 100+200 =300"
   ]
  },
  {
   "cell_type": "code",
   "execution_count": 3,
   "id": "e6d56738-bb39-45ec-b663-7cb6b0c362e2",
   "metadata": {},
   "outputs": [
    {
     "data": {
      "text/plain": [
       "300"
      ]
     },
     "execution_count": 3,
     "metadata": {},
     "output_type": "execute_result"
    }
   ],
   "source": [
    "n1='100'\n",
    "n2='200'\n",
    "add=int(n1)+int(n2)   #add=int('100')+('200') =100+200=300\n",
    "add"
   ]
  },
  {
   "cell_type": "code",
   "execution_count": 5,
   "id": "c70a3bd7-3b1c-421a-9aa3-4ca381d8c5f3",
   "metadata": {},
   "outputs": [
    {
     "name": "stdin",
     "output_type": "stream",
     "text": [
      " 200\n",
      " 300\n"
     ]
    },
    {
     "data": {
      "text/plain": [
       "500.0"
      ]
     },
     "execution_count": 5,
     "metadata": {},
     "output_type": "execute_result"
    }
   ],
   "source": [
    "n1=float(input())\n",
    "n2=int(input())\n",
    "n1+n2"
   ]
  },
  {
   "cell_type": "code",
   "execution_count": 9,
   "id": "7b632a0a-8044-4805-b1e6-18475b0dbd14",
   "metadata": {},
   "outputs": [
    {
     "name": "stdin",
     "output_type": "stream",
     "text": [
      "enter n1: 400.5\n",
      "enter n2: 400\n"
     ]
    },
    {
     "data": {
      "text/plain": [
       "800.5"
      ]
     },
     "execution_count": 9,
     "metadata": {},
     "output_type": "execute_result"
    }
   ],
   "source": [
    "n1=float(input('enter n1:'))\n",
    "n2=int(input('enter n2:'))\n",
    "n1+n2"
   ]
  },
  {
   "cell_type": "markdown",
   "id": "b2ac6704-6237-40d4-a707-9456cf91b3eb",
   "metadata": {},
   "source": [
    "**eval**"
   ]
  },
  {
   "cell_type": "markdown",
   "id": "444a113a-adc7-46ca-9bc1-4d0c269fa291",
   "metadata": {},
   "source": [
    "- Whenever we listen about eval it represents math term **evaluate**\n",
    "- instead of focus on int and float everytime\n",
    "- simply use eval conversion always \n",
    "- if you apply eval it will convert the value based on base datatype\n",
    "- if user will provide the integer ,it will convertinto interger value\n",
    "- if user will provide the float, it will convert into float value\n",
    "- if user will provide the string,it will give the error"
   ]
  },
  {
   "cell_type": "code",
   "execution_count": null,
   "id": "09986b4e-d0df-4327-969c-dfbbd8a5391b",
   "metadata": {},
   "outputs": [],
   "source": [
    "n1"
   ]
  }
 ],
 "metadata": {
  "kernelspec": {
   "display_name": "Python 3 (ipykernel)",
   "language": "python",
   "name": "python3"
  },
  "language_info": {
   "codemirror_mode": {
    "name": "ipython",
    "version": 3
   },
   "file_extension": ".py",
   "mimetype": "text/x-python",
   "name": "python",
   "nbconvert_exporter": "python",
   "pygments_lexer": "ipython3",
   "version": "3.12.4"
  }
 },
 "nbformat": 4,
 "nbformat_minor": 5
}
