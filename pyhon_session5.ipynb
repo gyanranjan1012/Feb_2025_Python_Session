{
 "cells": [
  {
   "cell_type": "code",
   "execution_count": 2,
   "id": "9f7dfd79-0541-4aaa-86bb-92ad8f999451",
   "metadata": {},
   "outputs": [
    {
     "name": "stdout",
     "output_type": "stream",
     "text": [
      "20\n",
      "30\n"
     ]
    },
    {
     "data": {
      "text/plain": [
       "(None, None)"
      ]
     },
     "execution_count": 2,
     "metadata": {},
     "output_type": "execute_result"
    }
   ],
   "source": [
    "num1=20\n",
    "num2=30\n",
    "print(num1),print(num2)"
   ]
  },
  {
   "cell_type": "code",
   "execution_count": 4,
   "id": "f73c582c-74b2-4306-97f0-75ce9d380e68",
   "metadata": {},
   "outputs": [
    {
     "name": "stdout",
     "output_type": "stream",
     "text": [
      "20\n",
      "30\n"
     ]
    }
   ],
   "source": [
    "num1=20\n",
    "num2=30\n",
    "print(num1)\n",
    "print(num2)"
   ]
  },
  {
   "cell_type": "code",
   "execution_count": 6,
   "id": "0e0c5e74-ae0f-479c-a715-097f30bea828",
   "metadata": {},
   "outputs": [
    {
     "data": {
      "text/plain": [
       "(20, 30)"
      ]
     },
     "execution_count": 6,
     "metadata": {},
     "output_type": "execute_result"
    }
   ],
   "source": [
    "num1=20\n",
    "num2=30\n",
    "num1,num2"
   ]
  },
  {
   "cell_type": "code",
   "execution_count": 8,
   "id": "35d0f727-94c9-4190-8ba5-b58d0fb73247",
   "metadata": {},
   "outputs": [
    {
     "data": {
      "text/plain": [
       "50"
      ]
     },
     "execution_count": 8,
     "metadata": {},
     "output_type": "execute_result"
    }
   ],
   "source": [
    "num1+num2"
   ]
  },
  {
   "cell_type": "code",
   "execution_count": 10,
   "id": "8275910a-fe7f-4c4d-9298-13308f3bb655",
   "metadata": {},
   "outputs": [
    {
     "name": "stdout",
     "output_type": "stream",
     "text": [
      "30 20 python\n"
     ]
    }
   ],
   "source": [
    "print(30,20,'python')"
   ]
  },
  {
   "cell_type": "code",
   "execution_count": 20,
   "id": "eb8ac4fc-cbba-40ad-96d9-5906c26bfea0",
   "metadata": {},
   "outputs": [
    {
     "name": "stdout",
     "output_type": "stream",
     "text": [
      "the addition of 100 and 200 is 300\n"
     ]
    }
   ],
   "source": [
    "a=100\n",
    "b=200\n",
    "c=a+b\n",
    "#addition of 100 and 200 is 300\n",
    "print('the addition of',a,'and',b,'is',c)"
   ]
  },
  {
   "cell_type": "code",
   "execution_count": 24,
   "id": "a9d3fea4-b8c0-4563-9fbf-d2c94b7da7ee",
   "metadata": {},
   "outputs": [
    {
     "name": "stdout",
     "output_type": "stream",
     "text": [
      "My name is python Im 10 old and from hyd\n"
     ]
    }
   ],
   "source": [
    "name='python'\n",
    "age=10\n",
    "city='hyd'\n",
    "#My name is Python I'm 10 years old and from Hyd\n",
    "print('My name is',name,'Im',age,'old and from',city)"
   ]
  },
  {
   "cell_type": "markdown",
   "id": "54576f23-46a9-4ff8-b361-9af75c413022",
   "metadata": {},
   "source": [
    "**format**"
   ]
  },
  {
   "cell_type": "code",
   "execution_count": 31,
   "id": "42ad1284-66d8-490b-952c-5257cdf79a1d",
   "metadata": {},
   "outputs": [
    {
     "name": "stdout",
     "output_type": "stream",
     "text": [
      "addition of 100 and 200 is 300\n",
      "the addition of 100 and 200 is 300\n"
     ]
    }
   ],
   "source": [
    "a=100\n",
    "b=200\n",
    "c=a+b\n",
    "print('addition of 100 and 200 is 300')\n",
    "print('the addition of {} and {} is {}'.format(a,b,c))\n"
   ]
  },
  {
   "cell_type": "code",
   "execution_count": 33,
   "id": "b4b35e5a-3391-4a5f-a125-ac87a4c06ac2",
   "metadata": {},
   "outputs": [
    {
     "name": "stdout",
     "output_type": "stream",
     "text": [
      "the addition of 100 and 200 is 300\n",
      "the substraction of 100 and 200 is -100\n",
      "the multiplication of 100 and 200 is 20000\n",
      "the division of 100 and 200 is 0.5\n"
     ]
    }
   ],
   "source": [
    "a=100\n",
    "b=200\n",
    "add=a+b\n",
    "sub=a-b\n",
    "mul=a*b\n",
    "div=a/b\n",
    "\n",
    "print('the addition of {} and {} is {}'.format(a,b,a+b))\n",
    "print('the substraction of {} and {} is {}'.format(a,b,a-b))\n",
    "print('the multiplication of {} and {} is {}'.format(a,b,a*b))\n",
    "print('the division of {} and {} is {}'.format(a,b,a/b))"
   ]
  },
  {
   "cell_type": "markdown",
   "id": "2aadc23b-aae7-47ae-b151-5e59d3b8fbe6",
   "metadata": {},
   "source": [
    "**f string**"
   ]
  },
  {
   "cell_type": "code",
   "execution_count": 37,
   "id": "5197bc62-7e3b-4d04-a601-b9347d660a13",
   "metadata": {},
   "outputs": [
    {
     "name": "stdout",
     "output_type": "stream",
     "text": [
      "the addition of 100 and 200 is 300\n",
      "the addition of 100 and 200 is 300\n",
      "the addition of 100 and 200 is 300.\n"
     ]
    }
   ],
   "source": [
    "a=100\n",
    "b=200\n",
    "c=a+b\n",
    "print('the addition of 100 and 200 is 300')\n",
    "print('the addition of {} and {} is {}'.format(a,b,c))\n",
    "\n",
    "print(f'the addition of {a} and {b} is {c}.')"
   ]
  },
  {
   "cell_type": "code",
   "execution_count": 42,
   "id": "2a0aa367-b82f-4dbc-8b30-bb6ba1807415",
   "metadata": {},
   "outputs": [
    {
     "name": "stdout",
     "output_type": "stream",
     "text": [
      "the addition of 100 and 200 is 300.\n",
      "the substraction of 100 and 200 is -100.\n",
      "the multiplication of 100 and 200 is 20000.\n",
      "the division of 100 and 200 is 0.5.\n"
     ]
    }
   ],
   "source": [
    "a=100\n",
    "b=200\n",
    "add=a+b\n",
    "sub=a-b\n",
    "mul=a*b\n",
    "div=a/b\n",
    "\n",
    "print(f'the addition of {a} and {b} is {a+b}.')\n",
    "print(f'the substraction of {a} and {b} is {a-b}.')\n",
    "print(f'the multiplication of {a} and {b} is {a*b}.')\n",
    "print(f'the division of {a} and {b} is {a/b}.')\n"
   ]
  },
  {
   "cell_type": "markdown",
   "id": "12a89368-0c73-488d-9979-f25cc4a41908",
   "metadata": {},
   "source": [
    "- we have situation wants to combine two print stmt"
   ]
  },
  {
   "cell_type": "code",
   "execution_count": 47,
   "id": "7d6e87e9-3ae4-41f8-8831-0dd4a68ca09f",
   "metadata": {},
   "outputs": [
    {
     "name": "stdout",
     "output_type": "stream",
     "text": [
      "hello\n",
      "good morning\n",
      "hi\n"
     ]
    }
   ],
   "source": [
    "print('hello')\n",
    "print('good morning')\n",
    "print('hi')\n",
    "\n",
    "#hello good mornung"
   ]
  },
  {
   "cell_type": "code",
   "execution_count": 49,
   "id": "88d7b820-b696-4729-8e0d-9bc5ace9c6e1",
   "metadata": {},
   "outputs": [
    {
     "name": "stdout",
     "output_type": "stream",
     "text": [
      "hellp good mornung\n"
     ]
    }
   ],
   "source": [
    "print('hellp good mornung')"
   ]
  },
  {
   "cell_type": "markdown",
   "id": "5a25aafe-6345-4bb6-b74c-801690fe0033",
   "metadata": {},
   "source": [
    "$end$"
   ]
  },
  {
   "cell_type": "code",
   "execution_count": 58,
   "id": "3f7a1ac6-e2ee-48ce-b43e-eee7e49af26b",
   "metadata": {},
   "outputs": [
    {
     "name": "stdout",
     "output_type": "stream",
     "text": [
      "20  30\n",
      "20\n"
     ]
    }
   ],
   "source": [
    "print(20,end='  ')\n",
    "a=20\n",
    "print(30)\n",
    "print (a)"
   ]
  },
  {
   "cell_type": "code",
   "execution_count": 60,
   "id": "7bb4c4dd-5dc2-40e3-8895-3d0ec2c16e09",
   "metadata": {},
   "outputs": [
    {
     "name": "stdout",
     "output_type": "stream",
     "text": [
      "1  2  3\n"
     ]
    }
   ],
   "source": [
    "print(1,end='  ')\n",
    "print(2,end='  ')\n",
    "print(3)"
   ]
  },
  {
   "cell_type": "code",
   "execution_count": 66,
   "id": "7be903a3-c487-477f-ad08-9d56e7ec094e",
   "metadata": {},
   "outputs": [
    {
     "name": "stdout",
     "output_type": "stream",
     "text": [
      "20 ***** 30\n"
     ]
    }
   ],
   "source": [
    "print(20,'*****',30)"
   ]
  },
  {
   "cell_type": "code",
   "execution_count": null,
   "id": "1673e629-4e83-48a5-bdc1-b549bc271969",
   "metadata": {},
   "outputs": [],
   "source": []
  },
  {
   "cell_type": "markdown",
   "id": "8fd94a2f-8cca-4256-860a-414625a417a5",
   "metadata": {},
   "source": [
    "- we want separate the multiple veriable in one print stmt"
   ]
  },
  {
   "cell_type": "code",
   "execution_count": null,
   "id": "f80794d9-7f7b-4868-a19e-82b24a223217",
   "metadata": {},
   "outputs": [],
   "source": []
  },
  {
   "cell_type": "code",
   "execution_count": null,
   "id": "154d094f-9aa5-45f9-88eb-6512edcd5cb6",
   "metadata": {},
   "outputs": [],
   "source": []
  },
  {
   "cell_type": "markdown",
   "id": "b63ae283-e405-4519-bd86-47fa8275e445",
   "metadata": {},
   "source": [
    "$sep$"
   ]
  },
  {
   "cell_type": "code",
   "execution_count": 71,
   "id": "1c52e147-5a74-48af-bc58-e01357e31f6e",
   "metadata": {},
   "outputs": [
    {
     "name": "stdout",
     "output_type": "stream",
     "text": [
      "20=30=40\n"
     ]
    }
   ],
   "source": [
    "print(20,30,40, sep='=')"
   ]
  },
  {
   "cell_type": "markdown",
   "id": "75ef5c55-196e-4f3f-b76b-51ecc64f566c",
   "metadata": {},
   "source": [
    "- end operator user t combine multiple print stmt\n",
    "- sep operator use to separte the multiple variable in a single print stmt"
   ]
  },
  {
   "cell_type": "code",
   "execution_count": 74,
   "id": "861407c9-3bc1-4356-aa76-991f11d801e0",
   "metadata": {},
   "outputs": [
    {
     "name": "stdout",
     "output_type": "stream",
     "text": [
      "the additon of 3+4 is 7 .\n"
     ]
    }
   ],
   "source": [
    "print('the additon of 3+4 is', 3+4,'.')"
   ]
  },
  {
   "cell_type": "code",
   "execution_count": 92,
   "id": "b7c2c8e6-b8fc-4862-b9ea-8afb8f444885",
   "metadata": {},
   "outputs": [
    {
     "name": "stdout",
     "output_type": "stream",
     "text": [
      "the addition of3+4 is 7\n",
      "the addition of 3 + 4 is 7.\n",
      "the addition of+3+4+is+7+.\n"
     ]
    }
   ],
   "source": [
    "a=3\n",
    "b=4\n",
    "c=a+b\n",
    "print('the addition of{}+{} is {}'.format(a,b,c))\n",
    "print(f'the addition of {a} + {b} is {c}.')\n",
    "print('the addition of',a,b,'is',c,'.',sep='+')"
   ]
  },
  {
   "cell_type": "code",
   "execution_count": null,
   "id": "9671ea37-1e74-408e-8ef7-2755da24dbd6",
   "metadata": {},
   "outputs": [],
   "source": []
  }
 ],
 "metadata": {
  "kernelspec": {
   "display_name": "Python 3 (ipykernel)",
   "language": "python",
   "name": "python3"
  },
  "language_info": {
   "codemirror_mode": {
    "name": "ipython",
    "version": 3
   },
   "file_extension": ".py",
   "mimetype": "text/x-python",
   "name": "python",
   "nbconvert_exporter": "python",
   "pygments_lexer": "ipython3",
   "version": "3.12.4"
  }
 },
 "nbformat": 4,
 "nbformat_minor": 5
}
