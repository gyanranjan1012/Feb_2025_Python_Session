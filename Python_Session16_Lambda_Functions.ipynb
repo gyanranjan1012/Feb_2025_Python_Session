{
 "cells": [
  {
   "cell_type": "code",
   "execution_count": 1,
   "id": "9cb1c0e2-0c31-47ac-8785-01fcb0dff265",
   "metadata": {},
   "outputs": [],
   "source": [
    "# method-1: [<output> <forloop>]\n",
    "# method-2: [<output> <for loop> <if condition>]\n",
    "# method-3: [<if output> <if condition> else <else output> <for loop>]\n",
    "# method-4: [<if output> <if condition> <if condition> <if condition> else <else output>]"
   ]
  },
  {
   "cell_type": "code",
   "execution_count": 3,
   "id": "2c71eb3e-d94f-451f-af1a-df52d49719bb",
   "metadata": {},
   "outputs": [
    {
     "data": {
      "text/plain": [
       "100"
      ]
     },
     "execution_count": 3,
     "metadata": {},
     "output_type": "execute_result"
    }
   ],
   "source": [
    "def mul(a):\n",
    "    return(a*a)\n",
    "\n",
    "ans=mul(10)\n",
    "ans"
   ]
  },
  {
   "cell_type": "markdown",
   "id": "459c1e30-6b8f-4287-a302-ef6ab32eeb82",
   "metadata": {},
   "source": [
    "- lambda is a keyword used to write functions in a single line\n",
    "- like list comprehension we will write in single line\n",
    "- it is same analogy\n",
    "- it will reduce the time complexity"
   ]
  },
  {
   "cell_type": "markdown",
   "id": "69edf96f-87b3-4c70-8cf4-90c8f2670633",
   "metadata": {},
   "source": [
    "$pattern-1$\n",
    "\n",
    "- function with one argument"
   ]
  },
  {
   "cell_type": "code",
   "execution_count": 18,
   "id": "62cd9085-6241-4683-ae25-3479cdc37c7c",
   "metadata": {},
   "outputs": [
    {
     "data": {
      "text/plain": [
       "100"
      ]
     },
     "execution_count": 18,
     "metadata": {},
     "output_type": "execute_result"
    }
   ],
   "source": [
    "# syntax\n",
    "\n",
    "# function_name= lambda <argument name>:<return output>\n",
    "# in above \n",
    "# function_name : mul\n",
    "# argument name : a\n",
    "# return output : a*a\n",
    "\n",
    "mul= lambda a : a*a\n",
    "mul(10)"
   ]
  },
  {
   "cell_type": "code",
   "execution_count": 20,
   "id": "7a44dac2-7dee-4121-be44-d100eec29ddf",
   "metadata": {},
   "outputs": [
    {
     "data": {
      "text/plain": [
       "1000"
      ]
     },
     "execution_count": 20,
     "metadata": {},
     "output_type": "execute_result"
    }
   ],
   "source": [
    "def cube(x):\n",
    "    return(x**3)\n",
    "\n",
    "cube(10)\n",
    "    "
   ]
  },
  {
   "cell_type": "code",
   "execution_count": 22,
   "id": "25f1ff13-04b1-4671-89af-724411f6fcff",
   "metadata": {},
   "outputs": [
    {
     "data": {
      "text/plain": [
       "1000000"
      ]
     },
     "execution_count": 22,
     "metadata": {},
     "output_type": "execute_result"
    }
   ],
   "source": [
    "cube= lambda x : x**3\n",
    "cube(100)"
   ]
  },
  {
   "cell_type": "markdown",
   "id": "9deea248-c7ff-451c-bef3-2ca0c27d031e",
   "metadata": {},
   "source": [
    "$pattern-2$\n",
    "\n",
    "- function with two arguments"
   ]
  },
  {
   "cell_type": "code",
   "execution_count": 25,
   "id": "d1e81320-5a0f-4fdb-993b-519a1eaa6b02",
   "metadata": {},
   "outputs": [],
   "source": [
    "# syntax\n",
    "\n",
    "# <function_name>= lambda <arg1>,<arg2> : return(output)"
   ]
  },
  {
   "cell_type": "code",
   "execution_count": 27,
   "id": "af289ed8-3c1f-4f0b-942a-1e758777ae93",
   "metadata": {},
   "outputs": [
    {
     "data": {
      "text/plain": [
       "300"
      ]
     },
     "execution_count": 27,
     "metadata": {},
     "output_type": "execute_result"
    }
   ],
   "source": [
    "def add(a,b):\n",
    "    return(a+b)\n",
    "\n",
    "add(100,200)"
   ]
  },
  {
   "cell_type": "code",
   "execution_count": 33,
   "id": "4eef6914-547c-446b-a223-497d5b6a3523",
   "metadata": {},
   "outputs": [
    {
     "data": {
      "text/plain": [
       "1100"
      ]
     },
     "execution_count": 33,
     "metadata": {},
     "output_type": "execute_result"
    }
   ],
   "source": [
    "add1= lambda a,b:a+b\n",
    "add1(500,600)"
   ]
  },
  {
   "cell_type": "code",
   "execution_count": 35,
   "id": "c227c036-f63b-4c7a-8e10-24cba3ba77cf",
   "metadata": {},
   "outputs": [
    {
     "data": {
      "text/plain": [
       "19"
      ]
     },
     "execution_count": 35,
     "metadata": {},
     "output_type": "execute_result"
    }
   ],
   "source": [
    "def avg(a,b,c):\n",
    "    return(round((a+b+c)/3,2))\n",
    "\n",
    "avg(10,20,26)"
   ]
  },
  {
   "cell_type": "code",
   "execution_count": 39,
   "id": "da310933-885c-4689-a39d-d6b9aaa30442",
   "metadata": {},
   "outputs": [
    {
     "data": {
      "text/plain": [
       "35.33"
      ]
     },
     "execution_count": 39,
     "metadata": {},
     "output_type": "execute_result"
    }
   ],
   "source": [
    "avg1= lambda a,b,c:round((a+b+c)/3,2)\n",
    "\n",
    "avg1(10,70,26)"
   ]
  },
  {
   "cell_type": "markdown",
   "id": "3050928b-2d32-42a8-8c28-e69858e59ff3",
   "metadata": {},
   "source": [
    "$pattern-3$\n",
    "\n",
    "**default argument**"
   ]
  },
  {
   "cell_type": "code",
   "execution_count": 47,
   "id": "83a42b98-eab2-4f01-aef3-488f83db059c",
   "metadata": {},
   "outputs": [
    {
     "data": {
      "text/plain": [
       "51.67"
      ]
     },
     "execution_count": 47,
     "metadata": {},
     "output_type": "execute_result"
    }
   ],
   "source": [
    "avg2= lambda a,b,c=26:round((a+b+c)/3,2)\n",
    "\n",
    "avg2(100,29)"
   ]
  },
  {
   "cell_type": "markdown",
   "id": "c3034f8c-900c-434a-a3c2-15ab2ac13904",
   "metadata": {},
   "source": [
    "$pattern-4$\n",
    "\n",
    "- if-else"
   ]
  },
  {
   "cell_type": "code",
   "execution_count": 50,
   "id": "c5437e7f-8e56-44bd-9cdd-465c258e491f",
   "metadata": {},
   "outputs": [
    {
     "data": {
      "text/plain": [
       "20"
      ]
     },
     "execution_count": 50,
     "metadata": {},
     "output_type": "execute_result"
    }
   ],
   "source": [
    "def max(a,b):\n",
    "    if a>b:\n",
    "        return(a)\n",
    "    else:\n",
    "        return(b)\n",
    "\n",
    "max(10,20)"
   ]
  },
  {
   "cell_type": "code",
   "execution_count": null,
   "id": "72dbccaf-2a8b-4f61-ba47-3b055adb89fa",
   "metadata": {},
   "outputs": [],
   "source": [
    "# syntax\n",
    "\n",
    "# function_name= lambda <arg1>,<arg2>: <if output> <if condition> else <else output>"
   ]
  },
  {
   "cell_type": "code",
   "execution_count": 56,
   "id": "3e632407-de84-41b6-8e45-d478e45eef3c",
   "metadata": {},
   "outputs": [
    {
     "data": {
      "text/plain": [
       "220"
      ]
     },
     "execution_count": 56,
     "metadata": {},
     "output_type": "execute_result"
    }
   ],
   "source": [
    "max1= lambda a,b: a if a>b else b\n",
    "\n",
    "max1(100,220)"
   ]
  },
  {
   "cell_type": "markdown",
   "id": "31f1a2ab-c21d-408e-9fd8-b0d9aca416e4",
   "metadata": {},
   "source": [
    "**IMPORTANT TOPIC**\n",
    "\n",
    "$pattern-5$\n",
    "\n",
    "- List cases"
   ]
  },
  {
   "cell_type": "code",
   "execution_count": 59,
   "id": "35147ff2-64bf-41ca-b118-e21a543e2f75",
   "metadata": {},
   "outputs": [
    {
     "data": {
      "text/plain": [
       "['Hyd', 'Mumbai', 'Pune']"
      ]
     },
     "execution_count": 59,
     "metadata": {},
     "output_type": "execute_result"
    }
   ],
   "source": [
    "list1=['hyd','mumbai','pune']\n",
    "# ans= ['Hyd','Mumbai','Pune']\n",
    "\n",
    "ans=[]\n",
    "for i in list1:\n",
    "    ans.append(i.capitalize())\n",
    "\n",
    "ans"
   ]
  },
  {
   "cell_type": "code",
   "execution_count": 61,
   "id": "3e7f27af-8729-4349-b6ec-07983d55e943",
   "metadata": {},
   "outputs": [
    {
     "data": {
      "text/plain": [
       "<function __main__.<lambda>(i)>"
      ]
     },
     "execution_count": 61,
     "metadata": {},
     "output_type": "execute_result"
    }
   ],
   "source": [
    "#lambda <variable>: <op>,<iterator>\n",
    "\n",
    "lambda i : i.capitalize()"
   ]
  },
  {
   "cell_type": "code",
   "execution_count": 63,
   "id": "d9b51b7a-df0f-4252-a7a9-3b1cf1ae471b",
   "metadata": {},
   "outputs": [
    {
     "data": {
      "text/plain": [
       "(<function __main__.<lambda>(i)>, ['hyd', 'mumbai', 'pune'])"
      ]
     },
     "execution_count": 63,
     "metadata": {},
     "output_type": "execute_result"
    }
   ],
   "source": [
    "lambda i : i.capitalize(),list1"
   ]
  },
  {
   "cell_type": "code",
   "execution_count": 65,
   "id": "45e0b1e7-11c4-491f-a192-51cb50afa7ec",
   "metadata": {},
   "outputs": [
    {
     "data": {
      "text/plain": [
       "(<function __main__.<lambda>(i)>, ['hyd', 'mumbai', 'pune'])"
      ]
     },
     "execution_count": 65,
     "metadata": {},
     "output_type": "execute_result"
    }
   ],
   "source": [
    "# step-1: #lambda <variable>: <op>\n",
    "lambda i : i.capitalize()\n",
    "# step-2: lambda <variable>: <op>,<iterator>\n",
    "lambda i : i.capitalize(),list1"
   ]
  },
  {
   "cell_type": "markdown",
   "id": "8c2b0197-7305-41bb-a080-b00b8a2b9807",
   "metadata": {},
   "source": [
    "**map**\n",
    "\n",
    "- map is used to combine the function and iterator\n"
   ]
  },
  {
   "cell_type": "code",
   "execution_count": 68,
   "id": "592ca6d7-5092-4082-8bfc-a2380bc6d26a",
   "metadata": {},
   "outputs": [
    {
     "data": {
      "text/plain": [
       "<map at 0x14e418d52d0>"
      ]
     },
     "execution_count": 68,
     "metadata": {},
     "output_type": "execute_result"
    }
   ],
   "source": [
    "# step-3: map(lambda <variable>: <op>,<iterator>)\n",
    "map(lambda i : i.capitalize(),list1)"
   ]
  },
  {
   "cell_type": "code",
   "execution_count": 70,
   "id": "c22d5424-641d-47c0-ac6f-f38a7e70838d",
   "metadata": {},
   "outputs": [
    {
     "data": {
      "text/plain": [
       "['Hyd', 'Mumbai', 'Pune']"
      ]
     },
     "execution_count": 70,
     "metadata": {},
     "output_type": "execute_result"
    }
   ],
   "source": [
    "# step-4: when we apply the output will store at address\n",
    "# so apply the list or tuple to see the answer\n",
    "# list(map(lambda <variable>: <op>,<iterator>))\n",
    "\n",
    "list(map(lambda i : i.capitalize(),list1))"
   ]
  },
  {
   "cell_type": "code",
   "execution_count": 72,
   "id": "b0e3665f-0ae1-4967-8d79-997eb04848ce",
   "metadata": {},
   "outputs": [
    {
     "data": {
      "text/plain": [
       "['Hyd', 'Mumbai', 'Pune']"
      ]
     },
     "execution_count": 72,
     "metadata": {},
     "output_type": "execute_result"
    }
   ],
   "source": [
    "# step-1: #lambda <variable>: <op>\n",
    "lambda i : i.capitalize()\n",
    "# step-2: lambda <variable>: <op>,<iterator>\n",
    "lambda i : i.capitalize(),list1\n",
    "# step-3: map(lambda <variable>: <op>,<iterator>)\n",
    "map(lambda i : i.capitalize(),list1)\n",
    "# step-4: when we apply the output will store at address\n",
    "list(map(lambda i : i.capitalize(),list1))"
   ]
  },
  {
   "cell_type": "code",
   "execution_count": 74,
   "id": "c7c9abf4-d0d1-4cd1-b7f8-9ce478be8f65",
   "metadata": {},
   "outputs": [
    {
     "data": {
      "text/plain": [
       "['Hyd', 'Mumbai', 'Pune']"
      ]
     },
     "execution_count": 74,
     "metadata": {},
     "output_type": "execute_result"
    }
   ],
   "source": [
    "list(map(lambda i : i.capitalize(),list1))"
   ]
  },
  {
   "cell_type": "code",
   "execution_count": 76,
   "id": "ad0cdd10-50c8-4d5b-a42d-dd12dbd471d3",
   "metadata": {},
   "outputs": [
    {
     "data": {
      "text/plain": [
       "('Hyd', 'Mumbai', 'Pune')"
      ]
     },
     "execution_count": 76,
     "metadata": {},
     "output_type": "execute_result"
    }
   ],
   "source": [
    "tuple(map(lambda i : i.capitalize(),list1))"
   ]
  },
  {
   "cell_type": "markdown",
   "id": "357d3b5c-d657-4191-bb45-bd5c6ee5366a",
   "metadata": {},
   "source": [
    "-------------------------------------------------------------------------------------------------------------------------"
   ]
  },
  {
   "cell_type": "code",
   "execution_count": 88,
   "id": "3efe8890-5bc0-40c0-be4e-3e8bd9982848",
   "metadata": {},
   "outputs": [
    {
     "data": {
      "text/plain": [
       "['HYD', 'CHENNAI', 'MUMBAI', 'PUNE']"
      ]
     },
     "execution_count": 88,
     "metadata": {},
     "output_type": "execute_result"
    }
   ],
   "source": [
    "#Q1)  l1=['hyd','chennai','mumbai','pune']\n",
    "#     ans=['HYD','CHENNAI','MUMBAI','PUNE']\n",
    "\n",
    "#realcode\n",
    "#l1=['hyd','chennai','mumbai','pune']\n",
    "#ans=[i.upper() for i in l1]\n",
    "#ans\n",
    "\n",
    "\n",
    "l1=['hyd','chennai','mumbai','pune']\n",
    "list(map(lambda i : i.upper(),l1))"
   ]
  },
  {
   "cell_type": "code",
   "execution_count": 92,
   "id": "026203d5-f3c1-4012-8e79-39a55d7bee80",
   "metadata": {},
   "outputs": [
    {
     "data": {
      "text/plain": [
       "[0, 10, 20, 30]"
      ]
     },
     "execution_count": 92,
     "metadata": {},
     "output_type": "execute_result"
    }
   ],
   "source": [
    "#Q2)  l1=['hyd','chennai','mumbai','pune']\n",
    "#     ans=[0,10,20,30]  multiply index with 10\n",
    "\n",
    "#l1=['hyd','chennai','mumbai','pune']\n",
    "#ans=[]\n",
    "#for i in l1:\n",
    "#    ans.append(l1.index(i)*10)\n",
    "\n",
    "#ans\n",
    "\n",
    "l1=['hyd','chennai','mumbai','pune']\n",
    "list(map(lambda i : l1.index(i)*19,l1))"
   ]
  },
  {
   "cell_type": "code",
   "execution_count": 122,
   "id": "24b690a6-ceb4-44d2-9d0e-9ed4e6b7882a",
   "metadata": {},
   "outputs": [
    {
     "data": {
      "text/plain": [
       "['Hello', 'Hai', 'How', 'Are', 'You']"
      ]
     },
     "execution_count": 122,
     "metadata": {},
     "output_type": "execute_result"
    }
   ],
   "source": [
    "#Q3) str1= 'hello hai how are you'\n",
    "#    ans=['Hello','Hai','How','Are','You']\n",
    "\n",
    "#str1= 'hello hai how are you'\n",
    "#str1.title().split()\n",
    "\n",
    "str1= 'hello hai how are you'\n",
    "list(map(lambda i : i.title(),str1.split()))"
   ]
  },
  {
   "cell_type": "code",
   "execution_count": null,
   "id": "0f7ba666-f120-4a51-acdd-98ff24adf309",
   "metadata": {},
   "outputs": [],
   "source": []
  },
  {
   "cell_type": "code",
   "execution_count": 128,
   "id": "79b93e9f-a936-4285-9038-a0b011c614af",
   "metadata": {},
   "outputs": [
    {
     "data": {
      "text/plain": [
       "[False, True, True, False]"
      ]
     },
     "execution_count": 128,
     "metadata": {},
     "output_type": "execute_result"
    }
   ],
   "source": [
    "#Q4)  l1=['hyd','chen#ai','mu#bai','pune']\n",
    "#     ans=['chen#ai','mu#bai']\n",
    "\n",
    "\n",
    "# l1=['hyd','chen#ai','mu#bai','pune']\n",
    "# ans=[]\n",
    "# for i in l1:\n",
    "#    if '#' in i:\n",
    "#        ans.append(i)\n",
    "\n",
    "#ans\n",
    "\n",
    "l1=['hyd','chen#ai','mu#bai','pune']\n",
    "list(map(lambda i:'#' in i,l1))"
   ]
  },
  {
   "cell_type": "markdown",
   "id": "3c152e61-bdcd-4450-b0a4-01d7eea58ef6",
   "metadata": {},
   "source": [
    "**filter**\n",
    "\n",
    "- whenever condition statements\n",
    "\n",
    "- which means we are filtering the answers based on condition\n",
    "\n",
    "- map will give boolean outputs, True or False\n",
    "\n",
    "- True answers we can see by applying filter only "
   ]
  },
  {
   "cell_type": "code",
   "execution_count": 131,
   "id": "fb2dfca9-6ff1-42a0-8478-ecfaf2fced60",
   "metadata": {},
   "outputs": [
    {
     "data": {
      "text/plain": [
       "['chen#ai', 'mu#bai']"
      ]
     },
     "execution_count": 131,
     "metadata": {},
     "output_type": "execute_result"
    }
   ],
   "source": [
    "l1=['hyd','chen#ai','mu#bai','pune']\n",
    "list(filter(lambda i:'#' in i,l1))"
   ]
  },
  {
   "cell_type": "code",
   "execution_count": 138,
   "id": "66ce0b45-52c3-4a3a-a74f-f67aa37df493",
   "metadata": {},
   "outputs": [
    {
     "data": {
      "text/plain": [
       "['hyd', 'pune']"
      ]
     },
     "execution_count": 138,
     "metadata": {},
     "output_type": "execute_result"
    }
   ],
   "source": [
    "#Q7)  l1=['hyd','chen#ai','mu#bai','pune']\n",
    "#     ans=['hyd','pune']\n",
    "\n",
    "# l1=['hyd','chen#ai','mu#bai','pune']\n",
    "# ans=[]\n",
    "# for i in l1:\n",
    "#     if '#' not in i:\n",
    "#        ans.append(i)\n",
    "\n",
    "#ans\n",
    "\n",
    "\n",
    "l1=['hyd','chen#ai','mu#bai','pune']\n",
    "list(filter(lambda i:'#' not in i,l1))"
   ]
  },
  {
   "cell_type": "code",
   "execution_count": 134,
   "id": "2efb1550-6a6a-4dc6-9a6d-165ee5576aa9",
   "metadata": {},
   "outputs": [],
   "source": [
    "# mistake-1: [dont write if]\n",
    "# list(filter(lambda i:if '#' in i,l1))\n",
    "\n",
    "# mistake-2: [dont write the output i]\n",
    "# list(filter(lambda i:i if '#' in i,l1))"
   ]
  },
  {
   "cell_type": "code",
   "execution_count": 136,
   "id": "eb9065e4-d4eb-4c3e-9247-73ab977c3e56",
   "metadata": {},
   "outputs": [
    {
     "name": "stdout",
     "output_type": "stream",
     "text": [
      "15\n"
     ]
    }
   ],
   "source": [
    "l1=[1,2,3,4,5]\n",
    "summ=0\n",
    "for i in l1:\n",
    "    summ=summ+i\n",
    "\n",
    "print(summ)"
   ]
  },
  {
   "cell_type": "markdown",
   "id": "baa1f9cf-eb97-4067-8269-52dc02d7b613",
   "metadata": {},
   "source": [
    "**reduce**\n",
    "\n",
    "- reduce is a method to write all inbuilt functions using lambda method\n",
    "\n",
    "- it is available in a package called **func tools**\n",
    "\n",
    "- Level-1: reduce(lambda i:summ+i,list1)\n",
    "\n",
    "- level-2: reduce(lambda i: summ+i,list1,<initial value>)\n",
    "\n",
    "- in level-1 by default summ=0\n",
    "\n",
    "- in level-2 the summ starts with some value "
   ]
  },
  {
   "cell_type": "code",
   "execution_count": 147,
   "id": "7030710a-968e-4548-8dad-15fd02f0c872",
   "metadata": {},
   "outputs": [],
   "source": [
    "import functools"
   ]
  },
  {
   "cell_type": "code",
   "execution_count": 149,
   "id": "d2267818-370d-4f0b-ba3e-5ce5c45c9a3e",
   "metadata": {},
   "outputs": [
    {
     "data": {
      "text/plain": [
       "['GenericAlias',\n",
       " 'RLock',\n",
       " 'WRAPPER_ASSIGNMENTS',\n",
       " 'WRAPPER_UPDATES',\n",
       " '_CacheInfo',\n",
       " '_HashedSeq',\n",
       " '_NOT_FOUND',\n",
       " '__all__',\n",
       " '__builtins__',\n",
       " '__cached__',\n",
       " '__doc__',\n",
       " '__file__',\n",
       " '__loader__',\n",
       " '__name__',\n",
       " '__package__',\n",
       " '__spec__',\n",
       " '_c3_merge',\n",
       " '_c3_mro',\n",
       " '_compose_mro',\n",
       " '_convert',\n",
       " '_find_impl',\n",
       " '_ge_from_gt',\n",
       " '_ge_from_le',\n",
       " '_ge_from_lt',\n",
       " '_gt_from_ge',\n",
       " '_gt_from_le',\n",
       " '_gt_from_lt',\n",
       " '_initial_missing',\n",
       " '_le_from_ge',\n",
       " '_le_from_gt',\n",
       " '_le_from_lt',\n",
       " '_lru_cache_wrapper',\n",
       " '_lt_from_ge',\n",
       " '_lt_from_gt',\n",
       " '_lt_from_le',\n",
       " '_make_key',\n",
       " '_unwrap_partial',\n",
       " 'cache',\n",
       " 'cached_property',\n",
       " 'cmp_to_key',\n",
       " 'get_cache_token',\n",
       " 'lru_cache',\n",
       " 'namedtuple',\n",
       " 'partial',\n",
       " 'partialmethod',\n",
       " 'recursive_repr',\n",
       " 'reduce',\n",
       " 'singledispatch',\n",
       " 'singledispatchmethod',\n",
       " 'total_ordering',\n",
       " 'update_wrapper',\n",
       " 'wraps']"
      ]
     },
     "execution_count": 149,
     "metadata": {},
     "output_type": "execute_result"
    }
   ],
   "source": [
    "dir(functools)"
   ]
  },
  {
   "cell_type": "code",
   "execution_count": 169,
   "id": "b5b4c9ab-c80f-4e99-a260-8658f35a3ebe",
   "metadata": {},
   "outputs": [
    {
     "data": {
      "text/plain": [
       "15"
      ]
     },
     "execution_count": 169,
     "metadata": {},
     "output_type": "execute_result"
    }
   ],
   "source": [
    "import functools\n",
    "l1=[1,2,3,4,5]\n",
    "s1=functools.reduce(lambda summ,i:summ+i,l1)\n",
    "s1"
   ]
  },
  {
   "cell_type": "code",
   "execution_count": 171,
   "id": "1e0f6665-e06a-4a8b-ba86-b2561898840b",
   "metadata": {},
   "outputs": [
    {
     "data": {
      "text/plain": [
       "915"
      ]
     },
     "execution_count": 171,
     "metadata": {},
     "output_type": "execute_result"
    }
   ],
   "source": [
    "import functools\n",
    "l1=[1,2,3,4,5]\n",
    "s1=functools.reduce(lambda summ,i:summ+i,l1,900)\n",
    "s1"
   ]
  },
  {
   "cell_type": "code",
   "execution_count": 175,
   "id": "9f6dbd7a-b50a-48fc-91b2-9278fa44a1cd",
   "metadata": {},
   "outputs": [
    {
     "data": {
      "text/plain": [
       "120"
      ]
     },
     "execution_count": 175,
     "metadata": {},
     "output_type": "execute_result"
    }
   ],
   "source": [
    "import functools\n",
    "l1=[1,2,3,4,5]\n",
    "s1=functools.reduce(lambda val,i:val*i,l1)\n",
    "s1"
   ]
  },
  {
   "cell_type": "code",
   "execution_count": 179,
   "id": "5eb972fc-0ac9-4d10-98d2-bede3e3b2fdd",
   "metadata": {},
   "outputs": [
    {
     "data": {
      "text/plain": [
       "120"
      ]
     },
     "execution_count": 179,
     "metadata": {},
     "output_type": "execute_result"
    }
   ],
   "source": [
    "from functools import reduce\n",
    "l1=[1,2,3,4,5]\n",
    "s1=reduce(lambda val,i:val*i,l1)\n",
    "s1"
   ]
  },
  {
   "cell_type": "code",
   "execution_count": 181,
   "id": "77bc15a0-2ac7-4ebe-b088-36d416359f11",
   "metadata": {},
   "outputs": [
    {
     "data": {
      "text/plain": [
       "915"
      ]
     },
     "execution_count": 181,
     "metadata": {},
     "output_type": "execute_result"
    }
   ],
   "source": [
    "import functools\n",
    "l1=[1,2,3,4,5]\n",
    "s1=functools.reduce(lambda summ,i:summ+i,l1)\n",
    "s1\n",
    "\n",
    "\n",
    "import functools\n",
    "l1=[1,2,3,4,5]\n",
    "s1=functools.reduce(lambda summ,i:summ+i,l1,900)\n",
    "s1\n",
    "\n",
    "\n",
    "from functools import reduce\n",
    "l1=[1,2,3,4,5]\n",
    "s1=reduce(lambda val,i:val*i,l1)\n",
    "s1\n",
    "\n",
    "\n",
    "import functools as ft      # setting alias name of function: functools\n",
    "l1=[1,2,3,4,5]\n",
    "s1=ft.reduce(lambda summ,i:summ+i,l1,900)\n",
    "s1"
   ]
  },
  {
   "cell_type": "code",
   "execution_count": 183,
   "id": "f2bf3eef-d8ca-46f7-8552-d5bcda4b54da",
   "metadata": {},
   "outputs": [
    {
     "data": {
      "text/plain": [
       "<module 'functools' from 'C:\\\\Users\\\\Lenovo\\\\anaconda3\\\\Lib\\\\functools.py'>"
      ]
     },
     "execution_count": 183,
     "metadata": {},
     "output_type": "execute_result"
    }
   ],
   "source": [
    "import functools\n",
    "functools"
   ]
  },
  {
   "cell_type": "code",
   "execution_count": null,
   "id": "6ef23f5f-5b53-4355-8093-c08b2ab3b72a",
   "metadata": {},
   "outputs": [],
   "source": [
    "lambda <variable>,<output>\n",
    "lambda <variable>: <if output> <if condition> else <else output>\n",
    "map(lambda <variable>: <output>,iterator)\n",
    "filter(lambda <variable>: <condition>,iterator)\n",
    "reduce(lambda <var1><var2>: <condition>,iterator)"
   ]
  },
  {
   "cell_type": "code",
   "execution_count": null,
   "id": "3f8d821b-31be-42f9-8525-015850bcf527",
   "metadata": {},
   "outputs": [],
   "source": []
  }
 ],
 "metadata": {
  "kernelspec": {
   "display_name": "Python 3 (ipykernel)",
   "language": "python",
   "name": "python3"
  },
  "language_info": {
   "codemirror_mode": {
    "name": "ipython",
    "version": 3
   },
   "file_extension": ".py",
   "mimetype": "text/x-python",
   "name": "python",
   "nbconvert_exporter": "python",
   "pygments_lexer": "ipython3",
   "version": "3.12.4"
  }
 },
 "nbformat": 4,
 "nbformat_minor": 5
}
