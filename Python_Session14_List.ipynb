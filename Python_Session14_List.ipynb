{
 "cells": [
  {
   "cell_type": "code",
   "execution_count": null,
   "id": "677defe3-ecd1-43dc-a427-7133ab907b69",
   "metadata": {},
   "outputs": [],
   "source": []
  },
  {
   "cell_type": "code",
   "execution_count": null,
   "id": "272b7670-607c-4c89-84e0-d7ef0b4a99bd",
   "metadata": {},
   "outputs": [],
   "source": []
  },
  {
   "cell_type": "markdown",
   "id": "bc8a4ebd-25cc-4263-b8db-f6bb746215d2",
   "metadata": {},
   "source": [
    "- list means array \n",
    "\n",
    "- list can be represent to be any data types\n",
    "\n",
    "- Duplicates are allowed\n",
    "\n",
    "- List can access with brackets\n",
    "\n",
    "- List can have any data types of elements\n",
    "    - Heterogeneous\n",
    "\n",
    "- List can have duplicates\n",
    "\n",
    "- List in list is possible\n",
    "\n",
    "- Empty list can also be possible\n",
    "\n",
    "- The values inside list is called as elements\n",
    "\n",
    "- -------------------------------------------------------------------------------------------------------"
   ]
  },
  {
   "cell_type": "markdown",
   "id": "08d6da38-7fd9-4daa-8eea-e08daa3f25f5",
   "metadata": {},
   "source": [
    "- Initialization\n",
    "- inbuilt function\n",
    "- min\n",
    "- max\n",
    "- len\n",
    "- shorted\n",
    "- reverse\n",
    "- print\n"
   ]
  },
  {
   "cell_type": "code",
   "execution_count": 1,
   "id": "044fdc2c-1e00-45bd-a93a-6d54e8361460",
   "metadata": {},
   "outputs": [],
   "source": [
    "l1=[1,2,3,4]"
   ]
  },
  {
   "cell_type": "code",
   "execution_count": 3,
   "id": "309bc154-bdcb-46b7-b0bc-7ad80ae32b22",
   "metadata": {},
   "outputs": [
    {
     "data": {
      "text/plain": [
       "list"
      ]
     },
     "execution_count": 3,
     "metadata": {},
     "output_type": "execute_result"
    }
   ],
   "source": [
    "type(l1)"
   ]
  },
  {
   "cell_type": "code",
   "execution_count": 5,
   "id": "9ce65cc1-d413-4872-af34-26defdb7d2a2",
   "metadata": {},
   "outputs": [
    {
     "data": {
      "text/plain": [
       "['A', 'b', 'C']"
      ]
     },
     "execution_count": 5,
     "metadata": {},
     "output_type": "execute_result"
    }
   ],
   "source": [
    "l2=['A','b','C']\n",
    "l2\n"
   ]
  },
  {
   "cell_type": "code",
   "execution_count": 7,
   "id": "ad50621d-bfee-4f31-9eff-7a40c6229e28",
   "metadata": {},
   "outputs": [
    {
     "data": {
      "text/plain": [
       "[1, 2, 3, 4, 'A', 'B', 'C']"
      ]
     },
     "execution_count": 7,
     "metadata": {},
     "output_type": "execute_result"
    }
   ],
   "source": [
    "l3=[1,2,3,4,'A','B','C']\n",
    "l3"
   ]
  },
  {
   "cell_type": "code",
   "execution_count": null,
   "id": "fb3cdc0a-c69c-4515-a0e3-52c958898027",
   "metadata": {},
   "outputs": [],
   "source": [
    "# create as many as list with different ways means different data types"
   ]
  },
  {
   "cell_type": "code",
   "execution_count": 9,
   "id": "3cf4cff2-f56e-4f07-8e5a-106b039ea454",
   "metadata": {},
   "outputs": [],
   "source": [
    "l4=['A','Bat',23.67,1,2,3,4,5,'Pati']"
   ]
  },
  {
   "cell_type": "code",
   "execution_count": 11,
   "id": "b8b1c9ce-6e42-43ba-ad45-ea95045a9932",
   "metadata": {},
   "outputs": [
    {
     "data": {
      "text/plain": [
       "['A', 'Bat', 23.67, 1, 2, 3, 4, 5, 'Pati']"
      ]
     },
     "execution_count": 11,
     "metadata": {},
     "output_type": "execute_result"
    }
   ],
   "source": [
    "l4"
   ]
  },
  {
   "cell_type": "code",
   "execution_count": 13,
   "id": "d5e97e95-c090-4fac-a889-0fab1ea62c3a",
   "metadata": {},
   "outputs": [
    {
     "data": {
      "text/plain": [
       "[10, 20, 30, 'Apple', 'Banana', 'Cherry', True, False, 10.5, 20.5, (20+5j)]"
      ]
     },
     "execution_count": 13,
     "metadata": {},
     "output_type": "execute_result"
    }
   ],
   "source": [
    "l5=[10,20,30,'Apple','Banana','Cherry',True,False,10.5,20.5,20+5j]\n",
    "l5\n",
    "\n",
    "# all data types are allowed in one list"
   ]
  },
  {
   "cell_type": "code",
   "execution_count": 15,
   "id": "c1f78829-a32d-47f1-a34f-030a862bec1b",
   "metadata": {},
   "outputs": [
    {
     "data": {
      "text/plain": [
       "[10, 10, 10]"
      ]
     },
     "execution_count": 15,
     "metadata": {},
     "output_type": "execute_result"
    }
   ],
   "source": [
    "l6=[10,10,10]\n",
    "l6\n",
    "\n",
    "# duplicate data are allowed in a single list"
   ]
  },
  {
   "cell_type": "code",
   "execution_count": 17,
   "id": "3f3d912c-c88e-457d-99cc-964785a4d80b",
   "metadata": {},
   "outputs": [],
   "source": [
    "l7=[20,20,20,['A','B','C']]\n",
    "\n",
    "# list under list"
   ]
  },
  {
   "cell_type": "code",
   "execution_count": 19,
   "id": "3901e69f-76c1-4caf-841c-b9650a3298e5",
   "metadata": {},
   "outputs": [
    {
     "data": {
      "text/plain": [
       "[20, 20, 20, ['A', 'B', 'C']]"
      ]
     },
     "execution_count": 19,
     "metadata": {},
     "output_type": "execute_result"
    }
   ],
   "source": [
    "l7"
   ]
  },
  {
   "cell_type": "code",
   "execution_count": 21,
   "id": "fb40f82b-8e92-4c3c-bf9a-39550af825bc",
   "metadata": {},
   "outputs": [
    {
     "data": {
      "text/plain": [
       "[]"
      ]
     },
     "execution_count": 21,
     "metadata": {},
     "output_type": "execute_result"
    }
   ],
   "source": [
    "l8=[]\n",
    "l8"
   ]
  },
  {
   "cell_type": "code",
   "execution_count": 36,
   "id": "a1a8957a-7c4b-43f3-a040-b1920831824e",
   "metadata": {},
   "outputs": [
    {
     "data": {
      "text/plain": [
       "['{\"dataframes\": [], \"user\": \"Lenovo\"}']"
      ]
     },
     "execution_count": 36,
     "metadata": {},
     "output_type": "execute_result"
    }
   ],
   "source": [
    "l9=[_]\n",
    "l9"
   ]
  },
  {
   "cell_type": "code",
   "execution_count": 34,
   "id": "03d3b56a-035d-4dcd-83a6-a98f311cd2a3",
   "metadata": {},
   "outputs": [
    {
     "ename": "NameError",
     "evalue": "name 'python' is not defined",
     "output_type": "error",
     "traceback": [
      "\u001b[1;31m---------------------------------------------------------------------------\u001b[0m",
      "\u001b[1;31mNameError\u001b[0m                                 Traceback (most recent call last)",
      "Cell \u001b[1;32mIn[34], line 1\u001b[0m\n\u001b[1;32m----> 1\u001b[0m l10\u001b[38;5;241m=\u001b[39m[python]\n\u001b[0;32m      2\u001b[0m l10\n",
      "\u001b[1;31mNameError\u001b[0m: name 'python' is not defined"
     ]
    }
   ],
   "source": [
    "l10=[python]\n",
    "l10"
   ]
  },
  {
   "cell_type": "code",
   "execution_count": null,
   "id": "b34de588-0880-43a3-9326-99edd2719770",
   "metadata": {},
   "outputs": [],
   "source": [
    "for all 7 min max len sorted reversed"
   ]
  },
  {
   "cell_type": "code",
   "execution_count": 45,
   "id": "40144c7d-9b23-43d3-be62-7968ddb05ffe",
   "metadata": {},
   "outputs": [
    {
     "data": {
      "text/plain": [
       "(4, 3, 7, 9, 11)"
      ]
     },
     "execution_count": 45,
     "metadata": {},
     "output_type": "execute_result"
    }
   ],
   "source": [
    "len(l1),len(l2),len(l3),len(l4),len(l5)"
   ]
  },
  {
   "cell_type": "code",
   "execution_count": 47,
   "id": "49c03ac5-ec11-496b-939b-91b979bb8b23",
   "metadata": {},
   "outputs": [
    {
     "data": {
      "text/plain": [
       "(1, 4)"
      ]
     },
     "execution_count": 47,
     "metadata": {},
     "output_type": "execute_result"
    }
   ],
   "source": [
    "min(l1),max(l1)"
   ]
  },
  {
   "cell_type": "code",
   "execution_count": 49,
   "id": "4a0adbe1-b848-4706-9bd0-109a4f69d770",
   "metadata": {},
   "outputs": [
    {
     "ename": "TypeError",
     "evalue": "'<' not supported between instances of 'float' and 'str'",
     "output_type": "error",
     "traceback": [
      "\u001b[1;31m---------------------------------------------------------------------------\u001b[0m",
      "\u001b[1;31mTypeError\u001b[0m                                 Traceback (most recent call last)",
      "Cell \u001b[1;32mIn[49], line 1\u001b[0m\n\u001b[1;32m----> 1\u001b[0m \u001b[38;5;28mmin\u001b[39m(l4)\n",
      "\u001b[1;31mTypeError\u001b[0m: '<' not supported between instances of 'float' and 'str'"
     ]
    }
   ],
   "source": [
    "min(l4)\n",
    "\n",
    "# same data type should be compare\n",
    "# 'A' ===== some level\n",
    "# 1 ====== some level (not happened)"
   ]
  },
  {
   "cell_type": "code",
   "execution_count": 53,
   "id": "db6e6675-be39-4e70-bd4c-3f6e847e4ee7",
   "metadata": {},
   "outputs": [
    {
     "data": {
      "text/plain": [
       "(0, 1, 1)"
      ]
     },
     "execution_count": 53,
     "metadata": {},
     "output_type": "execute_result"
    }
   ],
   "source": [
    "len([]),len([100]),len([''])\n",
    "\n",
    "# is list has element"
   ]
  },
  {
   "cell_type": "code",
   "execution_count": 55,
   "id": "1e94ae3a-6343-44e3-89b9-466c56ff3b49",
   "metadata": {},
   "outputs": [
    {
     "data": {
      "text/plain": [
       "''"
      ]
     },
     "execution_count": 55,
     "metadata": {},
     "output_type": "execute_result"
    }
   ],
   "source": [
    "min(['','a'])\n",
    "\n",
    "# ''     32\n",
    "# 'a'     97"
   ]
  },
  {
   "cell_type": "code",
   "execution_count": null,
   "id": "0ba3a534-f05c-4b47-99cb-8d064568b210",
   "metadata": {},
   "outputs": [],
   "source": [
    "len[100]   # 1      ----------> how many elements in the list\n",
    "len[1,0,0]   # 3    -----------> how many elements in the list\n",
    "len['100']    # 1   -------> how many elements in the list\n",
    "len('100')    # 3 -----------> how many characters in the string"
   ]
  },
  {
   "cell_type": "code",
   "execution_count": 73,
   "id": "8bf3af28-3d6c-4a36-beeb-eb8e93953efc",
   "metadata": {},
   "outputs": [
    {
     "data": {
      "text/plain": [
       "[]"
      ]
     },
     "execution_count": 73,
     "metadata": {},
     "output_type": "execute_result"
    }
   ],
   "source": [
    "sorted\n",
    "\n",
    "l1  # w\n",
    "l2  # w\n",
    "l3  # Hetero NW\n",
    "l4  # Hetero NW\n",
    "l5  # Hetero NW\n",
    "l6   # w -----> all are same so no sorted needed\n",
    "l7   # Hetero NW\n",
    "l8   # empty list so no need to sorted\n"
   ]
  },
  {
   "cell_type": "code",
   "execution_count": 69,
   "id": "b1d09fc3-3d87-497d-82fe-aab6ab7809c4",
   "metadata": {},
   "outputs": [
    {
     "data": {
      "text/plain": [
       "[10, 10, 10]"
      ]
     },
     "execution_count": 69,
     "metadata": {},
     "output_type": "execute_result"
    }
   ],
   "source": [
    "l6"
   ]
  },
  {
   "cell_type": "code",
   "execution_count": 75,
   "id": "faef6a18-e423-462a-a5dc-b10bbf349727",
   "metadata": {},
   "outputs": [
    {
     "data": {
      "text/plain": [
       "<list_reverseiterator at 0x1d575cb2e30>"
      ]
     },
     "execution_count": 75,
     "metadata": {},
     "output_type": "execute_result"
    }
   ],
   "source": [
    "reversed(l1)"
   ]
  },
  {
   "cell_type": "code",
   "execution_count": 77,
   "id": "8e4d7aec-44d2-4e51-b055-a154cfeec6d4",
   "metadata": {},
   "outputs": [
    {
     "name": "stdout",
     "output_type": "stream",
     "text": [
      "4\n",
      "3\n",
      "2\n",
      "1\n"
     ]
    }
   ],
   "source": [
    "for i in reversed(l1):\n",
    "    print(i)"
   ]
  },
  {
   "cell_type": "code",
   "execution_count": 79,
   "id": "a1021ed1-fbfd-4fbe-8155-856db91219b6",
   "metadata": {},
   "outputs": [
    {
     "data": {
      "text/plain": [
       "[4, 3, 2, 1]"
      ]
     },
     "execution_count": 79,
     "metadata": {},
     "output_type": "execute_result"
    }
   ],
   "source": [
    "list(reversed(l1))"
   ]
  },
  {
   "cell_type": "code",
   "execution_count": 81,
   "id": "a1bbec94-f11c-49c1-9f43-f5f0bb4e4755",
   "metadata": {},
   "outputs": [
    {
     "data": {
      "text/plain": [
       "[<list_reverseiterator at 0x1d57d9f43a0>]"
      ]
     },
     "execution_count": 81,
     "metadata": {},
     "output_type": "execute_result"
    }
   ],
   "source": [
    "[reversed(l1)]"
   ]
  },
  {
   "cell_type": "code",
   "execution_count": 83,
   "id": "2ee114da-e734-4e21-ac1c-db2b8ff27f19",
   "metadata": {},
   "outputs": [
    {
     "data": {
      "text/plain": [
       "['C', 'B', 'A', 4, 3, 2, 1]"
      ]
     },
     "execution_count": 83,
     "metadata": {},
     "output_type": "execute_result"
    }
   ],
   "source": [
    "list(reversed(l3))"
   ]
  },
  {
   "cell_type": "code",
   "execution_count": 85,
   "id": "4910b211-7910-4cb5-bc66-aa464d519f21",
   "metadata": {},
   "outputs": [
    {
     "data": {
      "text/plain": [
       "['Pati', 5, 4, 3, 2, 1, 23.67, 'Bat', 'A']"
      ]
     },
     "execution_count": 85,
     "metadata": {},
     "output_type": "execute_result"
    }
   ],
   "source": [
    "list(reversed(l4))"
   ]
  },
  {
   "cell_type": "code",
   "execution_count": 87,
   "id": "4d54395c-700f-49dd-8e16-0dc62e267327",
   "metadata": {},
   "outputs": [
    {
     "data": {
      "text/plain": [
       "[(20+5j), 20.5, 10.5, False, True, 'Cherry', 'Banana', 'Apple', 30, 20, 10]"
      ]
     },
     "execution_count": 87,
     "metadata": {},
     "output_type": "execute_result"
    }
   ],
   "source": [
    "list(reversed(l5))"
   ]
  },
  {
   "cell_type": "code",
   "execution_count": 89,
   "id": "4caaf445-656b-4483-b4c5-860a77d9484a",
   "metadata": {},
   "outputs": [
    {
     "data": {
      "text/plain": [
       "[10, 10, 10]"
      ]
     },
     "execution_count": 89,
     "metadata": {},
     "output_type": "execute_result"
    }
   ],
   "source": [
    "list(reversed(l6))"
   ]
  },
  {
   "cell_type": "code",
   "execution_count": 91,
   "id": "0454f6a2-0370-41c3-9ce2-c3a63da0d685",
   "metadata": {},
   "outputs": [
    {
     "data": {
      "text/plain": [
       "[['A', 'B', 'C'], 20, 20, 20]"
      ]
     },
     "execution_count": 91,
     "metadata": {},
     "output_type": "execute_result"
    }
   ],
   "source": [
    "list(reversed(l7))"
   ]
  },
  {
   "cell_type": "code",
   "execution_count": 93,
   "id": "0863c5dd-5696-4171-bd4a-d9c11ffafa1a",
   "metadata": {},
   "outputs": [
    {
     "data": {
      "text/plain": [
       "[]"
      ]
     },
     "execution_count": 93,
     "metadata": {},
     "output_type": "execute_result"
    }
   ],
   "source": [
    "list(reversed(l8))"
   ]
  },
  {
   "cell_type": "code",
   "execution_count": 95,
   "id": "71f8e935-a8c0-442a-a427-7c86b4754068",
   "metadata": {},
   "outputs": [
    {
     "data": {
      "text/plain": [
       "['{\"dataframes\": [], \"user\": \"Lenovo\"}']"
      ]
     },
     "execution_count": 95,
     "metadata": {},
     "output_type": "execute_result"
    }
   ],
   "source": [
    "list(reversed(l9))"
   ]
  },
  {
   "cell_type": "markdown",
   "id": "9274b355-5de9-48f0-9adc-edbbbb96f2c3",
   "metadata": {},
   "source": [
    "- sorted will compare the elements\n",
    "- the same rules applicable for min and max\n",
    "- sorted never return any error eventhrough we have an empty list\n",
    "- min and max will give error if it has empty lis\n",
    "- Reversed only do reverse elements"
   ]
  },
  {
   "cell_type": "code",
   "execution_count": null,
   "id": "3244e6ee-525a-4ac5-a15f-0e602e975d22",
   "metadata": {},
   "outputs": [],
   "source": [
    "min/max/sorted/reversed/len"
   ]
  },
  {
   "cell_type": "markdown",
   "id": "84a0fdd4-4f29-4bd6-990d-8ade132f04f7",
   "metadata": {},
   "source": [
    "**sum**"
   ]
  },
  {
   "cell_type": "code",
   "execution_count": 101,
   "id": "5085462e-b7f8-46c6-9116-c13ea1b16919",
   "metadata": {},
   "outputs": [
    {
     "data": {
      "text/plain": [
       "600"
      ]
     },
     "execution_count": 101,
     "metadata": {},
     "output_type": "execute_result"
    }
   ],
   "source": [
    "sum([100,200,300])"
   ]
  },
  {
   "cell_type": "code",
   "execution_count": 98,
   "id": "895a7137-39c5-4617-b60b-6ad9aa29cd8a",
   "metadata": {},
   "outputs": [
    {
     "ename": "TypeError",
     "evalue": "unsupported operand type(s) for +: 'int' and 'str'",
     "output_type": "error",
     "traceback": [
      "\u001b[1;31m---------------------------------------------------------------------------\u001b[0m",
      "\u001b[1;31mTypeError\u001b[0m                                 Traceback (most recent call last)",
      "Cell \u001b[1;32mIn[98], line 1\u001b[0m\n\u001b[1;32m----> 1\u001b[0m \u001b[38;5;28msum\u001b[39m([\u001b[38;5;124m'\u001b[39m\u001b[38;5;124mA\u001b[39m\u001b[38;5;124m'\u001b[39m,\u001b[38;5;124m'\u001b[39m\u001b[38;5;124mB\u001b[39m\u001b[38;5;124m'\u001b[39m,\u001b[38;5;124m'\u001b[39m\u001b[38;5;124mC\u001b[39m\u001b[38;5;124m'\u001b[39m])\n",
      "\u001b[1;31mTypeError\u001b[0m: unsupported operand type(s) for +: 'int' and 'str'"
     ]
    }
   ],
   "source": [
    "sum(['A','B','C'])"
   ]
  },
  {
   "cell_type": "code",
   "execution_count": 105,
   "id": "83e344fa-ba8e-4b21-b55d-5098668d0f3a",
   "metadata": {},
   "outputs": [
    {
     "data": {
      "text/plain": [
       "700"
      ]
     },
     "execution_count": 105,
     "metadata": {},
     "output_type": "execute_result"
    }
   ],
   "source": [
    "sum([100,200,300],start=100)"
   ]
  },
  {
   "cell_type": "code",
   "execution_count": 107,
   "id": "079acec4-332f-44c4-8568-5b7a45eaaba2",
   "metadata": {},
   "outputs": [
    {
     "data": {
      "text/plain": [
       "0"
      ]
     },
     "execution_count": 107,
     "metadata": {},
     "output_type": "execute_result"
    }
   ],
   "source": [
    "sum([])"
   ]
  },
  {
   "cell_type": "markdown",
   "id": "723f5c79-9064-44c2-93d7-2d05a68e8bc0",
   "metadata": {},
   "source": [
    "**index**"
   ]
  },
  {
   "cell_type": "code",
   "execution_count": 110,
   "id": "f93fc514-09e5-4dec-9fc6-f620123cd32c",
   "metadata": {},
   "outputs": [],
   "source": [
    "l1=[1,2,3,4,'A','B','C']\n",
    "\n",
    "# -7     -6     -5    -4     -3       -2        -1\n",
    "# [1,    2,     3,    4,    'A',     'B',      'C']\n",
    "#  0     1      2     3      4        5         6"
   ]
  },
  {
   "cell_type": "code",
   "execution_count": 112,
   "id": "e8a5dc0a-731b-45ab-a80a-086db3d4c84e",
   "metadata": {},
   "outputs": [
    {
     "data": {
      "text/plain": [
       "(1, 1)"
      ]
     },
     "execution_count": 112,
     "metadata": {},
     "output_type": "execute_result"
    }
   ],
   "source": [
    "l1[0],l1[-7]"
   ]
  },
  {
   "cell_type": "code",
   "execution_count": 114,
   "id": "1276311b-f753-4fbe-b753-f92efe38af51",
   "metadata": {},
   "outputs": [],
   "source": [
    "# by using for loop print the positive index\n",
    "# by using the loop print the negative index\n",
    "# by using for loop print both positive and negative index"
   ]
  },
  {
   "cell_type": "code",
   "execution_count": 118,
   "id": "f18e56b2-25da-4cbf-afc7-e890e84caf05",
   "metadata": {},
   "outputs": [
    {
     "name": "stdout",
     "output_type": "stream",
     "text": [
      "the postive index of 1 is : 0\n",
      "the postive index of 2 is : 1\n",
      "the postive index of 3 is : 2\n",
      "the postive index of 4 is : 3\n",
      "the postive index of A is : 4\n",
      "the postive index of B is : 5\n",
      "the postive index of C is : 6\n"
     ]
    }
   ],
   "source": [
    "# by using for loop print the positive index\n",
    "\n",
    "\n",
    "l1=[1,2,3,4,'A','B','C']\n",
    "for i in range(len(l1)):\n",
    "    print(f'the postive index of {l1[i]} is : {i}')"
   ]
  },
  {
   "cell_type": "code",
   "execution_count": 120,
   "id": "021d9f06-6b66-4634-8aaf-75cb15e2d714",
   "metadata": {},
   "outputs": [
    {
     "name": "stdout",
     "output_type": "stream",
     "text": [
      "the negative index of 1 is : -7\n",
      "the negative index of 2 is : -6\n",
      "the negative index of 3 is : -5\n",
      "the negative index of 4 is : -4\n",
      "the negative index of A is : -3\n",
      "the negative index of B is : -2\n",
      "the negative index of C is : -1\n"
     ]
    }
   ],
   "source": [
    "# by using the loop print the negative index\n",
    "\n",
    "l1=[1,2,3,4,'A','B','C']\n",
    "for i in range(len(l1)):\n",
    "    print(f'the negative index of {l1[i]} is : {i-len(l1)}')"
   ]
  },
  {
   "cell_type": "code",
   "execution_count": 122,
   "id": "308213c0-700c-4d72-93ed-50517918c08a",
   "metadata": {},
   "outputs": [
    {
     "name": "stdout",
     "output_type": "stream",
     "text": [
      "the negative index of 1 is : -7 and the postive index of 1 is : 0\n",
      "the negative index of 2 is : -6 and the postive index of 2 is : 1\n",
      "the negative index of 3 is : -5 and the postive index of 3 is : 2\n",
      "the negative index of 4 is : -4 and the postive index of 4 is : 3\n",
      "the negative index of A is : -3 and the postive index of A is : 4\n",
      "the negative index of B is : -2 and the postive index of B is : 5\n",
      "the negative index of C is : -1 and the postive index of C is : 6\n"
     ]
    }
   ],
   "source": [
    "# by using for loop print both positive and negative index\n",
    "\n",
    "l1=[1,2,3,4,'A','B','C']\n",
    "for i in range(len(l1)):\n",
    "    print(f'the negative index of {l1[i]} is : {i-len(l1)} and the postive index of {l1[i]} is : {i}')"
   ]
  },
  {
   "cell_type": "code",
   "execution_count": 124,
   "id": "16406c4d-78bf-433d-b8a3-e11dc5e793dd",
   "metadata": {},
   "outputs": [],
   "source": [
    "l=[10,20,30]"
   ]
  },
  {
   "cell_type": "code",
   "execution_count": 126,
   "id": "2214e656-5e6f-4e30-90d4-5bb44f7c3b11",
   "metadata": {},
   "outputs": [
    {
     "data": {
      "text/plain": [
       "10"
      ]
     },
     "execution_count": 126,
     "metadata": {},
     "output_type": "execute_result"
    }
   ],
   "source": [
    "l[0]"
   ]
  },
  {
   "cell_type": "code",
   "execution_count": 130,
   "id": "fb9669d1-31bd-4147-8bed-4cb303db5ec6",
   "metadata": {},
   "outputs": [
    {
     "data": {
      "text/plain": [
       "1"
      ]
     },
     "execution_count": 130,
     "metadata": {},
     "output_type": "execute_result"
    }
   ],
   "source": [
    "l=[[10,20,30]]\n",
    "\n",
    "# how to access the 10\n",
    "len(l)"
   ]
  },
  {
   "cell_type": "code",
   "execution_count": 132,
   "id": "31d17bcb-f698-46f0-ad17-f66f2f2b72af",
   "metadata": {},
   "outputs": [
    {
     "data": {
      "text/plain": [
       "[10, 20, 30]"
      ]
     },
     "execution_count": 132,
     "metadata": {},
     "output_type": "execute_result"
    }
   ],
   "source": [
    "l[0]"
   ]
  },
  {
   "cell_type": "code",
   "execution_count": 134,
   "id": "fd51bad0-9af6-44c4-ad45-93c4cd0af758",
   "metadata": {},
   "outputs": [
    {
     "data": {
      "text/plain": [
       "10"
      ]
     },
     "execution_count": 134,
     "metadata": {},
     "output_type": "execute_result"
    }
   ],
   "source": [
    "l[0][0]"
   ]
  },
  {
   "cell_type": "code",
   "execution_count": 136,
   "id": "929faa79-04a5-4a62-bbe7-9b560ed260e7",
   "metadata": {},
   "outputs": [
    {
     "data": {
      "text/plain": [
       "20"
      ]
     },
     "execution_count": 136,
     "metadata": {},
     "output_type": "execute_result"
    }
   ],
   "source": [
    "l[0][1]"
   ]
  },
  {
   "cell_type": "code",
   "execution_count": 138,
   "id": "0622e240-1c62-4845-a2fc-0d539ffd40ba",
   "metadata": {},
   "outputs": [
    {
     "data": {
      "text/plain": [
       "30"
      ]
     },
     "execution_count": 138,
     "metadata": {},
     "output_type": "execute_result"
    }
   ],
   "source": [
    "l[0][2]"
   ]
  },
  {
   "cell_type": "code",
   "execution_count": 140,
   "id": "6821d31a-fdd2-4e29-b10e-4b87a1a442d5",
   "metadata": {},
   "outputs": [],
   "source": [
    "l1=[10,20,['A','B']]   # retrive A"
   ]
  },
  {
   "cell_type": "code",
   "execution_count": 142,
   "id": "4b3dde89-32fa-4398-9bae-d7f6bc357e82",
   "metadata": {},
   "outputs": [
    {
     "data": {
      "text/plain": [
       "'A'"
      ]
     },
     "execution_count": 142,
     "metadata": {},
     "output_type": "execute_result"
    }
   ],
   "source": [
    "l1[2][0]"
   ]
  },
  {
   "cell_type": "code",
   "execution_count": 144,
   "id": "1e72f94d-7d57-4dde-9eef-41471baa4f38",
   "metadata": {},
   "outputs": [],
   "source": [
    "l1=[1,2,3,4,[5,6,['Apple']]]"
   ]
  },
  {
   "cell_type": "code",
   "execution_count": 146,
   "id": "11008386-0dcb-465d-a73b-51579db63eea",
   "metadata": {},
   "outputs": [
    {
     "data": {
      "text/plain": [
       "'Apple'"
      ]
     },
     "execution_count": 146,
     "metadata": {},
     "output_type": "execute_result"
    }
   ],
   "source": [
    "l1[4][2][0]"
   ]
  },
  {
   "cell_type": "code",
   "execution_count": 148,
   "id": "6cd448ad-d85c-4809-99fa-cff52ce3027f",
   "metadata": {},
   "outputs": [
    {
     "data": {
      "text/plain": [
       "'cherry'"
      ]
     },
     "execution_count": 148,
     "metadata": {},
     "output_type": "execute_result"
    }
   ],
   "source": [
    "l1=[1,2,3,[4,[5,['cherry']]]]\n",
    "l1[3][1][1][0]"
   ]
  },
  {
   "cell_type": "code",
   "execution_count": 152,
   "id": "b987d59c-c2d7-4818-bd5b-175d9224a910",
   "metadata": {},
   "outputs": [
    {
     "data": {
      "text/plain": [
       "'onion'"
      ]
     },
     "execution_count": 152,
     "metadata": {},
     "output_type": "execute_result"
    }
   ],
   "source": [
    "l1=[[[[[[[[['onion']]]]]]]]]\n",
    "l1[0][0][0][0][0][0][0][0][0]"
   ]
  },
  {
   "cell_type": "code",
   "execution_count": 156,
   "id": "6023e07a-4b5f-493f-8dbc-cb08f8756e11",
   "metadata": {},
   "outputs": [
    {
     "data": {
      "text/plain": [
       "'DDLJ'"
      ]
     },
     "execution_count": 156,
     "metadata": {},
     "output_type": "execute_result"
    }
   ],
   "source": [
    "l1=['Apple',['Kashmir',['India',['Mumbai',['Sharuk',['Film',['DDLJ']]]]]]]\n",
    "\n",
    "l1[1][1][1][1][1][1][0]"
   ]
  },
  {
   "cell_type": "markdown",
   "id": "b98eab5b-4dbc-4d33-a97c-4a39b0584392",
   "metadata": {},
   "source": [
    "**mutable vs immutable**"
   ]
  },
  {
   "cell_type": "code",
   "execution_count": 2,
   "id": "4b9ec79f-eea5-41db-ad17-900b9e2dc77e",
   "metadata": {},
   "outputs": [
    {
     "ename": "TypeError",
     "evalue": "'str' object does not support item assignment",
     "output_type": "error",
     "traceback": [
      "\u001b[1;31m---------------------------------------------------------------------------\u001b[0m",
      "\u001b[1;31mTypeError\u001b[0m                                 Traceback (most recent call last)",
      "Cell \u001b[1;32mIn[2], line 2\u001b[0m\n\u001b[0;32m      1\u001b[0m str1\u001b[38;5;241m=\u001b[39m\u001b[38;5;124m'\u001b[39m\u001b[38;5;124mwelcome\u001b[39m\u001b[38;5;124m'\u001b[39m\n\u001b[1;32m----> 2\u001b[0m str1[\u001b[38;5;241m2\u001b[39m]\u001b[38;5;241m=\u001b[39m\u001b[38;5;124m'\u001b[39m\u001b[38;5;124mL\u001b[39m\u001b[38;5;124m'\u001b[39m\n\u001b[0;32m      3\u001b[0m str1\n",
      "\u001b[1;31mTypeError\u001b[0m: 'str' object does not support item assignment"
     ]
    }
   ],
   "source": [
    "str1='welcome'\n",
    "str1[2]='L'\n",
    "str1"
   ]
  },
  {
   "cell_type": "code",
   "execution_count": 4,
   "id": "1d3f3afc-b8a6-4ecf-9d45-a4c38e629942",
   "metadata": {},
   "outputs": [
    {
     "data": {
      "text/plain": [
       "['w', 'e', 'L', 'c', 'o', 'm', 'e']"
      ]
     },
     "execution_count": 4,
     "metadata": {},
     "output_type": "execute_result"
    }
   ],
   "source": [
    "l1=['w','e','l','c','o','m','e']\n",
    "l1[2]='L'\n",
    "l1"
   ]
  },
  {
   "cell_type": "markdown",
   "id": "4013682e-3abe-4769-b111-65d8af11f9d9",
   "metadata": {},
   "source": [
    "- we can change the list elements using index"
   ]
  },
  {
   "cell_type": "code",
   "execution_count": 7,
   "id": "62a1cba7-540a-4b98-a5cd-6bfde7af7608",
   "metadata": {},
   "outputs": [
    {
     "data": {
      "text/plain": [
       "'hellowelcome'"
      ]
     },
     "execution_count": 7,
     "metadata": {},
     "output_type": "execute_result"
    }
   ],
   "source": [
    "s1='hello'\n",
    "s2='welcome'\n",
    "s1+s2"
   ]
  },
  {
   "cell_type": "code",
   "execution_count": null,
   "id": "2e4fc602-4724-48af-847b-31bd8cfcc6fa",
   "metadata": {},
   "outputs": [],
   "source": [
    "s1*s2  # fail\n",
    "s1-s2  # fail\n"
   ]
  },
  {
   "cell_type": "code",
   "execution_count": 9,
   "id": "16094485-e540-4781-9318-bdfe3b8ee83e",
   "metadata": {},
   "outputs": [
    {
     "data": {
      "text/plain": [
       "'hellohello'"
      ]
     },
     "execution_count": 9,
     "metadata": {},
     "output_type": "execute_result"
    }
   ],
   "source": [
    "s1*2"
   ]
  },
  {
   "cell_type": "code",
   "execution_count": 41,
   "id": "801b28a7-f268-4a5c-ac56-1349cf2d303f",
   "metadata": {},
   "outputs": [
    {
     "data": {
      "text/plain": [
       "['h', 'e', 'l', 'l', 'o', 'w', 'e', 'l', 'c', 'o', 'm', 'e']"
      ]
     },
     "execution_count": 41,
     "metadata": {},
     "output_type": "execute_result"
    }
   ],
   "source": [
    "s1=['h','e','l','l','o']\n",
    "s2=['w','e','l','c','o','m','e']\n",
    "s1+s2"
   ]
  },
  {
   "cell_type": "code",
   "execution_count": 19,
   "id": "ea19e85a-183f-4c85-9d8b-03d0e862c21a",
   "metadata": {},
   "outputs": [
    {
     "data": {
      "text/plain": [
       "['w', 'e', 'l', 'c', 'o', 'm', 'e', 'w', 'e', 'l', 'c', 'o', 'm', 'e']"
      ]
     },
     "execution_count": 19,
     "metadata": {},
     "output_type": "execute_result"
    }
   ],
   "source": [
    "s2*2"
   ]
  },
  {
   "cell_type": "code",
   "execution_count": 23,
   "id": "531747cf-96d8-4b2a-9223-859c2cf968ca",
   "metadata": {},
   "outputs": [
    {
     "data": {
      "text/plain": [
       "[]"
      ]
     },
     "execution_count": 23,
     "metadata": {},
     "output_type": "execute_result"
    }
   ],
   "source": [
    "l1=[1,2,3,4,5,'A','B','C','D','10.5',True,10.5,200]\n",
    "l1[:]  # same list\n",
    "l1[::]   # same list\n",
    "l1[::-1]  # reverse list\n",
    "l1[2:14:2]   # work\n",
    "l1[2:14:-2]    # notwork\n",
    "l1[2:-14:2]    # not work\n",
    "l1[-2:14:2]   # works\n",
    "l1[-2:-14:-2]   # works\n",
    "l1[14:2:2]    # not work\n",
    "l1[14:2:-2]    # works\n",
    "l1[14:-2:2]   # not work\n",
    "l1[-14:2:2]   # works\n",
    "l1[-14:-2:-2]   # not works"
   ]
  },
  {
   "cell_type": "code",
   "execution_count": 27,
   "id": "1c354b5d-04c8-4d9a-953b-69156ebbdb78",
   "metadata": {},
   "outputs": [],
   "source": [
    "l1=[1,2,3,4,5,'A','B','C','D','10.5',True,10.5,200]"
   ]
  },
  {
   "cell_type": "code",
   "execution_count": 39,
   "id": "46e7cc1e-53b5-4e59-b728-6d802363fbf4",
   "metadata": {},
   "outputs": [
    {
     "data": {
      "text/plain": [
       "[200, 10.5, True, '10.5', 'D', 'C', 'B', 'A', 5, 4, 3, 2, 1]"
      ]
     },
     "execution_count": 39,
     "metadata": {},
     "output_type": "execute_result"
    }
   ],
   "source": [
    "l1[::-1] "
   ]
  },
  {
   "cell_type": "markdown",
   "id": "1ecd3bd9-00a7-49d5-b4ff-746f40141daa",
   "metadata": {},
   "source": [
    "**Methods**"
   ]
  },
  {
   "cell_type": "code",
   "execution_count": 44,
   "id": "f50eb71b-b0e9-41b5-a7b3-f7a236acd28c",
   "metadata": {},
   "outputs": [
    {
     "data": {
      "text/plain": [
       "['__add__',\n",
       " '__class__',\n",
       " '__contains__',\n",
       " '__delattr__',\n",
       " '__dir__',\n",
       " '__doc__',\n",
       " '__eq__',\n",
       " '__format__',\n",
       " '__ge__',\n",
       " '__getattribute__',\n",
       " '__getitem__',\n",
       " '__getnewargs__',\n",
       " '__getstate__',\n",
       " '__gt__',\n",
       " '__hash__',\n",
       " '__init__',\n",
       " '__init_subclass__',\n",
       " '__iter__',\n",
       " '__le__',\n",
       " '__len__',\n",
       " '__lt__',\n",
       " '__mod__',\n",
       " '__mul__',\n",
       " '__ne__',\n",
       " '__new__',\n",
       " '__reduce__',\n",
       " '__reduce_ex__',\n",
       " '__repr__',\n",
       " '__rmod__',\n",
       " '__rmul__',\n",
       " '__setattr__',\n",
       " '__sizeof__',\n",
       " '__str__',\n",
       " '__subclasshook__',\n",
       " 'capitalize',\n",
       " 'casefold',\n",
       " 'center',\n",
       " 'count',\n",
       " 'encode',\n",
       " 'endswith',\n",
       " 'expandtabs',\n",
       " 'find',\n",
       " 'format',\n",
       " 'format_map',\n",
       " 'index',\n",
       " 'isalnum',\n",
       " 'isalpha',\n",
       " 'isascii',\n",
       " 'isdecimal',\n",
       " 'isdigit',\n",
       " 'isidentifier',\n",
       " 'islower',\n",
       " 'isnumeric',\n",
       " 'isprintable',\n",
       " 'isspace',\n",
       " 'istitle',\n",
       " 'isupper',\n",
       " 'join',\n",
       " 'ljust',\n",
       " 'lower',\n",
       " 'lstrip',\n",
       " 'maketrans',\n",
       " 'partition',\n",
       " 'removeprefix',\n",
       " 'removesuffix',\n",
       " 'replace',\n",
       " 'rfind',\n",
       " 'rindex',\n",
       " 'rjust',\n",
       " 'rpartition',\n",
       " 'rsplit',\n",
       " 'rstrip',\n",
       " 'split',\n",
       " 'splitlines',\n",
       " 'startswith',\n",
       " 'strip',\n",
       " 'swapcase',\n",
       " 'title',\n",
       " 'translate',\n",
       " 'upper',\n",
       " 'zfill']"
      ]
     },
     "execution_count": 44,
     "metadata": {},
     "output_type": "execute_result"
    }
   ],
   "source": [
    "dir('')"
   ]
  },
  {
   "cell_type": "code",
   "execution_count": 46,
   "id": "55734e52-a5b5-434c-b75a-c1b68de57577",
   "metadata": {},
   "outputs": [
    {
     "data": {
      "text/plain": [
       "['__add__',\n",
       " '__class__',\n",
       " '__class_getitem__',\n",
       " '__contains__',\n",
       " '__delattr__',\n",
       " '__delitem__',\n",
       " '__dir__',\n",
       " '__doc__',\n",
       " '__eq__',\n",
       " '__format__',\n",
       " '__ge__',\n",
       " '__getattribute__',\n",
       " '__getitem__',\n",
       " '__getstate__',\n",
       " '__gt__',\n",
       " '__hash__',\n",
       " '__iadd__',\n",
       " '__imul__',\n",
       " '__init__',\n",
       " '__init_subclass__',\n",
       " '__iter__',\n",
       " '__le__',\n",
       " '__len__',\n",
       " '__lt__',\n",
       " '__mul__',\n",
       " '__ne__',\n",
       " '__new__',\n",
       " '__reduce__',\n",
       " '__reduce_ex__',\n",
       " '__repr__',\n",
       " '__reversed__',\n",
       " '__rmul__',\n",
       " '__setattr__',\n",
       " '__setitem__',\n",
       " '__sizeof__',\n",
       " '__str__',\n",
       " '__subclasshook__',\n",
       " 'append',\n",
       " 'clear',\n",
       " 'copy',\n",
       " 'count',\n",
       " 'extend',\n",
       " 'index',\n",
       " 'insert',\n",
       " 'pop',\n",
       " 'remove',\n",
       " 'reverse',\n",
       " 'sort']"
      ]
     },
     "execution_count": 46,
     "metadata": {},
     "output_type": "execute_result"
    }
   ],
   "source": [
    "dir([])"
   ]
  },
  {
   "cell_type": "code",
   "execution_count": null,
   "id": "a0b98636-0c57-4d35-bf1d-6e57ecdb4830",
   "metadata": {},
   "outputs": [],
   "source": [
    "- copy\n",
    "- reverse\n",
    "- sort\n",
    "- remove\n",
    "- clear"
   ]
  },
  {
   "cell_type": "code",
   "execution_count": 76,
   "id": "e9bf10fe-a367-48bd-8a07-65a7d8f1ba3f",
   "metadata": {},
   "outputs": [],
   "source": [
    "l1=[1,2,3,4,5,'A','B','C','D','10.5',True,10.5,200]"
   ]
  },
  {
   "cell_type": "code",
   "execution_count": null,
   "id": "85453c68-3dd3-427f-aab7-74674e52c3a7",
   "metadata": {},
   "outputs": [],
   "source": []
  },
  {
   "cell_type": "code",
   "execution_count": 78,
   "id": "62e59418-558c-4f12-8265-568b997dedc9",
   "metadata": {},
   "outputs": [
    {
     "ename": "TypeError",
     "evalue": "list.count() takes exactly one argument (0 given)",
     "output_type": "error",
     "traceback": [
      "\u001b[1;31m---------------------------------------------------------------------------\u001b[0m",
      "\u001b[1;31mTypeError\u001b[0m                                 Traceback (most recent call last)",
      "Cell \u001b[1;32mIn[78], line 1\u001b[0m\n\u001b[1;32m----> 1\u001b[0m \u001b[38;5;28mlist\u001b[39m\u001b[38;5;241m.\u001b[39mcount(l1)\n",
      "\u001b[1;31mTypeError\u001b[0m: list.count() takes exactly one argument (0 given)"
     ]
    }
   ],
   "source": [
    "\n",
    "list.count(l1)\n"
   ]
  },
  {
   "cell_type": "code",
   "execution_count": 91,
   "id": "75bd7f76-f2bb-4836-8719-8fa99d4b0623",
   "metadata": {},
   "outputs": [
    {
     "name": "stdout",
     "output_type": "stream",
     "text": [
      "None\n"
     ]
    }
   ],
   "source": [
    "r=list.reverse([1,2,3,4,5,'A','B','C','D','10.5',True,10.5,200])\n",
    "print(r)"
   ]
  },
  {
   "cell_type": "code",
   "execution_count": 93,
   "id": "ef3298ab-0d72-422f-be28-d496da5bf1c0",
   "metadata": {},
   "outputs": [
    {
     "ename": "TypeError",
     "evalue": "list.count() takes exactly one argument (0 given)",
     "output_type": "error",
     "traceback": [
      "\u001b[1;31m---------------------------------------------------------------------------\u001b[0m",
      "\u001b[1;31mTypeError\u001b[0m                                 Traceback (most recent call last)",
      "Cell \u001b[1;32mIn[93], line 1\u001b[0m\n\u001b[1;32m----> 1\u001b[0m l1\u001b[38;5;241m.\u001b[39mcount()\n",
      "\u001b[1;31mTypeError\u001b[0m: list.count() takes exactly one argument (0 given)"
     ]
    }
   ],
   "source": [
    "l1.count()"
   ]
  },
  {
   "cell_type": "code",
   "execution_count": 101,
   "id": "ea55326c-2bb0-41d0-b49e-181a9dc39c34",
   "metadata": {},
   "outputs": [
    {
     "data": {
      "text/plain": [
       "[]"
      ]
     },
     "execution_count": 101,
     "metadata": {},
     "output_type": "execute_result"
    }
   ],
   "source": [
    "s1.clear()\n",
    "s1"
   ]
  },
  {
   "cell_type": "markdown",
   "id": "5cd51ac1-5e1f-4e04-b6d2-7bfb6612c0b8",
   "metadata": {},
   "source": [
    "**copy**"
   ]
  },
  {
   "cell_type": "code",
   "execution_count": 106,
   "id": "1957c61b-9f5c-4b48-bb5c-eafba5ac00fa",
   "metadata": {},
   "outputs": [
    {
     "name": "stdout",
     "output_type": "stream",
     "text": [
      "l2: [10, 20, 30, 40]\n",
      "l1: []\n"
     ]
    }
   ],
   "source": [
    "l1=[10,20,30,40]\n",
    "l2=l1.copy()\n",
    "l1.clear()\n",
    "print('l2:',l2)\n",
    "print('l1:',l1)"
   ]
  },
  {
   "cell_type": "markdown",
   "id": "ad82080c-84e3-41c7-a2e2-c8a0c49a19f2",
   "metadata": {},
   "source": [
    "**reverse vs reversed**\n",
    "\n",
    "- reversed is a inbuilt function \n",
    "- reversed can be applicable all **iterable**\n",
    "- reversed applicable for **strings,list,tuple,dict etc**\n",
    "- reversed (string), reversed(list), reversed(tuple) etc\n",
    "\n",
    "**reverse**\n",
    "\n",
    "- reverse is a method is belongs to only list\n",
    "- reverse method cannot applicable to strings, tuple, dict\n",
    "- list.reverse()"
   ]
  },
  {
   "cell_type": "code",
   "execution_count": 109,
   "id": "f06e3449-079d-4b61-8f99-b7b863003086",
   "metadata": {},
   "outputs": [
    {
     "data": {
      "text/plain": [
       "['C', 'B', 'A', 40, 30, 20, 10]"
      ]
     },
     "execution_count": 109,
     "metadata": {},
     "output_type": "execute_result"
    }
   ],
   "source": [
    "l1=[10,20,30,40,'A','B','C']\n",
    "l1.reverse()\n",
    "l1\n",
    "\n",
    "# reverse the elements save the output\n",
    "# in same variable\n",
    "# it is indicates as **INPLACE**\n",
    "# sometimes inplace=True available"
   ]
  },
  {
   "cell_type": "code",
   "execution_count": 113,
   "id": "b1cffe3f-33a7-419b-9a71-bcb27b3d4c40",
   "metadata": {},
   "outputs": [
    {
     "ename": "AttributeError",
     "evalue": "'str' object has no attribute 'reverse'",
     "output_type": "error",
     "traceback": [
      "\u001b[1;31m---------------------------------------------------------------------------\u001b[0m",
      "\u001b[1;31mAttributeError\u001b[0m                            Traceback (most recent call last)",
      "Cell \u001b[1;32mIn[113], line 2\u001b[0m\n\u001b[0;32m      1\u001b[0m str1\u001b[38;5;241m=\u001b[39m\u001b[38;5;124m'\u001b[39m\u001b[38;5;124mhello how are you\u001b[39m\u001b[38;5;124m'\u001b[39m\n\u001b[1;32m----> 2\u001b[0m str1\u001b[38;5;241m.\u001b[39mreverse()\n\u001b[0;32m      3\u001b[0m str1\n",
      "\u001b[1;31mAttributeError\u001b[0m: 'str' object has no attribute 'reverse'"
     ]
    }
   ],
   "source": [
    "str1='hello how are you'\n",
    "str1.reverse()\n",
    "str1"
   ]
  },
  {
   "cell_type": "code",
   "execution_count": 115,
   "id": "2bc9029d-0223-4b48-abf8-759bb3d96f40",
   "metadata": {},
   "outputs": [
    {
     "data": {
      "text/plain": [
       "<reversed at 0x250d8c061a0>"
      ]
     },
     "execution_count": 115,
     "metadata": {},
     "output_type": "execute_result"
    }
   ],
   "source": [
    "reversed(str1)"
   ]
  },
  {
   "cell_type": "markdown",
   "id": "e5914d61-a859-4c84-b8f1-1d8bc04348ea",
   "metadata": {},
   "source": [
    "**sort vs sorted**"
   ]
  },
  {
   "cell_type": "code",
   "execution_count": 121,
   "id": "7e0ccdc7-eecf-497a-a0be-70ef0d96d95f",
   "metadata": {},
   "outputs": [
    {
     "data": {
      "text/plain": [
       "[10, 20, 30, 40]"
      ]
     },
     "execution_count": 121,
     "metadata": {},
     "output_type": "execute_result"
    }
   ],
   "source": [
    "l1=[40,20,10,30]\n",
    "l1.sort()\n",
    "l1"
   ]
  },
  {
   "cell_type": "code",
   "execution_count": 126,
   "id": "cbcccf92-3de7-49cd-af6e-cd63f50a7d36",
   "metadata": {},
   "outputs": [
    {
     "data": {
      "text/plain": [
       "[40, 30, 20, 10]"
      ]
     },
     "execution_count": 126,
     "metadata": {},
     "output_type": "execute_result"
    }
   ],
   "source": [
    "l1=[40,20,10,30]\n",
    "l1.sort(reverse=True)\n",
    "l1"
   ]
  },
  {
   "cell_type": "code",
   "execution_count": null,
   "id": "52a07f84-68ca-418d-a243-a95c4c529d49",
   "metadata": {},
   "outputs": [],
   "source": [
    "sorted(string)  # works\n",
    "sorted(list)   # works\n",
    "\n",
    "\n",
    "\n",
    "list.sort()   # works\n",
    "string.sort()    # fail"
   ]
  },
  {
   "cell_type": "markdown",
   "id": "58a38b28-7099-4585-b1d1-cdc47970d6a5",
   "metadata": {},
   "source": [
    "**append**\n",
    "\n",
    "- append means add an element at the end of the list\n",
    "- append is a method very important\n",
    "- append is used to store the outputs in a list\n",
    "- till last class we just printed all the outputs\n",
    "- if we want to save the outputs we need to do append only\n",
    "- append method we will use very very frequently"
   ]
  },
  {
   "cell_type": "code",
   "execution_count": 129,
   "id": "7ab29ffa-66df-4dcd-9fa4-1465820865db",
   "metadata": {},
   "outputs": [
    {
     "data": {
      "text/plain": [
       "[10]"
      ]
     },
     "execution_count": 129,
     "metadata": {},
     "output_type": "execute_result"
    }
   ],
   "source": [
    "# empty list\n",
    "l1=[]\n",
    "l1.append(10)\n",
    "l1"
   ]
  },
  {
   "cell_type": "code",
   "execution_count": 131,
   "id": "38f487ba-68ab-485c-b32f-6725daaa46a3",
   "metadata": {},
   "outputs": [
    {
     "data": {
      "text/plain": [
       "[1, 2, 3, 'apple']"
      ]
     },
     "execution_count": 131,
     "metadata": {},
     "output_type": "execute_result"
    }
   ],
   "source": [
    "l1=[1,2,3]\n",
    "l1.append('apple')\n",
    "l1"
   ]
  },
  {
   "cell_type": "code",
   "execution_count": 133,
   "id": "1f4698f9-bea2-49cc-b4f9-a5c825c3745b",
   "metadata": {},
   "outputs": [
    {
     "data": {
      "text/plain": [
       "[1, 2, 3, 'apple', 'banana', [True, False]]"
      ]
     },
     "execution_count": 133,
     "metadata": {},
     "output_type": "execute_result"
    }
   ],
   "source": [
    "l1=[1,2,3]\n",
    "l1.append('apple')\n",
    "l1.append('banana')\n",
    "l1.append([True,False])\n",
    "l1"
   ]
  },
  {
   "cell_type": "code",
   "execution_count": 135,
   "id": "e1a6fefa-0bfd-4752-9c3f-787cb71ef674",
   "metadata": {},
   "outputs": [
    {
     "name": "stdout",
     "output_type": "stream",
     "text": [
      "12345678910"
     ]
    }
   ],
   "source": [
    "#Q1) create a list of 10 numbers using for loop\n",
    "\n",
    "for i in range(1,11):\n",
    "    print(i,end='')"
   ]
  },
  {
   "cell_type": "code",
   "execution_count": 143,
   "id": "9b30f6f9-9e79-4b34-b35e-00b545ed57fb",
   "metadata": {},
   "outputs": [
    {
     "name": "stdout",
     "output_type": "stream",
     "text": [
      "12345678910"
     ]
    },
    {
     "data": {
      "text/plain": [
       "[1, 2, 3, 4, 5, 6, 7, 8, 9, 10]"
      ]
     },
     "execution_count": 143,
     "metadata": {},
     "output_type": "execute_result"
    }
   ],
   "source": [
    "l1=[]\n",
    "for i in range(1,11):\n",
    "    l1.append(i)\n",
    "    print(i,end='')\n",
    "l1"
   ]
  },
  {
   "cell_type": "code",
   "execution_count": 155,
   "id": "ce303b36-c236-48a2-ab28-22456ac0a48c",
   "metadata": {},
   "outputs": [
    {
     "data": {
      "text/plain": [
       "['87 : 7569', '21 : 441', '72 : 5184', '90 : 8100', '99 : 9801']"
      ]
     },
     "execution_count": 155,
     "metadata": {},
     "output_type": "execute_result"
    }
   ],
   "source": [
    "#Q2) Wap ask the user get 5 random numbers\n",
    "# perform the square of the random numbers\n",
    "# save in a list\n",
    "\n",
    "import random\n",
    "l1=[]\n",
    "for i in range(5):\n",
    "    n1=random.randint(1,100)\n",
    "    sq=n1*n1\n",
    "    l1.append(f'{n1} : {sq}')\n",
    "l1"
   ]
  },
  {
   "cell_type": "code",
   "execution_count": 165,
   "id": "a0d43baa-f96c-4067-9a9c-82a5672d93de",
   "metadata": {},
   "outputs": [
    {
     "name": "stdout",
     "output_type": "stream",
     "text": [
      "[20, 38, 52, 100]\n",
      "[27, 47, 87]\n"
     ]
    }
   ],
   "source": [
    "# Q3) list1=[100,20,27,38,47,52,87]\n",
    "# using this we need to extract even and odd numbers\n",
    "# even_list= the output should be sorted\n",
    "# odd_list= the output should be sorted\n",
    "\n",
    "list1=[100,20,27,38,47,52,87]\n",
    "even_list=[]\n",
    "odd_list=[]\n",
    "for i in list1:\n",
    "    if i%2==0:\n",
    "        even_list.append(i)\n",
    "    else:\n",
    "        odd_list.append(i)\n",
    "\n",
    "even_list.sort()\n",
    "odd_list.sort()\n",
    "\n",
    "print(even_list)\n",
    "print(odd_list)"
   ]
  },
  {
   "cell_type": "markdown",
   "id": "57954fe0-b664-47b6-80a1-1e08b06ba569",
   "metadata": {},
   "source": [
    "**Joining the list of elements**"
   ]
  },
  {
   "cell_type": "markdown",
   "id": "7694ff99-9d95-46cc-8735-e9f7bf087169",
   "metadata": {},
   "source": [
    "- we can convert string to list by using **string.split**\n",
    "- we can convert list to string by using **join(list)**"
   ]
  },
  {
   "cell_type": "code",
   "execution_count": 4,
   "id": "a3c356a4-d0d8-4cc1-9992-c7170dda7fcf",
   "metadata": {},
   "outputs": [
    {
     "data": {
      "text/plain": [
       "['Hello', 'Hai', 'How', 'Are', 'You']"
      ]
     },
     "execution_count": 4,
     "metadata": {},
     "output_type": "execute_result"
    }
   ],
   "source": [
    "str1= 'hello hai how are you'\n",
    "str1.title().split()"
   ]
  },
  {
   "cell_type": "code",
   "execution_count": 6,
   "id": "4a92b2bd-7a3b-471c-a96f-4affa0b70d93",
   "metadata": {},
   "outputs": [
    {
     "data": {
      "text/plain": [
       "['hai', 'how', 'are', 'you']"
      ]
     },
     "execution_count": 6,
     "metadata": {},
     "output_type": "execute_result"
    }
   ],
   "source": [
    "str1= 'hai how are you'\n",
    "str1.split()"
   ]
  },
  {
   "cell_type": "code",
   "execution_count": 12,
   "id": "c0767487-ca25-4821-a5bc-3a58fa00ddfb",
   "metadata": {},
   "outputs": [
    {
     "data": {
      "text/plain": [
       "'hai===>how===>are===>you'"
      ]
     },
     "execution_count": 12,
     "metadata": {},
     "output_type": "execute_result"
    }
   ],
   "source": [
    "l1=['hai', 'how', 'are', 'you']\n",
    "str1=' '\n",
    "str1.join(l1)\n",
    "'===>'.join(l1)"
   ]
  },
  {
   "cell_type": "code",
   "execution_count": 16,
   "id": "500d2a01-356e-4df8-ae59-3402b2414ec1",
   "metadata": {},
   "outputs": [
    {
     "data": {
      "text/plain": [
       "['', 'ai ', 'ow are you']"
      ]
     },
     "execution_count": 16,
     "metadata": {},
     "output_type": "execute_result"
    }
   ],
   "source": [
    "str1= 'hai how are you'\n",
    "str1.split('h')"
   ]
  },
  {
   "cell_type": "markdown",
   "id": "b5b98aae-ee47-4ce4-91b2-9aa436204597",
   "metadata": {},
   "source": [
    "**pop vs remove**"
   ]
  },
  {
   "cell_type": "code",
   "execution_count": 2,
   "id": "f2d12196-7585-4a05-b382-9969e9c69d73",
   "metadata": {},
   "outputs": [],
   "source": [
    "l=[100,200,300,'A','B','C']"
   ]
  },
  {
   "cell_type": "code",
   "execution_count": 3,
   "id": "227d5c9c-c5ba-4442-8bdf-cb3b53272ff0",
   "metadata": {},
   "outputs": [
    {
     "data": {
      "text/plain": [
       "[100, 200, 300, 'A', 'B', 'C']"
      ]
     },
     "execution_count": 3,
     "metadata": {},
     "output_type": "execute_result"
    }
   ],
   "source": [
    "l"
   ]
  },
  {
   "cell_type": "code",
   "execution_count": 6,
   "id": "8fd233b5-26c8-4024-a889-3a648f1e5c7f",
   "metadata": {},
   "outputs": [
    {
     "data": {
      "text/plain": [
       "'C'"
      ]
     },
     "execution_count": 6,
     "metadata": {},
     "output_type": "execute_result"
    }
   ],
   "source": [
    "l.pop()\n",
    "\n",
    "# pop will remove the element based on index\n",
    "# if we dont give any index by default it will remove last value\n",
    "# the default value index=-1"
   ]
  },
  {
   "cell_type": "code",
   "execution_count": 8,
   "id": "66a99287-aeec-4eec-b39e-a24852c2900e",
   "metadata": {},
   "outputs": [
    {
     "data": {
      "text/plain": [
       "[100, 200, 300, 'A', 'B']"
      ]
     },
     "execution_count": 8,
     "metadata": {},
     "output_type": "execute_result"
    }
   ],
   "source": [
    "l"
   ]
  },
  {
   "cell_type": "code",
   "execution_count": 10,
   "id": "67ca4285-6282-4833-9563-b6f8e02bc6ce",
   "metadata": {},
   "outputs": [
    {
     "data": {
      "text/plain": [
       "[100, 200, 'A', 'B', 'C']"
      ]
     },
     "execution_count": 10,
     "metadata": {},
     "output_type": "execute_result"
    }
   ],
   "source": [
    "l=[100,200,300,'A','B','C']\n",
    "l.pop(2)\n",
    "l"
   ]
  },
  {
   "cell_type": "code",
   "execution_count": 12,
   "id": "ec92f37f-a7cc-4fe0-a6b6-d9a1f3d73315",
   "metadata": {},
   "outputs": [
    {
     "ename": "IndexError",
     "evalue": "pop index out of range",
     "output_type": "error",
     "traceback": [
      "\u001b[1;31m---------------------------------------------------------------------------\u001b[0m",
      "\u001b[1;31mIndexError\u001b[0m                                Traceback (most recent call last)",
      "Cell \u001b[1;32mIn[12], line 2\u001b[0m\n\u001b[0;32m      1\u001b[0m l\u001b[38;5;241m=\u001b[39m[\u001b[38;5;241m100\u001b[39m,\u001b[38;5;241m200\u001b[39m,\u001b[38;5;241m300\u001b[39m,\u001b[38;5;124m'\u001b[39m\u001b[38;5;124mA\u001b[39m\u001b[38;5;124m'\u001b[39m,\u001b[38;5;124m'\u001b[39m\u001b[38;5;124mB\u001b[39m\u001b[38;5;124m'\u001b[39m,\u001b[38;5;124m'\u001b[39m\u001b[38;5;124mC\u001b[39m\u001b[38;5;124m'\u001b[39m]\n\u001b[1;32m----> 2\u001b[0m l\u001b[38;5;241m.\u001b[39mpop(\u001b[38;5;241m200\u001b[39m)\n",
      "\u001b[1;31mIndexError\u001b[0m: pop index out of range"
     ]
    }
   ],
   "source": [
    "l=[100,200,300,'A','B','C']\n",
    "l.pop(200)"
   ]
  },
  {
   "cell_type": "code",
   "execution_count": 14,
   "id": "55604449-d5f6-4f0b-9ee3-dcec8a2d2ea7",
   "metadata": {},
   "outputs": [
    {
     "data": {
      "text/plain": [
       "[200, 300, 100, 100, 'A', 'B', 'C']"
      ]
     },
     "execution_count": 14,
     "metadata": {},
     "output_type": "execute_result"
    }
   ],
   "source": [
    "l=[100,200,300,100,100,'A','B','C']\n",
    "l.remove(100)\n",
    "l"
   ]
  },
  {
   "cell_type": "markdown",
   "id": "d6accaef-55b0-4f00-a527-616253156771",
   "metadata": {},
   "source": [
    "- pop except a **index value**\n",
    "- remove expect a **value**"
   ]
  },
  {
   "cell_type": "code",
   "execution_count": 17,
   "id": "f6bb6279-a494-4671-8fcf-8354b099da80",
   "metadata": {},
   "outputs": [
    {
     "data": {
      "text/plain": [
       "[100, 200, 300, 500, 100, 'A', 'B', 'C']"
      ]
     },
     "execution_count": 17,
     "metadata": {},
     "output_type": "execute_result"
    }
   ],
   "source": [
    "l=[100,200,300,100,500,100,'A','B','C']\n",
    "\n",
    "# i want to remove the second 100\n",
    "# remove or pop ------> pop will work only\n",
    "\n",
    "l.pop(3)\n",
    "l"
   ]
  },
  {
   "cell_type": "code",
   "execution_count": null,
   "id": "1c34bc5b-8615-43be-b353-ab0f3d59c301",
   "metadata": {},
   "outputs": [],
   "source": [
    "# pop is correct answer\n",
    "# pop wants a index\n",
    "# here only 8 elements are there, so we are able to count\n",
    "# imagine that there 80k elements, so we are not able to to count\n",
    "# when you are counting and giving : hard coded\n",
    "# python code should give the answer automatically\n",
    "# for that we need to use index method"
   ]
  },
  {
   "cell_type": "code",
   "execution_count": 19,
   "id": "ac49dfe9-1b2f-4247-a8bc-30bef21d7bbf",
   "metadata": {},
   "outputs": [
    {
     "data": {
      "text/plain": [
       "[100, 200, 300, 500, 100, 'A', 'B', 'C']"
      ]
     },
     "execution_count": 19,
     "metadata": {},
     "output_type": "execute_result"
    }
   ],
   "source": [
    "l=[100,200,300,100,500,100,'A','B','C']\n",
    "i1=l.index(100)\n",
    "i2=l.index(100,i1+1)\n",
    "l.pop(i2)\n",
    "l"
   ]
  },
  {
   "cell_type": "code",
   "execution_count": 21,
   "id": "4276f467-b321-4bad-a660-ddfccaa464ac",
   "metadata": {},
   "outputs": [
    {
     "data": {
      "text/plain": [
       "['__add__',\n",
       " '__class__',\n",
       " '__class_getitem__',\n",
       " '__contains__',\n",
       " '__delattr__',\n",
       " '__dir__',\n",
       " '__doc__',\n",
       " '__eq__',\n",
       " '__format__',\n",
       " '__ge__',\n",
       " '__getattribute__',\n",
       " '__getitem__',\n",
       " '__getnewargs__',\n",
       " '__getstate__',\n",
       " '__gt__',\n",
       " '__hash__',\n",
       " '__init__',\n",
       " '__init_subclass__',\n",
       " '__iter__',\n",
       " '__le__',\n",
       " '__len__',\n",
       " '__lt__',\n",
       " '__mul__',\n",
       " '__ne__',\n",
       " '__new__',\n",
       " '__reduce__',\n",
       " '__reduce_ex__',\n",
       " '__repr__',\n",
       " '__rmul__',\n",
       " '__setattr__',\n",
       " '__sizeof__',\n",
       " '__str__',\n",
       " '__subclasshook__',\n",
       " 'count',\n",
       " 'index']"
      ]
     },
     "execution_count": 21,
     "metadata": {},
     "output_type": "execute_result"
    }
   ],
   "source": [
    "dir(())"
   ]
  },
  {
   "cell_type": "markdown",
   "id": "ab5bc1d7-5b54-453d-9380-a8ba077b92fa",
   "metadata": {},
   "source": [
    "- extend and concatenation both has same behaviour\n",
    "- means add the two lists\n",
    "- but extend will overwrite the list"
   ]
  },
  {
   "cell_type": "markdown",
   "id": "91494712-d67e-4a4c-856b-77cc54a78fd4",
   "metadata": {},
   "source": [
    "**insert**\n",
    "\n",
    "- Difference between insert and append"
   ]
  },
  {
   "cell_type": "code",
   "execution_count": 27,
   "id": "837cd304-8f1a-4a29-a48f-41c154d18dbe",
   "metadata": {},
   "outputs": [
    {
     "data": {
      "text/plain": [
       "[1, 2, 3, 'A', 'B', 'C', 1000]"
      ]
     },
     "execution_count": 27,
     "metadata": {},
     "output_type": "execute_result"
    }
   ],
   "source": [
    "l1=[1,2,3,'A','B','C']\n",
    "l1.append(1000)\n",
    "l1"
   ]
  },
  {
   "cell_type": "code",
   "execution_count": 29,
   "id": "b301c612-7442-47f0-aa4d-e267d623bbc6",
   "metadata": {},
   "outputs": [
    {
     "data": {
      "text/plain": [
       "[1, 2, 3, 1000, 'A', 'B', 'C']"
      ]
     },
     "execution_count": 29,
     "metadata": {},
     "output_type": "execute_result"
    }
   ],
   "source": [
    "l1=[1,2,3,'A','B','C']\n",
    "#   0 1 2  3   4   5\n",
    "#   1,2,3,1000,'A','B','C'\n",
    "l1.insert(3,1000)\n",
    "# i want to insert 100 before 3 (at 2)\n",
    "l1"
   ]
  },
  {
   "cell_type": "code",
   "execution_count": 47,
   "id": "1a5ba19e-a371-4b1e-afe1-20f4f86a62a5",
   "metadata": {},
   "outputs": [
    {
     "name": "stdout",
     "output_type": "stream",
     "text": [
      "B 66\n",
      "4\n"
     ]
    },
    {
     "data": {
      "text/plain": [
       "[1, 2, 3, 'A', 1000, 'B', 'C']"
      ]
     },
     "execution_count": 47,
     "metadata": {},
     "output_type": "execute_result"
    }
   ],
   "source": [
    "l1=[1,2,3,'A','B','C']\n",
    "# i want to insert 1000 before 'B'\n",
    "index=0\n",
    "for i in l1:\n",
    "    if i=='B':\n",
    "        print(i,ord(i))\n",
    "        print(index)\n",
    "    else:\n",
    "        index=index+1\n",
    "l1.insert(index-1,1000)\n",
    "l1"
   ]
  },
  {
   "cell_type": "code",
   "execution_count": 59,
   "id": "8d578478-9c4c-42aa-81a9-4c5afbefee7b",
   "metadata": {},
   "outputs": [
    {
     "name": "stdout",
     "output_type": "stream",
     "text": [
      "110\n",
      "220\n",
      "330\n"
     ]
    },
    {
     "data": {
      "text/plain": [
       "[110, 220, 330]"
      ]
     },
     "execution_count": 59,
     "metadata": {},
     "output_type": "execute_result"
    }
   ],
   "source": [
    "# wap ask the user add the elements of the lists\n",
    "# l1=[100,200,300]\n",
    "# l2=[10,20,30]\n",
    "# ans=[110,220,330]\n",
    "ans=[]\n",
    "l1=[100,200,300]\n",
    "l2=[10,20,30]\n",
    "#l1[0]+l2[0]\n",
    "#l1[1]+l2[1]\n",
    "#l1[2]+l2[2]\n",
    "for i in range(len(l1)):\n",
    "    print(l1[i]+l2[i])\n",
    "    ans.append(l1[i]+l2[i])\n",
    "ans"
   ]
  },
  {
   "cell_type": "code",
   "execution_count": 61,
   "id": "bf2915c8-d079-4016-919c-40755a5e0580",
   "metadata": {},
   "outputs": [
    {
     "data": {
      "text/plain": [
       "[110, 220, 330, 400]"
      ]
     },
     "execution_count": 61,
     "metadata": {},
     "output_type": "execute_result"
    }
   ],
   "source": [
    "l1=[100,200,300,400]\n",
    "l2=[10,20,30]\n",
    "ans=[]\n",
    "\n",
    "for i in range(len(l1)):\n",
    "    l2.append(0)\n",
    "    ans.append(l1[i]+l2[i])\n",
    "\n",
    "ans\n",
    "\n"
   ]
  },
  {
   "cell_type": "code",
   "execution_count": 72,
   "id": "00c20eee-968b-4cb5-8931-7a2d9f057a49",
   "metadata": {},
   "outputs": [
    {
     "data": {
      "text/plain": [
       "[110, 220, 330, 400]"
      ]
     },
     "execution_count": 72,
     "metadata": {},
     "output_type": "execute_result"
    }
   ],
   "source": [
    "l1=[100,200,300,400]\n",
    "l2=[10,20,30]\n",
    "#ans=[110,220,330,400]\n",
    "\n",
    "#iterate the loop with max length iterations\n",
    "#if l2 values avaible then ass tose\n",
    "#otherwise append l1 value into and list\n",
    "\n",
    "ans=[]\n",
    "\n",
    "\n",
    "for i in range(len(l1)):\n",
    "\n",
    "   if i<len(l2):\n",
    "       ans.append(l1[i]+l2[i])\n",
    "   else:\n",
    "        ans.append(l1[i])\n",
    "\n",
    "ans\n"
   ]
  },
  {
   "cell_type": "code",
   "execution_count": 76,
   "id": "ba88fb3d-c700-4543-8b3b-a1c4886c9ba7",
   "metadata": {},
   "outputs": [
    {
     "data": {
      "text/plain": [
       "[110, 220, 330, 400]"
      ]
     },
     "execution_count": 76,
     "metadata": {},
     "output_type": "execute_result"
    }
   ],
   "source": [
    "l1=[100,200,300,400]\n",
    "l2=[10,20,30]\n",
    "ans=[]\n",
    "len1=len(l1)\n",
    "len2=len(l2)\n",
    "max_val=max(len1,len2)\n",
    "for i in range(max_val):\n",
    "\n",
    "   if i<len(l2):\n",
    "       ans.append(l1[i]+l2[i])\n",
    "   else:\n",
    "        ans.append(l1[i])\n",
    "\n",
    "ans\n"
   ]
  },
  {
   "cell_type": "markdown",
   "id": "c6f47012-478d-4321-bdd1-2c933c62161e",
   "metadata": {},
   "source": [
    "**Distanc between two points**"
   ]
  },
  {
   "cell_type": "code",
   "execution_count": 91,
   "id": "ebaee494-83d7-40d5-b4b4-604be74f1ca6",
   "metadata": {},
   "outputs": [
    {
     "data": {
      "text/plain": [
       "4.47213595499958"
      ]
     },
     "execution_count": 91,
     "metadata": {},
     "output_type": "execute_result"
    }
   ],
   "source": [
    "#d=root([x2-x1]**2+[y2-y1]**2)\n",
    "\n",
    "#step1: l1=[2,5] l2=[4,9]\n",
    "#           x1,y2   x2,y2\n",
    "#step2:  d1=x2-x1   d2=y2-y1\n",
    "#step3:  (x2-x1)**2  y2-y1)**2\n",
    "#step4:   d=d1^2 +d2^2\n",
    "#step5:  math.sqrt(d)\n",
    "\n",
    "import math\n",
    "\n",
    "l1=[2,5] \n",
    "l2=[4,9]\n",
    "##############\n",
    "x1=l1[0]\n",
    "y1=l1[1]\n",
    "x2=l2[0]\n",
    "y2=l2[1]\n",
    "###############\n",
    "d1=(x2-x1)\n",
    "d2=(y2-y1)\n",
    "#################\n",
    "d=d1**2+d2**2\n",
    "math.sqrt(d)"
   ]
  },
  {
   "cell_type": "code",
   "execution_count": 93,
   "id": "2aa7a04d-2725-44cb-b2a2-cdf42870c892",
   "metadata": {},
   "outputs": [
    {
     "name": "stdout",
     "output_type": "stream",
     "text": [
      "7.211102550927978\n",
      "2.23606797749979\n",
      "4.242640687119285\n",
      "7.211102550927978\n"
     ]
    }
   ],
   "source": [
    "a=[(1,3),(7,8),(2,6),(9,3)]\n",
    "b=(5,9)\n",
    "for i in a:\n",
    "    l1=i\n",
    "    print(math.sqrt((b[0]-l1[0])**2+(b[1]-l1[1])**2))\n"
   ]
  },
  {
   "cell_type": "code",
   "execution_count": 103,
   "id": "55d8b6e4-3af4-4e7a-b5df-8ad8ef51174a",
   "metadata": {},
   "outputs": [
    {
     "name": "stdout",
     "output_type": "stream",
     "text": [
      "[(1, 3), (7, 8), (2, 6), (9, 3)]\n"
     ]
    },
    {
     "data": {
      "text/plain": [
       "([7.211102550927978, 2.23606797749979, 4.242640687119285, 7.211102550927978],\n",
       " [0, 1, 2, 3])"
      ]
     },
     "execution_count": 103,
     "metadata": {},
     "output_type": "execute_result"
    }
   ],
   "source": [
    "a=[(1,3), (7,8),(2,6), (9,3)]\n",
    "a1=list(a)\n",
    "print(a1)\n",
    "b = (5,9)\n",
    "b1= list(b)\n",
    "max_list=[]\n",
    "max_index_list=[]\n",
    "# find max and min distance points\n",
    "max1=0\n",
    "min1=0\n",
    "for i in range(len(a)):\n",
    "    d1= a[i][0]-b[0]\n",
    "    d2= a[i][1]-b[1]\n",
    "    d= (d1**2+d2**2)\n",
    "    D=math.sqrt(d)\n",
    "    if max1 < D:\n",
    "        max_list.append(D)\n",
    "        max_index_list.append(i)\n",
    "\n",
    "max_list,max_index_list"
   ]
  },
  {
   "cell_type": "code",
   "execution_count": 99,
   "id": "c2aa3712-9636-40b7-9ef4-aafe9a0655b1",
   "metadata": {},
   "outputs": [
    {
     "name": "stdout",
     "output_type": "stream",
     "text": [
      "(1, 3) (7, 8)\n",
      "(1, 3) (2, 6)\n",
      "(1, 3) (9, 3)\n",
      "(1, 3) (2, 9)\n",
      "(1, 3) (10, 12)\n",
      "(7, 8) (7, 8)\n",
      "(7, 8) (2, 6)\n",
      "(7, 8) (9, 3)\n",
      "(7, 8) (2, 9)\n",
      "(7, 8) (10, 12)\n",
      "(2, 6) (7, 8)\n",
      "(2, 6) (2, 6)\n",
      "(2, 6) (9, 3)\n",
      "(2, 6) (2, 9)\n",
      "(2, 6) (10, 12)\n",
      "(9, 3) (7, 8)\n",
      "(9, 3) (2, 6)\n",
      "(9, 3) (9, 3)\n",
      "(9, 3) (2, 9)\n",
      "(9, 3) (10, 12)\n",
      "(2, 9) (7, 8)\n",
      "(2, 9) (2, 6)\n",
      "(2, 9) (9, 3)\n",
      "(2, 9) (2, 9)\n",
      "(2, 9) (10, 12)\n",
      "(10, 12) (7, 8)\n",
      "(10, 12) (2, 6)\n",
      "(10, 12) (9, 3)\n",
      "(10, 12) (2, 9)\n",
      "(10, 12) (10, 12)\n"
     ]
    }
   ],
   "source": [
    "a=[(1,3),(7,8),(2,6),(9,3),(2,9),(10,12)]\n",
    "list1=[1,2,3,4,5]\n",
    "for i in a:\n",
    "    print(i)    # i = 1,3  7,8    2,6\n",
    "    for j in a[1:]:\n",
    "        print(i,j)\n",
    "\n",
    "# i=1,3    j=7,8\n",
    "# i=1,3    j=2,6"
   ]
  },
  {
   "cell_type": "code",
   "execution_count": null,
   "id": "69a622d2-a8d5-47cb-bfa0-f06a4c645323",
   "metadata": {},
   "outputs": [],
   "source": []
  }
 ],
 "metadata": {
  "kernelspec": {
   "display_name": "Python 3 (ipykernel)",
   "language": "python",
   "name": "python3"
  },
  "language_info": {
   "codemirror_mode": {
    "name": "ipython",
    "version": 3
   },
   "file_extension": ".py",
   "mimetype": "text/x-python",
   "name": "python",
   "nbconvert_exporter": "python",
   "pygments_lexer": "ipython3",
   "version": "3.12.4"
  }
 },
 "nbformat": 4,
 "nbformat_minor": 5
}
